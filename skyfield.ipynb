{
 "cells": [
  {
   "cell_type": "markdown",
   "metadata": {},
   "source": [
    "<style>\n",
    "    h1 {font-family:Times; font-size:20pt}\n",
    "    h2 {font-family:Times; font-size:18pt}\n",
    "    h3 {font-family:Times; font-size:16pt}\n",
    "    p {font-family:Times; font-size:12pt}\n",
    "    </style>\n",
    "    \n",
    "> # Earth Satellites\n",
    ">\n",
    "> Skyfield is able to predict the positions of Earth satellites by loading satellite orbital elements from Two-Line Element (TLE) files — published by organizations like CelesTrak — and running them through the SGP4 satellite propagation routine. \n",
    "\n",
    "## TLE file format:\n",
    ">AAAAAAAAAAAAAAAAAAAAAAAA\n",
    "\n",
    ">1 NNNNNU NNNNNAAA NNNNN.NNNNNNNN +.NNNNNNNN +NNNNN-N +NNNNN-N N NNNNN\n",
    "\n",
    ">2 NNNNN NNN.NNNN NNN.NNNN NNNNNNN NNN.NNNN NNN.NNNN NN.NNNNNNNNNNNNNN\n",
    "\n",
    "- Line 0:  corresponds to the Satelletie catalog number (NORAD SATCAT) = (the name of the satellite)\n",
    "- Line 1:\n",
    "\n",
    "Reference : https://celestrak.com/NORAD/documentation/tle-fmt.php"
   ]
  },
  {
   "cell_type": "code",
   "execution_count": 2,
   "metadata": {},
   "outputs": [],
   "source": [
    "import numpy as np\n",
    "import pandas as pd\n",
    "import matplotlib.pyplot as plt\n",
    "import os\n",
    "\n",
    "from skyfield.api import load, wgs84"
   ]
  },
  {
   "cell_type": "markdown",
   "metadata": {},
   "source": [
    "<style>\n",
    "    h1 {font-family:Times; font-size:20pt}\n",
    "    h2 {font-family:Times; font-size:18pt}\n",
    "    h3 {font-family:Times; font-size:16pt}\n",
    "    p {font-family:Times; font-size:12pt}\n",
    "    </style>\n",
    "    \n",
    "> ## Loading a TLE file\n",
    ">\n",
    "> Skyfield loader objects offer a tle_file() method that can download and cache a file full of satellite elements from a site like Celestrak. A popular observing target for satellite observers is the International Space Station, which is listed in Celestrak’s stations.txt file:"
   ]
  },
  {
   "cell_type": "code",
   "execution_count": 3,
   "metadata": {},
   "outputs": [
    {
     "name": "stdout",
     "output_type": "stream",
     "text": [
      "METOP-B catalog #38771 epoch 2021-12-11 04:46:27 UTC\n"
     ]
    }
   ],
   "source": [
    "# stations_url = 'https://www.celestrak.com/NORAD/elements/geo.txt' # Retrieve geo satellite from celestrak\n",
    "stations_url = 'https://celestrak.com/NORAD/elements/weather.txt' # Retrieve weather satellites\n",
    "\n",
    "\n",
    "satellites = load.tle_file(stations_url, reload=False)\n",
    "\n",
    "by_name = {sat.name: sat for sat in satellites}\n",
    "satellite = by_name['METOP-B']\n",
    "\n",
    "print(satellite)"
   ]
  },
  {
   "cell_type": "markdown",
   "metadata": {},
   "source": [
    "<style>\n",
    "    h1 {font-family:Times; font-size:20pt}\n",
    "    h2 {font-family:Times; font-size:18pt}\n",
    "    h3 {font-family:Times; font-size:16pt}\n",
    "    p {font-family:Times; font-size:12pt}\n",
    "    </style>\n",
    "    \n",
    "> ## Loading a TLE set from strings\n",
    "> If your program already has the two lines of TLE data for a satellite and doesn’t need Skyfield to download and parse a Celestrak file, you can instantiate an EarthSatellite directly."
   ]
  },
  {
   "cell_type": "code",
   "execution_count": 4,
   "metadata": {},
   "outputs": [],
   "source": [
    "from skyfield.api import EarthSatellite\n",
    "\n",
    "ts = load.timescale()\n",
    "#line1 = '1 38771U 12049A   21328.15653177  .00000019  00000+0  28851-4 0  9990'\n",
    "#line2 = '2 38771  98.6954  26.0543 0000110 196.3188 189.2859 14.21494351476561'\n",
    "#line1 = '1 38771U 12049A   21345.19892716  .00000005  00000+0  22412-4 0  9999'\n",
    "#line2 = '2 38771  98.6932  42.8377 0000999 161.9725 266.8848 14.21496788478982'\n",
    "\n",
    "#satellite = EarthSatellite(line1, line2, 'METOP-A', ts)\n",
    "\n",
    "#print(ts)\n",
    "#print(satellite)"
   ]
  },
  {
   "cell_type": "markdown",
   "metadata": {},
   "source": [
    "<style>\n",
    "    h1 {font-family:Times; font-size:20pt}\n",
    "    h2 {font-family:Times; font-size:18pt}\n",
    "    h3 {font-family:Times; font-size:16pt}\n",
    "    p {font-family:Times; font-size:12pt}\n",
    "    </style>\n",
    ">\n",
    "> ## Satellite altitude, azimuth, and distance\n",
    ">\n",
    "> You might be most interested in whether the satellite is above or below the horizon from your own position as an observer, and in which direction to look for it. If you build an object to represent your latitude and longitude , you can use vector subtraction to ask “where will the satellite be relative to my location?”"
   ]
  },
  {
   "cell_type": "code",
   "execution_count": 24,
   "metadata": {},
   "outputs": [
    {
     "name": "stdout",
     "output_type": "stream",
     "text": [
      "(527041,)\n",
      "False\n",
      "100000\n"
     ]
    }
   ],
   "source": [
    "\n",
    "Lavrion = wgs84.latlon(37.72, 24.048)\n",
    "\n",
    "difference = satellite - Lavrion\n",
    "\n",
    "dates = pd.date_range(\"2020-01-01\",\"2021-01-1\",freq='60S')\n",
    "alt = np.zeros(np.size(dates)) * np.nan\n",
    "az = np.zeros(np.size(dates)) * np.nan\n",
    "distances = np.zeros(np.size(dates)) * np.nan\n",
    "\n",
    "print(dates.shape)\n",
    "count = 0\n",
    "\n",
    "pkl_name= \"./coordinates_lavrion.pkl\" ## Edit here to save in another file\n",
    "pkl_available = True\n",
    "\n",
    "try:\n",
    "    coord_df = pd.read_pickle(pkl_name)\n",
    "except:\n",
    "    pkl_available=False\n",
    "\n",
    "coord_df = 0\n",
    "print(pkl_available)\n",
    "if (pkl_available==False):\n",
    "    for ii,date in enumerate(dates):\n",
    "        count+=1\n",
    "        if (count%100000==0) :\n",
    "            print(count)\n",
    "        t = ts.utc(date.year, date.month, date.day, date.hour, date.minute, date.second)\n",
    "\n",
    "        topocentric = difference.at(t)\n",
    "\n",
    "        alt_, az_, distance = topocentric.altaz()\n",
    "        \n",
    "        distances[ii] = distance.km\n",
    "        alt[ii] = alt_.degrees\n",
    "        az[ii] = az_.degrees\n",
    "\n",
    "    coord_df = pd.DataFrame(index = dates)\n",
    "\n",
    "    # ind = np.nonzero(alt<5)\n",
    "\n",
    "    # alt[ind] = np.nan\n",
    "    # az[ind] = np.nan \n",
    "\n",
    "    coord_df['EL'] = alt \n",
    "    coord_df['AZ'] = az \n",
    "    coord_df['DISTANCES'] = distances\n",
    "\n",
    "    coord_df.to_pickle(pkl_name)\n",
    "\n",
    "Plot = True\n",
    "if Plot:\n",
    "    fig, ax = plt.subplots(dpi=200)\n",
    "    ax = coord_df.plot(ax=ax, y='EL', linestyle='solid', marker='')\n",
    "\n",
    "    ax.grid(b=True, which='major', axis='both')\n",
    "    ax.axhline(y=5, color='r', linestyle='-')\n",
    "\n",
    "    plt.show()"
   ]
  },
  {
   "cell_type": "markdown",
   "metadata": {},
   "source": [
    "<style>\n",
    "    h1 {font-family:Times; font-size:20pt}\n",
    "    h2 {font-family:Times; font-size:18pt}\n",
    "    h3 {font-family:Times; font-size:16pt}\n",
    "    p {font-family:Times; font-size:12pt}\n",
    "    </style>\n",
    ">\n",
    "> ## Probability density function\n",
    ">\n",
    "> In this section the probability density function for elevation angle will be calculated $P(\\theta)$"
   ]
  },
  {
   "cell_type": "code",
   "execution_count": 83,
   "metadata": {},
   "outputs": [
    {
     "data": {
      "image/png": "[encoded data removed]",
      "text/plain": [
       "<Figure size 1200x800 with 1 Axes>"
      ]
     },
     "metadata": {
      "needs_background": "light"
     },
     "output_type": "display_data"
    }
   ],
   "source": [
    "\n",
    "stp = 5\n",
    "bins = np.arange(5,91,stp) # Regroup in block of 5°, threshold \n",
    "\n",
    "stat = pd.DataFrame(index=bins)\n",
    "\n",
    "\n",
    "\n",
    "for bin in bins:\n",
    "    ind  = np.logical_and( bin <= coord_df['EL'] , coord_df['EL'] < bin+stp) # For all elevation that are in the range bin, bin+stp\n",
    "\n",
    "    el = coord_df.loc[ind,'EL'] # Select all elevation that are in the current bin, bin+stp range\n",
    "\n",
    "    stat.loc[bin,'PDF'] = np.size(el)/np.size(ind) * 100 # Probability of presensce in the current bin: PDF = (#number of element in the current bin)/(#number total number of element)\n",
    "\n",
    "# Save pdf to pickle\n",
    "stat.to_pickle(\"./pdf_Lavrion.pkl\")\n",
    "\n",
    "\n",
    "fig, ax = plt.subplots(dpi=200)\n",
    "ax = stat.plot(ax=ax, y='PDF', kind='bar')\n",
    "ax.grid(b=True, which='major', axis='y')\n",
    "\n",
    "ax.set_xlabel(r'Elevation [$^\\circ$]')\n",
    "ax.set_ylabel(r'Probability [%]')\n",
    "plt.show()\n",
    "\n"
   ]
  },
  {
   "cell_type": "code",
   "execution_count": 10,
   "metadata": {},
   "outputs": [
    {
     "data": {
      "image/png": "[encoded data removed]",
      "text/plain": [
       "<Figure size 1200x800 with 1 Axes>"
      ]
     },
     "metadata": {
      "needs_background": "light"
     },
     "output_type": "display_data"
    }
   ],
   "source": [
    "# Load picke pdf, if pdf was already computed\n",
    "stat = pd.read_pickle('./pdf_Lavrion.pkl')\n",
    "stat['PDF'] = stat['PDF']/stat['PDF'].sum() * 100\n",
    "\n",
    "fig, ax = plt.subplots(dpi=200)\n",
    "ax = stat.plot(ax=ax, y='PDF', kind='bar')\n",
    "ax.grid(b=True, which='major', axis='y')\n",
    "\n",
    "ax.set_xlabel(r'Elevation [$^\\circ$]')\n",
    "ax.set_ylabel(r'Probability [%]')\n",
    "plt.show()\n"
   ]
  },
  {
   "cell_type": "markdown",
   "metadata": {},
   "source": [
    "# Compute average of attenuation\n",
    "## Loading data "
   ]
  },
  {
   "cell_type": "code",
   "execution_count": 11,
   "metadata": {},
   "outputs": [],
   "source": [
    "\n",
    "folders_name = [\"Lavrion-37.5GHz-5-50\", \"Lavrion-37.5GHz-55-89.9\", \"Lavrion-75GHz-5-50\", \"Lavrion-75-GHz-55-89.9\", \"Ljubljana-37.5GHz-5-50\", \"Ljubljana-37.5GHZ-55-89.9\", \"Ljubljana-75GHz-5-50\", \"Ljubljana-75GHz-55-89.9\"]\n",
    "\n",
    "attenuations_file = {'total': \"attenuation_total.csv\", \"cloud\": \"attenuation_cloud.csv\", \"oxygen\":\"attenuation_oxygen.csv\", \"rain\":\"attenuation_rain.csv\", \"scintillation\":\"attenuation_scintillation.csv\"}\n",
    "att_columns = {'total':'att_comb_dB', 'cloud':'att_cld_dB', 'oxygen':'', 'rain':'att_rain_dB', 'scintillation':'att_scin_dB'}\n",
    "\n",
    "selected_attenuation = 'scintillation' ## Change here to select another atenuation\n",
    "\n",
    "file_name = attenuations_file[selected_attenuation]\n",
    "att_col = att_columns[selected_attenuation]\n",
    "header = 6\n",
    "\n",
    "df_lavrion_375_1 = pd.read_csv(f\"data/{folders_name[0]}/output/ascii/{file_name}\",header=header)\n",
    "df_lavrion_375_2 = pd.read_csv(f\"data/{folders_name[1]}/output/ascii/{file_name}\",header=header)\n",
    "\n",
    "df_lavrion_375 = pd.concat([df_lavrion_375_1, df_lavrion_375_2], axis=0, ignore_index=True)\n",
    "df_lavrion_375.name = \"df_lavrion_37.5\"\n",
    "\n",
    "df_lavrion_75_1 = pd.read_csv(f\"data/{folders_name[2]}/output/ascii/{file_name}\",header=header)\n",
    "df_lavrion_75_2 = pd.read_csv(f\"data/{folders_name[3]}/output/ascii/{file_name}\",header=header)\n",
    "\n",
    "df_lavrion_75 = pd.concat([df_lavrion_75_1, df_lavrion_75_2], axis=0, ignore_index=True)\n",
    "df_lavrion_75.name = \"df_lavrion_75\"\n",
    "\n",
    "df_ljubljana_375_1 = pd.read_csv(f\"data/{folders_name[4]}/output/ascii/{file_name}\",header=header)\n",
    "df_ljubljana_375_2 = pd.read_csv(f\"data/{folders_name[5]}/output/ascii/{file_name}\",header=header)\n",
    "\n",
    "df_ljubljana_375 = pd.concat([df_ljubljana_375_1, df_ljubljana_375_2], axis=0, ignore_index=True)\n",
    "df_ljubljana_375.name = \"df_ljubljana_37.5\"\n",
    "\n",
    "df_ljubljana_75_1 = pd.read_csv(f\"data/{folders_name[6]}/output/ascii/{file_name}\",header=header)\n",
    "df_ljubljana_75_2 = pd.read_csv(f\"data/{folders_name[7]}/output/ascii/{file_name}\",header=header)\n",
    "\n",
    "df_ljubljana_75 = pd.concat([df_ljubljana_75_1, df_ljubljana_75_2], axis=0, ignore_index=True)\n",
    "df_ljubljana_75.name = \"df_ljubljana_75\"\n",
    "\n",
    "dfs = [df_lavrion_375, df_lavrion_75, df_ljubljana_375, df_ljubljana_75]\n",
    "\n"
   ]
  },
  {
   "cell_type": "code",
   "execution_count": 12,
   "metadata": {},
   "outputs": [
    {
     "data": {
      "application/vnd.plotly.v1+json": {
       "config": {
        "plotlyServerURL": "https://plot.ly"
       },
       "data": [
        {
         "name": "Elevation 5.0",
         "type": "scatter",
         "x": [
          0.01,
          0.016,
          0.027,
          0.045,
          0.077,
          0.13,
          0.21,
          0.35,
          0.6,
          0.95,
          1.7,
          3,
          5.1,
          8.3,
          12,
          19,
          30,
          45,
          60,
          80,
          98
         ],
         "y": [
          10.598,
          9.8038,
          8.9768,
          8.2222,
          7.4784,
          6.7958,
          6.2022,
          5.5973,
          4.9834,
          4.4746,
          3.8426,
          3.2312,
          2.6577,
          2.1236,
          1.7111,
          1.1834,
          0.64012,
          0.13869,
          -0.22967,
          -0.60969,
          -0.88535
         ]
        },
        {
         "marker": {
          "symbol": "x"
         },
         "mode": "markers",
         "name": "Elevation 5.0",
         "type": "scatter",
         "x": [
          0.01,
          0.016,
          0.027,
          0.045,
          0.077,
          0.13,
          0.21,
          0.35,
          0.6,
          0.95,
          1.7,
          3,
          5.1,
          8.3,
          12,
          19,
          30,
          45,
          60,
          80,
          98
         ],
         "y": [
          10.598,
          9.8038,
          8.9768,
          8.2222,
          7.4784,
          6.7958,
          6.2022,
          5.5973,
          4.9834,
          4.4746,
          3.8426,
          3.2312,
          2.6577,
          2.1236,
          1.7111,
          1.1834,
          0.64012,
          0.13869,
          -0.22967,
          -0.60969,
          -0.88535
         ]
        },
        {
         "name": "Elevation 10.0",
         "type": "scatter",
         "x": [
          0.01,
          0.016,
          0.027,
          0.045,
          0.077,
          0.13,
          0.21,
          0.35,
          0.6,
          0.95,
          1.7,
          3,
          5.1,
          8.3,
          12,
          19,
          30,
          45,
          60,
          80,
          98
         ],
         "y": [
          4.6344,
          4.2869,
          3.9253,
          3.5953,
          3.2701,
          2.9716,
          2.712,
          2.4475,
          2.1791,
          1.9566,
          1.6803,
          1.4129,
          1.1621,
          0.92858,
          0.74822,
          0.51748,
          0.27991,
          0.060646,
          -0.10043,
          -0.2666,
          -0.38714
         ]
        },
        {
         "marker": {
          "symbol": "x"
         },
         "mode": "markers",
         "name": "Elevation 10.0",
         "type": "scatter",
         "x": [
          0.01,
          0.016,
          0.027,
          0.045,
          0.077,
          0.13,
          0.21,
          0.35,
          0.6,
          0.95,
          1.7,
          3,
          5.1,
          8.3,
          12,
          19,
          30,
          45,
          60,
          80,
          98
         ],
         "y": [
          4.6344,
          4.2869,
          3.9253,
          3.5953,
          3.2701,
          2.9716,
          2.712,
          2.4475,
          2.1791,
          1.9566,
          1.6803,
          1.4129,
          1.1621,
          0.92858,
          0.74822,
          0.51748,
          0.27991,
          0.060646,
          -0.10043,
          -0.2666,
          -0.38714
         ]
        },
        {
         "name": "Elevation 15.0",
         "type": "scatter",
         "x": [
          0.01,
          0.016,
          0.027,
          0.045,
          0.077,
          0.13,
          0.21,
          0.35,
          0.6,
          0.95,
          1.7,
          3,
          5.1,
          8.3,
          12,
          19,
          30,
          45,
          60,
          80,
          98
         ],
         "y": [
          2.8708,
          2.6556,
          2.4315,
          2.2271,
          2.0257,
          1.8408,
          1.68,
          1.5161,
          1.3498,
          1.212,
          1.0408,
          0.87523,
          0.71989,
          0.57521,
          0.46349,
          0.32056,
          0.17339,
          0.037567,
          -0.062212,
          -0.16515,
          -0.23981
         ]
        },
        {
         "marker": {
          "symbol": "x"
         },
         "mode": "markers",
         "name": "Elevation 15.0",
         "type": "scatter",
         "x": [
          0.01,
          0.016,
          0.027,
          0.045,
          0.077,
          0.13,
          0.21,
          0.35,
          0.6,
          0.95,
          1.7,
          3,
          5.1,
          8.3,
          12,
          19,
          30,
          45,
          60,
          80,
          98
         ],
         "y": [
          2.8708,
          2.6556,
          2.4315,
          2.2271,
          2.0257,
          1.8408,
          1.68,
          1.5161,
          1.3498,
          1.212,
          1.0408,
          0.87523,
          0.71989,
          0.57521,
          0.46349,
          0.32056,
          0.17339,
          0.037567,
          -0.062212,
          -0.16515,
          -0.23981
         ]
        },
        {
         "name": "Elevation 20.0",
         "type": "scatter",
         "x": [
          0.01,
          0.016,
          0.027,
          0.045,
          0.077,
          0.13,
          0.21,
          0.35,
          0.6,
          0.95,
          1.7,
          3,
          5.1,
          8.3,
          12,
          19,
          30,
          45,
          60,
          80,
          98
         ],
         "y": [
          2.0546,
          1.9006,
          1.7403,
          1.594,
          1.4498,
          1.3174,
          1.2024,
          1.0851,
          0.96609,
          0.86746,
          0.74494,
          0.62641,
          0.51523,
          0.41168,
          0.33172,
          0.22942,
          0.12409,
          0.026887,
          -0.044525,
          -0.1182,
          -0.17164
         ]
        },
        {
         "marker": {
          "symbol": "x"
         },
         "mode": "markers",
         "name": "Elevation 20.0",
         "type": "scatter",
         "x": [
          0.01,
          0.016,
          0.027,
          0.045,
          0.077,
          0.13,
          0.21,
          0.35,
          0.6,
          0.95,
          1.7,
          3,
          5.1,
          8.3,
          12,
          19,
          30,
          45,
          60,
          80,
          98
         ],
         "y": [
          2.0546,
          1.9006,
          1.7403,
          1.594,
          1.4498,
          1.3174,
          1.2024,
          1.0851,
          0.96609,
          0.86746,
          0.74494,
          0.62641,
          0.51523,
          0.41168,
          0.33172,
          0.22942,
          0.12409,
          0.026887,
          -0.044525,
          -0.1182,
          -0.17164
         ]
        },
        {
         "name": "Elevation 25.0",
         "type": "scatter",
         "x": [
          0.01,
          0.016,
          0.027,
          0.045,
          0.077,
          0.13,
          0.21,
          0.35,
          0.6,
          0.95,
          1.7,
          3,
          5.1,
          8.3,
          12,
          19,
          30,
          45,
          60,
          80,
          98
         ],
         "y": [
          1.5939,
          1.4744,
          1.35,
          1.2365,
          1.1247,
          1.022,
          0.93274,
          0.84177,
          0.74945,
          0.67294,
          0.57789,
          0.48594,
          0.39969,
          0.31936,
          0.25733,
          0.17798,
          0.096267,
          0.020858,
          -0.034541,
          -0.091691,
          -0.13315
         ]
        },
        {
         "marker": {
          "symbol": "x"
         },
         "mode": "markers",
         "name": "Elevation 25.0",
         "type": "scatter",
         "x": [
          0.01,
          0.016,
          0.027,
          0.045,
          0.077,
          0.13,
          0.21,
          0.35,
          0.6,
          0.95,
          1.7,
          3,
          5.1,
          8.3,
          12,
          19,
          30,
          45,
          60,
          80,
          98
         ],
         "y": [
          1.5939,
          1.4744,
          1.35,
          1.2365,
          1.1247,
          1.022,
          0.93274,
          0.84177,
          0.74945,
          0.67294,
          0.57789,
          0.48594,
          0.39969,
          0.31936,
          0.25733,
          0.17798,
          0.096267,
          0.020858,
          -0.034541,
          -0.091691,
          -0.13315
         ]
        },
        {
         "name": "Elevation 30.0",
         "type": "scatter",
         "x": [
          0.01,
          0.016,
          0.027,
          0.045,
          0.077,
          0.13,
          0.21,
          0.35,
          0.6,
          0.95,
          1.7,
          3,
          5.1,
          8.3,
          12,
          19,
          30,
          45,
          60,
          80,
          98
         ],
         "y": [
          1.3027,
          1.205,
          1.1034,
          1.0106,
          0.91918,
          0.83528,
          0.76231,
          0.68797,
          0.61252,
          0.54998,
          0.4723,
          0.39715,
          0.32666,
          0.26101,
          0.21031,
          0.14546,
          0.078678,
          0.017047,
          -0.02823,
          -0.074938,
          -0.10882
         ]
        },
        {
         "marker": {
          "symbol": "x"
         },
         "mode": "markers",
         "name": "Elevation 30.0",
         "type": "scatter",
         "x": [
          0.01,
          0.016,
          0.027,
          0.045,
          0.077,
          0.13,
          0.21,
          0.35,
          0.6,
          0.95,
          1.7,
          3,
          5.1,
          8.3,
          12,
          19,
          30,
          45,
          60,
          80,
          98
         ],
         "y": [
          1.3027,
          1.205,
          1.1034,
          1.0106,
          0.91918,
          0.83528,
          0.76231,
          0.68797,
          0.61252,
          0.54998,
          0.4723,
          0.39715,
          0.32666,
          0.26101,
          0.21031,
          0.14546,
          0.078678,
          0.017047,
          -0.02823,
          -0.074938,
          -0.10882
         ]
        },
        {
         "name": "Elevation 35.0",
         "type": "scatter",
         "x": [
          0.01,
          0.016,
          0.027,
          0.045,
          0.077,
          0.13,
          0.21,
          0.35,
          0.6,
          0.95,
          1.7,
          3,
          5.1,
          8.3,
          12,
          19,
          30,
          45,
          60,
          80,
          98
         ],
         "y": [
          1.1048,
          1.022,
          0.93577,
          0.8571,
          0.77957,
          0.70841,
          0.64653,
          0.58348,
          0.51948,
          0.46645,
          0.40056,
          0.33683,
          0.27705,
          0.22137,
          0.17837,
          0.12336,
          0.066728,
          0.014458,
          -0.023942,
          -0.063556,
          -0.092291
         ]
        },
        {
         "marker": {
          "symbol": "x"
         },
         "mode": "markers",
         "name": "Elevation 35.0",
         "type": "scatter",
         "x": [
          0.01,
          0.016,
          0.027,
          0.045,
          0.077,
          0.13,
          0.21,
          0.35,
          0.6,
          0.95,
          1.7,
          3,
          5.1,
          8.3,
          12,
          19,
          30,
          45,
          60,
          80,
          98
         ],
         "y": [
          1.1048,
          1.022,
          0.93577,
          0.8571,
          0.77957,
          0.70841,
          0.64653,
          0.58348,
          0.51948,
          0.46645,
          0.40056,
          0.33683,
          0.27705,
          0.22137,
          0.17837,
          0.12336,
          0.066728,
          0.014458,
          -0.023942,
          -0.063556,
          -0.092291
         ]
        },
        {
         "name": "Elevation 40.0",
         "type": "scatter",
         "x": [
          0.01,
          0.016,
          0.027,
          0.045,
          0.077,
          0.13,
          0.21,
          0.35,
          0.6,
          0.95,
          1.7,
          3,
          5.1,
          8.3,
          12,
          19,
          30,
          45,
          60,
          80,
          98
         ],
         "y": [
          0.96364,
          0.89139,
          0.8162,
          0.74759,
          0.67996,
          0.61789,
          0.56392,
          0.50892,
          0.45311,
          0.40685,
          0.34938,
          0.29379,
          0.24165,
          0.19308,
          0.15558,
          0.1076,
          0.058202,
          0.01261,
          -0.020883,
          -0.055435,
          -0.080499
         ]
        },
        {
         "marker": {
          "symbol": "x"
         },
         "mode": "markers",
         "name": "Elevation 40.0",
         "type": "scatter",
         "x": [
          0.01,
          0.016,
          0.027,
          0.045,
          0.077,
          0.13,
          0.21,
          0.35,
          0.6,
          0.95,
          1.7,
          3,
          5.1,
          8.3,
          12,
          19,
          30,
          45,
          60,
          80,
          98
         ],
         "y": [
          0.96364,
          0.89139,
          0.8162,
          0.74759,
          0.67996,
          0.61789,
          0.56392,
          0.50892,
          0.45311,
          0.40685,
          0.34938,
          0.29379,
          0.24165,
          0.19308,
          0.15558,
          0.1076,
          0.058202,
          0.01261,
          -0.020883,
          -0.055435,
          -0.080499
         ]
        },
        {
         "name": "Elevation 45.0",
         "type": "scatter",
         "x": [
          0.01,
          0.016,
          0.027,
          0.045,
          0.077,
          0.13,
          0.21,
          0.35,
          0.6,
          0.95,
          1.7,
          3,
          5.1,
          8.3,
          12,
          19,
          30,
          45,
          60,
          80,
          98
         ],
         "y": [
          0.85944,
          0.795,
          0.72794,
          0.66675,
          0.60643,
          0.55108,
          0.50294,
          0.45389,
          0.40411,
          0.36285,
          0.3116,
          0.26202,
          0.21552,
          0.1722,
          0.13876,
          0.095966,
          0.051908,
          0.011247,
          -0.018625,
          -0.049441,
          -0.071794
         ]
        },
        {
         "marker": {
          "symbol": "x"
         },
         "mode": "markers",
         "name": "Elevation 45.0",
         "type": "scatter",
         "x": [
          0.01,
          0.016,
          0.027,
          0.045,
          0.077,
          0.13,
          0.21,
          0.35,
          0.6,
          0.95,
          1.7,
          3,
          5.1,
          8.3,
          12,
          19,
          30,
          45,
          60,
          80,
          98
         ],
         "y": [
          0.85944,
          0.795,
          0.72794,
          0.66675,
          0.60643,
          0.55108,
          0.50294,
          0.45389,
          0.40411,
          0.36285,
          0.3116,
          0.26202,
          0.21552,
          0.1722,
          0.13876,
          0.095966,
          0.051908,
          0.011247,
          -0.018625,
          -0.049441,
          -0.071794
         ]
        },
        {
         "name": "Elevation 50.0",
         "type": "scatter",
         "x": [
          0.01,
          0.016,
          0.027,
          0.045,
          0.077,
          0.13,
          0.21,
          0.35,
          0.6,
          0.95,
          1.7,
          3,
          5.1,
          8.3,
          12,
          19,
          30,
          45,
          60,
          80,
          98
         ],
         "y": [
          0.78071,
          0.72218,
          0.66126,
          0.60567,
          0.55088,
          0.5006,
          0.45687,
          0.41232,
          0.36709,
          0.32962,
          0.28306,
          0.23802,
          0.19577,
          0.15643,
          0.12605,
          0.087175,
          0.047153,
          0.010216,
          -0.016919,
          -0.044912,
          -0.065218
         ]
        },
        {
         "marker": {
          "symbol": "x"
         },
         "mode": "markers",
         "name": "Elevation 50.0",
         "type": "scatter",
         "x": [
          0.01,
          0.016,
          0.027,
          0.045,
          0.077,
          0.13,
          0.21,
          0.35,
          0.6,
          0.95,
          1.7,
          3,
          5.1,
          8.3,
          12,
          19,
          30,
          45,
          60,
          80,
          98
         ],
         "y": [
          0.78071,
          0.72218,
          0.66126,
          0.60567,
          0.55088,
          0.5006,
          0.45687,
          0.41232,
          0.36709,
          0.32962,
          0.28306,
          0.23802,
          0.19577,
          0.15643,
          0.12605,
          0.087175,
          0.047153,
          0.010216,
          -0.016919,
          -0.044912,
          -0.065218
         ]
        },
        {
         "name": "Elevation 55.0",
         "type": "scatter",
         "x": [
          0.01,
          0.016,
          0.027,
          0.045,
          0.077,
          0.13,
          0.21,
          0.35,
          0.6,
          0.95,
          1.7,
          3,
          5.1,
          8.3,
          12,
          19,
          30,
          45,
          60,
          80,
          98
         ],
         "y": [
          0.72038,
          0.66637,
          0.61016,
          0.55886,
          0.50831,
          0.46191,
          0.42156,
          0.38045,
          0.33872,
          0.30414,
          0.26118,
          0.21963,
          0.18064,
          0.14434,
          0.1163,
          0.080438,
          0.043509,
          0.0094269,
          -0.015611,
          -0.041441,
          -0.060177
         ]
        },
        {
         "marker": {
          "symbol": "x"
         },
         "mode": "markers",
         "name": "Elevation 55.0",
         "type": "scatter",
         "x": [
          0.01,
          0.016,
          0.027,
          0.045,
          0.077,
          0.13,
          0.21,
          0.35,
          0.6,
          0.95,
          1.7,
          3,
          5.1,
          8.3,
          12,
          19,
          30,
          45,
          60,
          80,
          98
         ],
         "y": [
          0.72038,
          0.66637,
          0.61016,
          0.55886,
          0.50831,
          0.46191,
          0.42156,
          0.38045,
          0.33872,
          0.30414,
          0.26118,
          0.21963,
          0.18064,
          0.14434,
          0.1163,
          0.080438,
          0.043509,
          0.0094269,
          -0.015611,
          -0.041441,
          -0.060177
         ]
        },
        {
         "name": "Elevation 60.0",
         "type": "scatter",
         "x": [
          0.01,
          0.016,
          0.027,
          0.045,
          0.077,
          0.13,
          0.21,
          0.35,
          0.6,
          0.95,
          1.7,
          3,
          5.1,
          8.3,
          12,
          19,
          30,
          45,
          60,
          80,
          98
         ],
         "y": [
          0.67384,
          0.62332,
          0.57074,
          0.52277,
          0.47547,
          0.43207,
          0.39433,
          0.35587,
          0.31684,
          0.2845,
          0.24431,
          0.20544,
          0.16898,
          0.13502,
          0.10879,
          0.075242,
          0.040699,
          0.008818,
          -0.014603,
          -0.038764,
          -0.05629
         ]
        },
        {
         "marker": {
          "symbol": "x"
         },
         "mode": "markers",
         "name": "Elevation 60.0",
         "type": "scatter",
         "x": [
          0.01,
          0.016,
          0.027,
          0.045,
          0.077,
          0.13,
          0.21,
          0.35,
          0.6,
          0.95,
          1.7,
          3,
          5.1,
          8.3,
          12,
          19,
          30,
          45,
          60,
          80,
          98
         ],
         "y": [
          0.67384,
          0.62332,
          0.57074,
          0.52277,
          0.47547,
          0.43207,
          0.39433,
          0.35587,
          0.31684,
          0.2845,
          0.24431,
          0.20544,
          0.16898,
          0.13502,
          0.10879,
          0.075242,
          0.040699,
          0.008818,
          -0.014603,
          -0.038764,
          -0.05629
         ]
        },
        {
         "name": "Elevation 65.0",
         "type": "scatter",
         "x": [
          0.01,
          0.016,
          0.027,
          0.045,
          0.077,
          0.13,
          0.21,
          0.35,
          0.6,
          0.95,
          1.7,
          3,
          5.1,
          8.3,
          12,
          19,
          30,
          45,
          60,
          80,
          98
         ],
         "y": [
          0.63807,
          0.59023,
          0.54044,
          0.49501,
          0.45023,
          0.40913,
          0.37339,
          0.33698,
          0.30002,
          0.26939,
          0.23134,
          0.19453,
          0.16,
          0.12785,
          0.10302,
          0.071247,
          0.038538,
          0.0083498,
          -0.013827,
          -0.036706,
          -0.053301
         ]
        },
        {
         "marker": {
          "symbol": "x"
         },
         "mode": "markers",
         "name": "Elevation 65.0",
         "type": "scatter",
         "x": [
          0.01,
          0.016,
          0.027,
          0.045,
          0.077,
          0.13,
          0.21,
          0.35,
          0.6,
          0.95,
          1.7,
          3,
          5.1,
          8.3,
          12,
          19,
          30,
          45,
          60,
          80,
          98
         ],
         "y": [
          0.63807,
          0.59023,
          0.54044,
          0.49501,
          0.45023,
          0.40913,
          0.37339,
          0.33698,
          0.30002,
          0.26939,
          0.23134,
          0.19453,
          0.16,
          0.12785,
          0.10302,
          0.071247,
          0.038538,
          0.0083498,
          -0.013827,
          -0.036706,
          -0.053301
         ]
        },
        {
         "name": "Elevation 70.0",
         "type": "scatter",
         "x": [
          0.01,
          0.016,
          0.027,
          0.045,
          0.077,
          0.13,
          0.21,
          0.35,
          0.6,
          0.95,
          1.7,
          3,
          5.1,
          8.3,
          12,
          19,
          30,
          45,
          60,
          80,
          98
         ],
         "y": [
          0.61096,
          0.56515,
          0.51748,
          0.47398,
          0.4311,
          0.39175,
          0.35753,
          0.32266,
          0.28728,
          0.25795,
          0.22151,
          0.18627,
          0.15321,
          0.12242,
          0.098639,
          0.068221,
          0.036901,
          0.0079951,
          -0.01324,
          -0.035147,
          -0.051037
         ]
        },
        {
         "marker": {
          "symbol": "x"
         },
         "mode": "markers",
         "name": "Elevation 70.0",
         "type": "scatter",
         "x": [
          0.01,
          0.016,
          0.027,
          0.045,
          0.077,
          0.13,
          0.21,
          0.35,
          0.6,
          0.95,
          1.7,
          3,
          5.1,
          8.3,
          12,
          19,
          30,
          45,
          60,
          80,
          98
         ],
         "y": [
          0.61096,
          0.56515,
          0.51748,
          0.47398,
          0.4311,
          0.39175,
          0.35753,
          0.32266,
          0.28728,
          0.25795,
          0.22151,
          0.18627,
          0.15321,
          0.12242,
          0.098639,
          0.068221,
          0.036901,
          0.0079951,
          -0.01324,
          -0.035147,
          -0.051037
         ]
        },
        {
         "name": "Elevation 75.0",
         "type": "scatter",
         "x": [
          0.01,
          0.016,
          0.027,
          0.045,
          0.077,
          0.13,
          0.21,
          0.35,
          0.6,
          0.95,
          1.7,
          3,
          5.1,
          8.3,
          12,
          19,
          30,
          45,
          60,
          80,
          98
         ],
         "y": [
          0.5911,
          0.54679,
          0.50066,
          0.45858,
          0.41709,
          0.37902,
          0.34591,
          0.31218,
          0.27794,
          0.24956,
          0.21431,
          0.18021,
          0.14823,
          0.11844,
          0.095433,
          0.066003,
          0.035701,
          0.0077352,
          -0.01281,
          -0.034004,
          -0.049378
         ]
        },
        {
         "marker": {
          "symbol": "x"
         },
         "mode": "markers",
         "name": "Elevation 75.0",
         "type": "scatter",
         "x": [
          0.01,
          0.016,
          0.027,
          0.045,
          0.077,
          0.13,
          0.21,
          0.35,
          0.6,
          0.95,
          1.7,
          3,
          5.1,
          8.3,
          12,
          19,
          30,
          45,
          60,
          80,
          98
         ],
         "y": [
          0.5911,
          0.54679,
          0.50066,
          0.45858,
          0.41709,
          0.37902,
          0.34591,
          0.31218,
          0.27794,
          0.24956,
          0.21431,
          0.18021,
          0.14823,
          0.11844,
          0.095433,
          0.066003,
          0.035701,
          0.0077352,
          -0.01281,
          -0.034004,
          -0.049378
         ]
        },
        {
         "name": "Elevation 80.0",
         "type": "scatter",
         "x": [
          0.01,
          0.016,
          0.027,
          0.045,
          0.077,
          0.13,
          0.21,
          0.35,
          0.6,
          0.95,
          1.7,
          3,
          5.1,
          8.3,
          12,
          19,
          30,
          45,
          60,
          80,
          98
         ],
         "y": [
          0.57753,
          0.53423,
          0.48917,
          0.44804,
          0.40751,
          0.37032,
          0.33797,
          0.30501,
          0.27156,
          0.24383,
          0.20939,
          0.17608,
          0.14482,
          0.11572,
          0.093242,
          0.064488,
          0.034881,
          0.0075576,
          -0.012515,
          -0.033223,
          -0.048244
         ]
        },
        {
         "marker": {
          "symbol": "x"
         },
         "mode": "markers",
         "name": "Elevation 80.0",
         "type": "scatter",
         "x": [
          0.01,
          0.016,
          0.027,
          0.045,
          0.077,
          0.13,
          0.21,
          0.35,
          0.6,
          0.95,
          1.7,
          3,
          5.1,
          8.3,
          12,
          19,
          30,
          45,
          60,
          80,
          98
         ],
         "y": [
          0.57753,
          0.53423,
          0.48917,
          0.44804,
          0.40751,
          0.37032,
          0.33797,
          0.30501,
          0.27156,
          0.24383,
          0.20939,
          0.17608,
          0.14482,
          0.11572,
          0.093242,
          0.064488,
          0.034881,
          0.0075576,
          -0.012515,
          -0.033223,
          -0.048244
         ]
        },
        {
         "name": "Elevation 85.0",
         "type": "scatter",
         "x": [
          0.01,
          0.016,
          0.027,
          0.045,
          0.077,
          0.13,
          0.21,
          0.35,
          0.6,
          0.95,
          1.7,
          3,
          5.1,
          8.3,
          12,
          19,
          30,
          45,
          60,
          80,
          98
         ],
         "y": [
          0.56962,
          0.52691,
          0.48246,
          0.44191,
          0.40193,
          0.36524,
          0.33334,
          0.30083,
          0.26784,
          0.24049,
          0.20652,
          0.17366,
          0.14284,
          0.11413,
          0.091964,
          0.063604,
          0.034404,
          0.0074541,
          -0.012344,
          -0.032768,
          -0.047583
         ]
        },
        {
         "marker": {
          "symbol": "x"
         },
         "mode": "markers",
         "name": "Elevation 85.0",
         "type": "scatter",
         "x": [
          0.01,
          0.016,
          0.027,
          0.045,
          0.077,
          0.13,
          0.21,
          0.35,
          0.6,
          0.95,
          1.7,
          3,
          5.1,
          8.3,
          12,
          19,
          30,
          45,
          60,
          80,
          98
         ],
         "y": [
          0.56962,
          0.52691,
          0.48246,
          0.44191,
          0.40193,
          0.36524,
          0.33334,
          0.30083,
          0.26784,
          0.24049,
          0.20652,
          0.17366,
          0.14284,
          0.11413,
          0.091964,
          0.063604,
          0.034404,
          0.0074541,
          -0.012344,
          -0.032768,
          -0.047583
         ]
        },
        {
         "name": "Elevation 87.0",
         "type": "scatter",
         "x": [
          0.01,
          0.016,
          0.027,
          0.045,
          0.077,
          0.13,
          0.21,
          0.35,
          0.6,
          0.95,
          1.7,
          3,
          5.1,
          8.3,
          12,
          19,
          30,
          45,
          60,
          80,
          98
         ],
         "y": [
          0.56795,
          0.52537,
          0.48105,
          0.44061,
          0.40075,
          0.36417,
          0.33236,
          0.29995,
          0.26705,
          0.23979,
          0.20592,
          0.17315,
          0.14242,
          0.1138,
          0.091695,
          0.063418,
          0.034303,
          0.0074323,
          -0.012308,
          -0.032672,
          -0.047444
         ]
        },
        {
         "marker": {
          "symbol": "x"
         },
         "mode": "markers",
         "name": "Elevation 87.0",
         "type": "scatter",
         "x": [
          0.01,
          0.016,
          0.027,
          0.045,
          0.077,
          0.13,
          0.21,
          0.35,
          0.6,
          0.95,
          1.7,
          3,
          5.1,
          8.3,
          12,
          19,
          30,
          45,
          60,
          80,
          98
         ],
         "y": [
          0.56795,
          0.52537,
          0.48105,
          0.44061,
          0.40075,
          0.36417,
          0.33236,
          0.29995,
          0.26705,
          0.23979,
          0.20592,
          0.17315,
          0.14242,
          0.1138,
          0.091695,
          0.063418,
          0.034303,
          0.0074323,
          -0.012308,
          -0.032672,
          -0.047444
         ]
        },
        {
         "name": "Elevation 89.0",
         "type": "scatter",
         "x": [
          0.01,
          0.016,
          0.027,
          0.045,
          0.077,
          0.13,
          0.21,
          0.35,
          0.6,
          0.95,
          1.7,
          3,
          5.1,
          8.3,
          12,
          19,
          30,
          45,
          60,
          80,
          98
         ],
         "y": [
          0.56712,
          0.5246,
          0.48035,
          0.43997,
          0.40017,
          0.36364,
          0.33188,
          0.29951,
          0.26666,
          0.23944,
          0.20562,
          0.1729,
          0.14221,
          0.11363,
          0.091561,
          0.063325,
          0.034253,
          0.0074214,
          -0.01229,
          -0.032625,
          -0.047375
         ]
        },
        {
         "marker": {
          "symbol": "x"
         },
         "mode": "markers",
         "name": "Elevation 89.0",
         "type": "scatter",
         "x": [
          0.01,
          0.016,
          0.027,
          0.045,
          0.077,
          0.13,
          0.21,
          0.35,
          0.6,
          0.95,
          1.7,
          3,
          5.1,
          8.3,
          12,
          19,
          30,
          45,
          60,
          80,
          98
         ],
         "y": [
          0.56712,
          0.5246,
          0.48035,
          0.43997,
          0.40017,
          0.36364,
          0.33188,
          0.29951,
          0.26666,
          0.23944,
          0.20562,
          0.1729,
          0.14221,
          0.11363,
          0.091561,
          0.063325,
          0.034253,
          0.0074214,
          -0.01229,
          -0.032625,
          -0.047375
         ]
        },
        {
         "name": "Elevation 89.9",
         "type": "scatter",
         "x": [
          0.01,
          0.016,
          0.027,
          0.045,
          0.077,
          0.13,
          0.21,
          0.35,
          0.6,
          0.95,
          1.7,
          3,
          5.1,
          8.3,
          12,
          19,
          30,
          45,
          60,
          80,
          98
         ],
         "y": [
          0.56702,
          0.52451,
          0.48026,
          0.43989,
          0.4001,
          0.36358,
          0.33182,
          0.29946,
          0.26661,
          0.23939,
          0.20558,
          0.17287,
          0.14219,
          0.11361,
          0.091545,
          0.063314,
          0.034247,
          0.00742,
          -0.012288,
          -0.032619,
          -0.047366
         ]
        },
        {
         "marker": {
          "symbol": "x"
         },
         "mode": "markers",
         "name": "Elevation 89.9",
         "type": "scatter",
         "x": [
          0.01,
          0.016,
          0.027,
          0.045,
          0.077,
          0.13,
          0.21,
          0.35,
          0.6,
          0.95,
          1.7,
          3,
          5.1,
          8.3,
          12,
          19,
          30,
          45,
          60,
          80,
          98
         ],
         "y": [
          0.56702,
          0.52451,
          0.48026,
          0.43989,
          0.4001,
          0.36358,
          0.33182,
          0.29946,
          0.26661,
          0.23939,
          0.20558,
          0.17287,
          0.14219,
          0.11361,
          0.091545,
          0.063314,
          0.034247,
          0.00742,
          -0.012288,
          -0.032619,
          -0.047366
         ]
        }
       ],
       "layout": {
        "template": {
         "data": {
          "bar": [
           {
            "error_x": {
             "color": "#2a3f5f"
            },
            "error_y": {
             "color": "#2a3f5f"
            },
            "marker": {
             "line": {
              "color": "#E5ECF6",
              "width": 0.5
             }
            },
            "type": "bar"
           }
          ],
          "barpolar": [
           {
            "marker": {
             "line": {
              "color": "#E5ECF6",
              "width": 0.5
             }
            },
            "type": "barpolar"
           }
          ],
          "carpet": [
           {
            "aaxis": {
             "endlinecolor": "#2a3f5f",
             "gridcolor": "white",
             "linecolor": "white",
             "minorgridcolor": "white",
             "startlinecolor": "#2a3f5f"
            },
            "baxis": {
             "endlinecolor": "#2a3f5f",
             "gridcolor": "white",
             "linecolor": "white",
             "minorgridcolor": "white",
             "startlinecolor": "#2a3f5f"
            },
            "type": "carpet"
           }
          ],
          "choropleth": [
           {
            "colorbar": {
             "outlinewidth": 0,
             "ticks": ""
            },
            "type": "choropleth"
           }
          ],
          "contour": [
           {
            "colorbar": {
             "outlinewidth": 0,
             "ticks": ""
            },
            "colorscale": [
             [
              0,
              "#0d0887"
             ],
             [
              0.1111111111111111,
              "#46039f"
             ],
             [
              0.2222222222222222,
              "#7201a8"
             ],
             [
              0.3333333333333333,
              "#9c179e"
             ],
             [
              0.4444444444444444,
              "#bd3786"
             ],
             [
              0.5555555555555556,
              "#d8576b"
             ],
             [
              0.6666666666666666,
              "#ed7953"
             ],
             [
              0.7777777777777778,
              "#fb9f3a"
             ],
             [
              0.8888888888888888,
              "#fdca26"
             ],
             [
              1,
              "#f0f921"
             ]
            ],
            "type": "contour"
           }
          ],
          "contourcarpet": [
           {
            "colorbar": {
             "outlinewidth": 0,
             "ticks": ""
            },
            "type": "contourcarpet"
           }
          ],
          "heatmap": [
           {
            "colorbar": {
             "outlinewidth": 0,
             "ticks": ""
            },
            "colorscale": [
             [
              0,
              "#0d0887"
             ],
             [
              0.1111111111111111,
              "#46039f"
             ],
             [
              0.2222222222222222,
              "#7201a8"
             ],
             [
              0.3333333333333333,
              "#9c179e"
             ],
             [
              0.4444444444444444,
              "#bd3786"
             ],
             [
              0.5555555555555556,
              "#d8576b"
             ],
             [
              0.6666666666666666,
              "#ed7953"
             ],
             [
              0.7777777777777778,
              "#fb9f3a"
             ],
             [
              0.8888888888888888,
              "#fdca26"
             ],
             [
              1,
              "#f0f921"
             ]
            ],
            "type": "heatmap"
           }
          ],
          "heatmapgl": [
           {
            "colorbar": {
             "outlinewidth": 0,
             "ticks": ""
            },
            "colorscale": [
             [
              0,
              "#0d0887"
             ],
             [
              0.1111111111111111,
              "#46039f"
             ],
             [
              0.2222222222222222,
              "#7201a8"
             ],
             [
              0.3333333333333333,
              "#9c179e"
             ],
             [
              0.4444444444444444,
              "#bd3786"
             ],
             [
              0.5555555555555556,
              "#d8576b"
             ],
             [
              0.6666666666666666,
              "#ed7953"
             ],
             [
              0.7777777777777778,
              "#fb9f3a"
             ],
             [
              0.8888888888888888,
              "#fdca26"
             ],
             [
              1,
              "#f0f921"
             ]
            ],
            "type": "heatmapgl"
           }
          ],
          "histogram": [
           {
            "marker": {
             "colorbar": {
              "outlinewidth": 0,
              "ticks": ""
             }
            },
            "type": "histogram"
           }
          ],
          "histogram2d": [
           {
            "colorbar": {
             "outlinewidth": 0,
             "ticks": ""
            },
            "colorscale": [
             [
              0,
              "#0d0887"
             ],
             [
              0.1111111111111111,
              "#46039f"
             ],
             [
              0.2222222222222222,
              "#7201a8"
             ],
             [
              0.3333333333333333,
              "#9c179e"
             ],
             [
              0.4444444444444444,
              "#bd3786"
             ],
             [
              0.5555555555555556,
              "#d8576b"
             ],
             [
              0.6666666666666666,
              "#ed7953"
             ],
             [
              0.7777777777777778,
              "#fb9f3a"
             ],
             [
              0.8888888888888888,
              "#fdca26"
             ],
             [
              1,
              "#f0f921"
             ]
            ],
            "type": "histogram2d"
           }
          ],
          "histogram2dcontour": [
           {
            "colorbar": {
             "outlinewidth": 0,
             "ticks": ""
            },
            "colorscale": [
             [
              0,
              "#0d0887"
             ],
             [
              0.1111111111111111,
              "#46039f"
             ],
             [
              0.2222222222222222,
              "#7201a8"
             ],
             [
              0.3333333333333333,
              "#9c179e"
             ],
             [
              0.4444444444444444,
              "#bd3786"
             ],
             [
              0.5555555555555556,
              "#d8576b"
             ],
             [
              0.6666666666666666,
              "#ed7953"
             ],
             [
              0.7777777777777778,
              "#fb9f3a"
             ],
             [
              0.8888888888888888,
              "#fdca26"
             ],
             [
              1,
              "#f0f921"
             ]
            ],
            "type": "histogram2dcontour"
           }
          ],
          "mesh3d": [
           {
            "colorbar": {
             "outlinewidth": 0,
             "ticks": ""
            },
            "type": "mesh3d"
           }
          ],
          "parcoords": [
           {
            "line": {
             "colorbar": {
              "outlinewidth": 0,
              "ticks": ""
             }
            },
            "type": "parcoords"
           }
          ],
          "pie": [
           {
            "automargin": true,
            "type": "pie"
           }
          ],
          "scatter": [
           {
            "marker": {
             "colorbar": {
              "outlinewidth": 0,
              "ticks": ""
             }
            },
            "type": "scatter"
           }
          ],
          "scatter3d": [
           {
            "line": {
             "colorbar": {
              "outlinewidth": 0,
              "ticks": ""
             }
            },
            "marker": {
             "colorbar": {
              "outlinewidth": 0,
              "ticks": ""
             }
            },
            "type": "scatter3d"
           }
          ],
          "scattercarpet": [
           {
            "marker": {
             "colorbar": {
              "outlinewidth": 0,
              "ticks": ""
             }
            },
            "type": "scattercarpet"
           }
          ],
          "scattergeo": [
           {
            "marker": {
             "colorbar": {
              "outlinewidth": 0,
              "ticks": ""
             }
            },
            "type": "scattergeo"
           }
          ],
          "scattergl": [
           {
            "marker": {
             "colorbar": {
              "outlinewidth": 0,
              "ticks": ""
             }
            },
            "type": "scattergl"
           }
          ],
          "scattermapbox": [
           {
            "marker": {
             "colorbar": {
              "outlinewidth": 0,
              "ticks": ""
             }
            },
            "type": "scattermapbox"
           }
          ],
          "scatterpolar": [
           {
            "marker": {
             "colorbar": {
              "outlinewidth": 0,
              "ticks": ""
             }
            },
            "type": "scatterpolar"
           }
          ],
          "scatterpolargl": [
           {
            "marker": {
             "colorbar": {
              "outlinewidth": 0,
              "ticks": ""
             }
            },
            "type": "scatterpolargl"
           }
          ],
          "scatterternary": [
           {
            "marker": {
             "colorbar": {
              "outlinewidth": 0,
              "ticks": ""
             }
            },
            "type": "scatterternary"
           }
          ],
          "surface": [
           {
            "colorbar": {
             "outlinewidth": 0,
             "ticks": ""
            },
            "colorscale": [
             [
              0,
              "#0d0887"
             ],
             [
              0.1111111111111111,
              "#46039f"
             ],
             [
              0.2222222222222222,
              "#7201a8"
             ],
             [
              0.3333333333333333,
              "#9c179e"
             ],
             [
              0.4444444444444444,
              "#bd3786"
             ],
             [
              0.5555555555555556,
              "#d8576b"
             ],
             [
              0.6666666666666666,
              "#ed7953"
             ],
             [
              0.7777777777777778,
              "#fb9f3a"
             ],
             [
              0.8888888888888888,
              "#fdca26"
             ],
             [
              1,
              "#f0f921"
             ]
            ],
            "type": "surface"
           }
          ],
          "table": [
           {
            "cells": {
             "fill": {
              "color": "#EBF0F8"
             },
             "line": {
              "color": "white"
             }
            },
            "header": {
             "fill": {
              "color": "#C8D4E3"
             },
             "line": {
              "color": "white"
             }
            },
            "type": "table"
           }
          ]
         },
         "layout": {
          "annotationdefaults": {
           "arrowcolor": "#2a3f5f",
           "arrowhead": 0,
           "arrowwidth": 1
          },
          "autotypenumbers": "strict",
          "coloraxis": {
           "colorbar": {
            "outlinewidth": 0,
            "ticks": ""
           }
          },
          "colorscale": {
           "diverging": [
            [
             0,
             "#8e0152"
            ],
            [
             0.1,
             "#c51b7d"
            ],
            [
             0.2,
             "#de77ae"
            ],
            [
             0.3,
             "#f1b6da"
            ],
            [
             0.4,
             "#fde0ef"
            ],
            [
             0.5,
             "#f7f7f7"
            ],
            [
             0.6,
             "#e6f5d0"
            ],
            [
             0.7,
             "#b8e186"
            ],
            [
             0.8,
             "#7fbc41"
            ],
            [
             0.9,
             "#4d9221"
            ],
            [
             1,
             "#276419"
            ]
           ],
           "sequential": [
            [
             0,
             "#0d0887"
            ],
            [
             0.1111111111111111,
             "#46039f"
            ],
            [
             0.2222222222222222,
             "#7201a8"
            ],
            [
             0.3333333333333333,
             "#9c179e"
            ],
            [
             0.4444444444444444,
             "#bd3786"
            ],
            [
             0.5555555555555556,
             "#d8576b"
            ],
            [
             0.6666666666666666,
             "#ed7953"
            ],
            [
             0.7777777777777778,
             "#fb9f3a"
            ],
            [
             0.8888888888888888,
             "#fdca26"
            ],
            [
             1,
             "#f0f921"
            ]
           ],
           "sequentialminus": [
            [
             0,
             "#0d0887"
            ],
            [
             0.1111111111111111,
             "#46039f"
            ],
            [
             0.2222222222222222,
             "#7201a8"
            ],
            [
             0.3333333333333333,
             "#9c179e"
            ],
            [
             0.4444444444444444,
             "#bd3786"
            ],
            [
             0.5555555555555556,
             "#d8576b"
            ],
            [
             0.6666666666666666,
             "#ed7953"
            ],
            [
             0.7777777777777778,
             "#fb9f3a"
            ],
            [
             0.8888888888888888,
             "#fdca26"
            ],
            [
             1,
             "#f0f921"
            ]
           ]
          },
          "colorway": [
           "#636efa",
           "#EF553B",
           "#00cc96",
           "#ab63fa",
           "#FFA15A",
           "#19d3f3",
           "#FF6692",
           "#B6E880",
           "#FF97FF",
           "#FECB52"
          ],
          "font": {
           "color": "#2a3f5f"
          },
          "geo": {
           "bgcolor": "white",
           "lakecolor": "white",
           "landcolor": "#E5ECF6",
           "showlakes": true,
           "showland": true,
           "subunitcolor": "white"
          },
          "hoverlabel": {
           "align": "left"
          },
          "hovermode": "closest",
          "mapbox": {
           "style": "light"
          },
          "paper_bgcolor": "white",
          "plot_bgcolor": "#E5ECF6",
          "polar": {
           "angularaxis": {
            "gridcolor": "white",
            "linecolor": "white",
            "ticks": ""
           },
           "bgcolor": "#E5ECF6",
           "radialaxis": {
            "gridcolor": "white",
            "linecolor": "white",
            "ticks": ""
           }
          },
          "scene": {
           "xaxis": {
            "backgroundcolor": "#E5ECF6",
            "gridcolor": "white",
            "gridwidth": 2,
            "linecolor": "white",
            "showbackground": true,
            "ticks": "",
            "zerolinecolor": "white"
           },
           "yaxis": {
            "backgroundcolor": "#E5ECF6",
            "gridcolor": "white",
            "gridwidth": 2,
            "linecolor": "white",
            "showbackground": true,
            "ticks": "",
            "zerolinecolor": "white"
           },
           "zaxis": {
            "backgroundcolor": "#E5ECF6",
            "gridcolor": "white",
            "gridwidth": 2,
            "linecolor": "white",
            "showbackground": true,
            "ticks": "",
            "zerolinecolor": "white"
           }
          },
          "shapedefaults": {
           "line": {
            "color": "#2a3f5f"
           }
          },
          "ternary": {
           "aaxis": {
            "gridcolor": "white",
            "linecolor": "white",
            "ticks": ""
           },
           "baxis": {
            "gridcolor": "white",
            "linecolor": "white",
            "ticks": ""
           },
           "bgcolor": "#E5ECF6",
           "caxis": {
            "gridcolor": "white",
            "linecolor": "white",
            "ticks": ""
           }
          },
          "title": {
           "x": 0.05
          },
          "xaxis": {
           "automargin": true,
           "gridcolor": "white",
           "linecolor": "white",
           "ticks": "",
           "title": {
            "standoff": 15
           },
           "zerolinecolor": "white",
           "zerolinewidth": 2
          },
          "yaxis": {
           "automargin": true,
           "gridcolor": "white",
           "linecolor": "white",
           "ticks": "",
           "title": {
            "standoff": 15
           },
           "zerolinecolor": "white",
           "zerolinewidth": 2
          }
         }
        },
        "title": {
         "text": "df_lavrion_37.5, attenuation_scintillation.csv"
        },
        "xaxis": {
         "title": {
          "text": "Time exceeded  [%]log"
         },
         "type": "log"
        },
        "yaxis": {
         "title": {
          "text": "Attenuation scintillation [dB]"
         }
        }
       }
      }
     },
     "metadata": {},
     "output_type": "display_data"
    },
    {
     "data": {
      "application/vnd.plotly.v1+json": {
       "config": {
        "plotlyServerURL": "https://plot.ly"
       },
       "data": [
        {
         "name": "Elevation 5.0",
         "type": "scatter",
         "x": [
          0.01,
          0.016,
          0.027,
          0.045,
          0.077,
          0.13,
          0.21,
          0.35,
          0.6,
          0.95,
          1.7,
          3,
          5.1,
          8.3,
          12,
          19,
          30,
          45,
          60,
          80,
          98
         ],
         "y": [
          15.88,
          14.689,
          13.45,
          12.319,
          11.205,
          10.182,
          9.2927,
          8.3865,
          7.4667,
          6.7044,
          5.7574,
          4.8413,
          3.982,
          3.1818,
          2.5638,
          1.7731,
          0.9591,
          0.2078,
          -0.34412,
          -0.91351,
          -1.3265
         ]
        },
        {
         "marker": {
          "symbol": "x"
         },
         "mode": "markers",
         "name": "Elevation 5.0",
         "type": "scatter",
         "x": [
          0.01,
          0.016,
          0.027,
          0.045,
          0.077,
          0.13,
          0.21,
          0.35,
          0.6,
          0.95,
          1.7,
          3,
          5.1,
          8.3,
          12,
          19,
          30,
          45,
          60,
          80,
          98
         ],
         "y": [
          15.88,
          14.689,
          13.45,
          12.319,
          11.205,
          10.182,
          9.2927,
          8.3865,
          7.4667,
          6.7044,
          5.7574,
          4.8413,
          3.982,
          3.1818,
          2.5638,
          1.7731,
          0.9591,
          0.2078,
          -0.34412,
          -0.91351,
          -1.3265
         ]
        },
        {
         "name": "Elevation 10.0",
         "type": "scatter",
         "x": [
          0.01,
          0.016,
          0.027,
          0.045,
          0.077,
          0.13,
          0.21,
          0.35,
          0.6,
          0.95,
          1.7,
          3,
          5.1,
          8.3,
          12,
          19,
          30,
          45,
          60,
          80,
          98
         ],
         "y": [
          6.9437,
          6.4231,
          5.8813,
          5.3869,
          4.8996,
          4.4524,
          4.0635,
          3.6672,
          3.265,
          2.9316,
          2.5175,
          2.117,
          1.7412,
          1.3913,
          1.1211,
          0.77535,
          0.41938,
          0.090866,
          -0.15047,
          -0.39945,
          -0.58005
         ]
        },
        {
         "marker": {
          "symbol": "x"
         },
         "mode": "markers",
         "name": "Elevation 10.0",
         "type": "scatter",
         "x": [
          0.01,
          0.016,
          0.027,
          0.045,
          0.077,
          0.13,
          0.21,
          0.35,
          0.6,
          0.95,
          1.7,
          3,
          5.1,
          8.3,
          12,
          19,
          30,
          45,
          60,
          80,
          98
         ],
         "y": [
          6.9437,
          6.4231,
          5.8813,
          5.3869,
          4.8996,
          4.4524,
          4.0635,
          3.6672,
          3.265,
          2.9316,
          2.5175,
          2.117,
          1.7412,
          1.3913,
          1.1211,
          0.77535,
          0.41938,
          0.090866,
          -0.15047,
          -0.39945,
          -0.58005
         ]
        },
        {
         "name": "Elevation 15.0",
         "type": "scatter",
         "x": [
          0.01,
          0.016,
          0.027,
          0.045,
          0.077,
          0.13,
          0.21,
          0.35,
          0.6,
          0.95,
          1.7,
          3,
          5.1,
          8.3,
          12,
          19,
          30,
          45,
          60,
          80,
          98
         ],
         "y": [
          4.3013,
          3.9788,
          3.6432,
          3.3369,
          3.0351,
          2.758,
          2.5171,
          2.2716,
          2.0225,
          1.816,
          1.5595,
          1.3114,
          1.0786,
          0.86184,
          0.69444,
          0.48029,
          0.25979,
          0.056287,
          -0.093212,
          -0.24744,
          -0.35931
         ]
        },
        {
         "marker": {
          "symbol": "x"
         },
         "mode": "markers",
         "name": "Elevation 15.0",
         "type": "scatter",
         "x": [
          0.01,
          0.016,
          0.027,
          0.045,
          0.077,
          0.13,
          0.21,
          0.35,
          0.6,
          0.95,
          1.7,
          3,
          5.1,
          8.3,
          12,
          19,
          30,
          45,
          60,
          80,
          98
         ],
         "y": [
          4.3013,
          3.9788,
          3.6432,
          3.3369,
          3.0351,
          2.758,
          2.5171,
          2.2716,
          2.0225,
          1.816,
          1.5595,
          1.3114,
          1.0786,
          0.86184,
          0.69444,
          0.48029,
          0.25979,
          0.056287,
          -0.093212,
          -0.24744,
          -0.35931
         ]
        },
        {
         "name": "Elevation 20.0",
         "type": "scatter",
         "x": [
          0.01,
          0.016,
          0.027,
          0.045,
          0.077,
          0.13,
          0.21,
          0.35,
          0.6,
          0.95,
          1.7,
          3,
          5.1,
          8.3,
          12,
          19,
          30,
          45,
          60,
          80,
          98
         ],
         "y": [
          3.0785,
          2.8477,
          2.6075,
          2.3883,
          2.1722,
          1.9739,
          1.8015,
          1.6258,
          1.4475,
          1.2997,
          1.1161,
          0.93855,
          0.77197,
          0.61682,
          0.49702,
          0.34375,
          0.18593,
          0.040285,
          -0.066712,
          -0.17709,
          -0.25716
         ]
        },
        {
         "marker": {
          "symbol": "x"
         },
         "mode": "markers",
         "name": "Elevation 20.0",
         "type": "scatter",
         "x": [
          0.01,
          0.016,
          0.027,
          0.045,
          0.077,
          0.13,
          0.21,
          0.35,
          0.6,
          0.95,
          1.7,
          3,
          5.1,
          8.3,
          12,
          19,
          30,
          45,
          60,
          80,
          98
         ],
         "y": [
          3.0785,
          2.8477,
          2.6075,
          2.3883,
          2.1722,
          1.9739,
          1.8015,
          1.6258,
          1.4475,
          1.2997,
          1.1161,
          0.93855,
          0.77197,
          0.61682,
          0.49702,
          0.34375,
          0.18593,
          0.040285,
          -0.066712,
          -0.17709,
          -0.25716
         ]
        },
        {
         "name": "Elevation 25.0",
         "type": "scatter",
         "x": [
          0.01,
          0.016,
          0.027,
          0.045,
          0.077,
          0.13,
          0.21,
          0.35,
          0.6,
          0.95,
          1.7,
          3,
          5.1,
          8.3,
          12,
          19,
          30,
          45,
          60,
          80,
          98
         ],
         "y": [
          2.3881,
          2.2091,
          2.0227,
          1.8527,
          1.6851,
          1.5313,
          1.3975,
          1.2612,
          1.1229,
          1.0083,
          0.86585,
          0.72809,
          0.59886,
          0.4785,
          0.38556,
          0.26666,
          0.14424,
          0.031251,
          -0.051752,
          -0.13738,
          -0.1995
         ]
        },
        {
         "marker": {
          "symbol": "x"
         },
         "mode": "markers",
         "name": "Elevation 25.0",
         "type": "scatter",
         "x": [
          0.01,
          0.016,
          0.027,
          0.045,
          0.077,
          0.13,
          0.21,
          0.35,
          0.6,
          0.95,
          1.7,
          3,
          5.1,
          8.3,
          12,
          19,
          30,
          45,
          60,
          80,
          98
         ],
         "y": [
          2.3881,
          2.2091,
          2.0227,
          1.8527,
          1.6851,
          1.5313,
          1.3975,
          1.2612,
          1.1229,
          1.0083,
          0.86585,
          0.72809,
          0.59886,
          0.4785,
          0.38556,
          0.26666,
          0.14424,
          0.031251,
          -0.051752,
          -0.13738,
          -0.1995
         ]
        },
        {
         "name": "Elevation 30.0",
         "type": "scatter",
         "x": [
          0.01,
          0.016,
          0.027,
          0.045,
          0.077,
          0.13,
          0.21,
          0.35,
          0.6,
          0.95,
          1.7,
          3,
          5.1,
          8.3,
          12,
          19,
          30,
          45,
          60,
          80,
          98
         ],
         "y": [
          1.9518,
          1.8055,
          1.6532,
          1.5142,
          1.3772,
          1.2515,
          1.1422,
          1.0308,
          0.91774,
          0.82404,
          0.70765,
          0.59505,
          0.48944,
          0.39107,
          0.31511,
          0.21794,
          0.11788,
          0.025541,
          -0.042296,
          -0.11228,
          -0.16304
         ]
        },
        {
         "marker": {
          "symbol": "x"
         },
         "mode": "markers",
         "name": "Elevation 30.0",
         "type": "scatter",
         "x": [
          0.01,
          0.016,
          0.027,
          0.045,
          0.077,
          0.13,
          0.21,
          0.35,
          0.6,
          0.95,
          1.7,
          3,
          5.1,
          8.3,
          12,
          19,
          30,
          45,
          60,
          80,
          98
         ],
         "y": [
          1.9518,
          1.8055,
          1.6532,
          1.5142,
          1.3772,
          1.2515,
          1.1422,
          1.0308,
          0.91774,
          0.82404,
          0.70765,
          0.59505,
          0.48944,
          0.39107,
          0.31511,
          0.21794,
          0.11788,
          0.025541,
          -0.042296,
          -0.11228,
          -0.16304
         ]
        },
        {
         "name": "Elevation 35.0",
         "type": "scatter",
         "x": [
          0.01,
          0.016,
          0.027,
          0.045,
          0.077,
          0.13,
          0.21,
          0.35,
          0.6,
          0.95,
          1.7,
          3,
          5.1,
          8.3,
          12,
          19,
          30,
          45,
          60,
          80,
          98
         ],
         "y": [
          1.6553,
          1.5312,
          1.4021,
          1.2842,
          1.168,
          1.0614,
          0.9687,
          0.87423,
          0.77834,
          0.69888,
          0.60017,
          0.50467,
          0.4151,
          0.33168,
          0.26725,
          0.18484,
          0.099979,
          0.021662,
          -0.035872,
          -0.095226,
          -0.13828
         ]
        },
        {
         "marker": {
          "symbol": "x"
         },
         "mode": "markers",
         "name": "Elevation 35.0",
         "type": "scatter",
         "x": [
          0.01,
          0.016,
          0.027,
          0.045,
          0.077,
          0.13,
          0.21,
          0.35,
          0.6,
          0.95,
          1.7,
          3,
          5.1,
          8.3,
          12,
          19,
          30,
          45,
          60,
          80,
          98
         ],
         "y": [
          1.6553,
          1.5312,
          1.4021,
          1.2842,
          1.168,
          1.0614,
          0.9687,
          0.87423,
          0.77834,
          0.69888,
          0.60017,
          0.50467,
          0.4151,
          0.33168,
          0.26725,
          0.18484,
          0.099979,
          0.021662,
          -0.035872,
          -0.095226,
          -0.13828
         ]
        },
        {
         "name": "Elevation 40.0",
         "type": "scatter",
         "x": [
          0.01,
          0.016,
          0.027,
          0.045,
          0.077,
          0.13,
          0.21,
          0.35,
          0.6,
          0.95,
          1.7,
          3,
          5.1,
          8.3,
          12,
          19,
          30,
          45,
          60,
          80,
          98
         ],
         "y": [
          1.4438,
          1.3356,
          1.2229,
          1.1201,
          1.0188,
          0.92579,
          0.84493,
          0.76252,
          0.67889,
          0.60958,
          0.52348,
          0.44019,
          0.36206,
          0.2893,
          0.2331,
          0.16122,
          0.087204,
          0.018894,
          -0.031289,
          -0.083059,
          -0.12061
         ]
        },
        {
         "marker": {
          "symbol": "x"
         },
         "mode": "markers",
         "name": "Elevation 40.0",
         "type": "scatter",
         "x": [
          0.01,
          0.016,
          0.027,
          0.045,
          0.077,
          0.13,
          0.21,
          0.35,
          0.6,
          0.95,
          1.7,
          3,
          5.1,
          8.3,
          12,
          19,
          30,
          45,
          60,
          80,
          98
         ],
         "y": [
          1.4438,
          1.3356,
          1.2229,
          1.1201,
          1.0188,
          0.92579,
          0.84493,
          0.76252,
          0.67889,
          0.60958,
          0.52348,
          0.44019,
          0.36206,
          0.2893,
          0.2331,
          0.16122,
          0.087204,
          0.018894,
          -0.031289,
          -0.083059,
          -0.12061
         ]
        },
        {
         "name": "Elevation 45.0",
         "type": "scatter",
         "x": [
          0.01,
          0.016,
          0.027,
          0.045,
          0.077,
          0.13,
          0.21,
          0.35,
          0.6,
          0.95,
          1.7,
          3,
          5.1,
          8.3,
          12,
          19,
          30,
          45,
          60,
          80,
          98
         ],
         "y": [
          1.2877,
          1.1912,
          1.0907,
          0.99899,
          0.90862,
          0.82568,
          0.75356,
          0.68007,
          0.60548,
          0.54366,
          0.46687,
          0.39259,
          0.32291,
          0.25801,
          0.2079,
          0.14379,
          0.077774,
          0.016851,
          -0.027905,
          -0.074077,
          -0.10757
         ]
        },
        {
         "marker": {
          "symbol": "x"
         },
         "mode": "markers",
         "name": "Elevation 45.0",
         "type": "scatter",
         "x": [
          0.01,
          0.016,
          0.027,
          0.045,
          0.077,
          0.13,
          0.21,
          0.35,
          0.6,
          0.95,
          1.7,
          3,
          5.1,
          8.3,
          12,
          19,
          30,
          45,
          60,
          80,
          98
         ],
         "y": [
          1.2877,
          1.1912,
          1.0907,
          0.99899,
          0.90862,
          0.82568,
          0.75356,
          0.68007,
          0.60548,
          0.54366,
          0.46687,
          0.39259,
          0.32291,
          0.25801,
          0.2079,
          0.14379,
          0.077774,
          0.016851,
          -0.027905,
          -0.074077,
          -0.10757
         ]
        },
        {
         "name": "Elevation 50.0",
         "type": "scatter",
         "x": [
          0.01,
          0.016,
          0.027,
          0.045,
          0.077,
          0.13,
          0.21,
          0.35,
          0.6,
          0.95,
          1.7,
          3,
          5.1,
          8.3,
          12,
          19,
          30,
          45,
          60,
          80,
          98
         ],
         "y": [
          1.1697,
          1.082,
          0.99077,
          0.90748,
          0.82539,
          0.75005,
          0.68453,
          0.61777,
          0.55002,
          0.49386,
          0.42411,
          0.35663,
          0.29333,
          0.23438,
          0.18885,
          0.13062,
          0.07065,
          0.015307,
          -0.025349,
          -0.067292,
          -0.097716
         ]
        },
        {
         "marker": {
          "symbol": "x"
         },
         "mode": "markers",
         "name": "Elevation 50.0",
         "type": "scatter",
         "x": [
          0.01,
          0.016,
          0.027,
          0.045,
          0.077,
          0.13,
          0.21,
          0.35,
          0.6,
          0.95,
          1.7,
          3,
          5.1,
          8.3,
          12,
          19,
          30,
          45,
          60,
          80,
          98
         ],
         "y": [
          1.1697,
          1.082,
          0.99077,
          0.90748,
          0.82539,
          0.75005,
          0.68453,
          0.61777,
          0.55002,
          0.49386,
          0.42411,
          0.35663,
          0.29333,
          0.23438,
          0.18885,
          0.13062,
          0.07065,
          0.015307,
          -0.025349,
          -0.067292,
          -0.097716
         ]
        },
        {
         "name": "Elevation 55.0",
         "type": "scatter",
         "x": [
          0.01,
          0.016,
          0.027,
          0.045,
          0.077,
          0.13,
          0.21,
          0.35,
          0.6,
          0.95,
          1.7,
          3,
          5.1,
          8.3,
          12,
          19,
          30,
          45,
          60,
          80,
          98
         ],
         "y": [
          1.0793,
          0.99842,
          0.9142,
          0.83735,
          0.7616,
          0.69208,
          0.63163,
          0.57003,
          0.50751,
          0.4557,
          0.39133,
          0.32907,
          0.27066,
          0.21626,
          0.17426,
          0.12052,
          0.06519,
          0.014124,
          -0.02339,
          -0.062091,
          -0.090164
         ]
        },
        {
         "marker": {
          "symbol": "x"
         },
         "mode": "markers",
         "name": "Elevation 55.0",
         "type": "scatter",
         "x": [
          0.01,
          0.016,
          0.027,
          0.045,
          0.077,
          0.13,
          0.21,
          0.35,
          0.6,
          0.95,
          1.7,
          3,
          5.1,
          8.3,
          12,
          19,
          30,
          45,
          60,
          80,
          98
         ],
         "y": [
          1.0793,
          0.99842,
          0.9142,
          0.83735,
          0.7616,
          0.69208,
          0.63163,
          0.57003,
          0.50751,
          0.4557,
          0.39133,
          0.32907,
          0.27066,
          0.21626,
          0.17426,
          0.12052,
          0.06519,
          0.014124,
          -0.02339,
          -0.062091,
          -0.090164
         ]
        },
        {
         "name": "Elevation 60.0",
         "type": "scatter",
         "x": [
          0.01,
          0.016,
          0.027,
          0.045,
          0.077,
          0.13,
          0.21,
          0.35,
          0.6,
          0.95,
          1.7,
          3,
          5.1,
          8.3,
          12,
          19,
          30,
          45,
          60,
          80,
          98
         ],
         "y": [
          1.0096,
          0.93393,
          0.85515,
          0.78326,
          0.71241,
          0.64738,
          0.59083,
          0.53321,
          0.47473,
          0.42626,
          0.36605,
          0.30781,
          0.25318,
          0.2023,
          0.163,
          0.11274,
          0.060979,
          0.013212,
          -0.021879,
          -0.05808,
          -0.08434
         ]
        },
        {
         "marker": {
          "symbol": "x"
         },
         "mode": "markers",
         "name": "Elevation 60.0",
         "type": "scatter",
         "x": [
          0.01,
          0.016,
          0.027,
          0.045,
          0.077,
          0.13,
          0.21,
          0.35,
          0.6,
          0.95,
          1.7,
          3,
          5.1,
          8.3,
          12,
          19,
          30,
          45,
          60,
          80,
          98
         ],
         "y": [
          1.0096,
          0.93393,
          0.85515,
          0.78326,
          0.71241,
          0.64738,
          0.59083,
          0.53321,
          0.47473,
          0.42626,
          0.36605,
          0.30781,
          0.25318,
          0.2023,
          0.163,
          0.11274,
          0.060979,
          0.013212,
          -0.021879,
          -0.05808,
          -0.08434
         ]
        },
        {
         "name": "Elevation 65.0",
         "type": "scatter",
         "x": [
          0.01,
          0.016,
          0.027,
          0.045,
          0.077,
          0.13,
          0.21,
          0.35,
          0.6,
          0.95,
          1.7,
          3,
          5.1,
          8.3,
          12,
          19,
          30,
          45,
          60,
          80,
          98
         ],
         "y": [
          0.95602,
          0.88434,
          0.80974,
          0.74167,
          0.67458,
          0.61301,
          0.55946,
          0.5049,
          0.44952,
          0.40363,
          0.34662,
          0.29147,
          0.23973,
          0.19155,
          0.15435,
          0.10675,
          0.057741,
          0.012511,
          -0.020717,
          -0.054997,
          -0.079862
         ]
        },
        {
         "marker": {
          "symbol": "x"
         },
         "mode": "markers",
         "name": "Elevation 65.0",
         "type": "scatter",
         "x": [
          0.01,
          0.016,
          0.027,
          0.045,
          0.077,
          0.13,
          0.21,
          0.35,
          0.6,
          0.95,
          1.7,
          3,
          5.1,
          8.3,
          12,
          19,
          30,
          45,
          60,
          80,
          98
         ],
         "y": [
          0.95602,
          0.88434,
          0.80974,
          0.74167,
          0.67458,
          0.61301,
          0.55946,
          0.5049,
          0.44952,
          0.40363,
          0.34662,
          0.29147,
          0.23973,
          0.19155,
          0.15435,
          0.10675,
          0.057741,
          0.012511,
          -0.020717,
          -0.054997,
          -0.079862
         ]
        },
        {
         "name": "Elevation 70.0",
         "type": "scatter",
         "x": [
          0.01,
          0.016,
          0.027,
          0.045,
          0.077,
          0.13,
          0.21,
          0.35,
          0.6,
          0.95,
          1.7,
          3,
          5.1,
          8.3,
          12,
          19,
          30,
          45,
          60,
          80,
          98
         ],
         "y": [
          0.91541,
          0.84678,
          0.77535,
          0.71017,
          0.64592,
          0.58696,
          0.53569,
          0.48345,
          0.43043,
          0.38648,
          0.33189,
          0.27909,
          0.22955,
          0.18342,
          0.14779,
          0.10222,
          0.055288,
          0.011979,
          -0.019837,
          -0.05266,
          -0.076469
         ]
        },
        {
         "marker": {
          "symbol": "x"
         },
         "mode": "markers",
         "name": "Elevation 70.0",
         "type": "scatter",
         "x": [
          0.01,
          0.016,
          0.027,
          0.045,
          0.077,
          0.13,
          0.21,
          0.35,
          0.6,
          0.95,
          1.7,
          3,
          5.1,
          8.3,
          12,
          19,
          30,
          45,
          60,
          80,
          98
         ],
         "y": [
          0.91541,
          0.84678,
          0.77535,
          0.71017,
          0.64592,
          0.58696,
          0.53569,
          0.48345,
          0.43043,
          0.38648,
          0.33189,
          0.27909,
          0.22955,
          0.18342,
          0.14779,
          0.10222,
          0.055288,
          0.011979,
          -0.019837,
          -0.05266,
          -0.076469
         ]
        },
        {
         "name": "Elevation 75.0",
         "type": "scatter",
         "x": [
          0.01,
          0.016,
          0.027,
          0.045,
          0.077,
          0.13,
          0.21,
          0.35,
          0.6,
          0.95,
          1.7,
          3,
          5.1,
          8.3,
          12,
          19,
          30,
          45,
          60,
          80,
          98
         ],
         "y": [
          0.88566,
          0.81925,
          0.75015,
          0.68709,
          0.62493,
          0.56789,
          0.51828,
          0.46774,
          0.41644,
          0.37392,
          0.32111,
          0.27002,
          0.22209,
          0.17746,
          0.14299,
          0.098893,
          0.053491,
          0.01159,
          -0.019193,
          -0.050949,
          -0.073984
         ]
        },
        {
         "marker": {
          "symbol": "x"
         },
         "mode": "markers",
         "name": "Elevation 75.0",
         "type": "scatter",
         "x": [
          0.01,
          0.016,
          0.027,
          0.045,
          0.077,
          0.13,
          0.21,
          0.35,
          0.6,
          0.95,
          1.7,
          3,
          5.1,
          8.3,
          12,
          19,
          30,
          45,
          60,
          80,
          98
         ],
         "y": [
          0.88566,
          0.81925,
          0.75015,
          0.68709,
          0.62493,
          0.56789,
          0.51828,
          0.46774,
          0.41644,
          0.37392,
          0.32111,
          0.27002,
          0.22209,
          0.17746,
          0.14299,
          0.098893,
          0.053491,
          0.01159,
          -0.019193,
          -0.050949,
          -0.073984
         ]
        },
        {
         "name": "Elevation 80.0",
         "type": "scatter",
         "x": [
          0.01,
          0.016,
          0.027,
          0.045,
          0.077,
          0.13,
          0.21,
          0.35,
          0.6,
          0.95,
          1.7,
          3,
          5.1,
          8.3,
          12,
          19,
          30,
          45,
          60,
          80,
          98
         ],
         "y": [
          0.86532,
          0.80044,
          0.73292,
          0.67131,
          0.61058,
          0.55485,
          0.50638,
          0.457,
          0.40687,
          0.36533,
          0.31373,
          0.26381,
          0.21699,
          0.17338,
          0.1397,
          0.096622,
          0.052263,
          0.011324,
          -0.018752,
          -0.049779,
          -0.072285
         ]
        },
        {
         "marker": {
          "symbol": "x"
         },
         "mode": "markers",
         "name": "Elevation 80.0",
         "type": "scatter",
         "x": [
          0.01,
          0.016,
          0.027,
          0.045,
          0.077,
          0.13,
          0.21,
          0.35,
          0.6,
          0.95,
          1.7,
          3,
          5.1,
          8.3,
          12,
          19,
          30,
          45,
          60,
          80,
          98
         ],
         "y": [
          0.86532,
          0.80044,
          0.73292,
          0.67131,
          0.61058,
          0.55485,
          0.50638,
          0.457,
          0.40687,
          0.36533,
          0.31373,
          0.26381,
          0.21699,
          0.17338,
          0.1397,
          0.096622,
          0.052263,
          0.011324,
          -0.018752,
          -0.049779,
          -0.072285
         ]
        },
        {
         "name": "Elevation 85.0",
         "type": "scatter",
         "x": [
          0.01,
          0.016,
          0.027,
          0.045,
          0.077,
          0.13,
          0.21,
          0.35,
          0.6,
          0.95,
          1.7,
          3,
          5.1,
          8.3,
          12,
          19,
          30,
          45,
          60,
          80,
          98
         ],
         "y": [
          0.85346,
          0.78947,
          0.72288,
          0.66211,
          0.60221,
          0.54725,
          0.49944,
          0.45074,
          0.4013,
          0.36033,
          0.30943,
          0.2602,
          0.21402,
          0.17101,
          0.13779,
          0.095299,
          0.051547,
          0.011168,
          -0.018495,
          -0.049097,
          -0.071295
         ]
        },
        {
         "marker": {
          "symbol": "x"
         },
         "mode": "markers",
         "name": "Elevation 85.0",
         "type": "scatter",
         "x": [
          0.01,
          0.016,
          0.027,
          0.045,
          0.077,
          0.13,
          0.21,
          0.35,
          0.6,
          0.95,
          1.7,
          3,
          5.1,
          8.3,
          12,
          19,
          30,
          45,
          60,
          80,
          98
         ],
         "y": [
          0.85346,
          0.78947,
          0.72288,
          0.66211,
          0.60221,
          0.54725,
          0.49944,
          0.45074,
          0.4013,
          0.36033,
          0.30943,
          0.2602,
          0.21402,
          0.17101,
          0.13779,
          0.095299,
          0.051547,
          0.011168,
          -0.018495,
          -0.049097,
          -0.071295
         ]
        },
        {
         "name": "Elevation 87.0",
         "type": "scatter",
         "x": [
          0.01,
          0.016,
          0.027,
          0.045,
          0.077,
          0.13,
          0.21,
          0.35,
          0.6,
          0.95,
          1.7,
          3,
          5.1,
          8.3,
          12,
          19,
          30,
          45,
          60,
          80,
          98
         ],
         "y": [
          0.85097,
          0.78717,
          0.72076,
          0.66017,
          0.60045,
          0.54564,
          0.49798,
          0.44942,
          0.40013,
          0.35928,
          0.30853,
          0.25944,
          0.21339,
          0.17051,
          0.13739,
          0.09502,
          0.051396,
          0.011136,
          -0.018441,
          -0.048953,
          -0.071086
         ]
        },
        {
         "marker": {
          "symbol": "x"
         },
         "mode": "markers",
         "name": "Elevation 87.0",
         "type": "scatter",
         "x": [
          0.01,
          0.016,
          0.027,
          0.045,
          0.077,
          0.13,
          0.21,
          0.35,
          0.6,
          0.95,
          1.7,
          3,
          5.1,
          8.3,
          12,
          19,
          30,
          45,
          60,
          80,
          98
         ],
         "y": [
          0.85097,
          0.78717,
          0.72076,
          0.66017,
          0.60045,
          0.54564,
          0.49798,
          0.44942,
          0.40013,
          0.35928,
          0.30853,
          0.25944,
          0.21339,
          0.17051,
          0.13739,
          0.09502,
          0.051396,
          0.011136,
          -0.018441,
          -0.048953,
          -0.071086
         ]
        },
        {
         "name": "Elevation 89.0",
         "type": "scatter",
         "x": [
          0.01,
          0.016,
          0.027,
          0.045,
          0.077,
          0.13,
          0.21,
          0.35,
          0.6,
          0.95,
          1.7,
          3,
          5.1,
          8.3,
          12,
          19,
          30,
          45,
          60,
          80,
          98
         ],
         "y": [
          0.84972,
          0.78601,
          0.71971,
          0.65921,
          0.59958,
          0.54485,
          0.49725,
          0.44876,
          0.39954,
          0.35875,
          0.30808,
          0.25906,
          0.21308,
          0.17026,
          0.13719,
          0.094881,
          0.051321,
          0.01112,
          -0.018414,
          -0.048882,
          -0.070982
         ]
        },
        {
         "marker": {
          "symbol": "x"
         },
         "mode": "markers",
         "name": "Elevation 89.0",
         "type": "scatter",
         "x": [
          0.01,
          0.016,
          0.027,
          0.045,
          0.077,
          0.13,
          0.21,
          0.35,
          0.6,
          0.95,
          1.7,
          3,
          5.1,
          8.3,
          12,
          19,
          30,
          45,
          60,
          80,
          98
         ],
         "y": [
          0.84972,
          0.78601,
          0.71971,
          0.65921,
          0.59958,
          0.54485,
          0.49725,
          0.44876,
          0.39954,
          0.35875,
          0.30808,
          0.25906,
          0.21308,
          0.17026,
          0.13719,
          0.094881,
          0.051321,
          0.01112,
          -0.018414,
          -0.048882,
          -0.070982
         ]
        },
        {
         "name": "Elevation 89.9",
         "type": "scatter",
         "x": [
          0.01,
          0.016,
          0.027,
          0.045,
          0.077,
          0.13,
          0.21,
          0.35,
          0.6,
          0.95,
          1.7,
          3,
          5.1,
          8.3,
          12,
          19,
          30,
          45,
          60,
          80,
          98
         ],
         "y": [
          0.84957,
          0.78587,
          0.71958,
          0.65909,
          0.59947,
          0.54475,
          0.49716,
          0.44868,
          0.39947,
          0.35869,
          0.30802,
          0.25901,
          0.21304,
          0.17023,
          0.13716,
          0.094864,
          0.051312,
          0.011118,
          -0.018411,
          -0.048873,
          -0.070969
         ]
        },
        {
         "marker": {
          "symbol": "x"
         },
         "mode": "markers",
         "name": "Elevation 89.9",
         "type": "scatter",
         "x": [
          0.01,
          0.016,
          0.027,
          0.045,
          0.077,
          0.13,
          0.21,
          0.35,
          0.6,
          0.95,
          1.7,
          3,
          5.1,
          8.3,
          12,
          19,
          30,
          45,
          60,
          80,
          98
         ],
         "y": [
          0.84957,
          0.78587,
          0.71958,
          0.65909,
          0.59947,
          0.54475,
          0.49716,
          0.44868,
          0.39947,
          0.35869,
          0.30802,
          0.25901,
          0.21304,
          0.17023,
          0.13716,
          0.094864,
          0.051312,
          0.011118,
          -0.018411,
          -0.048873,
          -0.070969
         ]
        }
       ],
       "layout": {
        "template": {
         "data": {
          "bar": [
           {
            "error_x": {
             "color": "#2a3f5f"
            },
            "error_y": {
             "color": "#2a3f5f"
            },
            "marker": {
             "line": {
              "color": "#E5ECF6",
              "width": 0.5
             }
            },
            "type": "bar"
           }
          ],
          "barpolar": [
           {
            "marker": {
             "line": {
              "color": "#E5ECF6",
              "width": 0.5
             }
            },
            "type": "barpolar"
           }
          ],
          "carpet": [
           {
            "aaxis": {
             "endlinecolor": "#2a3f5f",
             "gridcolor": "white",
             "linecolor": "white",
             "minorgridcolor": "white",
             "startlinecolor": "#2a3f5f"
            },
            "baxis": {
             "endlinecolor": "#2a3f5f",
             "gridcolor": "white",
             "linecolor": "white",
             "minorgridcolor": "white",
             "startlinecolor": "#2a3f5f"
            },
            "type": "carpet"
           }
          ],
          "choropleth": [
           {
            "colorbar": {
             "outlinewidth": 0,
             "ticks": ""
            },
            "type": "choropleth"
           }
          ],
          "contour": [
           {
            "colorbar": {
             "outlinewidth": 0,
             "ticks": ""
            },
            "colorscale": [
             [
              0,
              "#0d0887"
             ],
             [
              0.1111111111111111,
              "#46039f"
             ],
             [
              0.2222222222222222,
              "#7201a8"
             ],
             [
              0.3333333333333333,
              "#9c179e"
             ],
             [
              0.4444444444444444,
              "#bd3786"
             ],
             [
              0.5555555555555556,
              "#d8576b"
             ],
             [
              0.6666666666666666,
              "#ed7953"
             ],
             [
              0.7777777777777778,
              "#fb9f3a"
             ],
             [
              0.8888888888888888,
              "#fdca26"
             ],
             [
              1,
              "#f0f921"
             ]
            ],
            "type": "contour"
           }
          ],
          "contourcarpet": [
           {
            "colorbar": {
             "outlinewidth": 0,
             "ticks": ""
            },
            "type": "contourcarpet"
           }
          ],
          "heatmap": [
           {
            "colorbar": {
             "outlinewidth": 0,
             "ticks": ""
            },
            "colorscale": [
             [
              0,
              "#0d0887"
             ],
             [
              0.1111111111111111,
              "#46039f"
             ],
             [
              0.2222222222222222,
              "#7201a8"
             ],
             [
              0.3333333333333333,
              "#9c179e"
             ],
             [
              0.4444444444444444,
              "#bd3786"
             ],
             [
              0.5555555555555556,
              "#d8576b"
             ],
             [
              0.6666666666666666,
              "#ed7953"
             ],
             [
              0.7777777777777778,
              "#fb9f3a"
             ],
             [
              0.8888888888888888,
              "#fdca26"
             ],
             [
              1,
              "#f0f921"
             ]
            ],
            "type": "heatmap"
           }
          ],
          "heatmapgl": [
           {
            "colorbar": {
             "outlinewidth": 0,
             "ticks": ""
            },
            "colorscale": [
             [
              0,
              "#0d0887"
             ],
             [
              0.1111111111111111,
              "#46039f"
             ],
             [
              0.2222222222222222,
              "#7201a8"
             ],
             [
              0.3333333333333333,
              "#9c179e"
             ],
             [
              0.4444444444444444,
              "#bd3786"
             ],
             [
              0.5555555555555556,
              "#d8576b"
             ],
             [
              0.6666666666666666,
              "#ed7953"
             ],
             [
              0.7777777777777778,
              "#fb9f3a"
             ],
             [
              0.8888888888888888,
              "#fdca26"
             ],
             [
              1,
              "#f0f921"
             ]
            ],
            "type": "heatmapgl"
           }
          ],
          "histogram": [
           {
            "marker": {
             "colorbar": {
              "outlinewidth": 0,
              "ticks": ""
             }
            },
            "type": "histogram"
           }
          ],
          "histogram2d": [
           {
            "colorbar": {
             "outlinewidth": 0,
             "ticks": ""
            },
            "colorscale": [
             [
              0,
              "#0d0887"
             ],
             [
              0.1111111111111111,
              "#46039f"
             ],
             [
              0.2222222222222222,
              "#7201a8"
             ],
             [
              0.3333333333333333,
              "#9c179e"
             ],
             [
              0.4444444444444444,
              "#bd3786"
             ],
             [
              0.5555555555555556,
              "#d8576b"
             ],
             [
              0.6666666666666666,
              "#ed7953"
             ],
             [
              0.7777777777777778,
              "#fb9f3a"
             ],
             [
              0.8888888888888888,
              "#fdca26"
             ],
             [
              1,
              "#f0f921"
             ]
            ],
            "type": "histogram2d"
           }
          ],
          "histogram2dcontour": [
           {
            "colorbar": {
             "outlinewidth": 0,
             "ticks": ""
            },
            "colorscale": [
             [
              0,
              "#0d0887"
             ],
             [
              0.1111111111111111,
              "#46039f"
             ],
             [
              0.2222222222222222,
              "#7201a8"
             ],
             [
              0.3333333333333333,
              "#9c179e"
             ],
             [
              0.4444444444444444,
              "#bd3786"
             ],
             [
              0.5555555555555556,
              "#d8576b"
             ],
             [
              0.6666666666666666,
              "#ed7953"
             ],
             [
              0.7777777777777778,
              "#fb9f3a"
             ],
             [
              0.8888888888888888,
              "#fdca26"
             ],
             [
              1,
              "#f0f921"
             ]
            ],
            "type": "histogram2dcontour"
           }
          ],
          "mesh3d": [
           {
            "colorbar": {
             "outlinewidth": 0,
             "ticks": ""
            },
            "type": "mesh3d"
           }
          ],
          "parcoords": [
           {
            "line": {
             "colorbar": {
              "outlinewidth": 0,
              "ticks": ""
             }
            },
            "type": "parcoords"
           }
          ],
          "pie": [
           {
            "automargin": true,
            "type": "pie"
           }
          ],
          "scatter": [
           {
            "marker": {
             "colorbar": {
              "outlinewidth": 0,
              "ticks": ""
             }
            },
            "type": "scatter"
           }
          ],
          "scatter3d": [
           {
            "line": {
             "colorbar": {
              "outlinewidth": 0,
              "ticks": ""
             }
            },
            "marker": {
             "colorbar": {
              "outlinewidth": 0,
              "ticks": ""
             }
            },
            "type": "scatter3d"
           }
          ],
          "scattercarpet": [
           {
            "marker": {
             "colorbar": {
              "outlinewidth": 0,
              "ticks": ""
             }
            },
            "type": "scattercarpet"
           }
          ],
          "scattergeo": [
           {
            "marker": {
             "colorbar": {
              "outlinewidth": 0,
              "ticks": ""
             }
            },
            "type": "scattergeo"
           }
          ],
          "scattergl": [
           {
            "marker": {
             "colorbar": {
              "outlinewidth": 0,
              "ticks": ""
             }
            },
            "type": "scattergl"
           }
          ],
          "scattermapbox": [
           {
            "marker": {
             "colorbar": {
              "outlinewidth": 0,
              "ticks": ""
             }
            },
            "type": "scattermapbox"
           }
          ],
          "scatterpolar": [
           {
            "marker": {
             "colorbar": {
              "outlinewidth": 0,
              "ticks": ""
             }
            },
            "type": "scatterpolar"
           }
          ],
          "scatterpolargl": [
           {
            "marker": {
             "colorbar": {
              "outlinewidth": 0,
              "ticks": ""
             }
            },
            "type": "scatterpolargl"
           }
          ],
          "scatterternary": [
           {
            "marker": {
             "colorbar": {
              "outlinewidth": 0,
              "ticks": ""
             }
            },
            "type": "scatterternary"
           }
          ],
          "surface": [
           {
            "colorbar": {
             "outlinewidth": 0,
             "ticks": ""
            },
            "colorscale": [
             [
              0,
              "#0d0887"
             ],
             [
              0.1111111111111111,
              "#46039f"
             ],
             [
              0.2222222222222222,
              "#7201a8"
             ],
             [
              0.3333333333333333,
              "#9c179e"
             ],
             [
              0.4444444444444444,
              "#bd3786"
             ],
             [
              0.5555555555555556,
              "#d8576b"
             ],
             [
              0.6666666666666666,
              "#ed7953"
             ],
             [
              0.7777777777777778,
              "#fb9f3a"
             ],
             [
              0.8888888888888888,
              "#fdca26"
             ],
             [
              1,
              "#f0f921"
             ]
            ],
            "type": "surface"
           }
          ],
          "table": [
           {
            "cells": {
             "fill": {
              "color": "#EBF0F8"
             },
             "line": {
              "color": "white"
             }
            },
            "header": {
             "fill": {
              "color": "#C8D4E3"
             },
             "line": {
              "color": "white"
             }
            },
            "type": "table"
           }
          ]
         },
         "layout": {
          "annotationdefaults": {
           "arrowcolor": "#2a3f5f",
           "arrowhead": 0,
           "arrowwidth": 1
          },
          "autotypenumbers": "strict",
          "coloraxis": {
           "colorbar": {
            "outlinewidth": 0,
            "ticks": ""
           }
          },
          "colorscale": {
           "diverging": [
            [
             0,
             "#8e0152"
            ],
            [
             0.1,
             "#c51b7d"
            ],
            [
             0.2,
             "#de77ae"
            ],
            [
             0.3,
             "#f1b6da"
            ],
            [
             0.4,
             "#fde0ef"
            ],
            [
             0.5,
             "#f7f7f7"
            ],
            [
             0.6,
             "#e6f5d0"
            ],
            [
             0.7,
             "#b8e186"
            ],
            [
             0.8,
             "#7fbc41"
            ],
            [
             0.9,
             "#4d9221"
            ],
            [
             1,
             "#276419"
            ]
           ],
           "sequential": [
            [
             0,
             "#0d0887"
            ],
            [
             0.1111111111111111,
             "#46039f"
            ],
            [
             0.2222222222222222,
             "#7201a8"
            ],
            [
             0.3333333333333333,
             "#9c179e"
            ],
            [
             0.4444444444444444,
             "#bd3786"
            ],
            [
             0.5555555555555556,
             "#d8576b"
            ],
            [
             0.6666666666666666,
             "#ed7953"
            ],
            [
             0.7777777777777778,
             "#fb9f3a"
            ],
            [
             0.8888888888888888,
             "#fdca26"
            ],
            [
             1,
             "#f0f921"
            ]
           ],
           "sequentialminus": [
            [
             0,
             "#0d0887"
            ],
            [
             0.1111111111111111,
             "#46039f"
            ],
            [
             0.2222222222222222,
             "#7201a8"
            ],
            [
             0.3333333333333333,
             "#9c179e"
            ],
            [
             0.4444444444444444,
             "#bd3786"
            ],
            [
             0.5555555555555556,
             "#d8576b"
            ],
            [
             0.6666666666666666,
             "#ed7953"
            ],
            [
             0.7777777777777778,
             "#fb9f3a"
            ],
            [
             0.8888888888888888,
             "#fdca26"
            ],
            [
             1,
             "#f0f921"
            ]
           ]
          },
          "colorway": [
           "#636efa",
           "#EF553B",
           "#00cc96",
           "#ab63fa",
           "#FFA15A",
           "#19d3f3",
           "#FF6692",
           "#B6E880",
           "#FF97FF",
           "#FECB52"
          ],
          "font": {
           "color": "#2a3f5f"
          },
          "geo": {
           "bgcolor": "white",
           "lakecolor": "white",
           "landcolor": "#E5ECF6",
           "showlakes": true,
           "showland": true,
           "subunitcolor": "white"
          },
          "hoverlabel": {
           "align": "left"
          },
          "hovermode": "closest",
          "mapbox": {
           "style": "light"
          },
          "paper_bgcolor": "white",
          "plot_bgcolor": "#E5ECF6",
          "polar": {
           "angularaxis": {
            "gridcolor": "white",
            "linecolor": "white",
            "ticks": ""
           },
           "bgcolor": "#E5ECF6",
           "radialaxis": {
            "gridcolor": "white",
            "linecolor": "white",
            "ticks": ""
           }
          },
          "scene": {
           "xaxis": {
            "backgroundcolor": "#E5ECF6",
            "gridcolor": "white",
            "gridwidth": 2,
            "linecolor": "white",
            "showbackground": true,
            "ticks": "",
            "zerolinecolor": "white"
           },
           "yaxis": {
            "backgroundcolor": "#E5ECF6",
            "gridcolor": "white",
            "gridwidth": 2,
            "linecolor": "white",
            "showbackground": true,
            "ticks": "",
            "zerolinecolor": "white"
           },
           "zaxis": {
            "backgroundcolor": "#E5ECF6",
            "gridcolor": "white",
            "gridwidth": 2,
            "linecolor": "white",
            "showbackground": true,
            "ticks": "",
            "zerolinecolor": "white"
           }
          },
          "shapedefaults": {
           "line": {
            "color": "#2a3f5f"
           }
          },
          "ternary": {
           "aaxis": {
            "gridcolor": "white",
            "linecolor": "white",
            "ticks": ""
           },
           "baxis": {
            "gridcolor": "white",
            "linecolor": "white",
            "ticks": ""
           },
           "bgcolor": "#E5ECF6",
           "caxis": {
            "gridcolor": "white",
            "linecolor": "white",
            "ticks": ""
           }
          },
          "title": {
           "x": 0.05
          },
          "xaxis": {
           "automargin": true,
           "gridcolor": "white",
           "linecolor": "white",
           "ticks": "",
           "title": {
            "standoff": 15
           },
           "zerolinecolor": "white",
           "zerolinewidth": 2
          },
          "yaxis": {
           "automargin": true,
           "gridcolor": "white",
           "linecolor": "white",
           "ticks": "",
           "title": {
            "standoff": 15
           },
           "zerolinecolor": "white",
           "zerolinewidth": 2
          }
         }
        },
        "title": {
         "text": "df_lavrion_75, attenuation_scintillation.csv"
        },
        "xaxis": {
         "title": {
          "text": "Time exceeded  [%]log"
         },
         "type": "log"
        },
        "yaxis": {
         "title": {
          "text": "Attenuation scintillation [dB]"
         }
        }
       }
      }
     },
     "metadata": {},
     "output_type": "display_data"
    },
    {
     "data": {
      "application/vnd.plotly.v1+json": {
       "config": {
        "plotlyServerURL": "https://plot.ly"
       },
       "data": [
        {
         "name": "Elevation 5.0",
         "type": "scatter",
         "x": [
          0.01,
          0.016,
          0.027,
          0.045,
          0.077,
          0.13,
          0.21,
          0.35,
          0.6,
          0.95,
          1.7,
          3,
          5.1,
          8.3,
          12,
          19,
          30,
          45,
          60,
          80,
          98
         ],
         "y": [
          8.3804,
          7.7521,
          7.0982,
          6.5015,
          5.9133,
          5.3736,
          4.9042,
          4.4259,
          3.9405,
          3.5382,
          3.0384,
          2.555,
          2.1015,
          1.6792,
          1.353,
          0.93577,
          0.50616,
          0.10967,
          -0.18161,
          -0.4821,
          -0.70007
         ]
        },
        {
         "marker": {
          "symbol": "x"
         },
         "mode": "markers",
         "name": "Elevation 5.0",
         "type": "scatter",
         "x": [
          0.01,
          0.016,
          0.027,
          0.045,
          0.077,
          0.13,
          0.21,
          0.35,
          0.6,
          0.95,
          1.7,
          3,
          5.1,
          8.3,
          12,
          19,
          30,
          45,
          60,
          80,
          98
         ],
         "y": [
          8.3804,
          7.7521,
          7.0982,
          6.5015,
          5.9133,
          5.3736,
          4.9042,
          4.4259,
          3.9405,
          3.5382,
          3.0384,
          2.555,
          2.1015,
          1.6792,
          1.353,
          0.93577,
          0.50616,
          0.10967,
          -0.18161,
          -0.4821,
          -0.70007
         ]
        },
        {
         "name": "Elevation 10.0",
         "type": "scatter",
         "x": [
          0.01,
          0.016,
          0.027,
          0.045,
          0.077,
          0.13,
          0.21,
          0.35,
          0.6,
          0.95,
          1.7,
          3,
          5.1,
          8.3,
          12,
          19,
          30,
          45,
          60,
          80,
          98
         ],
         "y": [
          3.6645,
          3.3898,
          3.1038,
          2.8429,
          2.5857,
          2.3497,
          2.1445,
          1.9353,
          1.7231,
          1.5472,
          1.3286,
          1.1172,
          0.91893,
          0.73425,
          0.59163,
          0.40918,
          0.22133,
          0.047954,
          -0.079412,
          -0.21081,
          -0.30612
         ]
        },
        {
         "marker": {
          "symbol": "x"
         },
         "mode": "markers",
         "name": "Elevation 10.0",
         "type": "scatter",
         "x": [
          0.01,
          0.016,
          0.027,
          0.045,
          0.077,
          0.13,
          0.21,
          0.35,
          0.6,
          0.95,
          1.7,
          3,
          5.1,
          8.3,
          12,
          19,
          30,
          45,
          60,
          80,
          98
         ],
         "y": [
          3.6645,
          3.3898,
          3.1038,
          2.8429,
          2.5857,
          2.3497,
          2.1445,
          1.9353,
          1.7231,
          1.5472,
          1.3286,
          1.1172,
          0.91893,
          0.73425,
          0.59163,
          0.40918,
          0.22133,
          0.047954,
          -0.079412,
          -0.21081,
          -0.30612
         ]
        },
        {
         "name": "Elevation 15.0",
         "type": "scatter",
         "x": [
          0.01,
          0.016,
          0.027,
          0.045,
          0.077,
          0.13,
          0.21,
          0.35,
          0.6,
          0.95,
          1.7,
          3,
          5.1,
          8.3,
          12,
          19,
          30,
          45,
          60,
          80,
          98
         ],
         "y": [
          2.27,
          2.0998,
          1.9227,
          1.7611,
          1.6017,
          1.4555,
          1.3284,
          1.1988,
          1.0674,
          0.95839,
          0.82302,
          0.69207,
          0.56923,
          0.45483,
          0.36649,
          0.25347,
          0.1371,
          0.029705,
          -0.049192,
          -0.13059,
          -0.18963
         ]
        },
        {
         "marker": {
          "symbol": "x"
         },
         "mode": "markers",
         "name": "Elevation 15.0",
         "type": "scatter",
         "x": [
          0.01,
          0.016,
          0.027,
          0.045,
          0.077,
          0.13,
          0.21,
          0.35,
          0.6,
          0.95,
          1.7,
          3,
          5.1,
          8.3,
          12,
          19,
          30,
          45,
          60,
          80,
          98
         ],
         "y": [
          2.27,
          2.0998,
          1.9227,
          1.7611,
          1.6017,
          1.4555,
          1.3284,
          1.1988,
          1.0674,
          0.95839,
          0.82302,
          0.69207,
          0.56923,
          0.45483,
          0.36649,
          0.25347,
          0.1371,
          0.029705,
          -0.049192,
          -0.13059,
          -0.18963
         ]
        },
        {
         "name": "Elevation 20.0",
         "type": "scatter",
         "x": [
          0.01,
          0.016,
          0.027,
          0.045,
          0.077,
          0.13,
          0.21,
          0.35,
          0.6,
          0.95,
          1.7,
          3,
          5.1,
          8.3,
          12,
          19,
          30,
          45,
          60,
          80,
          98
         ],
         "y": [
          1.6246,
          1.5028,
          1.3761,
          1.2604,
          1.1464,
          1.0417,
          0.95074,
          0.85802,
          0.76391,
          0.68592,
          0.58904,
          0.49532,
          0.4074,
          0.32553,
          0.2623,
          0.18141,
          0.098125,
          0.02126,
          -0.035207,
          -0.093461,
          -0.13572
         ]
        },
        {
         "marker": {
          "symbol": "x"
         },
         "mode": "markers",
         "name": "Elevation 20.0",
         "type": "scatter",
         "x": [
          0.01,
          0.016,
          0.027,
          0.045,
          0.077,
          0.13,
          0.21,
          0.35,
          0.6,
          0.95,
          1.7,
          3,
          5.1,
          8.3,
          12,
          19,
          30,
          45,
          60,
          80,
          98
         ],
         "y": [
          1.6246,
          1.5028,
          1.3761,
          1.2604,
          1.1464,
          1.0417,
          0.95074,
          0.85802,
          0.76391,
          0.68592,
          0.58904,
          0.49532,
          0.4074,
          0.32553,
          0.2623,
          0.18141,
          0.098125,
          0.02126,
          -0.035207,
          -0.093461,
          -0.13572
         ]
        },
        {
         "name": "Elevation 25.0",
         "type": "scatter",
         "x": [
          0.01,
          0.016,
          0.027,
          0.045,
          0.077,
          0.13,
          0.21,
          0.35,
          0.6,
          0.95,
          1.7,
          3,
          5.1,
          8.3,
          12,
          19,
          30,
          45,
          60,
          80,
          98
         ],
         "y": [
          1.2603,
          1.1658,
          1.0675,
          0.97776,
          0.8893,
          0.80813,
          0.73754,
          0.66561,
          0.59261,
          0.53211,
          0.45695,
          0.38424,
          0.31604,
          0.25253,
          0.20348,
          0.14073,
          0.076121,
          0.016493,
          -0.027312,
          -0.072502,
          -0.10528
         ]
        },
        {
         "marker": {
          "symbol": "x"
         },
         "mode": "markers",
         "name": "Elevation 25.0",
         "type": "scatter",
         "x": [
          0.01,
          0.016,
          0.027,
          0.045,
          0.077,
          0.13,
          0.21,
          0.35,
          0.6,
          0.95,
          1.7,
          3,
          5.1,
          8.3,
          12,
          19,
          30,
          45,
          60,
          80,
          98
         ],
         "y": [
          1.2603,
          1.1658,
          1.0675,
          0.97776,
          0.8893,
          0.80813,
          0.73754,
          0.66561,
          0.59261,
          0.53211,
          0.45695,
          0.38424,
          0.31604,
          0.25253,
          0.20348,
          0.14073,
          0.076121,
          0.016493,
          -0.027312,
          -0.072502,
          -0.10528
         ]
        },
        {
         "name": "Elevation 30.0",
         "type": "scatter",
         "x": [
          0.01,
          0.016,
          0.027,
          0.045,
          0.077,
          0.13,
          0.21,
          0.35,
          0.6,
          0.95,
          1.7,
          3,
          5.1,
          8.3,
          12,
          19,
          30,
          45,
          60,
          80,
          98
         ],
         "y": [
          1.03,
          0.95282,
          0.87245,
          0.79911,
          0.72682,
          0.66047,
          0.60278,
          0.54399,
          0.48433,
          0.43488,
          0.37346,
          0.31404,
          0.2583,
          0.20639,
          0.1663,
          0.11502,
          0.062212,
          0.013479,
          -0.022322,
          -0.059255,
          -0.086046
         ]
        },
        {
         "marker": {
          "symbol": "x"
         },
         "mode": "markers",
         "name": "Elevation 30.0",
         "type": "scatter",
         "x": [
          0.01,
          0.016,
          0.027,
          0.045,
          0.077,
          0.13,
          0.21,
          0.35,
          0.6,
          0.95,
          1.7,
          3,
          5.1,
          8.3,
          12,
          19,
          30,
          45,
          60,
          80,
          98
         ],
         "y": [
          1.03,
          0.95282,
          0.87245,
          0.79911,
          0.72682,
          0.66047,
          0.60278,
          0.54399,
          0.48433,
          0.43488,
          0.37346,
          0.31404,
          0.2583,
          0.20639,
          0.1663,
          0.11502,
          0.062212,
          0.013479,
          -0.022322,
          -0.059255,
          -0.086046
         ]
        },
        {
         "name": "Elevation 35.0",
         "type": "scatter",
         "x": [
          0.01,
          0.016,
          0.027,
          0.045,
          0.077,
          0.13,
          0.21,
          0.35,
          0.6,
          0.95,
          1.7,
          3,
          5.1,
          8.3,
          12,
          19,
          30,
          45,
          60,
          80,
          98
         ],
         "y": [
          0.8736,
          0.8081,
          0.73993,
          0.67773,
          0.61642,
          0.56016,
          0.51123,
          0.46137,
          0.41077,
          0.36883,
          0.31674,
          0.26634,
          0.21907,
          0.17504,
          0.14104,
          0.097547,
          0.052763,
          0.011432,
          -0.018931,
          -0.050255,
          -0.072977
         ]
        },
        {
         "marker": {
          "symbol": "x"
         },
         "mode": "markers",
         "name": "Elevation 35.0",
         "type": "scatter",
         "x": [
          0.01,
          0.016,
          0.027,
          0.045,
          0.077,
          0.13,
          0.21,
          0.35,
          0.6,
          0.95,
          1.7,
          3,
          5.1,
          8.3,
          12,
          19,
          30,
          45,
          60,
          80,
          98
         ],
         "y": [
          0.8736,
          0.8081,
          0.73993,
          0.67773,
          0.61642,
          0.56016,
          0.51123,
          0.46137,
          0.41077,
          0.36883,
          0.31674,
          0.26634,
          0.21907,
          0.17504,
          0.14104,
          0.097547,
          0.052763,
          0.011432,
          -0.018931,
          -0.050255,
          -0.072977
         ]
        },
        {
         "name": "Elevation 40.0",
         "type": "scatter",
         "x": [
          0.01,
          0.016,
          0.027,
          0.045,
          0.077,
          0.13,
          0.21,
          0.35,
          0.6,
          0.95,
          1.7,
          3,
          5.1,
          8.3,
          12,
          19,
          30,
          45,
          60,
          80,
          98
         ],
         "y": [
          0.76197,
          0.70485,
          0.64539,
          0.59114,
          0.53766,
          0.48858,
          0.44591,
          0.40242,
          0.35828,
          0.3217,
          0.27626,
          0.23231,
          0.19108,
          0.15267,
          0.12302,
          0.085083,
          0.046021,
          0.0099713,
          -0.016512,
          -0.043834,
          -0.063652
         ]
        },
        {
         "marker": {
          "symbol": "x"
         },
         "mode": "markers",
         "name": "Elevation 40.0",
         "type": "scatter",
         "x": [
          0.01,
          0.016,
          0.027,
          0.045,
          0.077,
          0.13,
          0.21,
          0.35,
          0.6,
          0.95,
          1.7,
          3,
          5.1,
          8.3,
          12,
          19,
          30,
          45,
          60,
          80,
          98
         ],
         "y": [
          0.76197,
          0.70485,
          0.64539,
          0.59114,
          0.53766,
          0.48858,
          0.44591,
          0.40242,
          0.35828,
          0.3217,
          0.27626,
          0.23231,
          0.19108,
          0.15267,
          0.12302,
          0.085083,
          0.046021,
          0.0099713,
          -0.016512,
          -0.043834,
          -0.063652
         ]
        },
        {
         "name": "Elevation 45.0",
         "type": "scatter",
         "x": [
          0.01,
          0.016,
          0.027,
          0.045,
          0.077,
          0.13,
          0.21,
          0.35,
          0.6,
          0.95,
          1.7,
          3,
          5.1,
          8.3,
          12,
          19,
          30,
          45,
          60,
          80,
          98
         ],
         "y": [
          0.67958,
          0.62863,
          0.5756,
          0.52721,
          0.47952,
          0.43575,
          0.39769,
          0.3589,
          0.31954,
          0.28692,
          0.24639,
          0.20719,
          0.17041,
          0.13616,
          0.10972,
          0.075883,
          0.041045,
          0.008893,
          -0.014727,
          -0.039094,
          -0.056769
         ]
        },
        {
         "marker": {
          "symbol": "x"
         },
         "mode": "markers",
         "name": "Elevation 45.0",
         "type": "scatter",
         "x": [
          0.01,
          0.016,
          0.027,
          0.045,
          0.077,
          0.13,
          0.21,
          0.35,
          0.6,
          0.95,
          1.7,
          3,
          5.1,
          8.3,
          12,
          19,
          30,
          45,
          60,
          80,
          98
         ],
         "y": [
          0.67958,
          0.62863,
          0.5756,
          0.52721,
          0.47952,
          0.43575,
          0.39769,
          0.3589,
          0.31954,
          0.28692,
          0.24639,
          0.20719,
          0.17041,
          0.13616,
          0.10972,
          0.075883,
          0.041045,
          0.008893,
          -0.014727,
          -0.039094,
          -0.056769
         ]
        },
        {
         "name": "Elevation 50.0",
         "type": "scatter",
         "x": [
          0.01,
          0.016,
          0.027,
          0.045,
          0.077,
          0.13,
          0.21,
          0.35,
          0.6,
          0.95,
          1.7,
          3,
          5.1,
          8.3,
          12,
          19,
          30,
          45,
          60,
          80,
          98
         ],
         "y": [
          0.61733,
          0.57105,
          0.52288,
          0.47892,
          0.4356,
          0.39584,
          0.36126,
          0.32603,
          0.29027,
          0.26063,
          0.22382,
          0.18821,
          0.1548,
          0.12369,
          0.099667,
          0.068932,
          0.037285,
          0.0080784,
          -0.013378,
          -0.035513,
          -0.051569
         ]
        },
        {
         "marker": {
          "symbol": "x"
         },
         "mode": "markers",
         "name": "Elevation 50.0",
         "type": "scatter",
         "x": [
          0.01,
          0.016,
          0.027,
          0.045,
          0.077,
          0.13,
          0.21,
          0.35,
          0.6,
          0.95,
          1.7,
          3,
          5.1,
          8.3,
          12,
          19,
          30,
          45,
          60,
          80,
          98
         ],
         "y": [
          0.61733,
          0.57105,
          0.52288,
          0.47892,
          0.4356,
          0.39584,
          0.36126,
          0.32603,
          0.29027,
          0.26063,
          0.22382,
          0.18821,
          0.1548,
          0.12369,
          0.099667,
          0.068932,
          0.037285,
          0.0080784,
          -0.013378,
          -0.035513,
          -0.051569
         ]
        },
        {
         "name": "Elevation 55.0",
         "type": "scatter",
         "x": [
          0.01,
          0.016,
          0.027,
          0.045,
          0.077,
          0.13,
          0.21,
          0.35,
          0.6,
          0.95,
          1.7,
          3,
          5.1,
          8.3,
          12,
          19,
          30,
          45,
          60,
          80,
          98
         ],
         "y": [
          0.56962,
          0.52691,
          0.48246,
          0.44191,
          0.40193,
          0.36524,
          0.33334,
          0.30083,
          0.26784,
          0.24049,
          0.20652,
          0.17366,
          0.14284,
          0.11413,
          0.091964,
          0.063604,
          0.034404,
          0.0074541,
          -0.012344,
          -0.032768,
          -0.047584
         ]
        },
        {
         "marker": {
          "symbol": "x"
         },
         "mode": "markers",
         "name": "Elevation 55.0",
         "type": "scatter",
         "x": [
          0.01,
          0.016,
          0.027,
          0.045,
          0.077,
          0.13,
          0.21,
          0.35,
          0.6,
          0.95,
          1.7,
          3,
          5.1,
          8.3,
          12,
          19,
          30,
          45,
          60,
          80,
          98
         ],
         "y": [
          0.56962,
          0.52691,
          0.48246,
          0.44191,
          0.40193,
          0.36524,
          0.33334,
          0.30083,
          0.26784,
          0.24049,
          0.20652,
          0.17366,
          0.14284,
          0.11413,
          0.091964,
          0.063604,
          0.034404,
          0.0074541,
          -0.012344,
          -0.032768,
          -0.047584
         ]
        },
        {
         "name": "Elevation 60.0",
         "type": "scatter",
         "x": [
          0.01,
          0.016,
          0.027,
          0.045,
          0.077,
          0.13,
          0.21,
          0.35,
          0.6,
          0.95,
          1.7,
          3,
          5.1,
          8.3,
          12,
          19,
          30,
          45,
          60,
          80,
          98
         ],
         "y": [
          0.53283,
          0.49288,
          0.4513,
          0.41336,
          0.37597,
          0.34165,
          0.31181,
          0.2814,
          0.25054,
          0.22496,
          0.19318,
          0.16245,
          0.13361,
          0.10676,
          0.086024,
          0.059496,
          0.032181,
          0.0069726,
          -0.011547,
          -0.030652,
          -0.04451
         ]
        },
        {
         "marker": {
          "symbol": "x"
         },
         "mode": "markers",
         "name": "Elevation 60.0",
         "type": "scatter",
         "x": [
          0.01,
          0.016,
          0.027,
          0.045,
          0.077,
          0.13,
          0.21,
          0.35,
          0.6,
          0.95,
          1.7,
          3,
          5.1,
          8.3,
          12,
          19,
          30,
          45,
          60,
          80,
          98
         ],
         "y": [
          0.53283,
          0.49288,
          0.4513,
          0.41336,
          0.37597,
          0.34165,
          0.31181,
          0.2814,
          0.25054,
          0.22496,
          0.19318,
          0.16245,
          0.13361,
          0.10676,
          0.086024,
          0.059496,
          0.032181,
          0.0069726,
          -0.011547,
          -0.030652,
          -0.04451
         ]
        },
        {
         "name": "Elevation 65.0",
         "type": "scatter",
         "x": [
          0.01,
          0.016,
          0.027,
          0.045,
          0.077,
          0.13,
          0.21,
          0.35,
          0.6,
          0.95,
          1.7,
          3,
          5.1,
          8.3,
          12,
          19,
          30,
          45,
          60,
          80,
          98
         ],
         "y": [
          0.50453,
          0.46671,
          0.42734,
          0.39142,
          0.35601,
          0.32351,
          0.29525,
          0.26646,
          0.23723,
          0.21301,
          0.18293,
          0.15382,
          0.12652,
          0.10109,
          0.081456,
          0.056337,
          0.030473,
          0.0066024,
          -0.010934,
          -0.029024,
          -0.042147
         ]
        },
        {
         "marker": {
          "symbol": "x"
         },
         "mode": "markers",
         "name": "Elevation 65.0",
         "type": "scatter",
         "x": [
          0.01,
          0.016,
          0.027,
          0.045,
          0.077,
          0.13,
          0.21,
          0.35,
          0.6,
          0.95,
          1.7,
          3,
          5.1,
          8.3,
          12,
          19,
          30,
          45,
          60,
          80,
          98
         ],
         "y": [
          0.50453,
          0.46671,
          0.42734,
          0.39142,
          0.35601,
          0.32351,
          0.29525,
          0.26646,
          0.23723,
          0.21301,
          0.18293,
          0.15382,
          0.12652,
          0.10109,
          0.081456,
          0.056337,
          0.030473,
          0.0066024,
          -0.010934,
          -0.029024,
          -0.042147
         ]
        },
        {
         "name": "Elevation 70.0",
         "type": "scatter",
         "x": [
          0.01,
          0.016,
          0.027,
          0.045,
          0.077,
          0.13,
          0.21,
          0.35,
          0.6,
          0.95,
          1.7,
          3,
          5.1,
          8.3,
          12,
          19,
          30,
          45,
          60,
          80,
          98
         ],
         "y": [
          0.4831,
          0.44688,
          0.40919,
          0.37479,
          0.34088,
          0.30977,
          0.28271,
          0.25514,
          0.22716,
          0.20396,
          0.17516,
          0.14729,
          0.12114,
          0.096797,
          0.077996,
          0.053944,
          0.029178,
          0.0063219,
          -0.010469,
          -0.027791,
          -0.040356
         ]
        },
        {
         "marker": {
          "symbol": "x"
         },
         "mode": "markers",
         "name": "Elevation 70.0",
         "type": "scatter",
         "x": [
          0.01,
          0.016,
          0.027,
          0.045,
          0.077,
          0.13,
          0.21,
          0.35,
          0.6,
          0.95,
          1.7,
          3,
          5.1,
          8.3,
          12,
          19,
          30,
          45,
          60,
          80,
          98
         ],
         "y": [
          0.4831,
          0.44688,
          0.40919,
          0.37479,
          0.34088,
          0.30977,
          0.28271,
          0.25514,
          0.22716,
          0.20396,
          0.17516,
          0.14729,
          0.12114,
          0.096797,
          0.077996,
          0.053944,
          0.029178,
          0.0063219,
          -0.010469,
          -0.027791,
          -0.040356
         ]
        },
        {
         "name": "Elevation 75.0",
         "type": "scatter",
         "x": [
          0.01,
          0.016,
          0.027,
          0.045,
          0.077,
          0.13,
          0.21,
          0.35,
          0.6,
          0.95,
          1.7,
          3,
          5.1,
          8.3,
          12,
          19,
          30,
          45,
          60,
          80,
          98
         ],
         "y": [
          0.4674,
          0.43236,
          0.39589,
          0.36261,
          0.3298,
          0.2997,
          0.27352,
          0.24685,
          0.21977,
          0.19734,
          0.16946,
          0.1425,
          0.11721,
          0.093651,
          0.075461,
          0.05219,
          0.02823,
          0.0061164,
          -0.010129,
          -0.026888,
          -0.039045
         ]
        },
        {
         "marker": {
          "symbol": "x"
         },
         "mode": "markers",
         "name": "Elevation 75.0",
         "type": "scatter",
         "x": [
          0.01,
          0.016,
          0.027,
          0.045,
          0.077,
          0.13,
          0.21,
          0.35,
          0.6,
          0.95,
          1.7,
          3,
          5.1,
          8.3,
          12,
          19,
          30,
          45,
          60,
          80,
          98
         ],
         "y": [
          0.4674,
          0.43236,
          0.39589,
          0.36261,
          0.3298,
          0.2997,
          0.27352,
          0.24685,
          0.21977,
          0.19734,
          0.16946,
          0.1425,
          0.11721,
          0.093651,
          0.075461,
          0.05219,
          0.02823,
          0.0061164,
          -0.010129,
          -0.026888,
          -0.039045
         ]
        },
        {
         "name": "Elevation 80.0",
         "type": "scatter",
         "x": [
          0.01,
          0.016,
          0.027,
          0.045,
          0.077,
          0.13,
          0.21,
          0.35,
          0.6,
          0.95,
          1.7,
          3,
          5.1,
          8.3,
          12,
          19,
          30,
          45,
          60,
          80,
          98
         ],
         "y": [
          0.45667,
          0.42243,
          0.3868,
          0.35428,
          0.32223,
          0.29282,
          0.26724,
          0.24118,
          0.21473,
          0.1928,
          0.16557,
          0.13923,
          0.11452,
          0.091501,
          0.073728,
          0.050992,
          0.027582,
          0.005976,
          -0.0098962,
          -0.026271,
          -0.038148
         ]
        },
        {
         "marker": {
          "symbol": "x"
         },
         "mode": "markers",
         "name": "Elevation 80.0",
         "type": "scatter",
         "x": [
          0.01,
          0.016,
          0.027,
          0.045,
          0.077,
          0.13,
          0.21,
          0.35,
          0.6,
          0.95,
          1.7,
          3,
          5.1,
          8.3,
          12,
          19,
          30,
          45,
          60,
          80,
          98
         ],
         "y": [
          0.45667,
          0.42243,
          0.3868,
          0.35428,
          0.32223,
          0.29282,
          0.26724,
          0.24118,
          0.21473,
          0.1928,
          0.16557,
          0.13923,
          0.11452,
          0.091501,
          0.073728,
          0.050992,
          0.027582,
          0.005976,
          -0.0098962,
          -0.026271,
          -0.038148
         ]
        },
        {
         "name": "Elevation 85.0",
         "type": "scatter",
         "x": [
          0.01,
          0.016,
          0.027,
          0.045,
          0.077,
          0.13,
          0.21,
          0.35,
          0.6,
          0.95,
          1.7,
          3,
          5.1,
          8.3,
          12,
          19,
          30,
          45,
          60,
          80,
          98
         ],
         "y": [
          0.45041,
          0.41664,
          0.3815,
          0.34943,
          0.31782,
          0.28881,
          0.26358,
          0.23787,
          0.21178,
          0.19016,
          0.1633,
          0.13732,
          0.11295,
          0.090247,
          0.072718,
          0.050293,
          0.027204,
          0.0058941,
          -0.0097607,
          -0.025911,
          -0.037625
         ]
        },
        {
         "marker": {
          "symbol": "x"
         },
         "mode": "markers",
         "name": "Elevation 85.0",
         "type": "scatter",
         "x": [
          0.01,
          0.016,
          0.027,
          0.045,
          0.077,
          0.13,
          0.21,
          0.35,
          0.6,
          0.95,
          1.7,
          3,
          5.1,
          8.3,
          12,
          19,
          30,
          45,
          60,
          80,
          98
         ],
         "y": [
          0.45041,
          0.41664,
          0.3815,
          0.34943,
          0.31782,
          0.28881,
          0.26358,
          0.23787,
          0.21178,
          0.19016,
          0.1633,
          0.13732,
          0.11295,
          0.090247,
          0.072718,
          0.050293,
          0.027204,
          0.0058941,
          -0.0097607,
          -0.025911,
          -0.037625
         ]
        },
        {
         "name": "Elevation 87.0",
         "type": "scatter",
         "x": [
          0.01,
          0.016,
          0.027,
          0.045,
          0.077,
          0.13,
          0.21,
          0.35,
          0.6,
          0.95,
          1.7,
          3,
          5.1,
          8.3,
          12,
          19,
          30,
          45,
          60,
          80,
          98
         ],
         "y": [
          0.44909,
          0.41542,
          0.38038,
          0.3484,
          0.31689,
          0.28796,
          0.26281,
          0.23718,
          0.21116,
          0.18961,
          0.16282,
          0.13692,
          0.11262,
          0.089983,
          0.072506,
          0.050146,
          0.027124,
          0.0058769,
          -0.0097321,
          -0.025835,
          -0.037515
         ]
        },
        {
         "marker": {
          "symbol": "x"
         },
         "mode": "markers",
         "name": "Elevation 87.0",
         "type": "scatter",
         "x": [
          0.01,
          0.016,
          0.027,
          0.045,
          0.077,
          0.13,
          0.21,
          0.35,
          0.6,
          0.95,
          1.7,
          3,
          5.1,
          8.3,
          12,
          19,
          30,
          45,
          60,
          80,
          98
         ],
         "y": [
          0.44909,
          0.41542,
          0.38038,
          0.3484,
          0.31689,
          0.28796,
          0.26281,
          0.23718,
          0.21116,
          0.18961,
          0.16282,
          0.13692,
          0.11262,
          0.089983,
          0.072506,
          0.050146,
          0.027124,
          0.0058769,
          -0.0097321,
          -0.025835,
          -0.037515
         ]
        },
        {
         "name": "Elevation 89.0",
         "type": "scatter",
         "x": [
          0.01,
          0.016,
          0.027,
          0.045,
          0.077,
          0.13,
          0.21,
          0.35,
          0.6,
          0.95,
          1.7,
          3,
          5.1,
          8.3,
          12,
          19,
          30,
          45,
          60,
          80,
          98
         ],
         "y": [
          0.44844,
          0.41482,
          0.37982,
          0.34789,
          0.31642,
          0.28754,
          0.26242,
          0.23683,
          0.21086,
          0.18933,
          0.16259,
          0.13672,
          0.11245,
          0.089852,
          0.0724,
          0.050073,
          0.027084,
          0.0058683,
          -0.0097179,
          -0.025797,
          -0.037461
         ]
        },
        {
         "marker": {
          "symbol": "x"
         },
         "mode": "markers",
         "name": "Elevation 89.0",
         "type": "scatter",
         "x": [
          0.01,
          0.016,
          0.027,
          0.045,
          0.077,
          0.13,
          0.21,
          0.35,
          0.6,
          0.95,
          1.7,
          3,
          5.1,
          8.3,
          12,
          19,
          30,
          45,
          60,
          80,
          98
         ],
         "y": [
          0.44844,
          0.41482,
          0.37982,
          0.34789,
          0.31642,
          0.28754,
          0.26242,
          0.23683,
          0.21086,
          0.18933,
          0.16259,
          0.13672,
          0.11245,
          0.089852,
          0.0724,
          0.050073,
          0.027084,
          0.0058683,
          -0.0097179,
          -0.025797,
          -0.037461
         ]
        },
        {
         "name": "Elevation 89.9",
         "type": "scatter",
         "x": [
          0.01,
          0.016,
          0.027,
          0.045,
          0.077,
          0.13,
          0.21,
          0.35,
          0.6,
          0.95,
          1.7,
          3,
          5.1,
          8.3,
          12,
          19,
          30,
          45,
          60,
          80,
          98
         ],
         "y": [
          0.44836,
          0.41474,
          0.37976,
          0.34783,
          0.31637,
          0.28749,
          0.26238,
          0.23679,
          0.21082,
          0.18929,
          0.16256,
          0.13669,
          0.11243,
          0.089835,
          0.072386,
          0.050064,
          0.02708,
          0.0058672,
          -0.0097161,
          -0.025792,
          -0.037454
         ]
        },
        {
         "marker": {
          "symbol": "x"
         },
         "mode": "markers",
         "name": "Elevation 89.9",
         "type": "scatter",
         "x": [
          0.01,
          0.016,
          0.027,
          0.045,
          0.077,
          0.13,
          0.21,
          0.35,
          0.6,
          0.95,
          1.7,
          3,
          5.1,
          8.3,
          12,
          19,
          30,
          45,
          60,
          80,
          98
         ],
         "y": [
          0.44836,
          0.41474,
          0.37976,
          0.34783,
          0.31637,
          0.28749,
          0.26238,
          0.23679,
          0.21082,
          0.18929,
          0.16256,
          0.13669,
          0.11243,
          0.089835,
          0.072386,
          0.050064,
          0.02708,
          0.0058672,
          -0.0097161,
          -0.025792,
          -0.037454
         ]
        }
       ],
       "layout": {
        "template": {
         "data": {
          "bar": [
           {
            "error_x": {
             "color": "#2a3f5f"
            },
            "error_y": {
             "color": "#2a3f5f"
            },
            "marker": {
             "line": {
              "color": "#E5ECF6",
              "width": 0.5
             }
            },
            "type": "bar"
           }
          ],
          "barpolar": [
           {
            "marker": {
             "line": {
              "color": "#E5ECF6",
              "width": 0.5
             }
            },
            "type": "barpolar"
           }
          ],
          "carpet": [
           {
            "aaxis": {
             "endlinecolor": "#2a3f5f",
             "gridcolor": "white",
             "linecolor": "white",
             "minorgridcolor": "white",
             "startlinecolor": "#2a3f5f"
            },
            "baxis": {
             "endlinecolor": "#2a3f5f",
             "gridcolor": "white",
             "linecolor": "white",
             "minorgridcolor": "white",
             "startlinecolor": "#2a3f5f"
            },
            "type": "carpet"
           }
          ],
          "choropleth": [
           {
            "colorbar": {
             "outlinewidth": 0,
             "ticks": ""
            },
            "type": "choropleth"
           }
          ],
          "contour": [
           {
            "colorbar": {
             "outlinewidth": 0,
             "ticks": ""
            },
            "colorscale": [
             [
              0,
              "#0d0887"
             ],
             [
              0.1111111111111111,
              "#46039f"
             ],
             [
              0.2222222222222222,
              "#7201a8"
             ],
             [
              0.3333333333333333,
              "#9c179e"
             ],
             [
              0.4444444444444444,
              "#bd3786"
             ],
             [
              0.5555555555555556,
              "#d8576b"
             ],
             [
              0.6666666666666666,
              "#ed7953"
             ],
             [
              0.7777777777777778,
              "#fb9f3a"
             ],
             [
              0.8888888888888888,
              "#fdca26"
             ],
             [
              1,
              "#f0f921"
             ]
            ],
            "type": "contour"
           }
          ],
          "contourcarpet": [
           {
            "colorbar": {
             "outlinewidth": 0,
             "ticks": ""
            },
            "type": "contourcarpet"
           }
          ],
          "heatmap": [
           {
            "colorbar": {
             "outlinewidth": 0,
             "ticks": ""
            },
            "colorscale": [
             [
              0,
              "#0d0887"
             ],
             [
              0.1111111111111111,
              "#46039f"
             ],
             [
              0.2222222222222222,
              "#7201a8"
             ],
             [
              0.3333333333333333,
              "#9c179e"
             ],
             [
              0.4444444444444444,
              "#bd3786"
             ],
             [
              0.5555555555555556,
              "#d8576b"
             ],
             [
              0.6666666666666666,
              "#ed7953"
             ],
             [
              0.7777777777777778,
              "#fb9f3a"
             ],
             [
              0.8888888888888888,
              "#fdca26"
             ],
             [
              1,
              "#f0f921"
             ]
            ],
            "type": "heatmap"
           }
          ],
          "heatmapgl": [
           {
            "colorbar": {
             "outlinewidth": 0,
             "ticks": ""
            },
            "colorscale": [
             [
              0,
              "#0d0887"
             ],
             [
              0.1111111111111111,
              "#46039f"
             ],
             [
              0.2222222222222222,
              "#7201a8"
             ],
             [
              0.3333333333333333,
              "#9c179e"
             ],
             [
              0.4444444444444444,
              "#bd3786"
             ],
             [
              0.5555555555555556,
              "#d8576b"
             ],
             [
              0.6666666666666666,
              "#ed7953"
             ],
             [
              0.7777777777777778,
              "#fb9f3a"
             ],
             [
              0.8888888888888888,
              "#fdca26"
             ],
             [
              1,
              "#f0f921"
             ]
            ],
            "type": "heatmapgl"
           }
          ],
          "histogram": [
           {
            "marker": {
             "colorbar": {
              "outlinewidth": 0,
              "ticks": ""
             }
            },
            "type": "histogram"
           }
          ],
          "histogram2d": [
           {
            "colorbar": {
             "outlinewidth": 0,
             "ticks": ""
            },
            "colorscale": [
             [
              0,
              "#0d0887"
             ],
             [
              0.1111111111111111,
              "#46039f"
             ],
             [
              0.2222222222222222,
              "#7201a8"
             ],
             [
              0.3333333333333333,
              "#9c179e"
             ],
             [
              0.4444444444444444,
              "#bd3786"
             ],
             [
              0.5555555555555556,
              "#d8576b"
             ],
             [
              0.6666666666666666,
              "#ed7953"
             ],
             [
              0.7777777777777778,
              "#fb9f3a"
             ],
             [
              0.8888888888888888,
              "#fdca26"
             ],
             [
              1,
              "#f0f921"
             ]
            ],
            "type": "histogram2d"
           }
          ],
          "histogram2dcontour": [
           {
            "colorbar": {
             "outlinewidth": 0,
             "ticks": ""
            },
            "colorscale": [
             [
              0,
              "#0d0887"
             ],
             [
              0.1111111111111111,
              "#46039f"
             ],
             [
              0.2222222222222222,
              "#7201a8"
             ],
             [
              0.3333333333333333,
              "#9c179e"
             ],
             [
              0.4444444444444444,
              "#bd3786"
             ],
             [
              0.5555555555555556,
              "#d8576b"
             ],
             [
              0.6666666666666666,
              "#ed7953"
             ],
             [
              0.7777777777777778,
              "#fb9f3a"
             ],
             [
              0.8888888888888888,
              "#fdca26"
             ],
             [
              1,
              "#f0f921"
             ]
            ],
            "type": "histogram2dcontour"
           }
          ],
          "mesh3d": [
           {
            "colorbar": {
             "outlinewidth": 0,
             "ticks": ""
            },
            "type": "mesh3d"
           }
          ],
          "parcoords": [
           {
            "line": {
             "colorbar": {
              "outlinewidth": 0,
              "ticks": ""
             }
            },
            "type": "parcoords"
           }
          ],
          "pie": [
           {
            "automargin": true,
            "type": "pie"
           }
          ],
          "scatter": [
           {
            "marker": {
             "colorbar": {
              "outlinewidth": 0,
              "ticks": ""
             }
            },
            "type": "scatter"
           }
          ],
          "scatter3d": [
           {
            "line": {
             "colorbar": {
              "outlinewidth": 0,
              "ticks": ""
             }
            },
            "marker": {
             "colorbar": {
              "outlinewidth": 0,
              "ticks": ""
             }
            },
            "type": "scatter3d"
           }
          ],
          "scattercarpet": [
           {
            "marker": {
             "colorbar": {
              "outlinewidth": 0,
              "ticks": ""
             }
            },
            "type": "scattercarpet"
           }
          ],
          "scattergeo": [
           {
            "marker": {
             "colorbar": {
              "outlinewidth": 0,
              "ticks": ""
             }
            },
            "type": "scattergeo"
           }
          ],
          "scattergl": [
           {
            "marker": {
             "colorbar": {
              "outlinewidth": 0,
              "ticks": ""
             }
            },
            "type": "scattergl"
           }
          ],
          "scattermapbox": [
           {
            "marker": {
             "colorbar": {
              "outlinewidth": 0,
              "ticks": ""
             }
            },
            "type": "scattermapbox"
           }
          ],
          "scatterpolar": [
           {
            "marker": {
             "colorbar": {
              "outlinewidth": 0,
              "ticks": ""
             }
            },
            "type": "scatterpolar"
           }
          ],
          "scatterpolargl": [
           {
            "marker": {
             "colorbar": {
              "outlinewidth": 0,
              "ticks": ""
             }
            },
            "type": "scatterpolargl"
           }
          ],
          "scatterternary": [
           {
            "marker": {
             "colorbar": {
              "outlinewidth": 0,
              "ticks": ""
             }
            },
            "type": "scatterternary"
           }
          ],
          "surface": [
           {
            "colorbar": {
             "outlinewidth": 0,
             "ticks": ""
            },
            "colorscale": [
             [
              0,
              "#0d0887"
             ],
             [
              0.1111111111111111,
              "#46039f"
             ],
             [
              0.2222222222222222,
              "#7201a8"
             ],
             [
              0.3333333333333333,
              "#9c179e"
             ],
             [
              0.4444444444444444,
              "#bd3786"
             ],
             [
              0.5555555555555556,
              "#d8576b"
             ],
             [
              0.6666666666666666,
              "#ed7953"
             ],
             [
              0.7777777777777778,
              "#fb9f3a"
             ],
             [
              0.8888888888888888,
              "#fdca26"
             ],
             [
              1,
              "#f0f921"
             ]
            ],
            "type": "surface"
           }
          ],
          "table": [
           {
            "cells": {
             "fill": {
              "color": "#EBF0F8"
             },
             "line": {
              "color": "white"
             }
            },
            "header": {
             "fill": {
              "color": "#C8D4E3"
             },
             "line": {
              "color": "white"
             }
            },
            "type": "table"
           }
          ]
         },
         "layout": {
          "annotationdefaults": {
           "arrowcolor": "#2a3f5f",
           "arrowhead": 0,
           "arrowwidth": 1
          },
          "autotypenumbers": "strict",
          "coloraxis": {
           "colorbar": {
            "outlinewidth": 0,
            "ticks": ""
           }
          },
          "colorscale": {
           "diverging": [
            [
             0,
             "#8e0152"
            ],
            [
             0.1,
             "#c51b7d"
            ],
            [
             0.2,
             "#de77ae"
            ],
            [
             0.3,
             "#f1b6da"
            ],
            [
             0.4,
             "#fde0ef"
            ],
            [
             0.5,
             "#f7f7f7"
            ],
            [
             0.6,
             "#e6f5d0"
            ],
            [
             0.7,
             "#b8e186"
            ],
            [
             0.8,
             "#7fbc41"
            ],
            [
             0.9,
             "#4d9221"
            ],
            [
             1,
             "#276419"
            ]
           ],
           "sequential": [
            [
             0,
             "#0d0887"
            ],
            [
             0.1111111111111111,
             "#46039f"
            ],
            [
             0.2222222222222222,
             "#7201a8"
            ],
            [
             0.3333333333333333,
             "#9c179e"
            ],
            [
             0.4444444444444444,
             "#bd3786"
            ],
            [
             0.5555555555555556,
             "#d8576b"
            ],
            [
             0.6666666666666666,
             "#ed7953"
            ],
            [
             0.7777777777777778,
             "#fb9f3a"
            ],
            [
             0.8888888888888888,
             "#fdca26"
            ],
            [
             1,
             "#f0f921"
            ]
           ],
           "sequentialminus": [
            [
             0,
             "#0d0887"
            ],
            [
             0.1111111111111111,
             "#46039f"
            ],
            [
             0.2222222222222222,
             "#7201a8"
            ],
            [
             0.3333333333333333,
             "#9c179e"
            ],
            [
             0.4444444444444444,
             "#bd3786"
            ],
            [
             0.5555555555555556,
             "#d8576b"
            ],
            [
             0.6666666666666666,
             "#ed7953"
            ],
            [
             0.7777777777777778,
             "#fb9f3a"
            ],
            [
             0.8888888888888888,
             "#fdca26"
            ],
            [
             1,
             "#f0f921"
            ]
           ]
          },
          "colorway": [
           "#636efa",
           "#EF553B",
           "#00cc96",
           "#ab63fa",
           "#FFA15A",
           "#19d3f3",
           "#FF6692",
           "#B6E880",
           "#FF97FF",
           "#FECB52"
          ],
          "font": {
           "color": "#2a3f5f"
          },
          "geo": {
           "bgcolor": "white",
           "lakecolor": "white",
           "landcolor": "#E5ECF6",
           "showlakes": true,
           "showland": true,
           "subunitcolor": "white"
          },
          "hoverlabel": {
           "align": "left"
          },
          "hovermode": "closest",
          "mapbox": {
           "style": "light"
          },
          "paper_bgcolor": "white",
          "plot_bgcolor": "#E5ECF6",
          "polar": {
           "angularaxis": {
            "gridcolor": "white",
            "linecolor": "white",
            "ticks": ""
           },
           "bgcolor": "#E5ECF6",
           "radialaxis": {
            "gridcolor": "white",
            "linecolor": "white",
            "ticks": ""
           }
          },
          "scene": {
           "xaxis": {
            "backgroundcolor": "#E5ECF6",
            "gridcolor": "white",
            "gridwidth": 2,
            "linecolor": "white",
            "showbackground": true,
            "ticks": "",
            "zerolinecolor": "white"
           },
           "yaxis": {
            "backgroundcolor": "#E5ECF6",
            "gridcolor": "white",
            "gridwidth": 2,
            "linecolor": "white",
            "showbackground": true,
            "ticks": "",
            "zerolinecolor": "white"
           },
           "zaxis": {
            "backgroundcolor": "#E5ECF6",
            "gridcolor": "white",
            "gridwidth": 2,
            "linecolor": "white",
            "showbackground": true,
            "ticks": "",
            "zerolinecolor": "white"
           }
          },
          "shapedefaults": {
           "line": {
            "color": "#2a3f5f"
           }
          },
          "ternary": {
           "aaxis": {
            "gridcolor": "white",
            "linecolor": "white",
            "ticks": ""
           },
           "baxis": {
            "gridcolor": "white",
            "linecolor": "white",
            "ticks": ""
           },
           "bgcolor": "#E5ECF6",
           "caxis": {
            "gridcolor": "white",
            "linecolor": "white",
            "ticks": ""
           }
          },
          "title": {
           "x": 0.05
          },
          "xaxis": {
           "automargin": true,
           "gridcolor": "white",
           "linecolor": "white",
           "ticks": "",
           "title": {
            "standoff": 15
           },
           "zerolinecolor": "white",
           "zerolinewidth": 2
          },
          "yaxis": {
           "automargin": true,
           "gridcolor": "white",
           "linecolor": "white",
           "ticks": "",
           "title": {
            "standoff": 15
           },
           "zerolinecolor": "white",
           "zerolinewidth": 2
          }
         }
        },
        "title": {
         "text": "df_ljubljana_37.5, attenuation_scintillation.csv"
        },
        "xaxis": {
         "title": {
          "text": "Time exceeded  [%]log"
         },
         "type": "log"
        },
        "yaxis": {
         "title": {
          "text": "Attenuation scintillation [dB]"
         }
        }
       }
      }
     },
     "metadata": {},
     "output_type": "display_data"
    },
    {
     "data": {
      "application/vnd.plotly.v1+json": {
       "config": {
        "plotlyServerURL": "https://plot.ly"
       },
       "data": [
        {
         "name": "Elevation 5.0",
         "type": "scatter",
         "x": [
          0.01,
          0.016,
          0.027,
          0.045,
          0.077,
          0.13,
          0.21,
          0.35,
          0.6,
          0.95,
          1.7,
          3,
          5.1,
          8.3,
          12,
          19,
          30,
          45,
          60,
          80,
          98
         ],
         "y": [
          12.556,
          11.615,
          10.635,
          9.7412,
          8.86,
          8.0513,
          7.348,
          6.6314,
          5.9041,
          5.3013,
          4.5525,
          3.8282,
          3.1487,
          2.5159,
          2.0272,
          1.4021,
          0.75838,
          0.16431,
          -0.27211,
          -0.72233,
          -1.0489
         ]
        },
        {
         "marker": {
          "symbol": "x"
         },
         "mode": "markers",
         "name": "Elevation 5.0",
         "type": "scatter",
         "x": [
          0.01,
          0.016,
          0.027,
          0.045,
          0.077,
          0.13,
          0.21,
          0.35,
          0.6,
          0.95,
          1.7,
          3,
          5.1,
          8.3,
          12,
          19,
          30,
          45,
          60,
          80,
          98
         ],
         "y": [
          12.556,
          11.615,
          10.635,
          9.7412,
          8.86,
          8.0513,
          7.348,
          6.6314,
          5.9041,
          5.3013,
          4.5525,
          3.8282,
          3.1487,
          2.5159,
          2.0272,
          1.4021,
          0.75838,
          0.16431,
          -0.27211,
          -0.72233,
          -1.0489
         ]
        },
        {
         "name": "Elevation 10.0",
         "type": "scatter",
         "x": [
          0.01,
          0.016,
          0.027,
          0.045,
          0.077,
          0.13,
          0.21,
          0.35,
          0.6,
          0.95,
          1.7,
          3,
          5.1,
          8.3,
          12,
          19,
          30,
          45,
          60,
          80,
          98
         ],
         "y": [
          5.4906,
          5.0789,
          4.6505,
          4.2596,
          3.8742,
          3.5206,
          3.2131,
          2.8997,
          2.5817,
          2.3181,
          1.9907,
          1.6739,
          1.3768,
          1.1001,
          0.88645,
          0.61308,
          0.33162,
          0.07185,
          -0.11898,
          -0.31585,
          -0.45866
         ]
        },
        {
         "marker": {
          "symbol": "x"
         },
         "mode": "markers",
         "name": "Elevation 10.0",
         "type": "scatter",
         "x": [
          0.01,
          0.016,
          0.027,
          0.045,
          0.077,
          0.13,
          0.21,
          0.35,
          0.6,
          0.95,
          1.7,
          3,
          5.1,
          8.3,
          12,
          19,
          30,
          45,
          60,
          80,
          98
         ],
         "y": [
          5.4906,
          5.0789,
          4.6505,
          4.2596,
          3.8742,
          3.5206,
          3.2131,
          2.8997,
          2.5817,
          2.3181,
          1.9907,
          1.6739,
          1.3768,
          1.1001,
          0.88645,
          0.61308,
          0.33162,
          0.07185,
          -0.11898,
          -0.31585,
          -0.45866
         ]
        },
        {
         "name": "Elevation 15.0",
         "type": "scatter",
         "x": [
          0.01,
          0.016,
          0.027,
          0.045,
          0.077,
          0.13,
          0.21,
          0.35,
          0.6,
          0.95,
          1.7,
          3,
          5.1,
          8.3,
          12,
          19,
          30,
          45,
          60,
          80,
          98
         ],
         "y": [
          3.4012,
          3.1462,
          2.8808,
          2.6386,
          2.3999,
          2.1808,
          1.9903,
          1.7962,
          1.5992,
          1.436,
          1.2331,
          1.0369,
          0.85289,
          0.68148,
          0.54911,
          0.37978,
          0.20542,
          0.044508,
          -0.073705,
          -0.19566,
          -0.28412
         ]
        },
        {
         "marker": {
          "symbol": "x"
         },
         "mode": "markers",
         "name": "Elevation 15.0",
         "type": "scatter",
         "x": [
          0.01,
          0.016,
          0.027,
          0.045,
          0.077,
          0.13,
          0.21,
          0.35,
          0.6,
          0.95,
          1.7,
          3,
          5.1,
          8.3,
          12,
          19,
          30,
          45,
          60,
          80,
          98
         ],
         "y": [
          3.4012,
          3.1462,
          2.8808,
          2.6386,
          2.3999,
          2.1808,
          1.9903,
          1.7962,
          1.5992,
          1.436,
          1.2331,
          1.0369,
          0.85289,
          0.68148,
          0.54911,
          0.37978,
          0.20542,
          0.044508,
          -0.073705,
          -0.19566,
          -0.28412
         ]
        },
        {
         "name": "Elevation 20.0",
         "type": "scatter",
         "x": [
          0.01,
          0.016,
          0.027,
          0.045,
          0.077,
          0.13,
          0.21,
          0.35,
          0.6,
          0.95,
          1.7,
          3,
          5.1,
          8.3,
          12,
          19,
          30,
          45,
          60,
          80,
          98
         ],
         "y": [
          2.4342,
          2.2517,
          2.0618,
          1.8885,
          1.7176,
          1.5608,
          1.4245,
          1.2856,
          1.1446,
          1.0277,
          0.88256,
          0.74214,
          0.61041,
          0.48774,
          0.393,
          0.27181,
          0.14702,
          0.031854,
          -0.052751,
          -0.14003,
          -0.20334
         ]
        },
        {
         "marker": {
          "symbol": "x"
         },
         "mode": "markers",
         "name": "Elevation 20.0",
         "type": "scatter",
         "x": [
          0.01,
          0.016,
          0.027,
          0.045,
          0.077,
          0.13,
          0.21,
          0.35,
          0.6,
          0.95,
          1.7,
          3,
          5.1,
          8.3,
          12,
          19,
          30,
          45,
          60,
          80,
          98
         ],
         "y": [
          2.4342,
          2.2517,
          2.0618,
          1.8885,
          1.7176,
          1.5608,
          1.4245,
          1.2856,
          1.1446,
          1.0277,
          0.88256,
          0.74214,
          0.61041,
          0.48774,
          0.393,
          0.27181,
          0.14702,
          0.031854,
          -0.052751,
          -0.14003,
          -0.20334
         ]
        },
        {
         "name": "Elevation 25.0",
         "type": "scatter",
         "x": [
          0.01,
          0.016,
          0.027,
          0.045,
          0.077,
          0.13,
          0.21,
          0.35,
          0.6,
          0.95,
          1.7,
          3,
          5.1,
          8.3,
          12,
          19,
          30,
          45,
          60,
          80,
          98
         ],
         "y": [
          1.8884,
          1.7468,
          1.5994,
          1.465,
          1.3325,
          1.2108,
          1.1051,
          0.99729,
          0.88791,
          0.79726,
          0.68465,
          0.57572,
          0.47353,
          0.37836,
          0.30487,
          0.21086,
          0.11405,
          0.024711,
          -0.040922,
          -0.10863,
          -0.15775
         ]
        },
        {
         "marker": {
          "symbol": "x"
         },
         "mode": "markers",
         "name": "Elevation 25.0",
         "type": "scatter",
         "x": [
          0.01,
          0.016,
          0.027,
          0.045,
          0.077,
          0.13,
          0.21,
          0.35,
          0.6,
          0.95,
          1.7,
          3,
          5.1,
          8.3,
          12,
          19,
          30,
          45,
          60,
          80,
          98
         ],
         "y": [
          1.8884,
          1.7468,
          1.5994,
          1.465,
          1.3325,
          1.2108,
          1.1051,
          0.99729,
          0.88791,
          0.79726,
          0.68465,
          0.57572,
          0.47353,
          0.37836,
          0.30487,
          0.21086,
          0.11405,
          0.024711,
          -0.040922,
          -0.10863,
          -0.15775
         ]
        },
        {
         "name": "Elevation 30.0",
         "type": "scatter",
         "x": [
          0.01,
          0.016,
          0.027,
          0.045,
          0.077,
          0.13,
          0.21,
          0.35,
          0.6,
          0.95,
          1.7,
          3,
          5.1,
          8.3,
          12,
          19,
          30,
          45,
          60,
          80,
          98
         ],
         "y": [
          1.5433,
          1.4276,
          1.3072,
          1.1973,
          1.089,
          0.98959,
          0.90315,
          0.81507,
          0.72568,
          0.65159,
          0.55956,
          0.47052,
          0.38701,
          0.30923,
          0.24917,
          0.17233,
          0.093213,
          0.020196,
          -0.033445,
          -0.088782,
          -0.12892
         ]
        },
        {
         "marker": {
          "symbol": "x"
         },
         "mode": "markers",
         "name": "Elevation 30.0",
         "type": "scatter",
         "x": [
          0.01,
          0.016,
          0.027,
          0.045,
          0.077,
          0.13,
          0.21,
          0.35,
          0.6,
          0.95,
          1.7,
          3,
          5.1,
          8.3,
          12,
          19,
          30,
          45,
          60,
          80,
          98
         ],
         "y": [
          1.5433,
          1.4276,
          1.3072,
          1.1973,
          1.089,
          0.98959,
          0.90315,
          0.81507,
          0.72568,
          0.65159,
          0.55956,
          0.47052,
          0.38701,
          0.30923,
          0.24917,
          0.17233,
          0.093213,
          0.020196,
          -0.033445,
          -0.088782,
          -0.12892
         ]
        },
        {
         "name": "Elevation 35.0",
         "type": "scatter",
         "x": [
          0.01,
          0.016,
          0.027,
          0.045,
          0.077,
          0.13,
          0.21,
          0.35,
          0.6,
          0.95,
          1.7,
          3,
          5.1,
          8.3,
          12,
          19,
          30,
          45,
          60,
          80,
          98
         ],
         "y": [
          1.3089,
          1.2108,
          1.1086,
          1.0155,
          0.92359,
          0.83929,
          0.76598,
          0.69127,
          0.61546,
          0.55262,
          0.47457,
          0.39906,
          0.32823,
          0.26226,
          0.21132,
          0.14616,
          0.079056,
          0.017129,
          -0.028365,
          -0.075298,
          -0.10934
         ]
        },
        {
         "marker": {
          "symbol": "x"
         },
         "mode": "markers",
         "name": "Elevation 35.0",
         "type": "scatter",
         "x": [
          0.01,
          0.016,
          0.027,
          0.045,
          0.077,
          0.13,
          0.21,
          0.35,
          0.6,
          0.95,
          1.7,
          3,
          5.1,
          8.3,
          12,
          19,
          30,
          45,
          60,
          80,
          98
         ],
         "y": [
          1.3089,
          1.2108,
          1.1086,
          1.0155,
          0.92359,
          0.83929,
          0.76598,
          0.69127,
          0.61546,
          0.55262,
          0.47457,
          0.39906,
          0.32823,
          0.26226,
          0.21132,
          0.14616,
          0.079056,
          0.017129,
          -0.028365,
          -0.075298,
          -0.10934
         ]
        },
        {
         "name": "Elevation 40.0",
         "type": "scatter",
         "x": [
          0.01,
          0.016,
          0.027,
          0.045,
          0.077,
          0.13,
          0.21,
          0.35,
          0.6,
          0.95,
          1.7,
          3,
          5.1,
          8.3,
          12,
          19,
          30,
          45,
          60,
          80,
          98
         ],
         "y": [
          1.1417,
          1.0561,
          0.96699,
          0.8857,
          0.80558,
          0.73205,
          0.6681,
          0.60295,
          0.53682,
          0.48201,
          0.41393,
          0.34807,
          0.28629,
          0.22875,
          0.18432,
          0.12748,
          0.068954,
          0.01494,
          -0.024741,
          -0.065677,
          -0.095371
         ]
        },
        {
         "marker": {
          "symbol": "x"
         },
         "mode": "markers",
         "name": "Elevation 40.0",
         "type": "scatter",
         "x": [
          0.01,
          0.016,
          0.027,
          0.045,
          0.077,
          0.13,
          0.21,
          0.35,
          0.6,
          0.95,
          1.7,
          3,
          5.1,
          8.3,
          12,
          19,
          30,
          45,
          60,
          80,
          98
         ],
         "y": [
          1.1417,
          1.0561,
          0.96699,
          0.8857,
          0.80558,
          0.73205,
          0.6681,
          0.60295,
          0.53682,
          0.48201,
          0.41393,
          0.34807,
          0.28629,
          0.22875,
          0.18432,
          0.12748,
          0.068954,
          0.01494,
          -0.024741,
          -0.065677,
          -0.095371
         ]
        },
        {
         "name": "Elevation 45.0",
         "type": "scatter",
         "x": [
          0.01,
          0.016,
          0.027,
          0.045,
          0.077,
          0.13,
          0.21,
          0.35,
          0.6,
          0.95,
          1.7,
          3,
          5.1,
          8.3,
          12,
          19,
          30,
          45,
          60,
          80,
          98
         ],
         "y": [
          1.0182,
          0.94188,
          0.86243,
          0.78993,
          0.71847,
          0.65289,
          0.59586,
          0.53775,
          0.47877,
          0.42989,
          0.36917,
          0.31043,
          0.25533,
          0.20402,
          0.16439,
          0.1137,
          0.061498,
          0.013324,
          -0.022065,
          -0.058575,
          -0.085058
         ]
        },
        {
         "marker": {
          "symbol": "x"
         },
         "mode": "markers",
         "name": "Elevation 45.0",
         "type": "scatter",
         "x": [
          0.01,
          0.016,
          0.027,
          0.045,
          0.077,
          0.13,
          0.21,
          0.35,
          0.6,
          0.95,
          1.7,
          3,
          5.1,
          8.3,
          12,
          19,
          30,
          45,
          60,
          80,
          98
         ],
         "y": [
          1.0182,
          0.94188,
          0.86243,
          0.78993,
          0.71847,
          0.65289,
          0.59586,
          0.53775,
          0.47877,
          0.42989,
          0.36917,
          0.31043,
          0.25533,
          0.20402,
          0.16439,
          0.1137,
          0.061498,
          0.013324,
          -0.022065,
          -0.058575,
          -0.085058
         ]
        },
        {
         "name": "Elevation 50.0",
         "type": "scatter",
         "x": [
          0.01,
          0.016,
          0.027,
          0.045,
          0.077,
          0.13,
          0.21,
          0.35,
          0.6,
          0.95,
          1.7,
          3,
          5.1,
          8.3,
          12,
          19,
          30,
          45,
          60,
          80,
          98
         ],
         "y": [
          0.92495,
          0.8556,
          0.78343,
          0.71757,
          0.65266,
          0.59308,
          0.54128,
          0.48849,
          0.43491,
          0.39051,
          0.33535,
          0.28199,
          0.23194,
          0.18533,
          0.14933,
          0.10328,
          0.055865,
          0.012104,
          -0.020044,
          -0.053209,
          -0.077266
         ]
        },
        {
         "marker": {
          "symbol": "x"
         },
         "mode": "markers",
         "name": "Elevation 50.0",
         "type": "scatter",
         "x": [
          0.01,
          0.016,
          0.027,
          0.045,
          0.077,
          0.13,
          0.21,
          0.35,
          0.6,
          0.95,
          1.7,
          3,
          5.1,
          8.3,
          12,
          19,
          30,
          45,
          60,
          80,
          98
         ],
         "y": [
          0.92495,
          0.8556,
          0.78343,
          0.71757,
          0.65266,
          0.59308,
          0.54128,
          0.48849,
          0.43491,
          0.39051,
          0.33535,
          0.28199,
          0.23194,
          0.18533,
          0.14933,
          0.10328,
          0.055865,
          0.012104,
          -0.020044,
          -0.053209,
          -0.077266
         ]
        },
        {
         "name": "Elevation 55.0",
         "type": "scatter",
         "x": [
          0.01,
          0.016,
          0.027,
          0.045,
          0.077,
          0.13,
          0.21,
          0.35,
          0.6,
          0.95,
          1.7,
          3,
          5.1,
          8.3,
          12,
          19,
          30,
          45,
          60,
          80,
          98
         ],
         "y": [
          0.85346,
          0.78948,
          0.72288,
          0.66211,
          0.60222,
          0.54725,
          0.49944,
          0.45074,
          0.4013,
          0.36033,
          0.30944,
          0.2602,
          0.21402,
          0.17101,
          0.13779,
          0.095299,
          0.051547,
          0.011168,
          -0.018495,
          -0.049097,
          -0.071295
         ]
        },
        {
         "marker": {
          "symbol": "x"
         },
         "mode": "markers",
         "name": "Elevation 55.0",
         "type": "scatter",
         "x": [
          0.01,
          0.016,
          0.027,
          0.045,
          0.077,
          0.13,
          0.21,
          0.35,
          0.6,
          0.95,
          1.7,
          3,
          5.1,
          8.3,
          12,
          19,
          30,
          45,
          60,
          80,
          98
         ],
         "y": [
          0.85346,
          0.78948,
          0.72288,
          0.66211,
          0.60222,
          0.54725,
          0.49944,
          0.45074,
          0.4013,
          0.36033,
          0.30944,
          0.2602,
          0.21402,
          0.17101,
          0.13779,
          0.095299,
          0.051547,
          0.011168,
          -0.018495,
          -0.049097,
          -0.071295
         ]
        },
        {
         "name": "Elevation 60.0",
         "type": "scatter",
         "x": [
          0.01,
          0.016,
          0.027,
          0.045,
          0.077,
          0.13,
          0.21,
          0.35,
          0.6,
          0.95,
          1.7,
          3,
          5.1,
          8.3,
          12,
          19,
          30,
          45,
          60,
          80,
          98
         ],
         "y": [
          0.79834,
          0.73848,
          0.67619,
          0.61934,
          0.56332,
          0.5119,
          0.46718,
          0.42162,
          0.37538,
          0.33706,
          0.28945,
          0.24339,
          0.20019,
          0.15996,
          0.12889,
          0.089143,
          0.048218,
          0.010447,
          -0.0173,
          -0.045926,
          -0.06669
         ]
        },
        {
         "marker": {
          "symbol": "x"
         },
         "mode": "markers",
         "name": "Elevation 60.0",
         "type": "scatter",
         "x": [
          0.01,
          0.016,
          0.027,
          0.045,
          0.077,
          0.13,
          0.21,
          0.35,
          0.6,
          0.95,
          1.7,
          3,
          5.1,
          8.3,
          12,
          19,
          30,
          45,
          60,
          80,
          98
         ],
         "y": [
          0.79834,
          0.73848,
          0.67619,
          0.61934,
          0.56332,
          0.5119,
          0.46718,
          0.42162,
          0.37538,
          0.33706,
          0.28945,
          0.24339,
          0.20019,
          0.15996,
          0.12889,
          0.089143,
          0.048218,
          0.010447,
          -0.0173,
          -0.045926,
          -0.06669
         ]
        },
        {
         "name": "Elevation 65.0",
         "type": "scatter",
         "x": [
          0.01,
          0.016,
          0.027,
          0.045,
          0.077,
          0.13,
          0.21,
          0.35,
          0.6,
          0.95,
          1.7,
          3,
          5.1,
          8.3,
          12,
          19,
          30,
          45,
          60,
          80,
          98
         ],
         "y": [
          0.75595,
          0.69927,
          0.64028,
          0.58646,
          0.53341,
          0.48472,
          0.44238,
          0.39924,
          0.35545,
          0.31916,
          0.27408,
          0.23047,
          0.18956,
          0.15147,
          0.12205,
          0.08441,
          0.045657,
          0.0098924,
          -0.016382,
          -0.043487,
          -0.063149
         ]
        },
        {
         "marker": {
          "symbol": "x"
         },
         "mode": "markers",
         "name": "Elevation 65.0",
         "type": "scatter",
         "x": [
          0.01,
          0.016,
          0.027,
          0.045,
          0.077,
          0.13,
          0.21,
          0.35,
          0.6,
          0.95,
          1.7,
          3,
          5.1,
          8.3,
          12,
          19,
          30,
          45,
          60,
          80,
          98
         ],
         "y": [
          0.75595,
          0.69927,
          0.64028,
          0.58646,
          0.53341,
          0.48472,
          0.44238,
          0.39924,
          0.35545,
          0.31916,
          0.27408,
          0.23047,
          0.18956,
          0.15147,
          0.12205,
          0.08441,
          0.045657,
          0.0098924,
          -0.016382,
          -0.043487,
          -0.063149
         ]
        },
        {
         "name": "Elevation 70.0",
         "type": "scatter",
         "x": [
          0.01,
          0.016,
          0.027,
          0.045,
          0.077,
          0.13,
          0.21,
          0.35,
          0.6,
          0.95,
          1.7,
          3,
          5.1,
          8.3,
          12,
          19,
          30,
          45,
          60,
          80,
          98
         ],
         "y": [
          0.72383,
          0.66957,
          0.61309,
          0.56155,
          0.51075,
          0.46413,
          0.42359,
          0.38228,
          0.34035,
          0.3056,
          0.26244,
          0.22068,
          0.18151,
          0.14503,
          0.11686,
          0.080824,
          0.043718,
          0.0094722,
          -0.015686,
          -0.04164,
          -0.060466
         ]
        },
        {
         "marker": {
          "symbol": "x"
         },
         "mode": "markers",
         "name": "Elevation 70.0",
         "type": "scatter",
         "x": [
          0.01,
          0.016,
          0.027,
          0.045,
          0.077,
          0.13,
          0.21,
          0.35,
          0.6,
          0.95,
          1.7,
          3,
          5.1,
          8.3,
          12,
          19,
          30,
          45,
          60,
          80,
          98
         ],
         "y": [
          0.72383,
          0.66957,
          0.61309,
          0.56155,
          0.51075,
          0.46413,
          0.42359,
          0.38228,
          0.34035,
          0.3056,
          0.26244,
          0.22068,
          0.18151,
          0.14503,
          0.11686,
          0.080824,
          0.043718,
          0.0094722,
          -0.015686,
          -0.04164,
          -0.060466
         ]
        },
        {
         "name": "Elevation 75.0",
         "type": "scatter",
         "x": [
          0.01,
          0.016,
          0.027,
          0.045,
          0.077,
          0.13,
          0.21,
          0.35,
          0.6,
          0.95,
          1.7,
          3,
          5.1,
          8.3,
          12,
          19,
          30,
          45,
          60,
          80,
          98
         ],
         "y": [
          0.70031,
          0.6478,
          0.59316,
          0.5433,
          0.49415,
          0.44904,
          0.40982,
          0.36985,
          0.32929,
          0.29567,
          0.25391,
          0.21351,
          0.17561,
          0.14032,
          0.11306,
          0.078197,
          0.042297,
          0.0091643,
          -0.015176,
          -0.040286,
          -0.058501
         ]
        },
        {
         "marker": {
          "symbol": "x"
         },
         "mode": "markers",
         "name": "Elevation 75.0",
         "type": "scatter",
         "x": [
          0.01,
          0.016,
          0.027,
          0.045,
          0.077,
          0.13,
          0.21,
          0.35,
          0.6,
          0.95,
          1.7,
          3,
          5.1,
          8.3,
          12,
          19,
          30,
          45,
          60,
          80,
          98
         ],
         "y": [
          0.70031,
          0.6478,
          0.59316,
          0.5433,
          0.49415,
          0.44904,
          0.40982,
          0.36985,
          0.32929,
          0.29567,
          0.25391,
          0.21351,
          0.17561,
          0.14032,
          0.11306,
          0.078197,
          0.042297,
          0.0091643,
          -0.015176,
          -0.040286,
          -0.058501
         ]
        },
        {
         "name": "Elevation 80.0",
         "type": "scatter",
         "x": [
          0.01,
          0.016,
          0.027,
          0.045,
          0.077,
          0.13,
          0.21,
          0.35,
          0.6,
          0.95,
          1.7,
          3,
          5.1,
          8.3,
          12,
          19,
          30,
          45,
          60,
          80,
          98
         ],
         "y": [
          0.68423,
          0.63293,
          0.57954,
          0.53082,
          0.4828,
          0.43873,
          0.40041,
          0.36136,
          0.32173,
          0.28888,
          0.24808,
          0.2086,
          0.17158,
          0.1371,
          0.11047,
          0.076402,
          0.041326,
          0.0089539,
          -0.014828,
          -0.039361,
          -0.057158
         ]
        },
        {
         "marker": {
          "symbol": "x"
         },
         "mode": "markers",
         "name": "Elevation 80.0",
         "type": "scatter",
         "x": [
          0.01,
          0.016,
          0.027,
          0.045,
          0.077,
          0.13,
          0.21,
          0.35,
          0.6,
          0.95,
          1.7,
          3,
          5.1,
          8.3,
          12,
          19,
          30,
          45,
          60,
          80,
          98
         ],
         "y": [
          0.68423,
          0.63293,
          0.57954,
          0.53082,
          0.4828,
          0.43873,
          0.40041,
          0.36136,
          0.32173,
          0.28888,
          0.24808,
          0.2086,
          0.17158,
          0.1371,
          0.11047,
          0.076402,
          0.041326,
          0.0089539,
          -0.014828,
          -0.039361,
          -0.057158
         ]
        },
        {
         "name": "Elevation 85.0",
         "type": "scatter",
         "x": [
          0.01,
          0.016,
          0.027,
          0.045,
          0.077,
          0.13,
          0.21,
          0.35,
          0.6,
          0.95,
          1.7,
          3,
          5.1,
          8.3,
          12,
          19,
          30,
          45,
          60,
          80,
          98
         ],
         "y": [
          0.67485,
          0.62426,
          0.5716,
          0.52355,
          0.47619,
          0.43272,
          0.39492,
          0.35641,
          0.31732,
          0.28492,
          0.24468,
          0.20575,
          0.16923,
          0.13522,
          0.10895,
          0.075355,
          0.04076,
          0.0088312,
          -0.014624,
          -0.038822,
          -0.056374
         ]
        },
        {
         "marker": {
          "symbol": "x"
         },
         "mode": "markers",
         "name": "Elevation 85.0",
         "type": "scatter",
         "x": [
          0.01,
          0.016,
          0.027,
          0.045,
          0.077,
          0.13,
          0.21,
          0.35,
          0.6,
          0.95,
          1.7,
          3,
          5.1,
          8.3,
          12,
          19,
          30,
          45,
          60,
          80,
          98
         ],
         "y": [
          0.67485,
          0.62426,
          0.5716,
          0.52355,
          0.47619,
          0.43272,
          0.39492,
          0.35641,
          0.31732,
          0.28492,
          0.24468,
          0.20575,
          0.16923,
          0.13522,
          0.10895,
          0.075355,
          0.04076,
          0.0088312,
          -0.014624,
          -0.038822,
          -0.056374
         ]
        },
        {
         "name": "Elevation 87.0",
         "type": "scatter",
         "x": [
          0.01,
          0.016,
          0.027,
          0.045,
          0.077,
          0.13,
          0.21,
          0.35,
          0.6,
          0.95,
          1.7,
          3,
          5.1,
          8.3,
          12,
          19,
          30,
          45,
          60,
          80,
          98
         ],
         "y": [
          0.67288,
          0.62243,
          0.56993,
          0.52202,
          0.47479,
          0.43145,
          0.39377,
          0.35536,
          0.31639,
          0.28409,
          0.24396,
          0.20514,
          0.16873,
          0.13482,
          0.10864,
          0.075134,
          0.04064,
          0.0088053,
          -0.014582,
          -0.038708,
          -0.05621
         ]
        },
        {
         "marker": {
          "symbol": "x"
         },
         "mode": "markers",
         "name": "Elevation 87.0",
         "type": "scatter",
         "x": [
          0.01,
          0.016,
          0.027,
          0.045,
          0.077,
          0.13,
          0.21,
          0.35,
          0.6,
          0.95,
          1.7,
          3,
          5.1,
          8.3,
          12,
          19,
          30,
          45,
          60,
          80,
          98
         ],
         "y": [
          0.67288,
          0.62243,
          0.56993,
          0.52202,
          0.47479,
          0.43145,
          0.39377,
          0.35536,
          0.31639,
          0.28409,
          0.24396,
          0.20514,
          0.16873,
          0.13482,
          0.10864,
          0.075134,
          0.04064,
          0.0088053,
          -0.014582,
          -0.038708,
          -0.05621
         ]
        },
        {
         "name": "Elevation 89.0",
         "type": "scatter",
         "x": [
          0.01,
          0.016,
          0.027,
          0.045,
          0.077,
          0.13,
          0.21,
          0.35,
          0.6,
          0.95,
          1.7,
          3,
          5.1,
          8.3,
          12,
          19,
          30,
          45,
          60,
          80,
          98
         ],
         "y": [
          0.6719,
          0.62152,
          0.56909,
          0.52125,
          0.4741,
          0.43082,
          0.39319,
          0.35485,
          0.31593,
          0.28367,
          0.24361,
          0.20484,
          0.16849,
          0.13463,
          0.10848,
          0.075025,
          0.040581,
          0.0087925,
          -0.01456,
          -0.038652,
          -0.056127
         ]
        },
        {
         "marker": {
          "symbol": "x"
         },
         "mode": "markers",
         "name": "Elevation 89.0",
         "type": "scatter",
         "x": [
          0.01,
          0.016,
          0.027,
          0.045,
          0.077,
          0.13,
          0.21,
          0.35,
          0.6,
          0.95,
          1.7,
          3,
          5.1,
          8.3,
          12,
          19,
          30,
          45,
          60,
          80,
          98
         ],
         "y": [
          0.6719,
          0.62152,
          0.56909,
          0.52125,
          0.4741,
          0.43082,
          0.39319,
          0.35485,
          0.31593,
          0.28367,
          0.24361,
          0.20484,
          0.16849,
          0.13463,
          0.10848,
          0.075025,
          0.040581,
          0.0087925,
          -0.01456,
          -0.038652,
          -0.056127
         ]
        },
        {
         "name": "Elevation 89.9",
         "type": "scatter",
         "x": [
          0.01,
          0.016,
          0.027,
          0.045,
          0.077,
          0.13,
          0.21,
          0.35,
          0.6,
          0.95,
          1.7,
          3,
          5.1,
          8.3,
          12,
          19,
          30,
          45,
          60,
          80,
          98
         ],
         "y": [
          0.67177,
          0.62141,
          0.56899,
          0.52116,
          0.47401,
          0.43075,
          0.39312,
          0.35478,
          0.31587,
          0.28362,
          0.24356,
          0.20481,
          0.16846,
          0.1346,
          0.10846,
          0.075011,
          0.040574,
          0.0087909,
          -0.014558,
          -0.038645,
          -0.056117
         ]
        },
        {
         "marker": {
          "symbol": "x"
         },
         "mode": "markers",
         "name": "Elevation 89.9",
         "type": "scatter",
         "x": [
          0.01,
          0.016,
          0.027,
          0.045,
          0.077,
          0.13,
          0.21,
          0.35,
          0.6,
          0.95,
          1.7,
          3,
          5.1,
          8.3,
          12,
          19,
          30,
          45,
          60,
          80,
          98
         ],
         "y": [
          0.67177,
          0.62141,
          0.56899,
          0.52116,
          0.47401,
          0.43075,
          0.39312,
          0.35478,
          0.31587,
          0.28362,
          0.24356,
          0.20481,
          0.16846,
          0.1346,
          0.10846,
          0.075011,
          0.040574,
          0.0087909,
          -0.014558,
          -0.038645,
          -0.056117
         ]
        }
       ],
       "layout": {
        "template": {
         "data": {
          "bar": [
           {
            "error_x": {
             "color": "#2a3f5f"
            },
            "error_y": {
             "color": "#2a3f5f"
            },
            "marker": {
             "line": {
              "color": "#E5ECF6",
              "width": 0.5
             }
            },
            "type": "bar"
           }
          ],
          "barpolar": [
           {
            "marker": {
             "line": {
              "color": "#E5ECF6",
              "width": 0.5
             }
            },
            "type": "barpolar"
           }
          ],
          "carpet": [
           {
            "aaxis": {
             "endlinecolor": "#2a3f5f",
             "gridcolor": "white",
             "linecolor": "white",
             "minorgridcolor": "white",
             "startlinecolor": "#2a3f5f"
            },
            "baxis": {
             "endlinecolor": "#2a3f5f",
             "gridcolor": "white",
             "linecolor": "white",
             "minorgridcolor": "white",
             "startlinecolor": "#2a3f5f"
            },
            "type": "carpet"
           }
          ],
          "choropleth": [
           {
            "colorbar": {
             "outlinewidth": 0,
             "ticks": ""
            },
            "type": "choropleth"
           }
          ],
          "contour": [
           {
            "colorbar": {
             "outlinewidth": 0,
             "ticks": ""
            },
            "colorscale": [
             [
              0,
              "#0d0887"
             ],
             [
              0.1111111111111111,
              "#46039f"
             ],
             [
              0.2222222222222222,
              "#7201a8"
             ],
             [
              0.3333333333333333,
              "#9c179e"
             ],
             [
              0.4444444444444444,
              "#bd3786"
             ],
             [
              0.5555555555555556,
              "#d8576b"
             ],
             [
              0.6666666666666666,
              "#ed7953"
             ],
             [
              0.7777777777777778,
              "#fb9f3a"
             ],
             [
              0.8888888888888888,
              "#fdca26"
             ],
             [
              1,
              "#f0f921"
             ]
            ],
            "type": "contour"
           }
          ],
          "contourcarpet": [
           {
            "colorbar": {
             "outlinewidth": 0,
             "ticks": ""
            },
            "type": "contourcarpet"
           }
          ],
          "heatmap": [
           {
            "colorbar": {
             "outlinewidth": 0,
             "ticks": ""
            },
            "colorscale": [
             [
              0,
              "#0d0887"
             ],
             [
              0.1111111111111111,
              "#46039f"
             ],
             [
              0.2222222222222222,
              "#7201a8"
             ],
             [
              0.3333333333333333,
              "#9c179e"
             ],
             [
              0.4444444444444444,
              "#bd3786"
             ],
             [
              0.5555555555555556,
              "#d8576b"
             ],
             [
              0.6666666666666666,
              "#ed7953"
             ],
             [
              0.7777777777777778,
              "#fb9f3a"
             ],
             [
              0.8888888888888888,
              "#fdca26"
             ],
             [
              1,
              "#f0f921"
             ]
            ],
            "type": "heatmap"
           }
          ],
          "heatmapgl": [
           {
            "colorbar": {
             "outlinewidth": 0,
             "ticks": ""
            },
            "colorscale": [
             [
              0,
              "#0d0887"
             ],
             [
              0.1111111111111111,
              "#46039f"
             ],
             [
              0.2222222222222222,
              "#7201a8"
             ],
             [
              0.3333333333333333,
              "#9c179e"
             ],
             [
              0.4444444444444444,
              "#bd3786"
             ],
             [
              0.5555555555555556,
              "#d8576b"
             ],
             [
              0.6666666666666666,
              "#ed7953"
             ],
             [
              0.7777777777777778,
              "#fb9f3a"
             ],
             [
              0.8888888888888888,
              "#fdca26"
             ],
             [
              1,
              "#f0f921"
             ]
            ],
            "type": "heatmapgl"
           }
          ],
          "histogram": [
           {
            "marker": {
             "colorbar": {
              "outlinewidth": 0,
              "ticks": ""
             }
            },
            "type": "histogram"
           }
          ],
          "histogram2d": [
           {
            "colorbar": {
             "outlinewidth": 0,
             "ticks": ""
            },
            "colorscale": [
             [
              0,
              "#0d0887"
             ],
             [
              0.1111111111111111,
              "#46039f"
             ],
             [
              0.2222222222222222,
              "#7201a8"
             ],
             [
              0.3333333333333333,
              "#9c179e"
             ],
             [
              0.4444444444444444,
              "#bd3786"
             ],
             [
              0.5555555555555556,
              "#d8576b"
             ],
             [
              0.6666666666666666,
              "#ed7953"
             ],
             [
              0.7777777777777778,
              "#fb9f3a"
             ],
             [
              0.8888888888888888,
              "#fdca26"
             ],
             [
              1,
              "#f0f921"
             ]
            ],
            "type": "histogram2d"
           }
          ],
          "histogram2dcontour": [
           {
            "colorbar": {
             "outlinewidth": 0,
             "ticks": ""
            },
            "colorscale": [
             [
              0,
              "#0d0887"
             ],
             [
              0.1111111111111111,
              "#46039f"
             ],
             [
              0.2222222222222222,
              "#7201a8"
             ],
             [
              0.3333333333333333,
              "#9c179e"
             ],
             [
              0.4444444444444444,
              "#bd3786"
             ],
             [
              0.5555555555555556,
              "#d8576b"
             ],
             [
              0.6666666666666666,
              "#ed7953"
             ],
             [
              0.7777777777777778,
              "#fb9f3a"
             ],
             [
              0.8888888888888888,
              "#fdca26"
             ],
             [
              1,
              "#f0f921"
             ]
            ],
            "type": "histogram2dcontour"
           }
          ],
          "mesh3d": [
           {
            "colorbar": {
             "outlinewidth": 0,
             "ticks": ""
            },
            "type": "mesh3d"
           }
          ],
          "parcoords": [
           {
            "line": {
             "colorbar": {
              "outlinewidth": 0,
              "ticks": ""
             }
            },
            "type": "parcoords"
           }
          ],
          "pie": [
           {
            "automargin": true,
            "type": "pie"
           }
          ],
          "scatter": [
           {
            "marker": {
             "colorbar": {
              "outlinewidth": 0,
              "ticks": ""
             }
            },
            "type": "scatter"
           }
          ],
          "scatter3d": [
           {
            "line": {
             "colorbar": {
              "outlinewidth": 0,
              "ticks": ""
             }
            },
            "marker": {
             "colorbar": {
              "outlinewidth": 0,
              "ticks": ""
             }
            },
            "type": "scatter3d"
           }
          ],
          "scattercarpet": [
           {
            "marker": {
             "colorbar": {
              "outlinewidth": 0,
              "ticks": ""
             }
            },
            "type": "scattercarpet"
           }
          ],
          "scattergeo": [
           {
            "marker": {
             "colorbar": {
              "outlinewidth": 0,
              "ticks": ""
             }
            },
            "type": "scattergeo"
           }
          ],
          "scattergl": [
           {
            "marker": {
             "colorbar": {
              "outlinewidth": 0,
              "ticks": ""
             }
            },
            "type": "scattergl"
           }
          ],
          "scattermapbox": [
           {
            "marker": {
             "colorbar": {
              "outlinewidth": 0,
              "ticks": ""
             }
            },
            "type": "scattermapbox"
           }
          ],
          "scatterpolar": [
           {
            "marker": {
             "colorbar": {
              "outlinewidth": 0,
              "ticks": ""
             }
            },
            "type": "scatterpolar"
           }
          ],
          "scatterpolargl": [
           {
            "marker": {
             "colorbar": {
              "outlinewidth": 0,
              "ticks": ""
             }
            },
            "type": "scatterpolargl"
           }
          ],
          "scatterternary": [
           {
            "marker": {
             "colorbar": {
              "outlinewidth": 0,
              "ticks": ""
             }
            },
            "type": "scatterternary"
           }
          ],
          "surface": [
           {
            "colorbar": {
             "outlinewidth": 0,
             "ticks": ""
            },
            "colorscale": [
             [
              0,
              "#0d0887"
             ],
             [
              0.1111111111111111,
              "#46039f"
             ],
             [
              0.2222222222222222,
              "#7201a8"
             ],
             [
              0.3333333333333333,
              "#9c179e"
             ],
             [
              0.4444444444444444,
              "#bd3786"
             ],
             [
              0.5555555555555556,
              "#d8576b"
             ],
             [
              0.6666666666666666,
              "#ed7953"
             ],
             [
              0.7777777777777778,
              "#fb9f3a"
             ],
             [
              0.8888888888888888,
              "#fdca26"
             ],
             [
              1,
              "#f0f921"
             ]
            ],
            "type": "surface"
           }
          ],
          "table": [
           {
            "cells": {
             "fill": {
              "color": "#EBF0F8"
             },
             "line": {
              "color": "white"
             }
            },
            "header": {
             "fill": {
              "color": "#C8D4E3"
             },
             "line": {
              "color": "white"
             }
            },
            "type": "table"
           }
          ]
         },
         "layout": {
          "annotationdefaults": {
           "arrowcolor": "#2a3f5f",
           "arrowhead": 0,
           "arrowwidth": 1
          },
          "autotypenumbers": "strict",
          "coloraxis": {
           "colorbar": {
            "outlinewidth": 0,
            "ticks": ""
           }
          },
          "colorscale": {
           "diverging": [
            [
             0,
             "#8e0152"
            ],
            [
             0.1,
             "#c51b7d"
            ],
            [
             0.2,
             "#de77ae"
            ],
            [
             0.3,
             "#f1b6da"
            ],
            [
             0.4,
             "#fde0ef"
            ],
            [
             0.5,
             "#f7f7f7"
            ],
            [
             0.6,
             "#e6f5d0"
            ],
            [
             0.7,
             "#b8e186"
            ],
            [
             0.8,
             "#7fbc41"
            ],
            [
             0.9,
             "#4d9221"
            ],
            [
             1,
             "#276419"
            ]
           ],
           "sequential": [
            [
             0,
             "#0d0887"
            ],
            [
             0.1111111111111111,
             "#46039f"
            ],
            [
             0.2222222222222222,
             "#7201a8"
            ],
            [
             0.3333333333333333,
             "#9c179e"
            ],
            [
             0.4444444444444444,
             "#bd3786"
            ],
            [
             0.5555555555555556,
             "#d8576b"
            ],
            [
             0.6666666666666666,
             "#ed7953"
            ],
            [
             0.7777777777777778,
             "#fb9f3a"
            ],
            [
             0.8888888888888888,
             "#fdca26"
            ],
            [
             1,
             "#f0f921"
            ]
           ],
           "sequentialminus": [
            [
             0,
             "#0d0887"
            ],
            [
             0.1111111111111111,
             "#46039f"
            ],
            [
             0.2222222222222222,
             "#7201a8"
            ],
            [
             0.3333333333333333,
             "#9c179e"
            ],
            [
             0.4444444444444444,
             "#bd3786"
            ],
            [
             0.5555555555555556,
             "#d8576b"
            ],
            [
             0.6666666666666666,
             "#ed7953"
            ],
            [
             0.7777777777777778,
             "#fb9f3a"
            ],
            [
             0.8888888888888888,
             "#fdca26"
            ],
            [
             1,
             "#f0f921"
            ]
           ]
          },
          "colorway": [
           "#636efa",
           "#EF553B",
           "#00cc96",
           "#ab63fa",
           "#FFA15A",
           "#19d3f3",
           "#FF6692",
           "#B6E880",
           "#FF97FF",
           "#FECB52"
          ],
          "font": {
           "color": "#2a3f5f"
          },
          "geo": {
           "bgcolor": "white",
           "lakecolor": "white",
           "landcolor": "#E5ECF6",
           "showlakes": true,
           "showland": true,
           "subunitcolor": "white"
          },
          "hoverlabel": {
           "align": "left"
          },
          "hovermode": "closest",
          "mapbox": {
           "style": "light"
          },
          "paper_bgcolor": "white",
          "plot_bgcolor": "#E5ECF6",
          "polar": {
           "angularaxis": {
            "gridcolor": "white",
            "linecolor": "white",
            "ticks": ""
           },
           "bgcolor": "#E5ECF6",
           "radialaxis": {
            "gridcolor": "white",
            "linecolor": "white",
            "ticks": ""
           }
          },
          "scene": {
           "xaxis": {
            "backgroundcolor": "#E5ECF6",
            "gridcolor": "white",
            "gridwidth": 2,
            "linecolor": "white",
            "showbackground": true,
            "ticks": "",
            "zerolinecolor": "white"
           },
           "yaxis": {
            "backgroundcolor": "#E5ECF6",
            "gridcolor": "white",
            "gridwidth": 2,
            "linecolor": "white",
            "showbackground": true,
            "ticks": "",
            "zerolinecolor": "white"
           },
           "zaxis": {
            "backgroundcolor": "#E5ECF6",
            "gridcolor": "white",
            "gridwidth": 2,
            "linecolor": "white",
            "showbackground": true,
            "ticks": "",
            "zerolinecolor": "white"
           }
          },
          "shapedefaults": {
           "line": {
            "color": "#2a3f5f"
           }
          },
          "ternary": {
           "aaxis": {
            "gridcolor": "white",
            "linecolor": "white",
            "ticks": ""
           },
           "baxis": {
            "gridcolor": "white",
            "linecolor": "white",
            "ticks": ""
           },
           "bgcolor": "#E5ECF6",
           "caxis": {
            "gridcolor": "white",
            "linecolor": "white",
            "ticks": ""
           }
          },
          "title": {
           "x": 0.05
          },
          "xaxis": {
           "automargin": true,
           "gridcolor": "white",
           "linecolor": "white",
           "ticks": "",
           "title": {
            "standoff": 15
           },
           "zerolinecolor": "white",
           "zerolinewidth": 2
          },
          "yaxis": {
           "automargin": true,
           "gridcolor": "white",
           "linecolor": "white",
           "ticks": "",
           "title": {
            "standoff": 15
           },
           "zerolinecolor": "white",
           "zerolinewidth": 2
          }
         }
        },
        "title": {
         "text": "df_ljubljana_75, attenuation_scintillation.csv"
        },
        "xaxis": {
         "title": {
          "text": "Time exceeded  [%]log"
         },
         "type": "log"
        },
        "yaxis": {
         "title": {
          "text": "Attenuation scintillation [dB]"
         }
        }
       }
      }
     },
     "metadata": {},
     "output_type": "display_data"
    }
   ],
   "source": [
    "import plotly.graph_objects as go\n",
    "\n",
    "for data_df in dfs:\n",
    "    unique_elev = np.unique(data_df[\"Elevation_angle_deg\"])\n",
    "    fig = go.Figure()\n",
    "    for elev_angle in unique_elev:\n",
    "        temp_df =  data_df[data_df[\"Elevation_angle_deg\"] == elev_angle]\n",
    "        fig.add_trace(go.Scatter(x=temp_df['Time_exceeded_%'], y=temp_df[att_col], name=f\"Elevation {elev_angle}\"))\n",
    "        fig.add_trace(go.Scatter(mode='markers',marker_symbol=\"x\",x=temp_df['Time_exceeded_%'], y=temp_df[att_col],name=f\"Elevation {elev_angle}\"))\n",
    "\n",
    "    fig.update_xaxes(type=\"log\")\n",
    "    fig.update_layout(title=f\"{data_df.name}, {file_name}\", xaxis_title=\"Time exceeded  [%]log\", yaxis_title=f\"Attenuation {selected_attenuation} [dB]\")\n",
    "    fig.show()\n",
    "\n",
    "\n"
   ]
  },
  {
   "cell_type": "markdown",
   "metadata": {},
   "source": [
    "## Compute average attenuation"
   ]
  },
  {
   "cell_type": "code",
   "execution_count": 13,
   "metadata": {},
   "outputs": [
    {
     "data": {
      "application/vnd.plotly.v1+json": {
       "config": {
        "plotlyServerURL": "https://plot.ly"
       },
       "data": [
        {
         "type": "scatter",
         "x": [
          0.01,
          0.016,
          0.027,
          0.045,
          0.077,
          0.13,
          0.21,
          0.35,
          0.6,
          0.95,
          1.7,
          3,
          5.1,
          8.3,
          12,
          19,
          30,
          45,
          60,
          80,
          98,
          0.01,
          0.016,
          0.027,
          0.045,
          0.077,
          0.13,
          0.21,
          0.35,
          0.6,
          0.95,
          1.7,
          3,
          5.1,
          8.3,
          12,
          19,
          30,
          45,
          60,
          80,
          98,
          0.01,
          0.016,
          0.027,
          0.045,
          0.077,
          0.13,
          0.21,
          0.35,
          0.6,
          0.95,
          1.7,
          3,
          5.1,
          8.3,
          12,
          19,
          30,
          45,
          60,
          80,
          98,
          0.01,
          0.016,
          0.027,
          0.045,
          0.077,
          0.13,
          0.21,
          0.35,
          0.6,
          0.95,
          1.7,
          3,
          5.1,
          8.3,
          12,
          19,
          30,
          45,
          60,
          80,
          98,
          0.01,
          0.016,
          0.027,
          0.045,
          0.077,
          0.13,
          0.21,
          0.35,
          0.6,
          0.95,
          1.7,
          3,
          5.1,
          8.3,
          12,
          19,
          30,
          45,
          60,
          80,
          98,
          0.01,
          0.016,
          0.027,
          0.045,
          0.077,
          0.13,
          0.21,
          0.35,
          0.6,
          0.95,
          1.7,
          3,
          5.1,
          8.3,
          12,
          19,
          30,
          45,
          60,
          80,
          98,
          0.01,
          0.016,
          0.027,
          0.045,
          0.077,
          0.13,
          0.21,
          0.35,
          0.6,
          0.95,
          1.7,
          3,
          5.1,
          8.3,
          12,
          19,
          30,
          45,
          60,
          80,
          98,
          0.01,
          0.016,
          0.027,
          0.045,
          0.077,
          0.13,
          0.21,
          0.35,
          0.6,
          0.95,
          1.7,
          3,
          5.1,
          8.3,
          12,
          19,
          30,
          45,
          60,
          80,
          98,
          0.01,
          0.016,
          0.027,
          0.045,
          0.077,
          0.13,
          0.21,
          0.35,
          0.6,
          0.95,
          1.7,
          3,
          5.1,
          8.3,
          12,
          19,
          30,
          45,
          60,
          80,
          98,
          0.01,
          0.016,
          0.027,
          0.045,
          0.077,
          0.13,
          0.21,
          0.35,
          0.6,
          0.95,
          1.7,
          3,
          5.1,
          8.3,
          12,
          19,
          30,
          45,
          60,
          80,
          98,
          0.01,
          0.016,
          0.027,
          0.045,
          0.077,
          0.13,
          0.21,
          0.35,
          0.6,
          0.95,
          1.7,
          3,
          5.1,
          8.3,
          12,
          19,
          30,
          45,
          60,
          80,
          98,
          0.01,
          0.016,
          0.027,
          0.045,
          0.077,
          0.13,
          0.21,
          0.35,
          0.6,
          0.95,
          1.7,
          3,
          5.1,
          8.3,
          12,
          19,
          30,
          45,
          60,
          80,
          98,
          0.01,
          0.016,
          0.027,
          0.045,
          0.077,
          0.13,
          0.21,
          0.35,
          0.6,
          0.95,
          1.7,
          3,
          5.1,
          8.3,
          12,
          19,
          30,
          45,
          60,
          80,
          98,
          0.01,
          0.016,
          0.027,
          0.045,
          0.077,
          0.13,
          0.21,
          0.35,
          0.6,
          0.95,
          1.7,
          3,
          5.1,
          8.3,
          12,
          19,
          30,
          45,
          60,
          80,
          98,
          0.01,
          0.016,
          0.027,
          0.045,
          0.077,
          0.13,
          0.21,
          0.35,
          0.6,
          0.95,
          1.7,
          3,
          5.1,
          8.3,
          12,
          19,
          30,
          45,
          60,
          80,
          98,
          0.01,
          0.016,
          0.027,
          0.045,
          0.077,
          0.13,
          0.21,
          0.35,
          0.6,
          0.95,
          1.7,
          3,
          5.1,
          8.3,
          12,
          19,
          30,
          45,
          60,
          80,
          98,
          0.01,
          0.016,
          0.027,
          0.045,
          0.077,
          0.13,
          0.21,
          0.35,
          0.6,
          0.95,
          1.7,
          3,
          5.1,
          8.3,
          12,
          19,
          30,
          45,
          60,
          80,
          98,
          0.01,
          0.016,
          0.027,
          0.045,
          0.077,
          0.13,
          0.21,
          0.35,
          0.6,
          0.95,
          1.7,
          3,
          5.1,
          8.3,
          12,
          19,
          30,
          45,
          60,
          80,
          98,
          0.01,
          0.016,
          0.027,
          0.045,
          0.077,
          0.13,
          0.21,
          0.35,
          0.6,
          0.95,
          1.7,
          3,
          5.1,
          8.3,
          12,
          19,
          30,
          45,
          60,
          80,
          98,
          0.01,
          0.016,
          0.027,
          0.045,
          0.077,
          0.13,
          0.21,
          0.35,
          0.6,
          0.95,
          1.7,
          3,
          5.1,
          8.3,
          12,
          19,
          30,
          45,
          60,
          80,
          98
         ],
         "y": [
          5.098328486044702,
          4.716201195930168,
          4.318360717224508,
          3.9553417897253427,
          3.5975534704770387,
          3.269168834093184,
          2.9836112754364503,
          2.692611179250528,
          2.39729705604359,
          2.152535663849661,
          1.848516253752919,
          1.5543918353163568,
          1.2785005293005671,
          1.0215699766485047,
          0.8231401197042144,
          0.5692899182697655,
          0.30793523373735127,
          0.06671821383298121,
          -0.11048541988213056,
          -0.2932971515067274,
          -0.42590498382074937
         ]
        }
       ],
       "layout": {
        "shapes": [
         {
          "line": {
           "color": "red",
           "dash": "dash",
           "width": 3
          },
          "type": "line",
          "x0": 1,
          "x1": 1,
          "xref": "x",
          "y0": 0,
          "y1": 1,
          "yref": "y domain"
         },
         {
          "line": {
           "color": "green",
           "dash": "dash",
           "width": 3
          },
          "type": "line",
          "x0": 0.5,
          "x1": 0.5,
          "xref": "x",
          "y0": 0,
          "y1": 1,
          "yref": "y domain"
         },
         {
          "line": {
           "color": "yellow",
           "dash": "dash",
           "width": 3
          },
          "type": "line",
          "x0": 0.1,
          "x1": 0.1,
          "xref": "x",
          "y0": 0,
          "y1": 1,
          "yref": "y domain"
         },
         {
          "line": {
           "color": "orange",
           "dash": "dash",
           "width": 3
          },
          "type": "line",
          "x0": 0.01,
          "x1": 0.01,
          "xref": "x",
          "y0": 0,
          "y1": 1,
          "yref": "y domain"
         }
        ],
        "template": {
         "data": {
          "bar": [
           {
            "error_x": {
             "color": "#2a3f5f"
            },
            "error_y": {
             "color": "#2a3f5f"
            },
            "marker": {
             "line": {
              "color": "#E5ECF6",
              "width": 0.5
             }
            },
            "type": "bar"
           }
          ],
          "barpolar": [
           {
            "marker": {
             "line": {
              "color": "#E5ECF6",
              "width": 0.5
             }
            },
            "type": "barpolar"
           }
          ],
          "carpet": [
           {
            "aaxis": {
             "endlinecolor": "#2a3f5f",
             "gridcolor": "white",
             "linecolor": "white",
             "minorgridcolor": "white",
             "startlinecolor": "#2a3f5f"
            },
            "baxis": {
             "endlinecolor": "#2a3f5f",
             "gridcolor": "white",
             "linecolor": "white",
             "minorgridcolor": "white",
             "startlinecolor": "#2a3f5f"
            },
            "type": "carpet"
           }
          ],
          "choropleth": [
           {
            "colorbar": {
             "outlinewidth": 0,
             "ticks": ""
            },
            "type": "choropleth"
           }
          ],
          "contour": [
           {
            "colorbar": {
             "outlinewidth": 0,
             "ticks": ""
            },
            "colorscale": [
             [
              0,
              "#0d0887"
             ],
             [
              0.1111111111111111,
              "#46039f"
             ],
             [
              0.2222222222222222,
              "#7201a8"
             ],
             [
              0.3333333333333333,
              "#9c179e"
             ],
             [
              0.4444444444444444,
              "#bd3786"
             ],
             [
              0.5555555555555556,
              "#d8576b"
             ],
             [
              0.6666666666666666,
              "#ed7953"
             ],
             [
              0.7777777777777778,
              "#fb9f3a"
             ],
             [
              0.8888888888888888,
              "#fdca26"
             ],
             [
              1,
              "#f0f921"
             ]
            ],
            "type": "contour"
           }
          ],
          "contourcarpet": [
           {
            "colorbar": {
             "outlinewidth": 0,
             "ticks": ""
            },
            "type": "contourcarpet"
           }
          ],
          "heatmap": [
           {
            "colorbar": {
             "outlinewidth": 0,
             "ticks": ""
            },
            "colorscale": [
             [
              0,
              "#0d0887"
             ],
             [
              0.1111111111111111,
              "#46039f"
             ],
             [
              0.2222222222222222,
              "#7201a8"
             ],
             [
              0.3333333333333333,
              "#9c179e"
             ],
             [
              0.4444444444444444,
              "#bd3786"
             ],
             [
              0.5555555555555556,
              "#d8576b"
             ],
             [
              0.6666666666666666,
              "#ed7953"
             ],
             [
              0.7777777777777778,
              "#fb9f3a"
             ],
             [
              0.8888888888888888,
              "#fdca26"
             ],
             [
              1,
              "#f0f921"
             ]
            ],
            "type": "heatmap"
           }
          ],
          "heatmapgl": [
           {
            "colorbar": {
             "outlinewidth": 0,
             "ticks": ""
            },
            "colorscale": [
             [
              0,
              "#0d0887"
             ],
             [
              0.1111111111111111,
              "#46039f"
             ],
             [
              0.2222222222222222,
              "#7201a8"
             ],
             [
              0.3333333333333333,
              "#9c179e"
             ],
             [
              0.4444444444444444,
              "#bd3786"
             ],
             [
              0.5555555555555556,
              "#d8576b"
             ],
             [
              0.6666666666666666,
              "#ed7953"
             ],
             [
              0.7777777777777778,
              "#fb9f3a"
             ],
             [
              0.8888888888888888,
              "#fdca26"
             ],
             [
              1,
              "#f0f921"
             ]
            ],
            "type": "heatmapgl"
           }
          ],
          "histogram": [
           {
            "marker": {
             "colorbar": {
              "outlinewidth": 0,
              "ticks": ""
             }
            },
            "type": "histogram"
           }
          ],
          "histogram2d": [
           {
            "colorbar": {
             "outlinewidth": 0,
             "ticks": ""
            },
            "colorscale": [
             [
              0,
              "#0d0887"
             ],
             [
              0.1111111111111111,
              "#46039f"
             ],
             [
              0.2222222222222222,
              "#7201a8"
             ],
             [
              0.3333333333333333,
              "#9c179e"
             ],
             [
              0.4444444444444444,
              "#bd3786"
             ],
             [
              0.5555555555555556,
              "#d8576b"
             ],
             [
              0.6666666666666666,
              "#ed7953"
             ],
             [
              0.7777777777777778,
              "#fb9f3a"
             ],
             [
              0.8888888888888888,
              "#fdca26"
             ],
             [
              1,
              "#f0f921"
             ]
            ],
            "type": "histogram2d"
           }
          ],
          "histogram2dcontour": [
           {
            "colorbar": {
             "outlinewidth": 0,
             "ticks": ""
            },
            "colorscale": [
             [
              0,
              "#0d0887"
             ],
             [
              0.1111111111111111,
              "#46039f"
             ],
             [
              0.2222222222222222,
              "#7201a8"
             ],
             [
              0.3333333333333333,
              "#9c179e"
             ],
             [
              0.4444444444444444,
              "#bd3786"
             ],
             [
              0.5555555555555556,
              "#d8576b"
             ],
             [
              0.6666666666666666,
              "#ed7953"
             ],
             [
              0.7777777777777778,
              "#fb9f3a"
             ],
             [
              0.8888888888888888,
              "#fdca26"
             ],
             [
              1,
              "#f0f921"
             ]
            ],
            "type": "histogram2dcontour"
           }
          ],
          "mesh3d": [
           {
            "colorbar": {
             "outlinewidth": 0,
             "ticks": ""
            },
            "type": "mesh3d"
           }
          ],
          "parcoords": [
           {
            "line": {
             "colorbar": {
              "outlinewidth": 0,
              "ticks": ""
             }
            },
            "type": "parcoords"
           }
          ],
          "pie": [
           {
            "automargin": true,
            "type": "pie"
           }
          ],
          "scatter": [
           {
            "marker": {
             "colorbar": {
              "outlinewidth": 0,
              "ticks": ""
             }
            },
            "type": "scatter"
           }
          ],
          "scatter3d": [
           {
            "line": {
             "colorbar": {
              "outlinewidth": 0,
              "ticks": ""
             }
            },
            "marker": {
             "colorbar": {
              "outlinewidth": 0,
              "ticks": ""
             }
            },
            "type": "scatter3d"
           }
          ],
          "scattercarpet": [
           {
            "marker": {
             "colorbar": {
              "outlinewidth": 0,
              "ticks": ""
             }
            },
            "type": "scattercarpet"
           }
          ],
          "scattergeo": [
           {
            "marker": {
             "colorbar": {
              "outlinewidth": 0,
              "ticks": ""
             }
            },
            "type": "scattergeo"
           }
          ],
          "scattergl": [
           {
            "marker": {
             "colorbar": {
              "outlinewidth": 0,
              "ticks": ""
             }
            },
            "type": "scattergl"
           }
          ],
          "scattermapbox": [
           {
            "marker": {
             "colorbar": {
              "outlinewidth": 0,
              "ticks": ""
             }
            },
            "type": "scattermapbox"
           }
          ],
          "scatterpolar": [
           {
            "marker": {
             "colorbar": {
              "outlinewidth": 0,
              "ticks": ""
             }
            },
            "type": "scatterpolar"
           }
          ],
          "scatterpolargl": [
           {
            "marker": {
             "colorbar": {
              "outlinewidth": 0,
              "ticks": ""
             }
            },
            "type": "scatterpolargl"
           }
          ],
          "scatterternary": [
           {
            "marker": {
             "colorbar": {
              "outlinewidth": 0,
              "ticks": ""
             }
            },
            "type": "scatterternary"
           }
          ],
          "surface": [
           {
            "colorbar": {
             "outlinewidth": 0,
             "ticks": ""
            },
            "colorscale": [
             [
              0,
              "#0d0887"
             ],
             [
              0.1111111111111111,
              "#46039f"
             ],
             [
              0.2222222222222222,
              "#7201a8"
             ],
             [
              0.3333333333333333,
              "#9c179e"
             ],
             [
              0.4444444444444444,
              "#bd3786"
             ],
             [
              0.5555555555555556,
              "#d8576b"
             ],
             [
              0.6666666666666666,
              "#ed7953"
             ],
             [
              0.7777777777777778,
              "#fb9f3a"
             ],
             [
              0.8888888888888888,
              "#fdca26"
             ],
             [
              1,
              "#f0f921"
             ]
            ],
            "type": "surface"
           }
          ],
          "table": [
           {
            "cells": {
             "fill": {
              "color": "#EBF0F8"
             },
             "line": {
              "color": "white"
             }
            },
            "header": {
             "fill": {
              "color": "#C8D4E3"
             },
             "line": {
              "color": "white"
             }
            },
            "type": "table"
           }
          ]
         },
         "layout": {
          "annotationdefaults": {
           "arrowcolor": "#2a3f5f",
           "arrowhead": 0,
           "arrowwidth": 1
          },
          "autotypenumbers": "strict",
          "coloraxis": {
           "colorbar": {
            "outlinewidth": 0,
            "ticks": ""
           }
          },
          "colorscale": {
           "diverging": [
            [
             0,
             "#8e0152"
            ],
            [
             0.1,
             "#c51b7d"
            ],
            [
             0.2,
             "#de77ae"
            ],
            [
             0.3,
             "#f1b6da"
            ],
            [
             0.4,
             "#fde0ef"
            ],
            [
             0.5,
             "#f7f7f7"
            ],
            [
             0.6,
             "#e6f5d0"
            ],
            [
             0.7,
             "#b8e186"
            ],
            [
             0.8,
             "#7fbc41"
            ],
            [
             0.9,
             "#4d9221"
            ],
            [
             1,
             "#276419"
            ]
           ],
           "sequential": [
            [
             0,
             "#0d0887"
            ],
            [
             0.1111111111111111,
             "#46039f"
            ],
            [
             0.2222222222222222,
             "#7201a8"
            ],
            [
             0.3333333333333333,
             "#9c179e"
            ],
            [
             0.4444444444444444,
             "#bd3786"
            ],
            [
             0.5555555555555556,
             "#d8576b"
            ],
            [
             0.6666666666666666,
             "#ed7953"
            ],
            [
             0.7777777777777778,
             "#fb9f3a"
            ],
            [
             0.8888888888888888,
             "#fdca26"
            ],
            [
             1,
             "#f0f921"
            ]
           ],
           "sequentialminus": [
            [
             0,
             "#0d0887"
            ],
            [
             0.1111111111111111,
             "#46039f"
            ],
            [
             0.2222222222222222,
             "#7201a8"
            ],
            [
             0.3333333333333333,
             "#9c179e"
            ],
            [
             0.4444444444444444,
             "#bd3786"
            ],
            [
             0.5555555555555556,
             "#d8576b"
            ],
            [
             0.6666666666666666,
             "#ed7953"
            ],
            [
             0.7777777777777778,
             "#fb9f3a"
            ],
            [
             0.8888888888888888,
             "#fdca26"
            ],
            [
             1,
             "#f0f921"
            ]
           ]
          },
          "colorway": [
           "#636efa",
           "#EF553B",
           "#00cc96",
           "#ab63fa",
           "#FFA15A",
           "#19d3f3",
           "#FF6692",
           "#B6E880",
           "#FF97FF",
           "#FECB52"
          ],
          "font": {
           "color": "#2a3f5f"
          },
          "geo": {
           "bgcolor": "white",
           "lakecolor": "white",
           "landcolor": "#E5ECF6",
           "showlakes": true,
           "showland": true,
           "subunitcolor": "white"
          },
          "hoverlabel": {
           "align": "left"
          },
          "hovermode": "closest",
          "mapbox": {
           "style": "light"
          },
          "paper_bgcolor": "white",
          "plot_bgcolor": "#E5ECF6",
          "polar": {
           "angularaxis": {
            "gridcolor": "white",
            "linecolor": "white",
            "ticks": ""
           },
           "bgcolor": "#E5ECF6",
           "radialaxis": {
            "gridcolor": "white",
            "linecolor": "white",
            "ticks": ""
           }
          },
          "scene": {
           "xaxis": {
            "backgroundcolor": "#E5ECF6",
            "gridcolor": "white",
            "gridwidth": 2,
            "linecolor": "white",
            "showbackground": true,
            "ticks": "",
            "zerolinecolor": "white"
           },
           "yaxis": {
            "backgroundcolor": "#E5ECF6",
            "gridcolor": "white",
            "gridwidth": 2,
            "linecolor": "white",
            "showbackground": true,
            "ticks": "",
            "zerolinecolor": "white"
           },
           "zaxis": {
            "backgroundcolor": "#E5ECF6",
            "gridcolor": "white",
            "gridwidth": 2,
            "linecolor": "white",
            "showbackground": true,
            "ticks": "",
            "zerolinecolor": "white"
           }
          },
          "shapedefaults": {
           "line": {
            "color": "#2a3f5f"
           }
          },
          "ternary": {
           "aaxis": {
            "gridcolor": "white",
            "linecolor": "white",
            "ticks": ""
           },
           "baxis": {
            "gridcolor": "white",
            "linecolor": "white",
            "ticks": ""
           },
           "bgcolor": "#E5ECF6",
           "caxis": {
            "gridcolor": "white",
            "linecolor": "white",
            "ticks": ""
           }
          },
          "title": {
           "x": 0.05
          },
          "xaxis": {
           "automargin": true,
           "gridcolor": "white",
           "linecolor": "white",
           "ticks": "",
           "title": {
            "standoff": 15
           },
           "zerolinecolor": "white",
           "zerolinewidth": 2
          },
          "yaxis": {
           "automargin": true,
           "gridcolor": "white",
           "linecolor": "white",
           "ticks": "",
           "title": {
            "standoff": 15
           },
           "zerolinecolor": "white",
           "zerolinewidth": 2
          }
         }
        },
        "title": {
         "text": "df_lavrion_37.5, scintillation attenuation"
        },
        "xaxis": {
         "title": {
          "text": "Time exceeded  [%]log"
         },
         "type": "log"
        },
        "yaxis": {
         "title": {
          "text": "Attenuation scintillation [dB]"
         }
        }
       }
      }
     },
     "metadata": {},
     "output_type": "display_data"
    },
    {
     "data": {
      "application/vnd.plotly.v1+json": {
       "config": {
        "plotlyServerURL": "https://plot.ly"
       },
       "data": [
        {
         "type": "scatter",
         "x": [
          0.01,
          0.016,
          0.027,
          0.045,
          0.077,
          0.13,
          0.21,
          0.35,
          0.6,
          0.95,
          1.7,
          3,
          5.1,
          8.3,
          12,
          19,
          30,
          45,
          60,
          80,
          98,
          0.01,
          0.016,
          0.027,
          0.045,
          0.077,
          0.13,
          0.21,
          0.35,
          0.6,
          0.95,
          1.7,
          3,
          5.1,
          8.3,
          12,
          19,
          30,
          45,
          60,
          80,
          98,
          0.01,
          0.016,
          0.027,
          0.045,
          0.077,
          0.13,
          0.21,
          0.35,
          0.6,
          0.95,
          1.7,
          3,
          5.1,
          8.3,
          12,
          19,
          30,
          45,
          60,
          80,
          98,
          0.01,
          0.016,
          0.027,
          0.045,
          0.077,
          0.13,
          0.21,
          0.35,
          0.6,
          0.95,
          1.7,
          3,
          5.1,
          8.3,
          12,
          19,
          30,
          45,
          60,
          80,
          98,
          0.01,
          0.016,
          0.027,
          0.045,
          0.077,
          0.13,
          0.21,
          0.35,
          0.6,
          0.95,
          1.7,
          3,
          5.1,
          8.3,
          12,
          19,
          30,
          45,
          60,
          80,
          98,
          0.01,
          0.016,
          0.027,
          0.045,
          0.077,
          0.13,
          0.21,
          0.35,
          0.6,
          0.95,
          1.7,
          3,
          5.1,
          8.3,
          12,
          19,
          30,
          45,
          60,
          80,
          98,
          0.01,
          0.016,
          0.027,
          0.045,
          0.077,
          0.13,
          0.21,
          0.35,
          0.6,
          0.95,
          1.7,
          3,
          5.1,
          8.3,
          12,
          19,
          30,
          45,
          60,
          80,
          98,
          0.01,
          0.016,
          0.027,
          0.045,
          0.077,
          0.13,
          0.21,
          0.35,
          0.6,
          0.95,
          1.7,
          3,
          5.1,
          8.3,
          12,
          19,
          30,
          45,
          60,
          80,
          98,
          0.01,
          0.016,
          0.027,
          0.045,
          0.077,
          0.13,
          0.21,
          0.35,
          0.6,
          0.95,
          1.7,
          3,
          5.1,
          8.3,
          12,
          19,
          30,
          45,
          60,
          80,
          98,
          0.01,
          0.016,
          0.027,
          0.045,
          0.077,
          0.13,
          0.21,
          0.35,
          0.6,
          0.95,
          1.7,
          3,
          5.1,
          8.3,
          12,
          19,
          30,
          45,
          60,
          80,
          98,
          0.01,
          0.016,
          0.027,
          0.045,
          0.077,
          0.13,
          0.21,
          0.35,
          0.6,
          0.95,
          1.7,
          3,
          5.1,
          8.3,
          12,
          19,
          30,
          45,
          60,
          80,
          98,
          0.01,
          0.016,
          0.027,
          0.045,
          0.077,
          0.13,
          0.21,
          0.35,
          0.6,
          0.95,
          1.7,
          3,
          5.1,
          8.3,
          12,
          19,
          30,
          45,
          60,
          80,
          98,
          0.01,
          0.016,
          0.027,
          0.045,
          0.077,
          0.13,
          0.21,
          0.35,
          0.6,
          0.95,
          1.7,
          3,
          5.1,
          8.3,
          12,
          19,
          30,
          45,
          60,
          80,
          98,
          0.01,
          0.016,
          0.027,
          0.045,
          0.077,
          0.13,
          0.21,
          0.35,
          0.6,
          0.95,
          1.7,
          3,
          5.1,
          8.3,
          12,
          19,
          30,
          45,
          60,
          80,
          98,
          0.01,
          0.016,
          0.027,
          0.045,
          0.077,
          0.13,
          0.21,
          0.35,
          0.6,
          0.95,
          1.7,
          3,
          5.1,
          8.3,
          12,
          19,
          30,
          45,
          60,
          80,
          98,
          0.01,
          0.016,
          0.027,
          0.045,
          0.077,
          0.13,
          0.21,
          0.35,
          0.6,
          0.95,
          1.7,
          3,
          5.1,
          8.3,
          12,
          19,
          30,
          45,
          60,
          80,
          98,
          0.01,
          0.016,
          0.027,
          0.045,
          0.077,
          0.13,
          0.21,
          0.35,
          0.6,
          0.95,
          1.7,
          3,
          5.1,
          8.3,
          12,
          19,
          30,
          45,
          60,
          80,
          98,
          0.01,
          0.016,
          0.027,
          0.045,
          0.077,
          0.13,
          0.21,
          0.35,
          0.6,
          0.95,
          1.7,
          3,
          5.1,
          8.3,
          12,
          19,
          30,
          45,
          60,
          80,
          98,
          0.01,
          0.016,
          0.027,
          0.045,
          0.077,
          0.13,
          0.21,
          0.35,
          0.6,
          0.95,
          1.7,
          3,
          5.1,
          8.3,
          12,
          19,
          30,
          45,
          60,
          80,
          98,
          0.01,
          0.016,
          0.027,
          0.045,
          0.077,
          0.13,
          0.21,
          0.35,
          0.6,
          0.95,
          1.7,
          3,
          5.1,
          8.3,
          12,
          19,
          30,
          45,
          60,
          80,
          98
         ],
         "y": [
          7.639131979873234,
          7.066274847103302,
          6.470235797842766,
          5.926213108528857,
          5.3902435110641616,
          4.898157740464807,
          4.47033950739464,
          4.034385160680528,
          3.5919176898698986,
          3.225191572334038,
          2.7696284215500944,
          2.328960578783499,
          1.9155718136328257,
          1.530623922495274,
          1.2333368764594685,
          0.8529730006671855,
          0.4613805945735572,
          0.09996416201490047,
          -0.1655409209385077,
          -0.4394498335927943,
          -0.6381263879128212
         ]
        }
       ],
       "layout": {
        "shapes": [
         {
          "line": {
           "color": "red",
           "dash": "dash",
           "width": 3
          },
          "type": "line",
          "x0": 1,
          "x1": 1,
          "xref": "x",
          "y0": 0,
          "y1": 1,
          "yref": "y domain"
         },
         {
          "line": {
           "color": "green",
           "dash": "dash",
           "width": 3
          },
          "type": "line",
          "x0": 0.5,
          "x1": 0.5,
          "xref": "x",
          "y0": 0,
          "y1": 1,
          "yref": "y domain"
         },
         {
          "line": {
           "color": "yellow",
           "dash": "dash",
           "width": 3
          },
          "type": "line",
          "x0": 0.1,
          "x1": 0.1,
          "xref": "x",
          "y0": 0,
          "y1": 1,
          "yref": "y domain"
         },
         {
          "line": {
           "color": "orange",
           "dash": "dash",
           "width": 3
          },
          "type": "line",
          "x0": 0.01,
          "x1": 0.01,
          "xref": "x",
          "y0": 0,
          "y1": 1,
          "yref": "y domain"
         }
        ],
        "template": {
         "data": {
          "bar": [
           {
            "error_x": {
             "color": "#2a3f5f"
            },
            "error_y": {
             "color": "#2a3f5f"
            },
            "marker": {
             "line": {
              "color": "#E5ECF6",
              "width": 0.5
             }
            },
            "type": "bar"
           }
          ],
          "barpolar": [
           {
            "marker": {
             "line": {
              "color": "#E5ECF6",
              "width": 0.5
             }
            },
            "type": "barpolar"
           }
          ],
          "carpet": [
           {
            "aaxis": {
             "endlinecolor": "#2a3f5f",
             "gridcolor": "white",
             "linecolor": "white",
             "minorgridcolor": "white",
             "startlinecolor": "#2a3f5f"
            },
            "baxis": {
             "endlinecolor": "#2a3f5f",
             "gridcolor": "white",
             "linecolor": "white",
             "minorgridcolor": "white",
             "startlinecolor": "#2a3f5f"
            },
            "type": "carpet"
           }
          ],
          "choropleth": [
           {
            "colorbar": {
             "outlinewidth": 0,
             "ticks": ""
            },
            "type": "choropleth"
           }
          ],
          "contour": [
           {
            "colorbar": {
             "outlinewidth": 0,
             "ticks": ""
            },
            "colorscale": [
             [
              0,
              "#0d0887"
             ],
             [
              0.1111111111111111,
              "#46039f"
             ],
             [
              0.2222222222222222,
              "#7201a8"
             ],
             [
              0.3333333333333333,
              "#9c179e"
             ],
             [
              0.4444444444444444,
              "#bd3786"
             ],
             [
              0.5555555555555556,
              "#d8576b"
             ],
             [
              0.6666666666666666,
              "#ed7953"
             ],
             [
              0.7777777777777778,
              "#fb9f3a"
             ],
             [
              0.8888888888888888,
              "#fdca26"
             ],
             [
              1,
              "#f0f921"
             ]
            ],
            "type": "contour"
           }
          ],
          "contourcarpet": [
           {
            "colorbar": {
             "outlinewidth": 0,
             "ticks": ""
            },
            "type": "contourcarpet"
           }
          ],
          "heatmap": [
           {
            "colorbar": {
             "outlinewidth": 0,
             "ticks": ""
            },
            "colorscale": [
             [
              0,
              "#0d0887"
             ],
             [
              0.1111111111111111,
              "#46039f"
             ],
             [
              0.2222222222222222,
              "#7201a8"
             ],
             [
              0.3333333333333333,
              "#9c179e"
             ],
             [
              0.4444444444444444,
              "#bd3786"
             ],
             [
              0.5555555555555556,
              "#d8576b"
             ],
             [
              0.6666666666666666,
              "#ed7953"
             ],
             [
              0.7777777777777778,
              "#fb9f3a"
             ],
             [
              0.8888888888888888,
              "#fdca26"
             ],
             [
              1,
              "#f0f921"
             ]
            ],
            "type": "heatmap"
           }
          ],
          "heatmapgl": [
           {
            "colorbar": {
             "outlinewidth": 0,
             "ticks": ""
            },
            "colorscale": [
             [
              0,
              "#0d0887"
             ],
             [
              0.1111111111111111,
              "#46039f"
             ],
             [
              0.2222222222222222,
              "#7201a8"
             ],
             [
              0.3333333333333333,
              "#9c179e"
             ],
             [
              0.4444444444444444,
              "#bd3786"
             ],
             [
              0.5555555555555556,
              "#d8576b"
             ],
             [
              0.6666666666666666,
              "#ed7953"
             ],
             [
              0.7777777777777778,
              "#fb9f3a"
             ],
             [
              0.8888888888888888,
              "#fdca26"
             ],
             [
              1,
              "#f0f921"
             ]
            ],
            "type": "heatmapgl"
           }
          ],
          "histogram": [
           {
            "marker": {
             "colorbar": {
              "outlinewidth": 0,
              "ticks": ""
             }
            },
            "type": "histogram"
           }
          ],
          "histogram2d": [
           {
            "colorbar": {
             "outlinewidth": 0,
             "ticks": ""
            },
            "colorscale": [
             [
              0,
              "#0d0887"
             ],
             [
              0.1111111111111111,
              "#46039f"
             ],
             [
              0.2222222222222222,
              "#7201a8"
             ],
             [
              0.3333333333333333,
              "#9c179e"
             ],
             [
              0.4444444444444444,
              "#bd3786"
             ],
             [
              0.5555555555555556,
              "#d8576b"
             ],
             [
              0.6666666666666666,
              "#ed7953"
             ],
             [
              0.7777777777777778,
              "#fb9f3a"
             ],
             [
              0.8888888888888888,
              "#fdca26"
             ],
             [
              1,
              "#f0f921"
             ]
            ],
            "type": "histogram2d"
           }
          ],
          "histogram2dcontour": [
           {
            "colorbar": {
             "outlinewidth": 0,
             "ticks": ""
            },
            "colorscale": [
             [
              0,
              "#0d0887"
             ],
             [
              0.1111111111111111,
              "#46039f"
             ],
             [
              0.2222222222222222,
              "#7201a8"
             ],
             [
              0.3333333333333333,
              "#9c179e"
             ],
             [
              0.4444444444444444,
              "#bd3786"
             ],
             [
              0.5555555555555556,
              "#d8576b"
             ],
             [
              0.6666666666666666,
              "#ed7953"
             ],
             [
              0.7777777777777778,
              "#fb9f3a"
             ],
             [
              0.8888888888888888,
              "#fdca26"
             ],
             [
              1,
              "#f0f921"
             ]
            ],
            "type": "histogram2dcontour"
           }
          ],
          "mesh3d": [
           {
            "colorbar": {
             "outlinewidth": 0,
             "ticks": ""
            },
            "type": "mesh3d"
           }
          ],
          "parcoords": [
           {
            "line": {
             "colorbar": {
              "outlinewidth": 0,
              "ticks": ""
             }
            },
            "type": "parcoords"
           }
          ],
          "pie": [
           {
            "automargin": true,
            "type": "pie"
           }
          ],
          "scatter": [
           {
            "marker": {
             "colorbar": {
              "outlinewidth": 0,
              "ticks": ""
             }
            },
            "type": "scatter"
           }
          ],
          "scatter3d": [
           {
            "line": {
             "colorbar": {
              "outlinewidth": 0,
              "ticks": ""
             }
            },
            "marker": {
             "colorbar": {
              "outlinewidth": 0,
              "ticks": ""
             }
            },
            "type": "scatter3d"
           }
          ],
          "scattercarpet": [
           {
            "marker": {
             "colorbar": {
              "outlinewidth": 0,
              "ticks": ""
             }
            },
            "type": "scattercarpet"
           }
          ],
          "scattergeo": [
           {
            "marker": {
             "colorbar": {
              "outlinewidth": 0,
              "ticks": ""
             }
            },
            "type": "scattergeo"
           }
          ],
          "scattergl": [
           {
            "marker": {
             "colorbar": {
              "outlinewidth": 0,
              "ticks": ""
             }
            },
            "type": "scattergl"
           }
          ],
          "scattermapbox": [
           {
            "marker": {
             "colorbar": {
              "outlinewidth": 0,
              "ticks": ""
             }
            },
            "type": "scattermapbox"
           }
          ],
          "scatterpolar": [
           {
            "marker": {
             "colorbar": {
              "outlinewidth": 0,
              "ticks": ""
             }
            },
            "type": "scatterpolar"
           }
          ],
          "scatterpolargl": [
           {
            "marker": {
             "colorbar": {
              "outlinewidth": 0,
              "ticks": ""
             }
            },
            "type": "scatterpolargl"
           }
          ],
          "scatterternary": [
           {
            "marker": {
             "colorbar": {
              "outlinewidth": 0,
              "ticks": ""
             }
            },
            "type": "scatterternary"
           }
          ],
          "surface": [
           {
            "colorbar": {
             "outlinewidth": 0,
             "ticks": ""
            },
            "colorscale": [
             [
              0,
              "#0d0887"
             ],
             [
              0.1111111111111111,
              "#46039f"
             ],
             [
              0.2222222222222222,
              "#7201a8"
             ],
             [
              0.3333333333333333,
              "#9c179e"
             ],
             [
              0.4444444444444444,
              "#bd3786"
             ],
             [
              0.5555555555555556,
              "#d8576b"
             ],
             [
              0.6666666666666666,
              "#ed7953"
             ],
             [
              0.7777777777777778,
              "#fb9f3a"
             ],
             [
              0.8888888888888888,
              "#fdca26"
             ],
             [
              1,
              "#f0f921"
             ]
            ],
            "type": "surface"
           }
          ],
          "table": [
           {
            "cells": {
             "fill": {
              "color": "#EBF0F8"
             },
             "line": {
              "color": "white"
             }
            },
            "header": {
             "fill": {
              "color": "#C8D4E3"
             },
             "line": {
              "color": "white"
             }
            },
            "type": "table"
           }
          ]
         },
         "layout": {
          "annotationdefaults": {
           "arrowcolor": "#2a3f5f",
           "arrowhead": 0,
           "arrowwidth": 1
          },
          "autotypenumbers": "strict",
          "coloraxis": {
           "colorbar": {
            "outlinewidth": 0,
            "ticks": ""
           }
          },
          "colorscale": {
           "diverging": [
            [
             0,
             "#8e0152"
            ],
            [
             0.1,
             "#c51b7d"
            ],
            [
             0.2,
             "#de77ae"
            ],
            [
             0.3,
             "#f1b6da"
            ],
            [
             0.4,
             "#fde0ef"
            ],
            [
             0.5,
             "#f7f7f7"
            ],
            [
             0.6,
             "#e6f5d0"
            ],
            [
             0.7,
             "#b8e186"
            ],
            [
             0.8,
             "#7fbc41"
            ],
            [
             0.9,
             "#4d9221"
            ],
            [
             1,
             "#276419"
            ]
           ],
           "sequential": [
            [
             0,
             "#0d0887"
            ],
            [
             0.1111111111111111,
             "#46039f"
            ],
            [
             0.2222222222222222,
             "#7201a8"
            ],
            [
             0.3333333333333333,
             "#9c179e"
            ],
            [
             0.4444444444444444,
             "#bd3786"
            ],
            [
             0.5555555555555556,
             "#d8576b"
            ],
            [
             0.6666666666666666,
             "#ed7953"
            ],
            [
             0.7777777777777778,
             "#fb9f3a"
            ],
            [
             0.8888888888888888,
             "#fdca26"
            ],
            [
             1,
             "#f0f921"
            ]
           ],
           "sequentialminus": [
            [
             0,
             "#0d0887"
            ],
            [
             0.1111111111111111,
             "#46039f"
            ],
            [
             0.2222222222222222,
             "#7201a8"
            ],
            [
             0.3333333333333333,
             "#9c179e"
            ],
            [
             0.4444444444444444,
             "#bd3786"
            ],
            [
             0.5555555555555556,
             "#d8576b"
            ],
            [
             0.6666666666666666,
             "#ed7953"
            ],
            [
             0.7777777777777778,
             "#fb9f3a"
            ],
            [
             0.8888888888888888,
             "#fdca26"
            ],
            [
             1,
             "#f0f921"
            ]
           ]
          },
          "colorway": [
           "#636efa",
           "#EF553B",
           "#00cc96",
           "#ab63fa",
           "#FFA15A",
           "#19d3f3",
           "#FF6692",
           "#B6E880",
           "#FF97FF",
           "#FECB52"
          ],
          "font": {
           "color": "#2a3f5f"
          },
          "geo": {
           "bgcolor": "white",
           "lakecolor": "white",
           "landcolor": "#E5ECF6",
           "showlakes": true,
           "showland": true,
           "subunitcolor": "white"
          },
          "hoverlabel": {
           "align": "left"
          },
          "hovermode": "closest",
          "mapbox": {
           "style": "light"
          },
          "paper_bgcolor": "white",
          "plot_bgcolor": "#E5ECF6",
          "polar": {
           "angularaxis": {
            "gridcolor": "white",
            "linecolor": "white",
            "ticks": ""
           },
           "bgcolor": "#E5ECF6",
           "radialaxis": {
            "gridcolor": "white",
            "linecolor": "white",
            "ticks": ""
           }
          },
          "scene": {
           "xaxis": {
            "backgroundcolor": "#E5ECF6",
            "gridcolor": "white",
            "gridwidth": 2,
            "linecolor": "white",
            "showbackground": true,
            "ticks": "",
            "zerolinecolor": "white"
           },
           "yaxis": {
            "backgroundcolor": "#E5ECF6",
            "gridcolor": "white",
            "gridwidth": 2,
            "linecolor": "white",
            "showbackground": true,
            "ticks": "",
            "zerolinecolor": "white"
           },
           "zaxis": {
            "backgroundcolor": "#E5ECF6",
            "gridcolor": "white",
            "gridwidth": 2,
            "linecolor": "white",
            "showbackground": true,
            "ticks": "",
            "zerolinecolor": "white"
           }
          },
          "shapedefaults": {
           "line": {
            "color": "#2a3f5f"
           }
          },
          "ternary": {
           "aaxis": {
            "gridcolor": "white",
            "linecolor": "white",
            "ticks": ""
           },
           "baxis": {
            "gridcolor": "white",
            "linecolor": "white",
            "ticks": ""
           },
           "bgcolor": "#E5ECF6",
           "caxis": {
            "gridcolor": "white",
            "linecolor": "white",
            "ticks": ""
           }
          },
          "title": {
           "x": 0.05
          },
          "xaxis": {
           "automargin": true,
           "gridcolor": "white",
           "linecolor": "white",
           "ticks": "",
           "title": {
            "standoff": 15
           },
           "zerolinecolor": "white",
           "zerolinewidth": 2
          },
          "yaxis": {
           "automargin": true,
           "gridcolor": "white",
           "linecolor": "white",
           "ticks": "",
           "title": {
            "standoff": 15
           },
           "zerolinecolor": "white",
           "zerolinewidth": 2
          }
         }
        },
        "title": {
         "text": "df_lavrion_75, scintillation attenuation"
        },
        "xaxis": {
         "title": {
          "text": "Time exceeded  [%]log"
         },
         "type": "log"
        },
        "yaxis": {
         "title": {
          "text": "Attenuation scintillation [dB]"
         }
        }
       }
      }
     },
     "metadata": {},
     "output_type": "display_data"
    },
    {
     "data": {
      "application/vnd.plotly.v1+json": {
       "config": {
        "plotlyServerURL": "https://plot.ly"
       },
       "data": [
        {
         "type": "scatter",
         "x": [
          0.01,
          0.016,
          0.027,
          0.045,
          0.077,
          0.13,
          0.21,
          0.35,
          0.6,
          0.95,
          1.7,
          3,
          5.1,
          8.3,
          12,
          19,
          30,
          45,
          60,
          80,
          98,
          0.01,
          0.016,
          0.027,
          0.045,
          0.077,
          0.13,
          0.21,
          0.35,
          0.6,
          0.95,
          1.7,
          3,
          5.1,
          8.3,
          12,
          19,
          30,
          45,
          60,
          80,
          98,
          0.01,
          0.016,
          0.027,
          0.045,
          0.077,
          0.13,
          0.21,
          0.35,
          0.6,
          0.95,
          1.7,
          3,
          5.1,
          8.3,
          12,
          19,
          30,
          45,
          60,
          80,
          98,
          0.01,
          0.016,
          0.027,
          0.045,
          0.077,
          0.13,
          0.21,
          0.35,
          0.6,
          0.95,
          1.7,
          3,
          5.1,
          8.3,
          12,
          19,
          30,
          45,
          60,
          80,
          98,
          0.01,
          0.016,
          0.027,
          0.045,
          0.077,
          0.13,
          0.21,
          0.35,
          0.6,
          0.95,
          1.7,
          3,
          5.1,
          8.3,
          12,
          19,
          30,
          45,
          60,
          80,
          98,
          0.01,
          0.016,
          0.027,
          0.045,
          0.077,
          0.13,
          0.21,
          0.35,
          0.6,
          0.95,
          1.7,
          3,
          5.1,
          8.3,
          12,
          19,
          30,
          45,
          60,
          80,
          98,
          0.01,
          0.016,
          0.027,
          0.045,
          0.077,
          0.13,
          0.21,
          0.35,
          0.6,
          0.95,
          1.7,
          3,
          5.1,
          8.3,
          12,
          19,
          30,
          45,
          60,
          80,
          98,
          0.01,
          0.016,
          0.027,
          0.045,
          0.077,
          0.13,
          0.21,
          0.35,
          0.6,
          0.95,
          1.7,
          3,
          5.1,
          8.3,
          12,
          19,
          30,
          45,
          60,
          80,
          98,
          0.01,
          0.016,
          0.027,
          0.045,
          0.077,
          0.13,
          0.21,
          0.35,
          0.6,
          0.95,
          1.7,
          3,
          5.1,
          8.3,
          12,
          19,
          30,
          45,
          60,
          80,
          98,
          0.01,
          0.016,
          0.027,
          0.045,
          0.077,
          0.13,
          0.21,
          0.35,
          0.6,
          0.95,
          1.7,
          3,
          5.1,
          8.3,
          12,
          19,
          30,
          45,
          60,
          80,
          98,
          0.01,
          0.016,
          0.027,
          0.045,
          0.077,
          0.13,
          0.21,
          0.35,
          0.6,
          0.95,
          1.7,
          3,
          5.1,
          8.3,
          12,
          19,
          30,
          45,
          60,
          80,
          98,
          0.01,
          0.016,
          0.027,
          0.045,
          0.077,
          0.13,
          0.21,
          0.35,
          0.6,
          0.95,
          1.7,
          3,
          5.1,
          8.3,
          12,
          19,
          30,
          45,
          60,
          80,
          98,
          0.01,
          0.016,
          0.027,
          0.045,
          0.077,
          0.13,
          0.21,
          0.35,
          0.6,
          0.95,
          1.7,
          3,
          5.1,
          8.3,
          12,
          19,
          30,
          45,
          60,
          80,
          98,
          0.01,
          0.016,
          0.027,
          0.045,
          0.077,
          0.13,
          0.21,
          0.35,
          0.6,
          0.95,
          1.7,
          3,
          5.1,
          8.3,
          12,
          19,
          30,
          45,
          60,
          80,
          98,
          0.01,
          0.016,
          0.027,
          0.045,
          0.077,
          0.13,
          0.21,
          0.35,
          0.6,
          0.95,
          1.7,
          3,
          5.1,
          8.3,
          12,
          19,
          30,
          45,
          60,
          80,
          98,
          0.01,
          0.016,
          0.027,
          0.045,
          0.077,
          0.13,
          0.21,
          0.35,
          0.6,
          0.95,
          1.7,
          3,
          5.1,
          8.3,
          12,
          19,
          30,
          45,
          60,
          80,
          98,
          0.01,
          0.016,
          0.027,
          0.045,
          0.077,
          0.13,
          0.21,
          0.35,
          0.6,
          0.95,
          1.7,
          3,
          5.1,
          8.3,
          12,
          19,
          30,
          45,
          60,
          80,
          98,
          0.01,
          0.016,
          0.027,
          0.045,
          0.077,
          0.13,
          0.21,
          0.35,
          0.6,
          0.95,
          1.7,
          3,
          5.1,
          8.3,
          12,
          19,
          30,
          45,
          60,
          80,
          98,
          0.01,
          0.016,
          0.027,
          0.045,
          0.077,
          0.13,
          0.21,
          0.35,
          0.6,
          0.95,
          1.7,
          3,
          5.1,
          8.3,
          12,
          19,
          30,
          45,
          60,
          80,
          98,
          0.01,
          0.016,
          0.027,
          0.045,
          0.077,
          0.13,
          0.21,
          0.35,
          0.6,
          0.95,
          1.7,
          3,
          5.1,
          8.3,
          12,
          19,
          30,
          45,
          60,
          80,
          98
         ],
         "y": [
          4.031448878016236,
          3.729208165239631,
          3.4146418903591673,
          3.127600417546981,
          2.844636107528078,
          2.5849978866896475,
          2.3592118164127656,
          2.1291051768041815,
          1.8956203975314134,
          1.7020880684977207,
          1.4616487423551654,
          1.2290969003669525,
          1.0109436478372067,
          0.8077856687979539,
          0.6508730345268542,
          0.45015833893027907,
          0.24349184360057824,
          0.05275695920716113,
          -0.08736459595240743,
          -0.23191876209273873,
          -0.3367744313354831
         ]
        }
       ],
       "layout": {
        "shapes": [
         {
          "line": {
           "color": "red",
           "dash": "dash",
           "width": 3
          },
          "type": "line",
          "x0": 1,
          "x1": 1,
          "xref": "x",
          "y0": 0,
          "y1": 1,
          "yref": "y domain"
         },
         {
          "line": {
           "color": "green",
           "dash": "dash",
           "width": 3
          },
          "type": "line",
          "x0": 0.5,
          "x1": 0.5,
          "xref": "x",
          "y0": 0,
          "y1": 1,
          "yref": "y domain"
         },
         {
          "line": {
           "color": "yellow",
           "dash": "dash",
           "width": 3
          },
          "type": "line",
          "x0": 0.1,
          "x1": 0.1,
          "xref": "x",
          "y0": 0,
          "y1": 1,
          "yref": "y domain"
         },
         {
          "line": {
           "color": "orange",
           "dash": "dash",
           "width": 3
          },
          "type": "line",
          "x0": 0.01,
          "x1": 0.01,
          "xref": "x",
          "y0": 0,
          "y1": 1,
          "yref": "y domain"
         }
        ],
        "template": {
         "data": {
          "bar": [
           {
            "error_x": {
             "color": "#2a3f5f"
            },
            "error_y": {
             "color": "#2a3f5f"
            },
            "marker": {
             "line": {
              "color": "#E5ECF6",
              "width": 0.5
             }
            },
            "type": "bar"
           }
          ],
          "barpolar": [
           {
            "marker": {
             "line": {
              "color": "#E5ECF6",
              "width": 0.5
             }
            },
            "type": "barpolar"
           }
          ],
          "carpet": [
           {
            "aaxis": {
             "endlinecolor": "#2a3f5f",
             "gridcolor": "white",
             "linecolor": "white",
             "minorgridcolor": "white",
             "startlinecolor": "#2a3f5f"
            },
            "baxis": {
             "endlinecolor": "#2a3f5f",
             "gridcolor": "white",
             "linecolor": "white",
             "minorgridcolor": "white",
             "startlinecolor": "#2a3f5f"
            },
            "type": "carpet"
           }
          ],
          "choropleth": [
           {
            "colorbar": {
             "outlinewidth": 0,
             "ticks": ""
            },
            "type": "choropleth"
           }
          ],
          "contour": [
           {
            "colorbar": {
             "outlinewidth": 0,
             "ticks": ""
            },
            "colorscale": [
             [
              0,
              "#0d0887"
             ],
             [
              0.1111111111111111,
              "#46039f"
             ],
             [
              0.2222222222222222,
              "#7201a8"
             ],
             [
              0.3333333333333333,
              "#9c179e"
             ],
             [
              0.4444444444444444,
              "#bd3786"
             ],
             [
              0.5555555555555556,
              "#d8576b"
             ],
             [
              0.6666666666666666,
              "#ed7953"
             ],
             [
              0.7777777777777778,
              "#fb9f3a"
             ],
             [
              0.8888888888888888,
              "#fdca26"
             ],
             [
              1,
              "#f0f921"
             ]
            ],
            "type": "contour"
           }
          ],
          "contourcarpet": [
           {
            "colorbar": {
             "outlinewidth": 0,
             "ticks": ""
            },
            "type": "contourcarpet"
           }
          ],
          "heatmap": [
           {
            "colorbar": {
             "outlinewidth": 0,
             "ticks": ""
            },
            "colorscale": [
             [
              0,
              "#0d0887"
             ],
             [
              0.1111111111111111,
              "#46039f"
             ],
             [
              0.2222222222222222,
              "#7201a8"
             ],
             [
              0.3333333333333333,
              "#9c179e"
             ],
             [
              0.4444444444444444,
              "#bd3786"
             ],
             [
              0.5555555555555556,
              "#d8576b"
             ],
             [
              0.6666666666666666,
              "#ed7953"
             ],
             [
              0.7777777777777778,
              "#fb9f3a"
             ],
             [
              0.8888888888888888,
              "#fdca26"
             ],
             [
              1,
              "#f0f921"
             ]
            ],
            "type": "heatmap"
           }
          ],
          "heatmapgl": [
           {
            "colorbar": {
             "outlinewidth": 0,
             "ticks": ""
            },
            "colorscale": [
             [
              0,
              "#0d0887"
             ],
             [
              0.1111111111111111,
              "#46039f"
             ],
             [
              0.2222222222222222,
              "#7201a8"
             ],
             [
              0.3333333333333333,
              "#9c179e"
             ],
             [
              0.4444444444444444,
              "#bd3786"
             ],
             [
              0.5555555555555556,
              "#d8576b"
             ],
             [
              0.6666666666666666,
              "#ed7953"
             ],
             [
              0.7777777777777778,
              "#fb9f3a"
             ],
             [
              0.8888888888888888,
              "#fdca26"
             ],
             [
              1,
              "#f0f921"
             ]
            ],
            "type": "heatmapgl"
           }
          ],
          "histogram": [
           {
            "marker": {
             "colorbar": {
              "outlinewidth": 0,
              "ticks": ""
             }
            },
            "type": "histogram"
           }
          ],
          "histogram2d": [
           {
            "colorbar": {
             "outlinewidth": 0,
             "ticks": ""
            },
            "colorscale": [
             [
              0,
              "#0d0887"
             ],
             [
              0.1111111111111111,
              "#46039f"
             ],
             [
              0.2222222222222222,
              "#7201a8"
             ],
             [
              0.3333333333333333,
              "#9c179e"
             ],
             [
              0.4444444444444444,
              "#bd3786"
             ],
             [
              0.5555555555555556,
              "#d8576b"
             ],
             [
              0.6666666666666666,
              "#ed7953"
             ],
             [
              0.7777777777777778,
              "#fb9f3a"
             ],
             [
              0.8888888888888888,
              "#fdca26"
             ],
             [
              1,
              "#f0f921"
             ]
            ],
            "type": "histogram2d"
           }
          ],
          "histogram2dcontour": [
           {
            "colorbar": {
             "outlinewidth": 0,
             "ticks": ""
            },
            "colorscale": [
             [
              0,
              "#0d0887"
             ],
             [
              0.1111111111111111,
              "#46039f"
             ],
             [
              0.2222222222222222,
              "#7201a8"
             ],
             [
              0.3333333333333333,
              "#9c179e"
             ],
             [
              0.4444444444444444,
              "#bd3786"
             ],
             [
              0.5555555555555556,
              "#d8576b"
             ],
             [
              0.6666666666666666,
              "#ed7953"
             ],
             [
              0.7777777777777778,
              "#fb9f3a"
             ],
             [
              0.8888888888888888,
              "#fdca26"
             ],
             [
              1,
              "#f0f921"
             ]
            ],
            "type": "histogram2dcontour"
           }
          ],
          "mesh3d": [
           {
            "colorbar": {
             "outlinewidth": 0,
             "ticks": ""
            },
            "type": "mesh3d"
           }
          ],
          "parcoords": [
           {
            "line": {
             "colorbar": {
              "outlinewidth": 0,
              "ticks": ""
             }
            },
            "type": "parcoords"
           }
          ],
          "pie": [
           {
            "automargin": true,
            "type": "pie"
           }
          ],
          "scatter": [
           {
            "marker": {
             "colorbar": {
              "outlinewidth": 0,
              "ticks": ""
             }
            },
            "type": "scatter"
           }
          ],
          "scatter3d": [
           {
            "line": {
             "colorbar": {
              "outlinewidth": 0,
              "ticks": ""
             }
            },
            "marker": {
             "colorbar": {
              "outlinewidth": 0,
              "ticks": ""
             }
            },
            "type": "scatter3d"
           }
          ],
          "scattercarpet": [
           {
            "marker": {
             "colorbar": {
              "outlinewidth": 0,
              "ticks": ""
             }
            },
            "type": "scattercarpet"
           }
          ],
          "scattergeo": [
           {
            "marker": {
             "colorbar": {
              "outlinewidth": 0,
              "ticks": ""
             }
            },
            "type": "scattergeo"
           }
          ],
          "scattergl": [
           {
            "marker": {
             "colorbar": {
              "outlinewidth": 0,
              "ticks": ""
             }
            },
            "type": "scattergl"
           }
          ],
          "scattermapbox": [
           {
            "marker": {
             "colorbar": {
              "outlinewidth": 0,
              "ticks": ""
             }
            },
            "type": "scattermapbox"
           }
          ],
          "scatterpolar": [
           {
            "marker": {
             "colorbar": {
              "outlinewidth": 0,
              "ticks": ""
             }
            },
            "type": "scatterpolar"
           }
          ],
          "scatterpolargl": [
           {
            "marker": {
             "colorbar": {
              "outlinewidth": 0,
              "ticks": ""
             }
            },
            "type": "scatterpolargl"
           }
          ],
          "scatterternary": [
           {
            "marker": {
             "colorbar": {
              "outlinewidth": 0,
              "ticks": ""
             }
            },
            "type": "scatterternary"
           }
          ],
          "surface": [
           {
            "colorbar": {
             "outlinewidth": 0,
             "ticks": ""
            },
            "colorscale": [
             [
              0,
              "#0d0887"
             ],
             [
              0.1111111111111111,
              "#46039f"
             ],
             [
              0.2222222222222222,
              "#7201a8"
             ],
             [
              0.3333333333333333,
              "#9c179e"
             ],
             [
              0.4444444444444444,
              "#bd3786"
             ],
             [
              0.5555555555555556,
              "#d8576b"
             ],
             [
              0.6666666666666666,
              "#ed7953"
             ],
             [
              0.7777777777777778,
              "#fb9f3a"
             ],
             [
              0.8888888888888888,
              "#fdca26"
             ],
             [
              1,
              "#f0f921"
             ]
            ],
            "type": "surface"
           }
          ],
          "table": [
           {
            "cells": {
             "fill": {
              "color": "#EBF0F8"
             },
             "line": {
              "color": "white"
             }
            },
            "header": {
             "fill": {
              "color": "#C8D4E3"
             },
             "line": {
              "color": "white"
             }
            },
            "type": "table"
           }
          ]
         },
         "layout": {
          "annotationdefaults": {
           "arrowcolor": "#2a3f5f",
           "arrowhead": 0,
           "arrowwidth": 1
          },
          "autotypenumbers": "strict",
          "coloraxis": {
           "colorbar": {
            "outlinewidth": 0,
            "ticks": ""
           }
          },
          "colorscale": {
           "diverging": [
            [
             0,
             "#8e0152"
            ],
            [
             0.1,
             "#c51b7d"
            ],
            [
             0.2,
             "#de77ae"
            ],
            [
             0.3,
             "#f1b6da"
            ],
            [
             0.4,
             "#fde0ef"
            ],
            [
             0.5,
             "#f7f7f7"
            ],
            [
             0.6,
             "#e6f5d0"
            ],
            [
             0.7,
             "#b8e186"
            ],
            [
             0.8,
             "#7fbc41"
            ],
            [
             0.9,
             "#4d9221"
            ],
            [
             1,
             "#276419"
            ]
           ],
           "sequential": [
            [
             0,
             "#0d0887"
            ],
            [
             0.1111111111111111,
             "#46039f"
            ],
            [
             0.2222222222222222,
             "#7201a8"
            ],
            [
             0.3333333333333333,
             "#9c179e"
            ],
            [
             0.4444444444444444,
             "#bd3786"
            ],
            [
             0.5555555555555556,
             "#d8576b"
            ],
            [
             0.6666666666666666,
             "#ed7953"
            ],
            [
             0.7777777777777778,
             "#fb9f3a"
            ],
            [
             0.8888888888888888,
             "#fdca26"
            ],
            [
             1,
             "#f0f921"
            ]
           ],
           "sequentialminus": [
            [
             0,
             "#0d0887"
            ],
            [
             0.1111111111111111,
             "#46039f"
            ],
            [
             0.2222222222222222,
             "#7201a8"
            ],
            [
             0.3333333333333333,
             "#9c179e"
            ],
            [
             0.4444444444444444,
             "#bd3786"
            ],
            [
             0.5555555555555556,
             "#d8576b"
            ],
            [
             0.6666666666666666,
             "#ed7953"
            ],
            [
             0.7777777777777778,
             "#fb9f3a"
            ],
            [
             0.8888888888888888,
             "#fdca26"
            ],
            [
             1,
             "#f0f921"
            ]
           ]
          },
          "colorway": [
           "#636efa",
           "#EF553B",
           "#00cc96",
           "#ab63fa",
           "#FFA15A",
           "#19d3f3",
           "#FF6692",
           "#B6E880",
           "#FF97FF",
           "#FECB52"
          ],
          "font": {
           "color": "#2a3f5f"
          },
          "geo": {
           "bgcolor": "white",
           "lakecolor": "white",
           "landcolor": "#E5ECF6",
           "showlakes": true,
           "showland": true,
           "subunitcolor": "white"
          },
          "hoverlabel": {
           "align": "left"
          },
          "hovermode": "closest",
          "mapbox": {
           "style": "light"
          },
          "paper_bgcolor": "white",
          "plot_bgcolor": "#E5ECF6",
          "polar": {
           "angularaxis": {
            "gridcolor": "white",
            "linecolor": "white",
            "ticks": ""
           },
           "bgcolor": "#E5ECF6",
           "radialaxis": {
            "gridcolor": "white",
            "linecolor": "white",
            "ticks": ""
           }
          },
          "scene": {
           "xaxis": {
            "backgroundcolor": "#E5ECF6",
            "gridcolor": "white",
            "gridwidth": 2,
            "linecolor": "white",
            "showbackground": true,
            "ticks": "",
            "zerolinecolor": "white"
           },
           "yaxis": {
            "backgroundcolor": "#E5ECF6",
            "gridcolor": "white",
            "gridwidth": 2,
            "linecolor": "white",
            "showbackground": true,
            "ticks": "",
            "zerolinecolor": "white"
           },
           "zaxis": {
            "backgroundcolor": "#E5ECF6",
            "gridcolor": "white",
            "gridwidth": 2,
            "linecolor": "white",
            "showbackground": true,
            "ticks": "",
            "zerolinecolor": "white"
           }
          },
          "shapedefaults": {
           "line": {
            "color": "#2a3f5f"
           }
          },
          "ternary": {
           "aaxis": {
            "gridcolor": "white",
            "linecolor": "white",
            "ticks": ""
           },
           "baxis": {
            "gridcolor": "white",
            "linecolor": "white",
            "ticks": ""
           },
           "bgcolor": "#E5ECF6",
           "caxis": {
            "gridcolor": "white",
            "linecolor": "white",
            "ticks": ""
           }
          },
          "title": {
           "x": 0.05
          },
          "xaxis": {
           "automargin": true,
           "gridcolor": "white",
           "linecolor": "white",
           "ticks": "",
           "title": {
            "standoff": 15
           },
           "zerolinecolor": "white",
           "zerolinewidth": 2
          },
          "yaxis": {
           "automargin": true,
           "gridcolor": "white",
           "linecolor": "white",
           "ticks": "",
           "title": {
            "standoff": 15
           },
           "zerolinecolor": "white",
           "zerolinewidth": 2
          }
         }
        },
        "title": {
         "text": "df_ljubljana_37.5, scintillation attenuation"
        },
        "xaxis": {
         "title": {
          "text": "Time exceeded  [%]log"
         },
         "type": "log"
        },
        "yaxis": {
         "title": {
          "text": "Attenuation scintillation [dB]"
         }
        }
       }
      }
     },
     "metadata": {},
     "output_type": "display_data"
    },
    {
     "data": {
      "application/vnd.plotly.v1+json": {
       "config": {
        "plotlyServerURL": "https://plot.ly"
       },
       "data": [
        {
         "type": "scatter",
         "x": [
          0.01,
          0.016,
          0.027,
          0.045,
          0.077,
          0.13,
          0.21,
          0.35,
          0.6,
          0.95,
          1.7,
          3,
          5.1,
          8.3,
          12,
          19,
          30,
          45,
          60,
          80,
          98,
          0.01,
          0.016,
          0.027,
          0.045,
          0.077,
          0.13,
          0.21,
          0.35,
          0.6,
          0.95,
          1.7,
          3,
          5.1,
          8.3,
          12,
          19,
          30,
          45,
          60,
          80,
          98,
          0.01,
          0.016,
          0.027,
          0.045,
          0.077,
          0.13,
          0.21,
          0.35,
          0.6,
          0.95,
          1.7,
          3,
          5.1,
          8.3,
          12,
          19,
          30,
          45,
          60,
          80,
          98,
          0.01,
          0.016,
          0.027,
          0.045,
          0.077,
          0.13,
          0.21,
          0.35,
          0.6,
          0.95,
          1.7,
          3,
          5.1,
          8.3,
          12,
          19,
          30,
          45,
          60,
          80,
          98,
          0.01,
          0.016,
          0.027,
          0.045,
          0.077,
          0.13,
          0.21,
          0.35,
          0.6,
          0.95,
          1.7,
          3,
          5.1,
          8.3,
          12,
          19,
          30,
          45,
          60,
          80,
          98,
          0.01,
          0.016,
          0.027,
          0.045,
          0.077,
          0.13,
          0.21,
          0.35,
          0.6,
          0.95,
          1.7,
          3,
          5.1,
          8.3,
          12,
          19,
          30,
          45,
          60,
          80,
          98,
          0.01,
          0.016,
          0.027,
          0.045,
          0.077,
          0.13,
          0.21,
          0.35,
          0.6,
          0.95,
          1.7,
          3,
          5.1,
          8.3,
          12,
          19,
          30,
          45,
          60,
          80,
          98,
          0.01,
          0.016,
          0.027,
          0.045,
          0.077,
          0.13,
          0.21,
          0.35,
          0.6,
          0.95,
          1.7,
          3,
          5.1,
          8.3,
          12,
          19,
          30,
          45,
          60,
          80,
          98,
          0.01,
          0.016,
          0.027,
          0.045,
          0.077,
          0.13,
          0.21,
          0.35,
          0.6,
          0.95,
          1.7,
          3,
          5.1,
          8.3,
          12,
          19,
          30,
          45,
          60,
          80,
          98,
          0.01,
          0.016,
          0.027,
          0.045,
          0.077,
          0.13,
          0.21,
          0.35,
          0.6,
          0.95,
          1.7,
          3,
          5.1,
          8.3,
          12,
          19,
          30,
          45,
          60,
          80,
          98,
          0.01,
          0.016,
          0.027,
          0.045,
          0.077,
          0.13,
          0.21,
          0.35,
          0.6,
          0.95,
          1.7,
          3,
          5.1,
          8.3,
          12,
          19,
          30,
          45,
          60,
          80,
          98,
          0.01,
          0.016,
          0.027,
          0.045,
          0.077,
          0.13,
          0.21,
          0.35,
          0.6,
          0.95,
          1.7,
          3,
          5.1,
          8.3,
          12,
          19,
          30,
          45,
          60,
          80,
          98,
          0.01,
          0.016,
          0.027,
          0.045,
          0.077,
          0.13,
          0.21,
          0.35,
          0.6,
          0.95,
          1.7,
          3,
          5.1,
          8.3,
          12,
          19,
          30,
          45,
          60,
          80,
          98,
          0.01,
          0.016,
          0.027,
          0.045,
          0.077,
          0.13,
          0.21,
          0.35,
          0.6,
          0.95,
          1.7,
          3,
          5.1,
          8.3,
          12,
          19,
          30,
          45,
          60,
          80,
          98,
          0.01,
          0.016,
          0.027,
          0.045,
          0.077,
          0.13,
          0.21,
          0.35,
          0.6,
          0.95,
          1.7,
          3,
          5.1,
          8.3,
          12,
          19,
          30,
          45,
          60,
          80,
          98,
          0.01,
          0.016,
          0.027,
          0.045,
          0.077,
          0.13,
          0.21,
          0.35,
          0.6,
          0.95,
          1.7,
          3,
          5.1,
          8.3,
          12,
          19,
          30,
          45,
          60,
          80,
          98,
          0.01,
          0.016,
          0.027,
          0.045,
          0.077,
          0.13,
          0.21,
          0.35,
          0.6,
          0.95,
          1.7,
          3,
          5.1,
          8.3,
          12,
          19,
          30,
          45,
          60,
          80,
          98,
          0.01,
          0.016,
          0.027,
          0.045,
          0.077,
          0.13,
          0.21,
          0.35,
          0.6,
          0.95,
          1.7,
          3,
          5.1,
          8.3,
          12,
          19,
          30,
          45,
          60,
          80,
          98,
          0.01,
          0.016,
          0.027,
          0.045,
          0.077,
          0.13,
          0.21,
          0.35,
          0.6,
          0.95,
          1.7,
          3,
          5.1,
          8.3,
          12,
          19,
          30,
          45,
          60,
          80,
          98,
          0.01,
          0.016,
          0.027,
          0.045,
          0.077,
          0.13,
          0.21,
          0.35,
          0.6,
          0.95,
          1.7,
          3,
          5.1,
          8.3,
          12,
          19,
          30,
          45,
          60,
          80,
          98
         ],
         "y": [
          6.040251540086734,
          5.587495171244302,
          5.116101069720894,
          4.686101327699322,
          4.262169551873679,
          3.8731272767708216,
          3.5348155737796056,
          3.190078618925831,
          2.8402110118981425,
          2.5502343578338706,
          2.1900171733570555,
          1.8415657772712106,
          1.514699352829979,
          1.2102867107750475,
          0.9752044312242855,
          0.67448587406872,
          0.3648245788946959,
          0.07904338517736015,
          -0.1308990724452352,
          -0.34748179417324576,
          -0.5045838720115645
         ]
        }
       ],
       "layout": {
        "shapes": [
         {
          "line": {
           "color": "red",
           "dash": "dash",
           "width": 3
          },
          "type": "line",
          "x0": 1,
          "x1": 1,
          "xref": "x",
          "y0": 0,
          "y1": 1,
          "yref": "y domain"
         },
         {
          "line": {
           "color": "green",
           "dash": "dash",
           "width": 3
          },
          "type": "line",
          "x0": 0.5,
          "x1": 0.5,
          "xref": "x",
          "y0": 0,
          "y1": 1,
          "yref": "y domain"
         },
         {
          "line": {
           "color": "yellow",
           "dash": "dash",
           "width": 3
          },
          "type": "line",
          "x0": 0.1,
          "x1": 0.1,
          "xref": "x",
          "y0": 0,
          "y1": 1,
          "yref": "y domain"
         },
         {
          "line": {
           "color": "orange",
           "dash": "dash",
           "width": 3
          },
          "type": "line",
          "x0": 0.01,
          "x1": 0.01,
          "xref": "x",
          "y0": 0,
          "y1": 1,
          "yref": "y domain"
         }
        ],
        "template": {
         "data": {
          "bar": [
           {
            "error_x": {
             "color": "#2a3f5f"
            },
            "error_y": {
             "color": "#2a3f5f"
            },
            "marker": {
             "line": {
              "color": "#E5ECF6",
              "width": 0.5
             }
            },
            "type": "bar"
           }
          ],
          "barpolar": [
           {
            "marker": {
             "line": {
              "color": "#E5ECF6",
              "width": 0.5
             }
            },
            "type": "barpolar"
           }
          ],
          "carpet": [
           {
            "aaxis": {
             "endlinecolor": "#2a3f5f",
             "gridcolor": "white",
             "linecolor": "white",
             "minorgridcolor": "white",
             "startlinecolor": "#2a3f5f"
            },
            "baxis": {
             "endlinecolor": "#2a3f5f",
             "gridcolor": "white",
             "linecolor": "white",
             "minorgridcolor": "white",
             "startlinecolor": "#2a3f5f"
            },
            "type": "carpet"
           }
          ],
          "choropleth": [
           {
            "colorbar": {
             "outlinewidth": 0,
             "ticks": ""
            },
            "type": "choropleth"
           }
          ],
          "contour": [
           {
            "colorbar": {
             "outlinewidth": 0,
             "ticks": ""
            },
            "colorscale": [
             [
              0,
              "#0d0887"
             ],
             [
              0.1111111111111111,
              "#46039f"
             ],
             [
              0.2222222222222222,
              "#7201a8"
             ],
             [
              0.3333333333333333,
              "#9c179e"
             ],
             [
              0.4444444444444444,
              "#bd3786"
             ],
             [
              0.5555555555555556,
              "#d8576b"
             ],
             [
              0.6666666666666666,
              "#ed7953"
             ],
             [
              0.7777777777777778,
              "#fb9f3a"
             ],
             [
              0.8888888888888888,
              "#fdca26"
             ],
             [
              1,
              "#f0f921"
             ]
            ],
            "type": "contour"
           }
          ],
          "contourcarpet": [
           {
            "colorbar": {
             "outlinewidth": 0,
             "ticks": ""
            },
            "type": "contourcarpet"
           }
          ],
          "heatmap": [
           {
            "colorbar": {
             "outlinewidth": 0,
             "ticks": ""
            },
            "colorscale": [
             [
              0,
              "#0d0887"
             ],
             [
              0.1111111111111111,
              "#46039f"
             ],
             [
              0.2222222222222222,
              "#7201a8"
             ],
             [
              0.3333333333333333,
              "#9c179e"
             ],
             [
              0.4444444444444444,
              "#bd3786"
             ],
             [
              0.5555555555555556,
              "#d8576b"
             ],
             [
              0.6666666666666666,
              "#ed7953"
             ],
             [
              0.7777777777777778,
              "#fb9f3a"
             ],
             [
              0.8888888888888888,
              "#fdca26"
             ],
             [
              1,
              "#f0f921"
             ]
            ],
            "type": "heatmap"
           }
          ],
          "heatmapgl": [
           {
            "colorbar": {
             "outlinewidth": 0,
             "ticks": ""
            },
            "colorscale": [
             [
              0,
              "#0d0887"
             ],
             [
              0.1111111111111111,
              "#46039f"
             ],
             [
              0.2222222222222222,
              "#7201a8"
             ],
             [
              0.3333333333333333,
              "#9c179e"
             ],
             [
              0.4444444444444444,
              "#bd3786"
             ],
             [
              0.5555555555555556,
              "#d8576b"
             ],
             [
              0.6666666666666666,
              "#ed7953"
             ],
             [
              0.7777777777777778,
              "#fb9f3a"
             ],
             [
              0.8888888888888888,
              "#fdca26"
             ],
             [
              1,
              "#f0f921"
             ]
            ],
            "type": "heatmapgl"
           }
          ],
          "histogram": [
           {
            "marker": {
             "colorbar": {
              "outlinewidth": 0,
              "ticks": ""
             }
            },
            "type": "histogram"
           }
          ],
          "histogram2d": [
           {
            "colorbar": {
             "outlinewidth": 0,
             "ticks": ""
            },
            "colorscale": [
             [
              0,
              "#0d0887"
             ],
             [
              0.1111111111111111,
              "#46039f"
             ],
             [
              0.2222222222222222,
              "#7201a8"
             ],
             [
              0.3333333333333333,
              "#9c179e"
             ],
             [
              0.4444444444444444,
              "#bd3786"
             ],
             [
              0.5555555555555556,
              "#d8576b"
             ],
             [
              0.6666666666666666,
              "#ed7953"
             ],
             [
              0.7777777777777778,
              "#fb9f3a"
             ],
             [
              0.8888888888888888,
              "#fdca26"
             ],
             [
              1,
              "#f0f921"
             ]
            ],
            "type": "histogram2d"
           }
          ],
          "histogram2dcontour": [
           {
            "colorbar": {
             "outlinewidth": 0,
             "ticks": ""
            },
            "colorscale": [
             [
              0,
              "#0d0887"
             ],
             [
              0.1111111111111111,
              "#46039f"
             ],
             [
              0.2222222222222222,
              "#7201a8"
             ],
             [
              0.3333333333333333,
              "#9c179e"
             ],
             [
              0.4444444444444444,
              "#bd3786"
             ],
             [
              0.5555555555555556,
              "#d8576b"
             ],
             [
              0.6666666666666666,
              "#ed7953"
             ],
             [
              0.7777777777777778,
              "#fb9f3a"
             ],
             [
              0.8888888888888888,
              "#fdca26"
             ],
             [
              1,
              "#f0f921"
             ]
            ],
            "type": "histogram2dcontour"
           }
          ],
          "mesh3d": [
           {
            "colorbar": {
             "outlinewidth": 0,
             "ticks": ""
            },
            "type": "mesh3d"
           }
          ],
          "parcoords": [
           {
            "line": {
             "colorbar": {
              "outlinewidth": 0,
              "ticks": ""
             }
            },
            "type": "parcoords"
           }
          ],
          "pie": [
           {
            "automargin": true,
            "type": "pie"
           }
          ],
          "scatter": [
           {
            "marker": {
             "colorbar": {
              "outlinewidth": 0,
              "ticks": ""
             }
            },
            "type": "scatter"
           }
          ],
          "scatter3d": [
           {
            "line": {
             "colorbar": {
              "outlinewidth": 0,
              "ticks": ""
             }
            },
            "marker": {
             "colorbar": {
              "outlinewidth": 0,
              "ticks": ""
             }
            },
            "type": "scatter3d"
           }
          ],
          "scattercarpet": [
           {
            "marker": {
             "colorbar": {
              "outlinewidth": 0,
              "ticks": ""
             }
            },
            "type": "scattercarpet"
           }
          ],
          "scattergeo": [
           {
            "marker": {
             "colorbar": {
              "outlinewidth": 0,
              "ticks": ""
             }
            },
            "type": "scattergeo"
           }
          ],
          "scattergl": [
           {
            "marker": {
             "colorbar": {
              "outlinewidth": 0,
              "ticks": ""
             }
            },
            "type": "scattergl"
           }
          ],
          "scattermapbox": [
           {
            "marker": {
             "colorbar": {
              "outlinewidth": 0,
              "ticks": ""
             }
            },
            "type": "scattermapbox"
           }
          ],
          "scatterpolar": [
           {
            "marker": {
             "colorbar": {
              "outlinewidth": 0,
              "ticks": ""
             }
            },
            "type": "scatterpolar"
           }
          ],
          "scatterpolargl": [
           {
            "marker": {
             "colorbar": {
              "outlinewidth": 0,
              "ticks": ""
             }
            },
            "type": "scatterpolargl"
           }
          ],
          "scatterternary": [
           {
            "marker": {
             "colorbar": {
              "outlinewidth": 0,
              "ticks": ""
             }
            },
            "type": "scatterternary"
           }
          ],
          "surface": [
           {
            "colorbar": {
             "outlinewidth": 0,
             "ticks": ""
            },
            "colorscale": [
             [
              0,
              "#0d0887"
             ],
             [
              0.1111111111111111,
              "#46039f"
             ],
             [
              0.2222222222222222,
              "#7201a8"
             ],
             [
              0.3333333333333333,
              "#9c179e"
             ],
             [
              0.4444444444444444,
              "#bd3786"
             ],
             [
              0.5555555555555556,
              "#d8576b"
             ],
             [
              0.6666666666666666,
              "#ed7953"
             ],
             [
              0.7777777777777778,
              "#fb9f3a"
             ],
             [
              0.8888888888888888,
              "#fdca26"
             ],
             [
              1,
              "#f0f921"
             ]
            ],
            "type": "surface"
           }
          ],
          "table": [
           {
            "cells": {
             "fill": {
              "color": "#EBF0F8"
             },
             "line": {
              "color": "white"
             }
            },
            "header": {
             "fill": {
              "color": "#C8D4E3"
             },
             "line": {
              "color": "white"
             }
            },
            "type": "table"
           }
          ]
         },
         "layout": {
          "annotationdefaults": {
           "arrowcolor": "#2a3f5f",
           "arrowhead": 0,
           "arrowwidth": 1
          },
          "autotypenumbers": "strict",
          "coloraxis": {
           "colorbar": {
            "outlinewidth": 0,
            "ticks": ""
           }
          },
          "colorscale": {
           "diverging": [
            [
             0,
             "#8e0152"
            ],
            [
             0.1,
             "#c51b7d"
            ],
            [
             0.2,
             "#de77ae"
            ],
            [
             0.3,
             "#f1b6da"
            ],
            [
             0.4,
             "#fde0ef"
            ],
            [
             0.5,
             "#f7f7f7"
            ],
            [
             0.6,
             "#e6f5d0"
            ],
            [
             0.7,
             "#b8e186"
            ],
            [
             0.8,
             "#7fbc41"
            ],
            [
             0.9,
             "#4d9221"
            ],
            [
             1,
             "#276419"
            ]
           ],
           "sequential": [
            [
             0,
             "#0d0887"
            ],
            [
             0.1111111111111111,
             "#46039f"
            ],
            [
             0.2222222222222222,
             "#7201a8"
            ],
            [
             0.3333333333333333,
             "#9c179e"
            ],
            [
             0.4444444444444444,
             "#bd3786"
            ],
            [
             0.5555555555555556,
             "#d8576b"
            ],
            [
             0.6666666666666666,
             "#ed7953"
            ],
            [
             0.7777777777777778,
             "#fb9f3a"
            ],
            [
             0.8888888888888888,
             "#fdca26"
            ],
            [
             1,
             "#f0f921"
            ]
           ],
           "sequentialminus": [
            [
             0,
             "#0d0887"
            ],
            [
             0.1111111111111111,
             "#46039f"
            ],
            [
             0.2222222222222222,
             "#7201a8"
            ],
            [
             0.3333333333333333,
             "#9c179e"
            ],
            [
             0.4444444444444444,
             "#bd3786"
            ],
            [
             0.5555555555555556,
             "#d8576b"
            ],
            [
             0.6666666666666666,
             "#ed7953"
            ],
            [
             0.7777777777777778,
             "#fb9f3a"
            ],
            [
             0.8888888888888888,
             "#fdca26"
            ],
            [
             1,
             "#f0f921"
            ]
           ]
          },
          "colorway": [
           "#636efa",
           "#EF553B",
           "#00cc96",
           "#ab63fa",
           "#FFA15A",
           "#19d3f3",
           "#FF6692",
           "#B6E880",
           "#FF97FF",
           "#FECB52"
          ],
          "font": {
           "color": "#2a3f5f"
          },
          "geo": {
           "bgcolor": "white",
           "lakecolor": "white",
           "landcolor": "#E5ECF6",
           "showlakes": true,
           "showland": true,
           "subunitcolor": "white"
          },
          "hoverlabel": {
           "align": "left"
          },
          "hovermode": "closest",
          "mapbox": {
           "style": "light"
          },
          "paper_bgcolor": "white",
          "plot_bgcolor": "#E5ECF6",
          "polar": {
           "angularaxis": {
            "gridcolor": "white",
            "linecolor": "white",
            "ticks": ""
           },
           "bgcolor": "#E5ECF6",
           "radialaxis": {
            "gridcolor": "white",
            "linecolor": "white",
            "ticks": ""
           }
          },
          "scene": {
           "xaxis": {
            "backgroundcolor": "#E5ECF6",
            "gridcolor": "white",
            "gridwidth": 2,
            "linecolor": "white",
            "showbackground": true,
            "ticks": "",
            "zerolinecolor": "white"
           },
           "yaxis": {
            "backgroundcolor": "#E5ECF6",
            "gridcolor": "white",
            "gridwidth": 2,
            "linecolor": "white",
            "showbackground": true,
            "ticks": "",
            "zerolinecolor": "white"
           },
           "zaxis": {
            "backgroundcolor": "#E5ECF6",
            "gridcolor": "white",
            "gridwidth": 2,
            "linecolor": "white",
            "showbackground": true,
            "ticks": "",
            "zerolinecolor": "white"
           }
          },
          "shapedefaults": {
           "line": {
            "color": "#2a3f5f"
           }
          },
          "ternary": {
           "aaxis": {
            "gridcolor": "white",
            "linecolor": "white",
            "ticks": ""
           },
           "baxis": {
            "gridcolor": "white",
            "linecolor": "white",
            "ticks": ""
           },
           "bgcolor": "#E5ECF6",
           "caxis": {
            "gridcolor": "white",
            "linecolor": "white",
            "ticks": ""
           }
          },
          "title": {
           "x": 0.05
          },
          "xaxis": {
           "automargin": true,
           "gridcolor": "white",
           "linecolor": "white",
           "ticks": "",
           "title": {
            "standoff": 15
           },
           "zerolinecolor": "white",
           "zerolinewidth": 2
          },
          "yaxis": {
           "automargin": true,
           "gridcolor": "white",
           "linecolor": "white",
           "ticks": "",
           "title": {
            "standoff": 15
           },
           "zerolinecolor": "white",
           "zerolinewidth": 2
          }
         }
        },
        "title": {
         "text": "df_ljubljana_75, scintillation attenuation"
        },
        "xaxis": {
         "title": {
          "text": "Time exceeded  [%]log"
         },
         "type": "log"
        },
        "yaxis": {
         "title": {
          "text": "Attenuation scintillation [dB]"
         }
        }
       }
      }
     },
     "metadata": {},
     "output_type": "display_data"
    }
   ],
   "source": [
    "ponderated_df = []\n",
    "\n",
    "for data_df in dfs:\n",
    "    ponderated_attenuation = 0\n",
    "\n",
    "    for elev in stat.index.array[:-1]:\n",
    "        ponderated_attenuation +=  data_df[data_df['Elevation_angle_deg']==elev][att_col].array*stat['PDF'][elev]/100 # /100 to transform % to decimal\n",
    "    ponderated_df.append(ponderated_attenuation)\n",
    "    fig = go.Figure()\n",
    "    fig.add_trace(go.Scatter(x=data_df['Time_exceeded_%'],y=ponderated_attenuation))\n",
    "    fig.update_xaxes(type=\"log\")\n",
    "    fig.update_layout(title=f\"{data_df.name}, {selected_attenuation} attenuation\", xaxis_title=\"Time exceeded  [%]log\", yaxis_title=f\"Attenuation {selected_attenuation} [dB]\")    \n",
    "    fig.add_vline(x=1, line_width=3, line_dash=\"dash\", line_color=\"red\")\n",
    "    fig.add_vline(x=0.5, line_width=3, line_dash=\"dash\", line_color=\"green\")\n",
    "    fig.add_vline(x=0.1, line_width=3, line_dash=\"dash\", line_color=\"yellow\")\n",
    "    fig.add_vline(x=0.01, line_width=3, line_dash=\"dash\", line_color=\"orange\")\n",
    "    fig.show()"
   ]
  },
  {
   "cell_type": "code",
   "execution_count": null,
   "metadata": {},
   "outputs": [],
   "source": [
    "\n",
    "fr = 75*10**9  # frequency GHz\n",
    "lamda = 3*10**8/fr # wavelength [meter]\n",
    "\n",
    "ind  = np.logical_and( 0 <= coord_df['EL'] , coord_df['EL'] < 90) # For all elevation that are in the range 0, 90 degrees\n",
    "distances = coord_df[ind, 'DISTANCES']\n",
    "\n",
    "r =  np.mean(distances) # Earth-satellite mean distance [meter]\n",
    "\n",
    "L_0 = 20*np.log10(4*np.pi*r/lamda) # free space loss [dB]\n",
    "print(L_0)\n",
    "\n",
    "#L_atm = LEO['ATTENUATION']\n",
    "# Atmospheric attenuation for every probability [dB]\n",
    "#L_misc = ??  # Micellaneous loss [dB]\n",
    "\n",
    "\n",
    "L = L_0 +L_atm # total path loss"
   ]
  }
 ],
 "metadata": {
  "interpreter": {
   "hash": "a0a6418f5a2ddd18444d026a94ad36da0e3b74fe629d7d82274bf9e4a91dc94b"
  },
  "kernelspec": {
   "display_name": "Python 3",
   "language": "python",
   "name": "python3"
  },
  "language_info": {
   "codemirror_mode": {
    "name": "ipython",
    "version": 3
   },
   "file_extension": ".py",
   "mimetype": "text/x-python",
   "name": "python",
   "nbconvert_exporter": "python",
   "pygments_lexer": "ipython3",
   "version": "3.9.1"
  }
 },
 "nbformat": 4,
 "nbformat_minor": 4
}
