{
 "cells": [
  {
   "cell_type": "markdown",
   "metadata": {},
   "source": [
    "<style>\n",
    "    h1 {font-family:Times; font-size:20pt}\n",
    "    h2 {font-family:Times; font-size:18pt}\n",
    "    h3 {font-family:Times; font-size:16pt}\n",
    "    p {font-family:Times; font-size:12pt}\n",
    "    </style>\n",
    "    \n",
    "> # Earth Satellites\n",
    ">\n",
    "> Skyfield is able to predict the positions of Earth satellites by loading satellite orbital elements from Two-Line Element (TLE) files — published by organizations like CelesTrak — and running them through the SGP4 satellite propagation routine. \n"
   ]
  },
  {
   "cell_type": "code",
   "execution_count": 18,
   "metadata": {},
   "outputs": [],
   "source": [
    "import numpy as np\n",
    "import pandas as pd\n",
    "import plotly.express as px\n",
    "from scipy.interpolate import interp1d\n",
    "import matplotlib.pyplot as plt\n",
    "import h5py\n",
    "import os\n",
    "\n",
    "from skyfield.api import load, wgs84"
   ]
  },
  {
   "cell_type": "markdown",
   "metadata": {},
   "source": [
    "<style>\n",
    "    h1 {font-family:Times; font-size:20pt}\n",
    "    h2 {font-family:Times; font-size:18pt}\n",
    "    h3 {font-family:Times; font-size:16pt}\n",
    "    p {font-family:Times; font-size:12pt}\n",
    "    </style>\n",
    "    \n",
    "> ## Loading a TLE file\n",
    ">\n",
    "> Skyfield loader objects offer a tle_file() method that can download and cache a file full of satellite elements from a site like Celestrak. A popular observing target for satellite observers is the International Space Station, which is listed in Celestrak’s stations.txt file:"
   ]
  },
  {
   "cell_type": "code",
   "execution_count": 19,
   "metadata": {},
   "outputs": [
    {
     "name": "stdout",
     "output_type": "stream",
     "text": [
      "METOP-A catalog #29499 epoch 2021-12-07 21:43:58 UTC\n"
     ]
    }
   ],
   "source": [
    "stations_url = 'https://celestrak.com/NORAD/elements/weather.txt'\n",
    "\n",
    "\n",
    "satellites = load.tle_file(stations_url, reload=False)\n",
    "\n",
    "by_name = {sat.name: sat for sat in satellites}\n",
    "satellite = by_name['METOP-A']\n",
    "\n",
    "print(satellite)"
   ]
  },
  {
   "cell_type": "markdown",
   "metadata": {},
   "source": [
    "<style>\n",
    "    h1 {font-family:Times; font-size:20pt}\n",
    "    h2 {font-family:Times; font-size:18pt}\n",
    "    h3 {font-family:Times; font-size:16pt}\n",
    "    p {font-family:Times; font-size:12pt}\n",
    "    </style>\n",
    "    \n",
    "> ## Loading a TLE set from strings\n",
    "> If your program already has the two lines of TLE data for a satellite and doesn’t need Skyfield to download and parse a Celestrak file, you can instantiate an EarthSatellite directly."
   ]
  },
  {
   "cell_type": "code",
   "execution_count": 20,
   "metadata": {},
   "outputs": [
    {
     "name": "stdout",
     "output_type": "stream",
     "text": [
      "<skyfield.timelib.Timescale object at 0x7f4c1824ed00>\n",
      "METOP-B catalog #38771 epoch 2021-11-24 03:45:24 UTC\n"
     ]
    }
   ],
   "source": [
    "from skyfield.api import EarthSatellite\n",
    "\n",
    "ts = load.timescale()\n",
    "line1 = '1 38771U 12049A   21328.15653177  .00000019  00000+0  28851-4 0  9990'\n",
    "line2 = '2 38771  98.6954  26.0543 0000110 196.3188 189.2859 14.21494351476561'\n",
    "\n",
    "satellite = EarthSatellite(line1, line2, 'METOP-B', ts)\n",
    "\n",
    "print(ts)\n",
    "print(satellite)"
   ]
  },
  {
   "cell_type": "markdown",
   "metadata": {},
   "source": [
    "<style>\n",
    "    h1 {font-family:Times; font-size:20pt}\n",
    "    h2 {font-family:Times; font-size:18pt}\n",
    "    h3 {font-family:Times; font-size:16pt}\n",
    "    p {font-family:Times; font-size:12pt}\n",
    "    </style>\n",
    ">\n",
    "> ## Satellite altitude, azimuth, and distance\n",
    ">\n",
    "> You might be most interested in whether the satellite is above or below the horizon from your own position as an observer, and in which direction to look for it. If you build an object to represent your latitude and longitude , you can use vector subtraction to ask “where will the satellite be relative to my location?”"
   ]
  },
  {
   "cell_type": "code",
   "execution_count": 21,
   "metadata": {},
   "outputs": [
    {
     "ename": "KeyboardInterrupt",
     "evalue": "",
     "output_type": "error",
     "traceback": [
      "\u001b[0;31m---------------------------------------------------------------------------\u001b[0m",
      "\u001b[0;31mKeyboardInterrupt\u001b[0m                         Traceback (most recent call last)",
      "\u001b[0;32m/tmp/ipykernel_11603/1260285012.py\u001b[0m in \u001b[0;36m<module>\u001b[0;34m\u001b[0m\n\u001b[1;32m     12\u001b[0m     \u001b[0mt\u001b[0m \u001b[0;34m=\u001b[0m \u001b[0mts\u001b[0m\u001b[0;34m.\u001b[0m\u001b[0mutc\u001b[0m\u001b[0;34m(\u001b[0m\u001b[0mdate\u001b[0m\u001b[0;34m.\u001b[0m\u001b[0myear\u001b[0m\u001b[0;34m,\u001b[0m \u001b[0mdate\u001b[0m\u001b[0;34m.\u001b[0m\u001b[0mmonth\u001b[0m\u001b[0;34m,\u001b[0m \u001b[0mdate\u001b[0m\u001b[0;34m.\u001b[0m\u001b[0mday\u001b[0m\u001b[0;34m,\u001b[0m \u001b[0mdate\u001b[0m\u001b[0;34m.\u001b[0m\u001b[0mhour\u001b[0m\u001b[0;34m,\u001b[0m \u001b[0mdate\u001b[0m\u001b[0;34m.\u001b[0m\u001b[0mminute\u001b[0m\u001b[0;34m,\u001b[0m \u001b[0mdate\u001b[0m\u001b[0;34m.\u001b[0m\u001b[0msecond\u001b[0m\u001b[0;34m)\u001b[0m\u001b[0;34m\u001b[0m\u001b[0;34m\u001b[0m\u001b[0m\n\u001b[1;32m     13\u001b[0m \u001b[0;34m\u001b[0m\u001b[0m\n\u001b[0;32m---> 14\u001b[0;31m     \u001b[0mtopocentric\u001b[0m \u001b[0;34m=\u001b[0m \u001b[0mdifference\u001b[0m\u001b[0;34m.\u001b[0m\u001b[0mat\u001b[0m\u001b[0;34m(\u001b[0m\u001b[0mt\u001b[0m\u001b[0;34m)\u001b[0m\u001b[0;34m\u001b[0m\u001b[0;34m\u001b[0m\u001b[0m\n\u001b[0m\u001b[1;32m     15\u001b[0m \u001b[0;34m\u001b[0m\u001b[0m\n\u001b[1;32m     16\u001b[0m     \u001b[0malt_\u001b[0m\u001b[0;34m,\u001b[0m \u001b[0maz_\u001b[0m\u001b[0;34m,\u001b[0m \u001b[0mdistance_\u001b[0m \u001b[0;34m=\u001b[0m \u001b[0mtopocentric\u001b[0m\u001b[0;34m.\u001b[0m\u001b[0maltaz\u001b[0m\u001b[0;34m(\u001b[0m\u001b[0;34m)\u001b[0m\u001b[0;34m\u001b[0m\u001b[0;34m\u001b[0m\u001b[0m\n",
      "\u001b[0;32m/export/share/Mojtaba/anaconda3/lib/python3.8/site-packages/skyfield/vectorlib.py\u001b[0m in \u001b[0;36mat\u001b[0;34m(self, t)\u001b[0m\n\u001b[1;32m     90\u001b[0m                              \u001b[0;34m' instance as its argument, instead of the'\u001b[0m\u001b[0;34m\u001b[0m\u001b[0;34m\u001b[0m\u001b[0m\n\u001b[1;32m     91\u001b[0m                              ' value {0!r}'.format(t))\n\u001b[0;32m---> 92\u001b[0;31m         \u001b[0mp\u001b[0m\u001b[0;34m,\u001b[0m \u001b[0mv\u001b[0m\u001b[0;34m,\u001b[0m \u001b[0mgcrs_position\u001b[0m\u001b[0;34m,\u001b[0m \u001b[0mmessage\u001b[0m \u001b[0;34m=\u001b[0m \u001b[0mself\u001b[0m\u001b[0;34m.\u001b[0m\u001b[0m_at\u001b[0m\u001b[0;34m(\u001b[0m\u001b[0mt\u001b[0m\u001b[0;34m)\u001b[0m\u001b[0;34m\u001b[0m\u001b[0;34m\u001b[0m\u001b[0m\n\u001b[0m\u001b[1;32m     93\u001b[0m         \u001b[0mcenter\u001b[0m \u001b[0;34m=\u001b[0m \u001b[0mself\u001b[0m\u001b[0;34m.\u001b[0m\u001b[0mcenter\u001b[0m\u001b[0;34m\u001b[0m\u001b[0;34m\u001b[0m\u001b[0m\n\u001b[1;32m     94\u001b[0m         \u001b[0mposition\u001b[0m \u001b[0;34m=\u001b[0m \u001b[0mbuild_position\u001b[0m\u001b[0;34m(\u001b[0m\u001b[0mp\u001b[0m\u001b[0;34m,\u001b[0m \u001b[0mv\u001b[0m\u001b[0;34m,\u001b[0m \u001b[0mt\u001b[0m\u001b[0;34m,\u001b[0m \u001b[0mcenter\u001b[0m\u001b[0;34m,\u001b[0m \u001b[0mself\u001b[0m\u001b[0;34m.\u001b[0m\u001b[0mtarget\u001b[0m\u001b[0;34m)\u001b[0m\u001b[0;34m\u001b[0m\u001b[0;34m\u001b[0m\u001b[0m\n",
      "\u001b[0;32m/export/share/Mojtaba/anaconda3/lib/python3.8/site-packages/skyfield/vectorlib.py\u001b[0m in \u001b[0;36m_at\u001b[0;34m(self, t)\u001b[0m\n\u001b[1;32m    213\u001b[0m         \u001b[0mgcrs_position\u001b[0m \u001b[0;34m=\u001b[0m \u001b[0;32mNone\u001b[0m\u001b[0;34m\u001b[0m\u001b[0;34m\u001b[0m\u001b[0m\n\u001b[1;32m    214\u001b[0m         \u001b[0;32mfor\u001b[0m \u001b[0mvf\u001b[0m \u001b[0;32min\u001b[0m \u001b[0mself\u001b[0m\u001b[0;34m.\u001b[0m\u001b[0mvector_functions\u001b[0m\u001b[0;34m:\u001b[0m\u001b[0;34m\u001b[0m\u001b[0;34m\u001b[0m\u001b[0m\n\u001b[0;32m--> 215\u001b[0;31m             \u001b[0mp2\u001b[0m\u001b[0;34m,\u001b[0m \u001b[0mv2\u001b[0m\u001b[0;34m,\u001b[0m \u001b[0manother_gcrs_position\u001b[0m\u001b[0;34m,\u001b[0m \u001b[0mmessage\u001b[0m \u001b[0;34m=\u001b[0m \u001b[0mvf\u001b[0m\u001b[0;34m.\u001b[0m\u001b[0m_at\u001b[0m\u001b[0;34m(\u001b[0m\u001b[0mt\u001b[0m\u001b[0;34m)\u001b[0m\u001b[0;34m\u001b[0m\u001b[0;34m\u001b[0m\u001b[0m\n\u001b[0m\u001b[1;32m    216\u001b[0m             \u001b[0;32mif\u001b[0m \u001b[0mgcrs_position\u001b[0m \u001b[0;32mis\u001b[0m \u001b[0;32mNone\u001b[0m\u001b[0;34m:\u001b[0m  \u001b[0;31m# TODO: so bootleg; rework whole idea\u001b[0m\u001b[0;34m\u001b[0m\u001b[0;34m\u001b[0m\u001b[0m\n\u001b[1;32m    217\u001b[0m                 \u001b[0mgcrs_position\u001b[0m \u001b[0;34m=\u001b[0m \u001b[0manother_gcrs_position\u001b[0m\u001b[0;34m\u001b[0m\u001b[0;34m\u001b[0m\u001b[0m\n",
      "\u001b[0;32m/export/share/Mojtaba/anaconda3/lib/python3.8/site-packages/skyfield/vectorlib.py\u001b[0m in \u001b[0;36m_at\u001b[0;34m(self, t)\u001b[0m\n\u001b[1;32m    184\u001b[0m \u001b[0;34m\u001b[0m\u001b[0m\n\u001b[1;32m    185\u001b[0m     \u001b[0;32mdef\u001b[0m \u001b[0m_at\u001b[0m\u001b[0;34m(\u001b[0m\u001b[0mself\u001b[0m\u001b[0;34m,\u001b[0m \u001b[0mt\u001b[0m\u001b[0;34m)\u001b[0m\u001b[0;34m:\u001b[0m\u001b[0;34m\u001b[0m\u001b[0;34m\u001b[0m\u001b[0m\n\u001b[0;32m--> 186\u001b[0;31m         \u001b[0mp\u001b[0m\u001b[0;34m,\u001b[0m \u001b[0mv\u001b[0m\u001b[0;34m,\u001b[0m \u001b[0mgcrs_position\u001b[0m\u001b[0;34m,\u001b[0m \u001b[0mmessage\u001b[0m \u001b[0;34m=\u001b[0m \u001b[0mself\u001b[0m\u001b[0;34m.\u001b[0m\u001b[0mvector_function\u001b[0m\u001b[0;34m.\u001b[0m\u001b[0m_at\u001b[0m\u001b[0;34m(\u001b[0m\u001b[0mt\u001b[0m\u001b[0;34m)\u001b[0m\u001b[0;34m\u001b[0m\u001b[0;34m\u001b[0m\u001b[0m\n\u001b[0m\u001b[1;32m    187\u001b[0m         \u001b[0;32mreturn\u001b[0m \u001b[0;34m-\u001b[0m\u001b[0mp\u001b[0m\u001b[0;34m,\u001b[0m \u001b[0;34m-\u001b[0m\u001b[0mv\u001b[0m\u001b[0;34m,\u001b[0m \u001b[0mgcrs_position\u001b[0m\u001b[0;34m,\u001b[0m \u001b[0mmessage\u001b[0m\u001b[0;34m\u001b[0m\u001b[0;34m\u001b[0m\u001b[0m\n\u001b[1;32m    188\u001b[0m \u001b[0;34m\u001b[0m\u001b[0m\n",
      "\u001b[0;32m/export/share/Mojtaba/anaconda3/lib/python3.8/site-packages/skyfield/toposlib.py\u001b[0m in \u001b[0;36m_at\u001b[0;34m(self, t)\u001b[0m\n\u001b[1;32m     44\u001b[0m         \u001b[0mv\u001b[0m \u001b[0;34m=\u001b[0m \u001b[0mself\u001b[0m\u001b[0;34m.\u001b[0m\u001b[0m_velocity_au_per_d\u001b[0m\u001b[0;34m\u001b[0m\u001b[0;34m\u001b[0m\u001b[0m\n\u001b[1;32m     45\u001b[0m \u001b[0;34m\u001b[0m\u001b[0m\n\u001b[0;32m---> 46\u001b[0;31m         \u001b[0mRT\u001b[0m \u001b[0;34m=\u001b[0m \u001b[0m_T\u001b[0m\u001b[0;34m(\u001b[0m\u001b[0mitrs\u001b[0m\u001b[0;34m.\u001b[0m\u001b[0mrotation_at\u001b[0m\u001b[0;34m(\u001b[0m\u001b[0mt\u001b[0m\u001b[0;34m)\u001b[0m\u001b[0;34m)\u001b[0m\u001b[0;34m\u001b[0m\u001b[0;34m\u001b[0m\u001b[0m\n\u001b[0m\u001b[1;32m     47\u001b[0m         \u001b[0mr\u001b[0m \u001b[0;34m=\u001b[0m \u001b[0mmxv\u001b[0m\u001b[0;34m(\u001b[0m\u001b[0mRT\u001b[0m\u001b[0;34m,\u001b[0m \u001b[0mr\u001b[0m\u001b[0;34m)\u001b[0m\u001b[0;34m\u001b[0m\u001b[0;34m\u001b[0m\u001b[0m\n\u001b[1;32m     48\u001b[0m         \u001b[0mv\u001b[0m \u001b[0;34m=\u001b[0m \u001b[0mmxv\u001b[0m\u001b[0;34m(\u001b[0m\u001b[0mRT\u001b[0m\u001b[0;34m,\u001b[0m \u001b[0mv\u001b[0m\u001b[0;34m)\u001b[0m\u001b[0;34m\u001b[0m\u001b[0;34m\u001b[0m\u001b[0m\n",
      "\u001b[0;32m/export/share/Mojtaba/anaconda3/lib/python3.8/site-packages/skyfield/framelib.py\u001b[0m in \u001b[0;36mrotation_at\u001b[0;34m(t)\u001b[0m\n\u001b[1;32m    120\u001b[0m     \u001b[0;34m@\u001b[0m\u001b[0mstaticmethod\u001b[0m\u001b[0;34m\u001b[0m\u001b[0;34m\u001b[0m\u001b[0m\n\u001b[1;32m    121\u001b[0m     \u001b[0;32mdef\u001b[0m \u001b[0mrotation_at\u001b[0m\u001b[0;34m(\u001b[0m\u001b[0mt\u001b[0m\u001b[0;34m)\u001b[0m\u001b[0;34m:\u001b[0m\u001b[0;34m\u001b[0m\u001b[0;34m\u001b[0m\u001b[0m\n\u001b[0;32m--> 122\u001b[0;31m         \u001b[0mR\u001b[0m \u001b[0;34m=\u001b[0m \u001b[0mmxm\u001b[0m\u001b[0;34m(\u001b[0m\u001b[0mrot_z\u001b[0m\u001b[0;34m(\u001b[0m\u001b[0;34m-\u001b[0m\u001b[0mt\u001b[0m\u001b[0;34m.\u001b[0m\u001b[0mgast\u001b[0m \u001b[0;34m*\u001b[0m \u001b[0mtau\u001b[0m \u001b[0;34m/\u001b[0m \u001b[0;36m24.0\u001b[0m\u001b[0;34m)\u001b[0m\u001b[0;34m,\u001b[0m \u001b[0mt\u001b[0m\u001b[0;34m.\u001b[0m\u001b[0mM\u001b[0m\u001b[0;34m)\u001b[0m\u001b[0;34m\u001b[0m\u001b[0;34m\u001b[0m\u001b[0m\n\u001b[0m\u001b[1;32m    123\u001b[0m         \u001b[0;32mif\u001b[0m \u001b[0mt\u001b[0m\u001b[0;34m.\u001b[0m\u001b[0mts\u001b[0m\u001b[0;34m.\u001b[0m\u001b[0mpolar_motion_table\u001b[0m \u001b[0;32mis\u001b[0m \u001b[0;32mnot\u001b[0m \u001b[0;32mNone\u001b[0m\u001b[0;34m:\u001b[0m\u001b[0;34m\u001b[0m\u001b[0;34m\u001b[0m\u001b[0m\n\u001b[1;32m    124\u001b[0m             \u001b[0mR\u001b[0m \u001b[0;34m=\u001b[0m \u001b[0mmxm\u001b[0m\u001b[0;34m(\u001b[0m\u001b[0mt\u001b[0m\u001b[0;34m.\u001b[0m\u001b[0mpolar_motion_matrix\u001b[0m\u001b[0;34m(\u001b[0m\u001b[0;34m)\u001b[0m\u001b[0;34m,\u001b[0m \u001b[0mR\u001b[0m\u001b[0;34m)\u001b[0m\u001b[0;34m\u001b[0m\u001b[0;34m\u001b[0m\u001b[0m\n",
      "\u001b[0;32m/export/share/Mojtaba/anaconda3/lib/python3.8/site-packages/skyfield/descriptorlib.py\u001b[0m in \u001b[0;36m__get__\u001b[0;34m(self, instance, objtype)\u001b[0m\n\u001b[1;32m     10\u001b[0m         \u001b[0;32mif\u001b[0m \u001b[0minstance\u001b[0m \u001b[0;32mis\u001b[0m \u001b[0;32mNone\u001b[0m\u001b[0;34m:\u001b[0m\u001b[0;34m\u001b[0m\u001b[0;34m\u001b[0m\u001b[0m\n\u001b[1;32m     11\u001b[0m             \u001b[0;32mreturn\u001b[0m \u001b[0mself\u001b[0m\u001b[0;34m\u001b[0m\u001b[0;34m\u001b[0m\u001b[0m\n\u001b[0;32m---> 12\u001b[0;31m         \u001b[0mvalue\u001b[0m \u001b[0;34m=\u001b[0m \u001b[0mself\u001b[0m\u001b[0;34m.\u001b[0m\u001b[0mmethod\u001b[0m\u001b[0;34m(\u001b[0m\u001b[0minstance\u001b[0m\u001b[0;34m)\u001b[0m\u001b[0;34m\u001b[0m\u001b[0;34m\u001b[0m\u001b[0m\n\u001b[0m\u001b[1;32m     13\u001b[0m         \u001b[0minstance\u001b[0m\u001b[0;34m.\u001b[0m\u001b[0m__dict__\u001b[0m\u001b[0;34m[\u001b[0m\u001b[0mself\u001b[0m\u001b[0;34m.\u001b[0m\u001b[0m__name__\u001b[0m\u001b[0;34m]\u001b[0m \u001b[0;34m=\u001b[0m \u001b[0mvalue\u001b[0m\u001b[0;34m\u001b[0m\u001b[0;34m\u001b[0m\u001b[0m\n\u001b[1;32m     14\u001b[0m         \u001b[0;32mreturn\u001b[0m \u001b[0mvalue\u001b[0m\u001b[0;34m\u001b[0m\u001b[0;34m\u001b[0m\u001b[0m\n",
      "\u001b[0;32m/export/share/Mojtaba/anaconda3/lib/python3.8/site-packages/skyfield/timelib.py\u001b[0m in \u001b[0;36mgast\u001b[0;34m(self)\u001b[0m\n\u001b[1;32m    808\u001b[0m     \u001b[0;32mdef\u001b[0m \u001b[0mgast\u001b[0m\u001b[0;34m(\u001b[0m\u001b[0mself\u001b[0m\u001b[0;34m)\u001b[0m\u001b[0;34m:\u001b[0m\u001b[0;34m\u001b[0m\u001b[0;34m\u001b[0m\u001b[0m\n\u001b[1;32m    809\u001b[0m         \u001b[0;34m\"\"\"Greenwich Apparent Sidereal Time (GAST) in hours.\"\"\"\u001b[0m\u001b[0;34m\u001b[0m\u001b[0;34m\u001b[0m\u001b[0m\n\u001b[0;32m--> 810\u001b[0;31m         \u001b[0md_psi\u001b[0m\u001b[0;34m,\u001b[0m \u001b[0m_\u001b[0m \u001b[0;34m=\u001b[0m \u001b[0mself\u001b[0m\u001b[0;34m.\u001b[0m\u001b[0m_nutation_angles_radians\u001b[0m\u001b[0;34m\u001b[0m\u001b[0;34m\u001b[0m\u001b[0m\n\u001b[0m\u001b[1;32m    811\u001b[0m         \u001b[0mtt\u001b[0m \u001b[0;34m=\u001b[0m \u001b[0mself\u001b[0m\u001b[0;34m.\u001b[0m\u001b[0mtt\u001b[0m\u001b[0;34m\u001b[0m\u001b[0;34m\u001b[0m\u001b[0m\n\u001b[1;32m    812\u001b[0m         \u001b[0;31m# TODO: move this into an eqeq function?\u001b[0m\u001b[0;34m\u001b[0m\u001b[0;34m\u001b[0m\u001b[0;34m\u001b[0m\u001b[0m\n",
      "\u001b[0;32m/export/share/Mojtaba/anaconda3/lib/python3.8/site-packages/skyfield/descriptorlib.py\u001b[0m in \u001b[0;36m__get__\u001b[0;34m(self, instance, objtype)\u001b[0m\n\u001b[1;32m     10\u001b[0m         \u001b[0;32mif\u001b[0m \u001b[0minstance\u001b[0m \u001b[0;32mis\u001b[0m \u001b[0;32mNone\u001b[0m\u001b[0;34m:\u001b[0m\u001b[0;34m\u001b[0m\u001b[0;34m\u001b[0m\u001b[0m\n\u001b[1;32m     11\u001b[0m             \u001b[0;32mreturn\u001b[0m \u001b[0mself\u001b[0m\u001b[0;34m\u001b[0m\u001b[0;34m\u001b[0m\u001b[0m\n\u001b[0;32m---> 12\u001b[0;31m         \u001b[0mvalue\u001b[0m \u001b[0;34m=\u001b[0m \u001b[0mself\u001b[0m\u001b[0;34m.\u001b[0m\u001b[0mmethod\u001b[0m\u001b[0;34m(\u001b[0m\u001b[0minstance\u001b[0m\u001b[0;34m)\u001b[0m\u001b[0;34m\u001b[0m\u001b[0;34m\u001b[0m\u001b[0m\n\u001b[0m\u001b[1;32m     13\u001b[0m         \u001b[0minstance\u001b[0m\u001b[0;34m.\u001b[0m\u001b[0m__dict__\u001b[0m\u001b[0;34m[\u001b[0m\u001b[0mself\u001b[0m\u001b[0;34m.\u001b[0m\u001b[0m__name__\u001b[0m\u001b[0;34m]\u001b[0m \u001b[0;34m=\u001b[0m \u001b[0mvalue\u001b[0m\u001b[0;34m\u001b[0m\u001b[0;34m\u001b[0m\u001b[0m\n\u001b[1;32m     14\u001b[0m         \u001b[0;32mreturn\u001b[0m \u001b[0mvalue\u001b[0m\u001b[0;34m\u001b[0m\u001b[0;34m\u001b[0m\u001b[0m\n",
      "\u001b[0;32m/export/share/Mojtaba/anaconda3/lib/python3.8/site-packages/skyfield/timelib.py\u001b[0m in \u001b[0;36m_nutation_angles_radians\u001b[0;34m(self)\u001b[0m\n\u001b[1;32m    739\u001b[0m         \u001b[0;31m# TODO: add psi and eps corrections support back in here, rather\u001b[0m\u001b[0;34m\u001b[0m\u001b[0;34m\u001b[0m\u001b[0;34m\u001b[0m\u001b[0m\n\u001b[1;32m    740\u001b[0m         \u001b[0;31m# than at points of use.\u001b[0m\u001b[0;34m\u001b[0m\u001b[0;34m\u001b[0m\u001b[0;34m\u001b[0m\u001b[0m\n\u001b[0;32m--> 741\u001b[0;31m         \u001b[0;32mreturn\u001b[0m \u001b[0miau2000a_radians\u001b[0m\u001b[0;34m(\u001b[0m\u001b[0mself\u001b[0m\u001b[0;34m)\u001b[0m\u001b[0;34m\u001b[0m\u001b[0;34m\u001b[0m\u001b[0m\n\u001b[0m\u001b[1;32m    742\u001b[0m \u001b[0;34m\u001b[0m\u001b[0m\n\u001b[1;32m    743\u001b[0m     \u001b[0;32mdef\u001b[0m \u001b[0m_nutation_angles\u001b[0m\u001b[0;34m(\u001b[0m\u001b[0mself\u001b[0m\u001b[0;34m,\u001b[0m \u001b[0mangles\u001b[0m\u001b[0;34m)\u001b[0m\u001b[0;34m:\u001b[0m\u001b[0;34m\u001b[0m\u001b[0;34m\u001b[0m\u001b[0m\n",
      "\u001b[0;32m/export/share/Mojtaba/anaconda3/lib/python3.8/site-packages/skyfield/nutationlib.py\u001b[0m in \u001b[0;36miau2000a_radians\u001b[0;34m(t, fundamental_argument_terms, lunisolar_terms, planetary_terms)\u001b[0m\n\u001b[1;32m     27\u001b[0m                      planetary_terms=687):\n\u001b[1;32m     28\u001b[0m     \u001b[0;34m\"\"\"Return the IAU 2000A angles delta-psi and delta-epsilon in radians.\"\"\"\u001b[0m\u001b[0;34m\u001b[0m\u001b[0;34m\u001b[0m\u001b[0m\n\u001b[0;32m---> 29\u001b[0;31m     d_psi, d_eps = iau2000a(t.tt, fundamental_argument_terms, lunisolar_terms,\n\u001b[0m\u001b[1;32m     30\u001b[0m                             planetary_terms)\n\u001b[1;32m     31\u001b[0m     \u001b[0md_psi\u001b[0m \u001b[0;34m*=\u001b[0m \u001b[0m_TENTH_USEC_2_RAD\u001b[0m\u001b[0;34m\u001b[0m\u001b[0;34m\u001b[0m\u001b[0m\n",
      "\u001b[0;32m/export/share/Mojtaba/anaconda3/lib/python3.8/site-packages/skyfield/nutationlib.py\u001b[0m in \u001b[0;36miau2000a\u001b[0;34m(jd_tt, fundamental_argument_terms, lunisolar_terms, planetary_terms)\u001b[0m\n\u001b[1;32m    243\u001b[0m     \u001b[0marg\u001b[0m \u001b[0;34m=\u001b[0m \u001b[0mnals_t\u001b[0m\u001b[0;34m[\u001b[0m\u001b[0;34m:\u001b[0m\u001b[0mcutoff\u001b[0m\u001b[0;34m]\u001b[0m\u001b[0;34m.\u001b[0m\u001b[0mdot\u001b[0m\u001b[0;34m(\u001b[0m\u001b[0ma\u001b[0m\u001b[0;34m)\u001b[0m\u001b[0;34m.\u001b[0m\u001b[0mT\u001b[0m\u001b[0;34m\u001b[0m\u001b[0;34m\u001b[0m\u001b[0m\n\u001b[1;32m    244\u001b[0m \u001b[0;34m\u001b[0m\u001b[0m\n\u001b[0;32m--> 245\u001b[0;31m     \u001b[0msarg\u001b[0m \u001b[0;34m=\u001b[0m \u001b[0msin\u001b[0m\u001b[0;34m(\u001b[0m\u001b[0marg\u001b[0m\u001b[0;34m)\u001b[0m\u001b[0;34m\u001b[0m\u001b[0;34m\u001b[0m\u001b[0m\n\u001b[0m\u001b[1;32m    246\u001b[0m     \u001b[0mcarg\u001b[0m \u001b[0;34m=\u001b[0m \u001b[0mcos\u001b[0m\u001b[0;34m(\u001b[0m\u001b[0marg\u001b[0m\u001b[0;34m)\u001b[0m\u001b[0;34m\u001b[0m\u001b[0;34m\u001b[0m\u001b[0m\n\u001b[1;32m    247\u001b[0m \u001b[0;34m\u001b[0m\u001b[0m\n",
      "\u001b[0;31mKeyboardInterrupt\u001b[0m: "
     ]
    }
   ],
   "source": [
    "\n",
    "LLN = wgs84.latlon(50.67, 4.61)\n",
    "\n",
    "difference = satellite - LLN\n",
    "\n",
    "dates = pd.date_range(\"2020-01-01\",\"2021-01-01\",freq='60S')\n",
    "alt = np.zeros(np.size(dates)) * np.nan\n",
    "az = np.zeros(np.size(dates)) * np.nan\n",
    "distance = np.zeros(np.size(dates)) * np.nan\n",
    "\n",
    "for ii,date in enumerate(dates):\n",
    "\n",
    "    t = ts.utc(date.year, date.month, date.day, date.hour, date.minute, date.second)\n",
    "\n",
    "    topocentric = difference.at(t)\n",
    "\n",
    "    alt_, az_, distance_ = topocentric.altaz()\n",
    "\n",
    "    alt[ii] = alt_.degrees\n",
    "    az[ii] = az_.degrees\n",
    "    distance[ii] = distance_.km\n",
    "\n",
    "df = pd.DataFrame(index = dates)\n",
    "\n",
    "# ind = np.nonzero(alt<5)\n",
    "\n",
    "# alt[ind] = np.nan\n",
    "# az[ind] = np.nan \n",
    "\n",
    "df['EL'] = alt \n",
    "df['AZ'] = az \n",
    "df['DISTANCE'] = distance\n",
    "\n"
   ]
  },
  {
   "cell_type": "code",
   "execution_count": null,
   "metadata": {},
   "outputs": [
    {
     "data": {
      "image/png": "[encoded data removed]",
      "text/plain": [
       "<Figure size 1200x800 with 1 Axes>"
      ]
     },
     "metadata": {
      "needs_background": "light"
     },
     "output_type": "display_data"
    }
   ],
   "source": [
    "\n",
    "fig, ax = plt.subplots(dpi=200)\n",
    "ax = df.plot(ax=ax, y='EL', linestyle='solid', marker='')\n",
    "\n",
    "ax.grid(b=True, which='major', axis='both')\n",
    "ax.axhline(y=5, color='r', linestyle='-')\n",
    "\n",
    "plt.show()"
   ]
  },
  {
   "cell_type": "markdown",
   "metadata": {},
   "source": [
    "<style>\n",
    "    h1 {font-family:Times; font-size:20pt}\n",
    "    h2 {font-family:Times; font-size:18pt}\n",
    "    h3 {font-family:Times; font-size:16pt}\n",
    "    p {font-family:Times; font-size:12pt}\n",
    "    </style>\n",
    ">\n",
    "> ## Probability density function of LEO satellite visibility\n",
    ">\n",
    "> In this section the probability density function for elevation angle will be calculated $P(\\theta)$"
   ]
  },
  {
   "cell_type": "code",
   "execution_count": null,
   "metadata": {},
   "outputs": [
    {
     "data": {
      "application/vnd.plotly.v1+json": {
       "config": {
        "plotlyServerURL": "https://plot.ly"
       },
       "data": [
        {
         "alignmentgroup": "True",
         "hovertemplate": "index=%{x}<br>PDF=%{y}<extra></extra>",
         "legendgroup": "",
         "marker": {
          "color": "#636efa",
          "pattern": {
           "shape": ""
          }
         },
         "name": "",
         "offsetgroup": "",
         "orientation": "v",
         "showlegend": false,
         "textposition": "auto",
         "type": "bar",
         "x": [
          5,
          10,
          15,
          20,
          25,
          30,
          35,
          40,
          45,
          50,
          55,
          60,
          65,
          70,
          75,
          80,
          85,
          90
         ],
         "xaxis": "x",
         "y": [
          31.599474331256094,
          20.71304421552419,
          13.824240111916572,
          9.614650896604351,
          6.681080164483447,
          4.641994149815592,
          3.5058713807283057,
          2.5223621179363263,
          1.8779939802450296,
          1.4964602145067616,
          1.0767730721946671,
          0.7885031158590868,
          0.6825215142651236,
          0.4366441985671287,
          0.28403069227182165,
          0.20772393912416803,
          0.046631904701343846,
          0
         ],
         "yaxis": "y"
        }
       ],
       "layout": {
        "barmode": "relative",
        "font": {
         "color": "black",
         "family": "FreeSerif"
        },
        "legend": {
         "tracegroupgap": 0
        },
        "margin": {
         "t": 60
        },
        "template": {
         "data": {
          "bar": [
           {
            "error_x": {
             "color": "#2a3f5f"
            },
            "error_y": {
             "color": "#2a3f5f"
            },
            "marker": {
             "line": {
              "color": "#E5ECF6",
              "width": 0.5
             },
             "pattern": {
              "fillmode": "overlay",
              "size": 10,
              "solidity": 0.2
             }
            },
            "type": "bar"
           }
          ],
          "barpolar": [
           {
            "marker": {
             "line": {
              "color": "#E5ECF6",
              "width": 0.5
             },
             "pattern": {
              "fillmode": "overlay",
              "size": 10,
              "solidity": 0.2
             }
            },
            "type": "barpolar"
           }
          ],
          "carpet": [
           {
            "aaxis": {
             "endlinecolor": "#2a3f5f",
             "gridcolor": "white",
             "linecolor": "white",
             "minorgridcolor": "white",
             "startlinecolor": "#2a3f5f"
            },
            "baxis": {
             "endlinecolor": "#2a3f5f",
             "gridcolor": "white",
             "linecolor": "white",
             "minorgridcolor": "white",
             "startlinecolor": "#2a3f5f"
            },
            "type": "carpet"
           }
          ],
          "choropleth": [
           {
            "colorbar": {
             "outlinewidth": 0,
             "ticks": ""
            },
            "type": "choropleth"
           }
          ],
          "contour": [
           {
            "colorbar": {
             "outlinewidth": 0,
             "ticks": ""
            },
            "colorscale": [
             [
              0,
              "#0d0887"
             ],
             [
              0.1111111111111111,
              "#46039f"
             ],
             [
              0.2222222222222222,
              "#7201a8"
             ],
             [
              0.3333333333333333,
              "#9c179e"
             ],
             [
              0.4444444444444444,
              "#bd3786"
             ],
             [
              0.5555555555555556,
              "#d8576b"
             ],
             [
              0.6666666666666666,
              "#ed7953"
             ],
             [
              0.7777777777777778,
              "#fb9f3a"
             ],
             [
              0.8888888888888888,
              "#fdca26"
             ],
             [
              1,
              "#f0f921"
             ]
            ],
            "type": "contour"
           }
          ],
          "contourcarpet": [
           {
            "colorbar": {
             "outlinewidth": 0,
             "ticks": ""
            },
            "type": "contourcarpet"
           }
          ],
          "heatmap": [
           {
            "colorbar": {
             "outlinewidth": 0,
             "ticks": ""
            },
            "colorscale": [
             [
              0,
              "#0d0887"
             ],
             [
              0.1111111111111111,
              "#46039f"
             ],
             [
              0.2222222222222222,
              "#7201a8"
             ],
             [
              0.3333333333333333,
              "#9c179e"
             ],
             [
              0.4444444444444444,
              "#bd3786"
             ],
             [
              0.5555555555555556,
              "#d8576b"
             ],
             [
              0.6666666666666666,
              "#ed7953"
             ],
             [
              0.7777777777777778,
              "#fb9f3a"
             ],
             [
              0.8888888888888888,
              "#fdca26"
             ],
             [
              1,
              "#f0f921"
             ]
            ],
            "type": "heatmap"
           }
          ],
          "heatmapgl": [
           {
            "colorbar": {
             "outlinewidth": 0,
             "ticks": ""
            },
            "colorscale": [
             [
              0,
              "#0d0887"
             ],
             [
              0.1111111111111111,
              "#46039f"
             ],
             [
              0.2222222222222222,
              "#7201a8"
             ],
             [
              0.3333333333333333,
              "#9c179e"
             ],
             [
              0.4444444444444444,
              "#bd3786"
             ],
             [
              0.5555555555555556,
              "#d8576b"
             ],
             [
              0.6666666666666666,
              "#ed7953"
             ],
             [
              0.7777777777777778,
              "#fb9f3a"
             ],
             [
              0.8888888888888888,
              "#fdca26"
             ],
             [
              1,
              "#f0f921"
             ]
            ],
            "type": "heatmapgl"
           }
          ],
          "histogram": [
           {
            "marker": {
             "pattern": {
              "fillmode": "overlay",
              "size": 10,
              "solidity": 0.2
             }
            },
            "type": "histogram"
           }
          ],
          "histogram2d": [
           {
            "colorbar": {
             "outlinewidth": 0,
             "ticks": ""
            },
            "colorscale": [
             [
              0,
              "#0d0887"
             ],
             [
              0.1111111111111111,
              "#46039f"
             ],
             [
              0.2222222222222222,
              "#7201a8"
             ],
             [
              0.3333333333333333,
              "#9c179e"
             ],
             [
              0.4444444444444444,
              "#bd3786"
             ],
             [
              0.5555555555555556,
              "#d8576b"
             ],
             [
              0.6666666666666666,
              "#ed7953"
             ],
             [
              0.7777777777777778,
              "#fb9f3a"
             ],
             [
              0.8888888888888888,
              "#fdca26"
             ],
             [
              1,
              "#f0f921"
             ]
            ],
            "type": "histogram2d"
           }
          ],
          "histogram2dcontour": [
           {
            "colorbar": {
             "outlinewidth": 0,
             "ticks": ""
            },
            "colorscale": [
             [
              0,
              "#0d0887"
             ],
             [
              0.1111111111111111,
              "#46039f"
             ],
             [
              0.2222222222222222,
              "#7201a8"
             ],
             [
              0.3333333333333333,
              "#9c179e"
             ],
             [
              0.4444444444444444,
              "#bd3786"
             ],
             [
              0.5555555555555556,
              "#d8576b"
             ],
             [
              0.6666666666666666,
              "#ed7953"
             ],
             [
              0.7777777777777778,
              "#fb9f3a"
             ],
             [
              0.8888888888888888,
              "#fdca26"
             ],
             [
              1,
              "#f0f921"
             ]
            ],
            "type": "histogram2dcontour"
           }
          ],
          "mesh3d": [
           {
            "colorbar": {
             "outlinewidth": 0,
             "ticks": ""
            },
            "type": "mesh3d"
           }
          ],
          "parcoords": [
           {
            "line": {
             "colorbar": {
              "outlinewidth": 0,
              "ticks": ""
             }
            },
            "type": "parcoords"
           }
          ],
          "pie": [
           {
            "automargin": true,
            "type": "pie"
           }
          ],
          "scatter": [
           {
            "marker": {
             "colorbar": {
              "outlinewidth": 0,
              "ticks": ""
             }
            },
            "type": "scatter"
           }
          ],
          "scatter3d": [
           {
            "line": {
             "colorbar": {
              "outlinewidth": 0,
              "ticks": ""
             }
            },
            "marker": {
             "colorbar": {
              "outlinewidth": 0,
              "ticks": ""
             }
            },
            "type": "scatter3d"
           }
          ],
          "scattercarpet": [
           {
            "marker": {
             "colorbar": {
              "outlinewidth": 0,
              "ticks": ""
             }
            },
            "type": "scattercarpet"
           }
          ],
          "scattergeo": [
           {
            "marker": {
             "colorbar": {
              "outlinewidth": 0,
              "ticks": ""
             }
            },
            "type": "scattergeo"
           }
          ],
          "scattergl": [
           {
            "marker": {
             "colorbar": {
              "outlinewidth": 0,
              "ticks": ""
             }
            },
            "type": "scattergl"
           }
          ],
          "scattermapbox": [
           {
            "marker": {
             "colorbar": {
              "outlinewidth": 0,
              "ticks": ""
             }
            },
            "type": "scattermapbox"
           }
          ],
          "scatterpolar": [
           {
            "marker": {
             "colorbar": {
              "outlinewidth": 0,
              "ticks": ""
             }
            },
            "type": "scatterpolar"
           }
          ],
          "scatterpolargl": [
           {
            "marker": {
             "colorbar": {
              "outlinewidth": 0,
              "ticks": ""
             }
            },
            "type": "scatterpolargl"
           }
          ],
          "scatterternary": [
           {
            "marker": {
             "colorbar": {
              "outlinewidth": 0,
              "ticks": ""
             }
            },
            "type": "scatterternary"
           }
          ],
          "surface": [
           {
            "colorbar": {
             "outlinewidth": 0,
             "ticks": ""
            },
            "colorscale": [
             [
              0,
              "#0d0887"
             ],
             [
              0.1111111111111111,
              "#46039f"
             ],
             [
              0.2222222222222222,
              "#7201a8"
             ],
             [
              0.3333333333333333,
              "#9c179e"
             ],
             [
              0.4444444444444444,
              "#bd3786"
             ],
             [
              0.5555555555555556,
              "#d8576b"
             ],
             [
              0.6666666666666666,
              "#ed7953"
             ],
             [
              0.7777777777777778,
              "#fb9f3a"
             ],
             [
              0.8888888888888888,
              "#fdca26"
             ],
             [
              1,
              "#f0f921"
             ]
            ],
            "type": "surface"
           }
          ],
          "table": [
           {
            "cells": {
             "fill": {
              "color": "#EBF0F8"
             },
             "line": {
              "color": "white"
             }
            },
            "header": {
             "fill": {
              "color": "#C8D4E3"
             },
             "line": {
              "color": "white"
             }
            },
            "type": "table"
           }
          ]
         },
         "layout": {
          "annotationdefaults": {
           "arrowcolor": "#2a3f5f",
           "arrowhead": 0,
           "arrowwidth": 1
          },
          "autotypenumbers": "strict",
          "coloraxis": {
           "colorbar": {
            "outlinewidth": 0,
            "ticks": ""
           }
          },
          "colorscale": {
           "diverging": [
            [
             0,
             "#8e0152"
            ],
            [
             0.1,
             "#c51b7d"
            ],
            [
             0.2,
             "#de77ae"
            ],
            [
             0.3,
             "#f1b6da"
            ],
            [
             0.4,
             "#fde0ef"
            ],
            [
             0.5,
             "#f7f7f7"
            ],
            [
             0.6,
             "#e6f5d0"
            ],
            [
             0.7,
             "#b8e186"
            ],
            [
             0.8,
             "#7fbc41"
            ],
            [
             0.9,
             "#4d9221"
            ],
            [
             1,
             "#276419"
            ]
           ],
           "sequential": [
            [
             0,
             "#0d0887"
            ],
            [
             0.1111111111111111,
             "#46039f"
            ],
            [
             0.2222222222222222,
             "#7201a8"
            ],
            [
             0.3333333333333333,
             "#9c179e"
            ],
            [
             0.4444444444444444,
             "#bd3786"
            ],
            [
             0.5555555555555556,
             "#d8576b"
            ],
            [
             0.6666666666666666,
             "#ed7953"
            ],
            [
             0.7777777777777778,
             "#fb9f3a"
            ],
            [
             0.8888888888888888,
             "#fdca26"
            ],
            [
             1,
             "#f0f921"
            ]
           ],
           "sequentialminus": [
            [
             0,
             "#0d0887"
            ],
            [
             0.1111111111111111,
             "#46039f"
            ],
            [
             0.2222222222222222,
             "#7201a8"
            ],
            [
             0.3333333333333333,
             "#9c179e"
            ],
            [
             0.4444444444444444,
             "#bd3786"
            ],
            [
             0.5555555555555556,
             "#d8576b"
            ],
            [
             0.6666666666666666,
             "#ed7953"
            ],
            [
             0.7777777777777778,
             "#fb9f3a"
            ],
            [
             0.8888888888888888,
             "#fdca26"
            ],
            [
             1,
             "#f0f921"
            ]
           ]
          },
          "colorway": [
           "#636efa",
           "#EF553B",
           "#00cc96",
           "#ab63fa",
           "#FFA15A",
           "#19d3f3",
           "#FF6692",
           "#B6E880",
           "#FF97FF",
           "#FECB52"
          ],
          "font": {
           "color": "#2a3f5f"
          },
          "geo": {
           "bgcolor": "white",
           "lakecolor": "white",
           "landcolor": "#E5ECF6",
           "showlakes": true,
           "showland": true,
           "subunitcolor": "white"
          },
          "hoverlabel": {
           "align": "left"
          },
          "hovermode": "closest",
          "mapbox": {
           "style": "light"
          },
          "paper_bgcolor": "white",
          "plot_bgcolor": "#E5ECF6",
          "polar": {
           "angularaxis": {
            "gridcolor": "white",
            "linecolor": "white",
            "ticks": ""
           },
           "bgcolor": "#E5ECF6",
           "radialaxis": {
            "gridcolor": "white",
            "linecolor": "white",
            "ticks": ""
           }
          },
          "scene": {
           "xaxis": {
            "backgroundcolor": "#E5ECF6",
            "gridcolor": "white",
            "gridwidth": 2,
            "linecolor": "white",
            "showbackground": true,
            "ticks": "",
            "zerolinecolor": "white"
           },
           "yaxis": {
            "backgroundcolor": "#E5ECF6",
            "gridcolor": "white",
            "gridwidth": 2,
            "linecolor": "white",
            "showbackground": true,
            "ticks": "",
            "zerolinecolor": "white"
           },
           "zaxis": {
            "backgroundcolor": "#E5ECF6",
            "gridcolor": "white",
            "gridwidth": 2,
            "linecolor": "white",
            "showbackground": true,
            "ticks": "",
            "zerolinecolor": "white"
           }
          },
          "shapedefaults": {
           "line": {
            "color": "#2a3f5f"
           }
          },
          "ternary": {
           "aaxis": {
            "gridcolor": "white",
            "linecolor": "white",
            "ticks": ""
           },
           "baxis": {
            "gridcolor": "white",
            "linecolor": "white",
            "ticks": ""
           },
           "bgcolor": "#E5ECF6",
           "caxis": {
            "gridcolor": "white",
            "linecolor": "white",
            "ticks": ""
           }
          },
          "title": {
           "x": 0.05
          },
          "xaxis": {
           "automargin": true,
           "gridcolor": "white",
           "linecolor": "white",
           "ticks": "",
           "title": {
            "standoff": 15
           },
           "zerolinecolor": "white",
           "zerolinewidth": 2
          },
          "yaxis": {
           "automargin": true,
           "gridcolor": "white",
           "linecolor": "white",
           "ticks": "",
           "title": {
            "standoff": 15
           },
           "zerolinecolor": "white",
           "zerolinewidth": 2
          }
         }
        },
        "xaxis": {
         "anchor": "y",
         "domain": [
          0,
          1
         ],
         "title": {
          "text": "index"
         }
        },
        "yaxis": {
         "anchor": "x",
         "domain": [
          0,
          1
         ],
         "title": {
          "text": "PDF"
         }
        }
       }
      }
     },
     "metadata": {},
     "output_type": "display_data"
    }
   ],
   "source": [
    "stp = 5\n",
    "bins = np.arange(5,91,stp)\n",
    "\n",
    "stat = pd.DataFrame(index=bins)\n",
    "\n",
    "for bin in bins:\n",
    "    ind  = np.logical_and( bin <= df['EL'] , df['EL'] < bin+stp)\n",
    "\n",
    "    el = df.loc[ind,'EL']\n",
    "\n",
    "    stat.loc[bin,'PDF'] = np.size(el)/np.size(ind)\n",
    "\n",
    "stat['PDF'] = stat['PDF']/stat['PDF'].sum() * 100\n",
    "# stat['PDF'] = stat['PDF']/1 * 100\n",
    "\n",
    "fig = px.bar(stat, y='PDF')\n",
    "\n",
    "fig.update_layout(font_family=\"FreeSerif\",\n",
    "                font_color=\"black\")\n",
    "\n",
    "fig.show()\n",
    "\n"
   ]
  },
  {
   "cell_type": "markdown",
   "metadata": {},
   "source": [
    "<style>\n",
    "    h1 {font-family:Times; font-size:20pt}\n",
    "    h2 {font-family:Times; font-size:18pt}\n",
    "    h3 {font-family:Times; font-size:16pt}\n",
    "    p {font-family:Times; font-size:12pt}\n",
    "    </style>\n",
    ">\n",
    "> ## Load RAPIDS II Data\n",
    ">\n",
    "> In this section different type of attenuation from RAPIDS II are imported and saved in pandas DataFrame format.\n",
    "> The rapids II data are in two `csv` file corresponds to different elevation angle. One is for $\\theta = 5,10,...,50$ and the other is for the elevation angles $\\theta=55,...,90$\n",
    ">\n",
    "> **Be Carefull** : to enter your `csv` files please change and edit the file manually according to this example."
   ]
  },
  {
   "cell_type": "code",
   "execution_count": null,
   "metadata": {},
   "outputs": [
    {
     "data": {
      "application/vnd.plotly.v1+json": {
       "config": {
        "plotlyServerURL": "https://plot.ly"
       },
       "data": [
        {
         "hovertemplate": "ELEVATION=5<br>PROBABILITY=%{x}<br>ATTENUATION=%{y}<extra></extra>",
         "legendgroup": "5",
         "line": {
          "color": "#636efa",
          "dash": "solid"
         },
         "marker": {
          "symbol": "circle"
         },
         "mode": "lines",
         "name": "5",
         "orientation": "v",
         "showlegend": true,
         "type": "scatter",
         "x": [
          0.001,
          0.002,
          0.005,
          0.008,
          0.01,
          0.016,
          0.027,
          0.045,
          0.077,
          0.13,
          0.21,
          0.35,
          0.6,
          0.95,
          1.7,
          3,
          5.1,
          8.3,
          12,
          19,
          30,
          35,
          45,
          50,
          55,
          60,
          65,
          70,
          75,
          80,
          85,
          90,
          99
         ],
         "xaxis": "x",
         "y": [
          370.06,
          343.74,
          301.85,
          278.86,
          267.88,
          245.02,
          220.58,
          198.33,
          177.14,
          156.08,
          136.49,
          118.04,
          100.13,
          86.981,
          71.817,
          58.441,
          46.735,
          36.583,
          29.56,
          21.5,
          15.442,
          14.32,
          12.564,
          11.857,
          11.533,
          11.261,
          11.15,
          11.07,
          11.055,
          11.056,
          11.071,
          11.096,
          11.16
         ],
         "yaxis": "y"
        },
        {
         "hovertemplate": "ELEVATION=10<br>PROBABILITY=%{x}<br>ATTENUATION=%{y}<extra></extra>",
         "legendgroup": "10",
         "line": {
          "color": "#EF553B",
          "dash": "solid"
         },
         "marker": {
          "symbol": "circle"
         },
         "mode": "lines",
         "name": "10",
         "orientation": "v",
         "showlegend": true,
         "type": "scatter",
         "x": [
          0.001,
          0.002,
          0.005,
          0.008,
          0.01,
          0.016,
          0.027,
          0.045,
          0.077,
          0.13,
          0.21,
          0.35,
          0.6,
          0.95,
          1.7,
          3,
          5.1,
          8.3,
          12,
          19,
          30,
          35,
          45,
          50,
          55,
          60,
          65,
          70,
          75,
          80,
          85,
          90,
          99
         ],
         "xaxis": "x",
         "y": [
          246.78,
          225.83,
          193.87,
          176.8,
          168.74,
          152.13,
          134.62,
          118.9,
          104.12,
          90.143,
          77.716,
          66.203,
          55.345,
          47.503,
          38.704,
          31.163,
          24.741,
          19.29,
          15.568,
          11.342,
          8.1794,
          7.5862,
          6.6629,
          6.2921,
          6.1149,
          5.9631,
          5.8913,
          5.8337,
          5.8092,
          5.7931,
          5.784,
          5.7809,
          5.7868
         ],
         "yaxis": "y"
        },
        {
         "hovertemplate": "ELEVATION=15<br>PROBABILITY=%{x}<br>ATTENUATION=%{y}<extra></extra>",
         "legendgroup": "15",
         "line": {
          "color": "#00cc96",
          "dash": "solid"
         },
         "marker": {
          "symbol": "circle"
         },
         "mode": "lines",
         "name": "15",
         "orientation": "v",
         "showlegend": true,
         "type": "scatter",
         "x": [
          0.001,
          0.002,
          0.005,
          0.008,
          0.01,
          0.016,
          0.027,
          0.045,
          0.077,
          0.13,
          0.21,
          0.35,
          0.6,
          0.95,
          1.7,
          3,
          5.1,
          8.3,
          12,
          19,
          30,
          35,
          45,
          50,
          55,
          60,
          65,
          70,
          75,
          80,
          85,
          90,
          99
         ],
         "xaxis": "x",
         "y": [
          197.12,
          178.82,
          151.52,
          137.16,
          130.42,
          116.61,
          102.17,
          89.294,
          77.276,
          66.19,
          56.561,
          47.724,
          39.52,
          33.653,
          27.174,
          21.716,
          17.147,
          13.321,
          10.73,
          7.8095,
          5.6293,
          5.2168,
          4.5772,
          4.321,
          4.1954,
          4.0871,
          4.0326,
          3.9876,
          3.9649,
          3.9478,
          3.9356,
          3.9276,
          3.9214
         ],
         "yaxis": "y"
        },
        {
         "hovertemplate": "ELEVATION=20<br>PROBABILITY=%{x}<br>ATTENUATION=%{y}<extra></extra>",
         "legendgroup": "20",
         "line": {
          "color": "#ab63fa",
          "dash": "solid"
         },
         "marker": {
          "symbol": "circle"
         },
         "mode": "lines",
         "name": "20",
         "orientation": "v",
         "showlegend": true,
         "type": "scatter",
         "x": [
          0.001,
          0.002,
          0.005,
          0.008,
          0.01,
          0.016,
          0.027,
          0.045,
          0.077,
          0.13,
          0.21,
          0.35,
          0.6,
          0.95,
          1.7,
          3,
          5.1,
          8.3,
          12,
          19,
          30,
          35,
          45,
          50,
          55,
          60,
          65,
          70,
          75,
          80,
          85,
          90,
          99
         ],
         "xaxis": "x",
         "y": [
          169.74,
          153.06,
          128.55,
          115.76,
          109.79,
          97.607,
          84.922,
          73.675,
          63.225,
          53.735,
          45.618,
          38.216,
          31.421,
          26.594,
          21.323,
          16.939,
          13.315,
          10.312,
          8.2923,
          6.0283,
          4.3413,
          4.0197,
          3.5227,
          3.324,
          3.2248,
          3.139,
          3.094,
          3.0563,
          3.0356,
          3.0193,
          3.0068,
          2.9974,
          2.9872
         ],
         "yaxis": "y"
        },
        {
         "hovertemplate": "ELEVATION=25<br>PROBABILITY=%{x}<br>ATTENUATION=%{y}<extra></extra>",
         "legendgroup": "25",
         "line": {
          "color": "#FFA15A",
          "dash": "solid"
         },
         "marker": {
          "symbol": "circle"
         },
         "mode": "lines",
         "name": "25",
         "orientation": "v",
         "showlegend": true,
         "type": "scatter",
         "x": [
          0.001,
          0.002,
          0.005,
          0.008,
          0.01,
          0.016,
          0.027,
          0.045,
          0.077,
          0.13,
          0.21,
          0.35,
          0.6,
          0.95,
          1.7,
          3,
          5.1,
          8.3,
          12,
          19,
          30,
          35,
          45,
          50,
          55,
          60,
          65,
          70,
          75,
          80,
          85,
          90,
          99
         ],
         "xaxis": "x",
         "y": [
          152.46,
          136.88,
          114.2,
          102.45,
          96.977,
          85.841,
          74.291,
          64.087,
          54.639,
          46.154,
          38.978,
          32.466,
          26.537,
          22.347,
          17.813,
          14.079,
          11.024,
          8.5153,
          6.8366,
          4.9644,
          3.5717,
          3.3043,
          2.8923,
          2.728,
          2.6446,
          2.5724,
          2.5334,
          2.5004,
          2.4813,
          2.4658,
          2.4534,
          2.4437,
          2.4319
         ],
         "yaxis": "y"
        },
        {
         "hovertemplate": "ELEVATION=30<br>PROBABILITY=%{x}<br>ATTENUATION=%{y}<extra></extra>",
         "legendgroup": "30",
         "line": {
          "color": "#19d3f3",
          "dash": "solid"
         },
         "marker": {
          "symbol": "circle"
         },
         "mode": "lines",
         "name": "30",
         "orientation": "v",
         "showlegend": true,
         "type": "scatter",
         "x": [
          0.001,
          0.002,
          0.005,
          0.008,
          0.01,
          0.016,
          0.027,
          0.045,
          0.077,
          0.13,
          0.21,
          0.35,
          0.6,
          0.95,
          1.7,
          3,
          5.1,
          8.3,
          12,
          19,
          30,
          35,
          45,
          50,
          55,
          60,
          65,
          70,
          75,
          80,
          85,
          90,
          99
         ],
         "xaxis": "x",
         "y": [
          140.76,
          125.95,
          104.54,
          93.509,
          88.38,
          77.965,
          67.193,
          57.7,
          48.933,
          41.125,
          34.582,
          28.665,
          23.313,
          19.547,
          15.501,
          12.197,
          9.5175,
          7.3336,
          5.8796,
          4.2649,
          3.0655,
          2.8337,
          2.4776,
          2.3358,
          2.2629,
          2.1996,
          2.1646,
          2.1348,
          2.1169,
          2.1021,
          2.09,
          2.0802,
          2.0675
         ],
         "yaxis": "y"
        },
        {
         "hovertemplate": "ELEVATION=35<br>PROBABILITY=%{x}<br>ATTENUATION=%{y}<extra></extra>",
         "legendgroup": "35",
         "line": {
          "color": "#FF6692",
          "dash": "solid"
         },
         "marker": {
          "symbol": "circle"
         },
         "mode": "lines",
         "name": "35",
         "orientation": "v",
         "showlegend": true,
         "type": "scatter",
         "x": [
          0.001,
          0.002,
          0.005,
          0.008,
          0.01,
          0.016,
          0.027,
          0.045,
          0.077,
          0.13,
          0.21,
          0.35,
          0.6,
          0.95,
          1.7,
          3,
          5.1,
          8.3,
          12,
          19,
          30,
          35,
          45,
          50,
          55,
          60,
          65,
          70,
          75,
          80,
          85,
          90,
          99
         ],
         "xaxis": "x",
         "y": [
          132.52,
          118.27,
          97.773,
          87.247,
          82.362,
          72.457,
          62.232,
          53.24,
          44.95,
          37.617,
          31.515,
          26.014,
          21.065,
          17.594,
          13.888,
          10.884,
          8.4659,
          6.5087,
          5.2114,
          3.7766,
          2.712,
          2.505,
          2.1878,
          2.0617,
          1.996,
          1.9389,
          1.9068,
          1.8792,
          1.8621,
          1.8479,
          1.836,
          1.8263,
          1.8131
         ],
         "yaxis": "y"
        },
        {
         "hovertemplate": "ELEVATION=40<br>PROBABILITY=%{x}<br>ATTENUATION=%{y}<extra></extra>",
         "legendgroup": "40",
         "line": {
          "color": "#B6E880",
          "dash": "solid"
         },
         "marker": {
          "symbol": "circle"
         },
         "mode": "lines",
         "name": "40",
         "orientation": "v",
         "showlegend": true,
         "type": "scatter",
         "x": [
          0.001,
          0.002,
          0.005,
          0.008,
          0.01,
          0.016,
          0.027,
          0.045,
          0.077,
          0.13,
          0.21,
          0.35,
          0.6,
          0.95,
          1.7,
          3,
          5.1,
          8.3,
          12,
          19,
          30,
          35,
          45,
          50,
          55,
          60,
          65,
          70,
          75,
          80,
          85,
          90,
          99
         ],
         "xaxis": "x",
         "y": [
          126.61,
          112.76,
          92.923,
          82.761,
          78.051,
          68.51,
          58.675,
          50.04,
          42.089,
          35.095,
          29.308,
          24.103,
          19.442,
          16.183,
          12.721,
          9.9322,
          7.7031,
          5.91,
          4.7263,
          3.4219,
          2.4552,
          2.2661,
          1.977,
          1.8623,
          1.8017,
          1.7492,
          1.719,
          1.6931,
          1.6766,
          1.6628,
          1.6511,
          1.6413,
          1.6278
         ],
         "yaxis": "y"
        },
        {
         "hovertemplate": "ELEVATION=45<br>PROBABILITY=%{x}<br>ATTENUATION=%{y}<extra></extra>",
         "legendgroup": "45",
         "line": {
          "color": "#FF97FF",
          "dash": "solid"
         },
         "marker": {
          "symbol": "circle"
         },
         "mode": "lines",
         "name": "45",
         "orientation": "v",
         "showlegend": true,
         "type": "scatter",
         "x": [
          0.001,
          0.002,
          0.005,
          0.008,
          0.01,
          0.016,
          0.027,
          0.045,
          0.077,
          0.13,
          0.21,
          0.35,
          0.6,
          0.95,
          1.7,
          3,
          5.1,
          8.3,
          12,
          19,
          30,
          35,
          45,
          50,
          55,
          60,
          65,
          70,
          75,
          80,
          85,
          90,
          99
         ],
         "xaxis": "x",
         "y": [
          122.35,
          108.79,
          89.417,
          79.515,
          74.93,
          65.649,
          56.093,
          47.71,
          40.001,
          33.248,
          27.689,
          22.698,
          18.246,
          15.141,
          11.857,
          9.2255,
          7.1357,
          5.464,
          4.3647,
          3.1574,
          2.2636,
          2.0878,
          1.8195,
          1.7132,
          1.6565,
          1.6073,
          1.5786,
          1.5538,
          1.5378,
          1.5241,
          1.5126,
          1.5028,
          1.489
         ],
         "yaxis": "y"
        },
        {
         "hovertemplate": "ELEVATION=50<br>PROBABILITY=%{x}<br>ATTENUATION=%{y}<extra></extra>",
         "legendgroup": "50",
         "line": {
          "color": "#FECB52",
          "dash": "solid"
         },
         "marker": {
          "symbol": "circle"
         },
         "mode": "lines",
         "name": "50",
         "orientation": "v",
         "showlegend": true,
         "type": "scatter",
         "x": [
          0.001,
          0.002,
          0.005,
          0.008,
          0.01,
          0.016,
          0.027,
          0.045,
          0.077,
          0.13,
          0.21,
          0.35,
          0.6,
          0.95,
          1.7,
          3,
          5.1,
          8.3,
          12,
          19,
          30,
          35,
          45,
          50,
          55,
          60,
          65,
          70,
          75,
          80,
          85,
          90,
          99
         ],
         "xaxis": "x",
         "y": [
          119.27,
          105.91,
          86.878,
          77.16,
          72.663,
          63.566,
          54.206,
          46.003,
          38.464,
          31.884,
          26.489,
          21.653,
          17.353,
          14.36,
          11.207,
          8.6923,
          6.7065,
          5.1262,
          4.0906,
          2.9568,
          2.1182,
          1.9524,
          1.6998,
          1.5999,
          1.546,
          1.4993,
          1.4716,
          1.4477,
          1.4319,
          1.4184,
          1.4069,
          1.3971,
          1.3831
         ],
         "yaxis": "y"
        },
        {
         "hovertemplate": "ELEVATION=55<br>PROBABILITY=%{x}<br>ATTENUATION=%{y}<extra></extra>",
         "legendgroup": "55",
         "line": {
          "color": "#636efa",
          "dash": "solid"
         },
         "marker": {
          "symbol": "circle"
         },
         "mode": "lines",
         "name": "55",
         "orientation": "v",
         "showlegend": true,
         "type": "scatter",
         "x": [
          0.001,
          0.002,
          0.005,
          0.008,
          0.01,
          0.016,
          0.027,
          0.045,
          0.077,
          0.13,
          0.21,
          0.35,
          0.6,
          0.95,
          1.7,
          3,
          5.1,
          8.3,
          12,
          19,
          30,
          35,
          45,
          50,
          55,
          60,
          65,
          70,
          75,
          80,
          85,
          90,
          99
         ],
         "xaxis": "x",
         "y": [
          117.04,
          103.83,
          85.031,
          75.444,
          71.009,
          62.041,
          52.82,
          44.743,
          37.323,
          30.867,
          25.591,
          20.868,
          16.679,
          13.768,
          10.712,
          8.2857,
          6.3784,
          4.8675,
          3.8804,
          2.803,
          2.0066,
          1.8484,
          1.6077,
          1.5127,
          1.461,
          1.4161,
          1.3891,
          1.3658,
          1.3502,
          1.3369,
          1.3254,
          1.3156,
          1.3013
         ],
         "yaxis": "y"
        },
        {
         "hovertemplate": "ELEVATION=60<br>PROBABILITY=%{x}<br>ATTENUATION=%{y}<extra></extra>",
         "legendgroup": "60",
         "line": {
          "color": "#EF553B",
          "dash": "solid"
         },
         "marker": {
          "symbol": "circle"
         },
         "mode": "lines",
         "name": "60",
         "orientation": "v",
         "showlegend": true,
         "type": "scatter",
         "x": [
          0.001,
          0.002,
          0.005,
          0.008,
          0.01,
          0.016,
          0.027,
          0.045,
          0.077,
          0.13,
          0.21,
          0.35,
          0.6,
          0.95,
          1.7,
          3,
          5.1,
          8.3,
          12,
          19,
          30,
          35,
          45,
          50,
          55,
          60,
          65,
          70,
          75,
          80,
          85,
          90,
          99
         ],
         "xaxis": "x",
         "y": [
          115.38,
          102.28,
          83.656,
          74.163,
          69.774,
          60.9,
          51.78,
          43.794,
          36.461,
          30.096,
          24.908,
          20.269,
          16.164,
          13.315,
          10.332,
          7.9724,
          6.1251,
          4.6676,
          3.7179,
          2.6839,
          1.9203,
          1.7678,
          1.5364,
          1.4451,
          1.395,
          1.3515,
          1.3252,
          1.3023,
          1.2869,
          1.2736,
          1.2621,
          1.2522,
          1.2378
         ],
         "yaxis": "y"
        },
        {
         "hovertemplate": "ELEVATION=65<br>PROBABILITY=%{x}<br>ATTENUATION=%{y}<extra></extra>",
         "legendgroup": "65",
         "line": {
          "color": "#00cc96",
          "dash": "solid"
         },
         "marker": {
          "symbol": "circle"
         },
         "mode": "lines",
         "name": "65",
         "orientation": "v",
         "showlegend": true,
         "type": "scatter",
         "x": [
          0.001,
          0.002,
          0.005,
          0.008,
          0.01,
          0.016,
          0.027,
          0.045,
          0.077,
          0.13,
          0.21,
          0.35,
          0.6,
          0.95,
          1.7,
          3,
          5.1,
          8.3,
          12,
          19,
          30,
          35,
          45,
          50,
          55,
          60,
          65,
          70,
          75,
          80,
          85,
          90,
          99
         ],
         "xaxis": "x",
         "y": [
          114.04,
          101.03,
          82.544,
          73.129,
          68.777,
          59.981,
          50.944,
          43.032,
          35.771,
          29.48,
          24.363,
          19.792,
          15.753,
          12.954,
          10.029,
          7.7224,
          5.9228,
          4.5076,
          3.5877,
          2.5884,
          1.8515,
          1.7041,
          1.4806,
          1.3923,
          1.3434,
          1.3007,
          1.2742,
          1.2509,
          1.2344,
          1.2198,
          1.2068,
          1.1952,
          1.177
         ],
         "yaxis": "y"
        },
        {
         "hovertemplate": "ELEVATION=70<br>PROBABILITY=%{x}<br>ATTENUATION=%{y}<extra></extra>",
         "legendgroup": "70",
         "line": {
          "color": "#ab63fa",
          "dash": "solid"
         },
         "marker": {
          "symbol": "circle"
         },
         "mode": "lines",
         "name": "70",
         "orientation": "v",
         "showlegend": true,
         "type": "scatter",
         "x": [
          0.001,
          0.002,
          0.005,
          0.008,
          0.01,
          0.016,
          0.027,
          0.045,
          0.077,
          0.13,
          0.21,
          0.35,
          0.6,
          0.95,
          1.7,
          3,
          5.1,
          8.3,
          12,
          19,
          30,
          35,
          45,
          50,
          55,
          60,
          65,
          70,
          75,
          80,
          85,
          90,
          99
         ],
         "xaxis": "x",
         "y": [
          112.76,
          99.838,
          81.5,
          72.166,
          67.853,
          59.137,
          50.186,
          42.353,
          35.166,
          28.947,
          23.898,
          19.39,
          15.413,
          12.658,
          9.7853,
          7.5236,
          5.7636,
          4.3827,
          3.4865,
          2.5145,
          1.7979,
          1.6543,
          1.4365,
          1.3507,
          1.3028,
          1.2611,
          1.2351,
          1.2122,
          1.1959,
          1.1816,
          1.1688,
          1.1573,
          1.1393
         ],
         "yaxis": "y"
        },
        {
         "hovertemplate": "ELEVATION=75<br>PROBABILITY=%{x}<br>ATTENUATION=%{y}<extra></extra>",
         "legendgroup": "75",
         "line": {
          "color": "#FFA15A",
          "dash": "solid"
         },
         "marker": {
          "symbol": "circle"
         },
         "mode": "lines",
         "name": "75",
         "orientation": "v",
         "showlegend": true,
         "type": "scatter",
         "x": [
          0.001,
          0.002,
          0.005,
          0.008,
          0.01,
          0.016,
          0.027,
          0.045,
          0.077,
          0.13,
          0.21,
          0.35,
          0.6,
          0.95,
          1.7,
          3,
          5.1,
          8.3,
          12,
          19,
          30,
          35,
          45,
          50,
          55,
          60,
          65,
          70,
          75,
          80,
          85,
          90,
          99
         ],
         "xaxis": "x",
         "y": [
          111.24,
          98.445,
          80.3,
          71.073,
          66.81,
          58.2,
          49.361,
          41.63,
          34.54,
          28.411,
          23.441,
          19.005,
          15.095,
          12.389,
          9.5693,
          7.352,
          5.6287,
          4.2783,
          3.4025,
          2.4534,
          1.7539,
          1.6135,
          1.4008,
          1.3169,
          1.2702,
          1.2293,
          1.2038,
          1.1814,
          1.1654,
          1.1514,
          1.1388,
          1.1275,
          1.1099
         ],
         "yaxis": "y"
        },
        {
         "hovertemplate": "ELEVATION=80<br>PROBABILITY=%{x}<br>ATTENUATION=%{y}<extra></extra>",
         "legendgroup": "80",
         "line": {
          "color": "#19d3f3",
          "dash": "solid"
         },
         "marker": {
          "symbol": "circle"
         },
         "mode": "lines",
         "name": "80",
         "orientation": "v",
         "showlegend": true,
         "type": "scatter",
         "x": [
          0.001,
          0.002,
          0.005,
          0.008,
          0.01,
          0.016,
          0.027,
          0.045,
          0.077,
          0.13,
          0.21,
          0.35,
          0.6,
          0.95,
          1.7,
          3,
          5.1,
          8.3,
          12,
          19,
          30,
          35,
          45,
          50,
          55,
          60,
          65,
          70,
          75,
          80,
          85,
          90,
          99
         ],
         "xaxis": "x",
         "y": [
          109.23,
          96.601,
          78.736,
          69.662,
          65.472,
          57.014,
          48.338,
          40.754,
          33.803,
          27.798,
          22.93,
          18.589,
          14.763,
          12.116,
          9.3592,
          7.1912,
          5.5062,
          4.1854,
          3.3288,
          2.4001,
          1.7158,
          1.5786,
          1.3707,
          1.2887,
          1.243,
          1.2031,
          1.1783,
          1.1564,
          1.1409,
          1.1272,
          1.115,
          1.104,
          1.0869
         ],
         "yaxis": "y"
        },
        {
         "hovertemplate": "ELEVATION=85<br>PROBABILITY=%{x}<br>ATTENUATION=%{y}<extra></extra>",
         "legendgroup": "85",
         "line": {
          "color": "#FF6692",
          "dash": "solid"
         },
         "marker": {
          "symbol": "circle"
         },
         "mode": "lines",
         "name": "85",
         "orientation": "v",
         "showlegend": true,
         "type": "scatter",
         "x": [
          0.001,
          0.002,
          0.005,
          0.008,
          0.01,
          0.016,
          0.027,
          0.045,
          0.077,
          0.13,
          0.21,
          0.35,
          0.6,
          0.95,
          1.7,
          3,
          5.1,
          8.3,
          12,
          19,
          30,
          35,
          45,
          50,
          55,
          60,
          65,
          70,
          75,
          80,
          85,
          90,
          99
         ],
         "xaxis": "x",
         "y": [
          106.64,
          94.248,
          76.758,
          67.89,
          63.798,
          55.544,
          47.084,
          39.696,
          32.932,
          27.089,
          22.352,
          18.128,
          14.407,
          11.832,
          9.1483,
          7.0361,
          5.392,
          4.1011,
          3.2628,
          2.353,
          1.6824,
          1.5483,
          1.3451,
          1.2649,
          1.2204,
          1.1816,
          1.1575,
          1.1364,
          1.1215,
          1.1082,
          1.0965,
          1.0859,
          1.0694
         ],
         "yaxis": "y"
        },
        {
         "hovertemplate": "ELEVATION=90<br>PROBABILITY=%{x}<br>ATTENUATION=%{y}<extra></extra>",
         "legendgroup": "90",
         "line": {
          "color": "#B6E880",
          "dash": "solid"
         },
         "marker": {
          "symbol": "circle"
         },
         "mode": "lines",
         "name": "90",
         "orientation": "v",
         "showlegend": true,
         "type": "scatter",
         "x": [
          0.001,
          0.002,
          0.005,
          0.008,
          0.01,
          0.016,
          0.027,
          0.045,
          0.077,
          0.13,
          0.21,
          0.35,
          0.6,
          0.95,
          1.7,
          3,
          5.1,
          8.3,
          12,
          19,
          30,
          35,
          45,
          50,
          55,
          60,
          65,
          70,
          75,
          80,
          85,
          90,
          99
         ],
         "xaxis": "x",
         "y": [
          108.81,
          96.214,
          78.394,
          69.344,
          65.166,
          56.733,
          48.082,
          40.522,
          33.594,
          27.612,
          22.766,
          18.445,
          14.64,
          12.009,
          9.2691,
          7.1172,
          5.4465,
          4.1384,
          3.2905,
          2.3722,
          1.6955,
          1.5596,
          1.3539,
          1.2728,
          1.2275,
          1.188,
          1.1633,
          1.1416,
          1.1261,
          1.1125,
          1.1003,
          1.0894,
          1.0723
         ],
         "yaxis": "y"
        }
       ],
       "layout": {
        "legend": {
         "title": {
          "text": "ELEVATION"
         },
         "tracegroupgap": 0
        },
        "margin": {
         "t": 60
        },
        "template": {
         "data": {
          "bar": [
           {
            "error_x": {
             "color": "#2a3f5f"
            },
            "error_y": {
             "color": "#2a3f5f"
            },
            "marker": {
             "line": {
              "color": "#E5ECF6",
              "width": 0.5
             },
             "pattern": {
              "fillmode": "overlay",
              "size": 10,
              "solidity": 0.2
             }
            },
            "type": "bar"
           }
          ],
          "barpolar": [
           {
            "marker": {
             "line": {
              "color": "#E5ECF6",
              "width": 0.5
             },
             "pattern": {
              "fillmode": "overlay",
              "size": 10,
              "solidity": 0.2
             }
            },
            "type": "barpolar"
           }
          ],
          "carpet": [
           {
            "aaxis": {
             "endlinecolor": "#2a3f5f",
             "gridcolor": "white",
             "linecolor": "white",
             "minorgridcolor": "white",
             "startlinecolor": "#2a3f5f"
            },
            "baxis": {
             "endlinecolor": "#2a3f5f",
             "gridcolor": "white",
             "linecolor": "white",
             "minorgridcolor": "white",
             "startlinecolor": "#2a3f5f"
            },
            "type": "carpet"
           }
          ],
          "choropleth": [
           {
            "colorbar": {
             "outlinewidth": 0,
             "ticks": ""
            },
            "type": "choropleth"
           }
          ],
          "contour": [
           {
            "colorbar": {
             "outlinewidth": 0,
             "ticks": ""
            },
            "colorscale": [
             [
              0,
              "#0d0887"
             ],
             [
              0.1111111111111111,
              "#46039f"
             ],
             [
              0.2222222222222222,
              "#7201a8"
             ],
             [
              0.3333333333333333,
              "#9c179e"
             ],
             [
              0.4444444444444444,
              "#bd3786"
             ],
             [
              0.5555555555555556,
              "#d8576b"
             ],
             [
              0.6666666666666666,
              "#ed7953"
             ],
             [
              0.7777777777777778,
              "#fb9f3a"
             ],
             [
              0.8888888888888888,
              "#fdca26"
             ],
             [
              1,
              "#f0f921"
             ]
            ],
            "type": "contour"
           }
          ],
          "contourcarpet": [
           {
            "colorbar": {
             "outlinewidth": 0,
             "ticks": ""
            },
            "type": "contourcarpet"
           }
          ],
          "heatmap": [
           {
            "colorbar": {
             "outlinewidth": 0,
             "ticks": ""
            },
            "colorscale": [
             [
              0,
              "#0d0887"
             ],
             [
              0.1111111111111111,
              "#46039f"
             ],
             [
              0.2222222222222222,
              "#7201a8"
             ],
             [
              0.3333333333333333,
              "#9c179e"
             ],
             [
              0.4444444444444444,
              "#bd3786"
             ],
             [
              0.5555555555555556,
              "#d8576b"
             ],
             [
              0.6666666666666666,
              "#ed7953"
             ],
             [
              0.7777777777777778,
              "#fb9f3a"
             ],
             [
              0.8888888888888888,
              "#fdca26"
             ],
             [
              1,
              "#f0f921"
             ]
            ],
            "type": "heatmap"
           }
          ],
          "heatmapgl": [
           {
            "colorbar": {
             "outlinewidth": 0,
             "ticks": ""
            },
            "colorscale": [
             [
              0,
              "#0d0887"
             ],
             [
              0.1111111111111111,
              "#46039f"
             ],
             [
              0.2222222222222222,
              "#7201a8"
             ],
             [
              0.3333333333333333,
              "#9c179e"
             ],
             [
              0.4444444444444444,
              "#bd3786"
             ],
             [
              0.5555555555555556,
              "#d8576b"
             ],
             [
              0.6666666666666666,
              "#ed7953"
             ],
             [
              0.7777777777777778,
              "#fb9f3a"
             ],
             [
              0.8888888888888888,
              "#fdca26"
             ],
             [
              1,
              "#f0f921"
             ]
            ],
            "type": "heatmapgl"
           }
          ],
          "histogram": [
           {
            "marker": {
             "pattern": {
              "fillmode": "overlay",
              "size": 10,
              "solidity": 0.2
             }
            },
            "type": "histogram"
           }
          ],
          "histogram2d": [
           {
            "colorbar": {
             "outlinewidth": 0,
             "ticks": ""
            },
            "colorscale": [
             [
              0,
              "#0d0887"
             ],
             [
              0.1111111111111111,
              "#46039f"
             ],
             [
              0.2222222222222222,
              "#7201a8"
             ],
             [
              0.3333333333333333,
              "#9c179e"
             ],
             [
              0.4444444444444444,
              "#bd3786"
             ],
             [
              0.5555555555555556,
              "#d8576b"
             ],
             [
              0.6666666666666666,
              "#ed7953"
             ],
             [
              0.7777777777777778,
              "#fb9f3a"
             ],
             [
              0.8888888888888888,
              "#fdca26"
             ],
             [
              1,
              "#f0f921"
             ]
            ],
            "type": "histogram2d"
           }
          ],
          "histogram2dcontour": [
           {
            "colorbar": {
             "outlinewidth": 0,
             "ticks": ""
            },
            "colorscale": [
             [
              0,
              "#0d0887"
             ],
             [
              0.1111111111111111,
              "#46039f"
             ],
             [
              0.2222222222222222,
              "#7201a8"
             ],
             [
              0.3333333333333333,
              "#9c179e"
             ],
             [
              0.4444444444444444,
              "#bd3786"
             ],
             [
              0.5555555555555556,
              "#d8576b"
             ],
             [
              0.6666666666666666,
              "#ed7953"
             ],
             [
              0.7777777777777778,
              "#fb9f3a"
             ],
             [
              0.8888888888888888,
              "#fdca26"
             ],
             [
              1,
              "#f0f921"
             ]
            ],
            "type": "histogram2dcontour"
           }
          ],
          "mesh3d": [
           {
            "colorbar": {
             "outlinewidth": 0,
             "ticks": ""
            },
            "type": "mesh3d"
           }
          ],
          "parcoords": [
           {
            "line": {
             "colorbar": {
              "outlinewidth": 0,
              "ticks": ""
             }
            },
            "type": "parcoords"
           }
          ],
          "pie": [
           {
            "automargin": true,
            "type": "pie"
           }
          ],
          "scatter": [
           {
            "marker": {
             "colorbar": {
              "outlinewidth": 0,
              "ticks": ""
             }
            },
            "type": "scatter"
           }
          ],
          "scatter3d": [
           {
            "line": {
             "colorbar": {
              "outlinewidth": 0,
              "ticks": ""
             }
            },
            "marker": {
             "colorbar": {
              "outlinewidth": 0,
              "ticks": ""
             }
            },
            "type": "scatter3d"
           }
          ],
          "scattercarpet": [
           {
            "marker": {
             "colorbar": {
              "outlinewidth": 0,
              "ticks": ""
             }
            },
            "type": "scattercarpet"
           }
          ],
          "scattergeo": [
           {
            "marker": {
             "colorbar": {
              "outlinewidth": 0,
              "ticks": ""
             }
            },
            "type": "scattergeo"
           }
          ],
          "scattergl": [
           {
            "marker": {
             "colorbar": {
              "outlinewidth": 0,
              "ticks": ""
             }
            },
            "type": "scattergl"
           }
          ],
          "scattermapbox": [
           {
            "marker": {
             "colorbar": {
              "outlinewidth": 0,
              "ticks": ""
             }
            },
            "type": "scattermapbox"
           }
          ],
          "scatterpolar": [
           {
            "marker": {
             "colorbar": {
              "outlinewidth": 0,
              "ticks": ""
             }
            },
            "type": "scatterpolar"
           }
          ],
          "scatterpolargl": [
           {
            "marker": {
             "colorbar": {
              "outlinewidth": 0,
              "ticks": ""
             }
            },
            "type": "scatterpolargl"
           }
          ],
          "scatterternary": [
           {
            "marker": {
             "colorbar": {
              "outlinewidth": 0,
              "ticks": ""
             }
            },
            "type": "scatterternary"
           }
          ],
          "surface": [
           {
            "colorbar": {
             "outlinewidth": 0,
             "ticks": ""
            },
            "colorscale": [
             [
              0,
              "#0d0887"
             ],
             [
              0.1111111111111111,
              "#46039f"
             ],
             [
              0.2222222222222222,
              "#7201a8"
             ],
             [
              0.3333333333333333,
              "#9c179e"
             ],
             [
              0.4444444444444444,
              "#bd3786"
             ],
             [
              0.5555555555555556,
              "#d8576b"
             ],
             [
              0.6666666666666666,
              "#ed7953"
             ],
             [
              0.7777777777777778,
              "#fb9f3a"
             ],
             [
              0.8888888888888888,
              "#fdca26"
             ],
             [
              1,
              "#f0f921"
             ]
            ],
            "type": "surface"
           }
          ],
          "table": [
           {
            "cells": {
             "fill": {
              "color": "#EBF0F8"
             },
             "line": {
              "color": "white"
             }
            },
            "header": {
             "fill": {
              "color": "#C8D4E3"
             },
             "line": {
              "color": "white"
             }
            },
            "type": "table"
           }
          ]
         },
         "layout": {
          "annotationdefaults": {
           "arrowcolor": "#2a3f5f",
           "arrowhead": 0,
           "arrowwidth": 1
          },
          "autotypenumbers": "strict",
          "coloraxis": {
           "colorbar": {
            "outlinewidth": 0,
            "ticks": ""
           }
          },
          "colorscale": {
           "diverging": [
            [
             0,
             "#8e0152"
            ],
            [
             0.1,
             "#c51b7d"
            ],
            [
             0.2,
             "#de77ae"
            ],
            [
             0.3,
             "#f1b6da"
            ],
            [
             0.4,
             "#fde0ef"
            ],
            [
             0.5,
             "#f7f7f7"
            ],
            [
             0.6,
             "#e6f5d0"
            ],
            [
             0.7,
             "#b8e186"
            ],
            [
             0.8,
             "#7fbc41"
            ],
            [
             0.9,
             "#4d9221"
            ],
            [
             1,
             "#276419"
            ]
           ],
           "sequential": [
            [
             0,
             "#0d0887"
            ],
            [
             0.1111111111111111,
             "#46039f"
            ],
            [
             0.2222222222222222,
             "#7201a8"
            ],
            [
             0.3333333333333333,
             "#9c179e"
            ],
            [
             0.4444444444444444,
             "#bd3786"
            ],
            [
             0.5555555555555556,
             "#d8576b"
            ],
            [
             0.6666666666666666,
             "#ed7953"
            ],
            [
             0.7777777777777778,
             "#fb9f3a"
            ],
            [
             0.8888888888888888,
             "#fdca26"
            ],
            [
             1,
             "#f0f921"
            ]
           ],
           "sequentialminus": [
            [
             0,
             "#0d0887"
            ],
            [
             0.1111111111111111,
             "#46039f"
            ],
            [
             0.2222222222222222,
             "#7201a8"
            ],
            [
             0.3333333333333333,
             "#9c179e"
            ],
            [
             0.4444444444444444,
             "#bd3786"
            ],
            [
             0.5555555555555556,
             "#d8576b"
            ],
            [
             0.6666666666666666,
             "#ed7953"
            ],
            [
             0.7777777777777778,
             "#fb9f3a"
            ],
            [
             0.8888888888888888,
             "#fdca26"
            ],
            [
             1,
             "#f0f921"
            ]
           ]
          },
          "colorway": [
           "#636efa",
           "#EF553B",
           "#00cc96",
           "#ab63fa",
           "#FFA15A",
           "#19d3f3",
           "#FF6692",
           "#B6E880",
           "#FF97FF",
           "#FECB52"
          ],
          "font": {
           "color": "#2a3f5f"
          },
          "geo": {
           "bgcolor": "white",
           "lakecolor": "white",
           "landcolor": "#E5ECF6",
           "showlakes": true,
           "showland": true,
           "subunitcolor": "white"
          },
          "hoverlabel": {
           "align": "left"
          },
          "hovermode": "closest",
          "mapbox": {
           "style": "light"
          },
          "paper_bgcolor": "white",
          "plot_bgcolor": "#E5ECF6",
          "polar": {
           "angularaxis": {
            "gridcolor": "white",
            "linecolor": "white",
            "ticks": ""
           },
           "bgcolor": "#E5ECF6",
           "radialaxis": {
            "gridcolor": "white",
            "linecolor": "white",
            "ticks": ""
           }
          },
          "scene": {
           "xaxis": {
            "backgroundcolor": "#E5ECF6",
            "gridcolor": "white",
            "gridwidth": 2,
            "linecolor": "white",
            "showbackground": true,
            "ticks": "",
            "zerolinecolor": "white"
           },
           "yaxis": {
            "backgroundcolor": "#E5ECF6",
            "gridcolor": "white",
            "gridwidth": 2,
            "linecolor": "white",
            "showbackground": true,
            "ticks": "",
            "zerolinecolor": "white"
           },
           "zaxis": {
            "backgroundcolor": "#E5ECF6",
            "gridcolor": "white",
            "gridwidth": 2,
            "linecolor": "white",
            "showbackground": true,
            "ticks": "",
            "zerolinecolor": "white"
           }
          },
          "shapedefaults": {
           "line": {
            "color": "#2a3f5f"
           }
          },
          "ternary": {
           "aaxis": {
            "gridcolor": "white",
            "linecolor": "white",
            "ticks": ""
           },
           "baxis": {
            "gridcolor": "white",
            "linecolor": "white",
            "ticks": ""
           },
           "bgcolor": "#E5ECF6",
           "caxis": {
            "gridcolor": "white",
            "linecolor": "white",
            "ticks": ""
           }
          },
          "title": {
           "x": 0.05
          },
          "xaxis": {
           "automargin": true,
           "gridcolor": "white",
           "linecolor": "white",
           "ticks": "",
           "title": {
            "standoff": 15
           },
           "zerolinecolor": "white",
           "zerolinewidth": 2
          },
          "yaxis": {
           "automargin": true,
           "gridcolor": "white",
           "linecolor": "white",
           "ticks": "",
           "title": {
            "standoff": 15
           },
           "zerolinecolor": "white",
           "zerolinewidth": 2
          }
         }
        },
        "xaxis": {
         "anchor": "y",
         "domain": [
          0,
          1
         ],
         "title": {
          "text": "PROBABILITY"
         },
         "type": "log"
        },
        "yaxis": {
         "anchor": "x",
         "domain": [
          0,
          1
         ],
         "title": {
          "text": "ATTENUATION"
         }
        }
       }
      }
     },
     "metadata": {},
     "output_type": "display_data"
    }
   ],
   "source": [
    "rapids = pd.read_csv(\"attenuation_total_01.csv\")\n",
    "\n",
    "rapids = rapids.append(pd.read_csv(\"attenuation_total_02.csv\"))\n",
    "\n",
    "fig = px.line(rapids, x='PROBABILITY', y='ATTENUATION', color='ELEVATION', log_x=True)\n",
    "\n",
    "fig.show()"
   ]
  },
  {
   "cell_type": "markdown",
   "metadata": {},
   "source": [
    "<style>\n",
    "    h1 {font-family:Times; font-size:20pt}\n",
    "    h2 {font-family:Times; font-size:18pt}\n",
    "    h3 {font-family:Times; font-size:16pt}\n",
    "    p {font-family:Times; font-size:12pt}\n",
    "    </style>\n",
    ">\n",
    "> ## Change GEO to LEO statistics\n",
    ">\n",
    "> In this section the statistics of the total attenuation of GEO satellite is changed to LEO statistics. To achieve this goal below conditional probability is usefull\n",
    ">\n",
    "\\begin{equation}\n",
    "P(A>A_0) = \\sum_{\\theta} P(A>A_0 | \\theta) P(\\theta)\n",
    "\\end{equation}\n",
    ">\n",
    "> Which $P(\\theta)$ is the probability ocurence of the LEO satellite in elevation angle $\\theta$. The variable $P(\\theta)$ is calculated in section `Probability density function of LEO satellite visibility`\n",
    ">\n",
    "> Above summation should be done for each static attenuation. Then by considering constant attenuation, the related probability is achieved by interpolation."
   ]
  },
  {
   "cell_type": "code",
   "execution_count": null,
   "metadata": {},
   "outputs": [
    {
     "data": {
      "application/vnd.plotly.v1+json": {
       "config": {
        "plotlyServerURL": "https://plot.ly"
       },
       "data": [
        {
         "hovertemplate": "PROBABILITY=%{x}<br>ATTENUATION=%{y}<extra></extra>",
         "legendgroup": "",
         "marker": {
          "color": "#636efa",
          "symbol": "circle"
         },
         "mode": "markers",
         "name": "",
         "orientation": "v",
         "showlegend": false,
         "type": "scatter",
         "x": [
          99.99999999999997,
          92.32652573942423,
          69.83120379192964,
          52.02949635266926,
          43.467834424063895,
          40.258125606183064,
          21.90254263023933,
          16.65322058380662,
          13.083543241954366,
          11.162654513358548,
          9.42184873569811,
          7.9703586649243645,
          7.054259307348864,
          6.212918930247216,
          5.441558302336525,
          4.745368430573446,
          4.248053912822462,
          3.79868594080969,
          3.3638862297874996,
          3.0245601594844524,
          2.7538186443213313,
          2.503361686272791,
          2.2534067233133888,
          2.003992774477349,
          1.8158215498708545,
          1.6755985872839154,
          1.5356303157801634,
          1.3958578846535057,
          1.2601067603452598,
          1.1320607945351764,
          1.0452753687021985,
          0.9699769526194303,
          0.8949420857779989,
          0.8204353872643575,
          0.7509146368652254,
          0.6820150391315659,
          0.6158892863861721,
          0.5772483513063472,
          0.538953426265402,
          0.5012314379984861,
          0.46597178840939346,
          0.43071755717778154,
          0.3954817890738458,
          0.3603355934554467,
          0.3326676453359272,
          0.3122267562667044,
          0.29303695987160977,
          0.2739321272261657,
          0.2548389850957453,
          0.2357732210209491,
          0.21678583825101572,
          0.20528033894394954,
          0.19446912396158084,
          0.18432056326084245,
          0.17421769479395519,
          0.16411838889137112,
          0.15404699714122042,
          0.1439772453797954,
          0.13391743816643747,
          0.12394474363492541,
          0.11817978431484429,
          0.11270261146232062,
          0.10720894383966077,
          0.10173470939297594,
          0.09624435441854076,
          0.09079597038873208,
          0.08538360121173938,
          0.07994781146822227,
          0.07469608924249962,
          0.07119814398918255,
          0.06826089131252833,
          0.06528110530662834,
          0.06235012135941345,
          0.05941913741219856,
          0.05648815346498364,
          0.05355716951776875,
          0.050632756411426186,
          0.04777799994115496,
          0.0450055802407097,
          0.04318393381469854,
          0.04140190294178883,
          0.03961987206887912,
          0.037837841195969404,
          0.0360558103230597,
          0.034273779450149984,
          0.03242661527171639,
          0.03070296119664282,
          0.028979307121569247,
          0.027255653046495677,
          0.025823507006075278,
          0.024774934349308525,
          0.023732624231868272,
          0.022690314114428022,
          0.021648003996987776,
          0.020605693879547523,
          0.019563383762107273,
          0.018521073644667024,
          0.017480968295472233,
          0.016472577689500525,
          0.015332592404430691,
          0.01470931895482699,
          0.01415916099629255,
          0.013609003037758112,
          0.01305884507922367,
          0.012508687120689236,
          0.011958529162154796,
          0.011408371203620355,
          0.010858213245085915,
          0.010308055286551479,
          0.009757897328017039,
          0.009207739369482599,
          0.008818627449960065,
          0.008495294898484647,
          0.008173586847938029,
          0.007869366072095563,
          0.007565145296253099,
          0.007260924520410632,
          0.0069567037445681665,
          0.006652482968725701,
          0.006348262192883236,
          0.006044041417040771,
          0.005739820641198305,
          0.005435599865355839,
          0.005189478625173654,
          0.0048087598995439065,
          0.004642883393868022,
          0.004477006888192137,
          0.004311130382516252,
          0.004145253876840367,
          0.003979377371164481,
          0.0038135008654885966,
          0.0036476243598127112,
          0.0034817478541368263,
          0.0033158713484609413,
          0.003153040444200744,
          0.003037923962119666,
          0.002922807480038588,
          0.0028076909979575086,
          0.00269257451587643,
          0.002577458033795352,
          0.0024809504640242396,
          0.0023984811965220487,
          0.002316011929019858,
          0.0022335426615176673,
          0.002151073394015477,
          0.002068604126513286,
          0.0019861348590110954,
          0.0019036655915089043,
          0.0018211963240067136,
          0.0017387270565045229
         ],
         "xaxis": "x",
         "y": [
          0,
          2,
          4,
          6,
          8,
          10,
          12,
          14,
          16,
          18,
          20,
          22,
          24,
          26,
          28,
          30,
          32,
          34,
          36,
          38,
          40,
          42,
          44,
          46,
          48,
          50,
          52,
          54,
          56,
          58,
          60,
          62,
          64,
          66,
          68,
          70,
          72,
          74,
          76,
          78,
          80,
          82,
          84,
          86,
          88,
          90,
          92,
          94,
          96,
          98,
          100,
          102,
          104,
          106,
          108,
          110,
          112,
          114,
          116,
          118,
          120,
          122,
          124,
          126,
          128,
          130,
          132,
          134,
          136,
          138,
          140,
          142,
          144,
          146,
          148,
          150,
          152,
          154,
          156,
          158,
          160,
          162,
          164,
          166,
          168,
          170,
          172,
          174,
          176,
          178,
          180,
          182,
          184,
          186,
          188,
          190,
          192,
          194,
          196,
          198,
          200,
          202,
          204,
          206,
          208,
          210,
          212,
          214,
          216,
          218,
          220,
          222,
          224,
          226,
          228,
          230,
          232,
          234,
          236,
          238,
          240,
          242,
          244,
          246,
          248,
          250,
          252,
          254,
          256,
          258,
          260,
          262,
          264,
          266,
          268,
          270,
          272,
          274,
          276,
          278,
          280,
          282,
          284,
          286,
          288,
          290,
          292,
          294,
          296,
          298
         ],
         "yaxis": "y"
        }
       ],
       "layout": {
        "legend": {
         "tracegroupgap": 0
        },
        "margin": {
         "t": 60
        },
        "template": {
         "data": {
          "bar": [
           {
            "error_x": {
             "color": "#2a3f5f"
            },
            "error_y": {
             "color": "#2a3f5f"
            },
            "marker": {
             "line": {
              "color": "#E5ECF6",
              "width": 0.5
             },
             "pattern": {
              "fillmode": "overlay",
              "size": 10,
              "solidity": 0.2
             }
            },
            "type": "bar"
           }
          ],
          "barpolar": [
           {
            "marker": {
             "line": {
              "color": "#E5ECF6",
              "width": 0.5
             },
             "pattern": {
              "fillmode": "overlay",
              "size": 10,
              "solidity": 0.2
             }
            },
            "type": "barpolar"
           }
          ],
          "carpet": [
           {
            "aaxis": {
             "endlinecolor": "#2a3f5f",
             "gridcolor": "white",
             "linecolor": "white",
             "minorgridcolor": "white",
             "startlinecolor": "#2a3f5f"
            },
            "baxis": {
             "endlinecolor": "#2a3f5f",
             "gridcolor": "white",
             "linecolor": "white",
             "minorgridcolor": "white",
             "startlinecolor": "#2a3f5f"
            },
            "type": "carpet"
           }
          ],
          "choropleth": [
           {
            "colorbar": {
             "outlinewidth": 0,
             "ticks": ""
            },
            "type": "choropleth"
           }
          ],
          "contour": [
           {
            "colorbar": {
             "outlinewidth": 0,
             "ticks": ""
            },
            "colorscale": [
             [
              0,
              "#0d0887"
             ],
             [
              0.1111111111111111,
              "#46039f"
             ],
             [
              0.2222222222222222,
              "#7201a8"
             ],
             [
              0.3333333333333333,
              "#9c179e"
             ],
             [
              0.4444444444444444,
              "#bd3786"
             ],
             [
              0.5555555555555556,
              "#d8576b"
             ],
             [
              0.6666666666666666,
              "#ed7953"
             ],
             [
              0.7777777777777778,
              "#fb9f3a"
             ],
             [
              0.8888888888888888,
              "#fdca26"
             ],
             [
              1,
              "#f0f921"
             ]
            ],
            "type": "contour"
           }
          ],
          "contourcarpet": [
           {
            "colorbar": {
             "outlinewidth": 0,
             "ticks": ""
            },
            "type": "contourcarpet"
           }
          ],
          "heatmap": [
           {
            "colorbar": {
             "outlinewidth": 0,
             "ticks": ""
            },
            "colorscale": [
             [
              0,
              "#0d0887"
             ],
             [
              0.1111111111111111,
              "#46039f"
             ],
             [
              0.2222222222222222,
              "#7201a8"
             ],
             [
              0.3333333333333333,
              "#9c179e"
             ],
             [
              0.4444444444444444,
              "#bd3786"
             ],
             [
              0.5555555555555556,
              "#d8576b"
             ],
             [
              0.6666666666666666,
              "#ed7953"
             ],
             [
              0.7777777777777778,
              "#fb9f3a"
             ],
             [
              0.8888888888888888,
              "#fdca26"
             ],
             [
              1,
              "#f0f921"
             ]
            ],
            "type": "heatmap"
           }
          ],
          "heatmapgl": [
           {
            "colorbar": {
             "outlinewidth": 0,
             "ticks": ""
            },
            "colorscale": [
             [
              0,
              "#0d0887"
             ],
             [
              0.1111111111111111,
              "#46039f"
             ],
             [
              0.2222222222222222,
              "#7201a8"
             ],
             [
              0.3333333333333333,
              "#9c179e"
             ],
             [
              0.4444444444444444,
              "#bd3786"
             ],
             [
              0.5555555555555556,
              "#d8576b"
             ],
             [
              0.6666666666666666,
              "#ed7953"
             ],
             [
              0.7777777777777778,
              "#fb9f3a"
             ],
             [
              0.8888888888888888,
              "#fdca26"
             ],
             [
              1,
              "#f0f921"
             ]
            ],
            "type": "heatmapgl"
           }
          ],
          "histogram": [
           {
            "marker": {
             "pattern": {
              "fillmode": "overlay",
              "size": 10,
              "solidity": 0.2
             }
            },
            "type": "histogram"
           }
          ],
          "histogram2d": [
           {
            "colorbar": {
             "outlinewidth": 0,
             "ticks": ""
            },
            "colorscale": [
             [
              0,
              "#0d0887"
             ],
             [
              0.1111111111111111,
              "#46039f"
             ],
             [
              0.2222222222222222,
              "#7201a8"
             ],
             [
              0.3333333333333333,
              "#9c179e"
             ],
             [
              0.4444444444444444,
              "#bd3786"
             ],
             [
              0.5555555555555556,
              "#d8576b"
             ],
             [
              0.6666666666666666,
              "#ed7953"
             ],
             [
              0.7777777777777778,
              "#fb9f3a"
             ],
             [
              0.8888888888888888,
              "#fdca26"
             ],
             [
              1,
              "#f0f921"
             ]
            ],
            "type": "histogram2d"
           }
          ],
          "histogram2dcontour": [
           {
            "colorbar": {
             "outlinewidth": 0,
             "ticks": ""
            },
            "colorscale": [
             [
              0,
              "#0d0887"
             ],
             [
              0.1111111111111111,
              "#46039f"
             ],
             [
              0.2222222222222222,
              "#7201a8"
             ],
             [
              0.3333333333333333,
              "#9c179e"
             ],
             [
              0.4444444444444444,
              "#bd3786"
             ],
             [
              0.5555555555555556,
              "#d8576b"
             ],
             [
              0.6666666666666666,
              "#ed7953"
             ],
             [
              0.7777777777777778,
              "#fb9f3a"
             ],
             [
              0.8888888888888888,
              "#fdca26"
             ],
             [
              1,
              "#f0f921"
             ]
            ],
            "type": "histogram2dcontour"
           }
          ],
          "mesh3d": [
           {
            "colorbar": {
             "outlinewidth": 0,
             "ticks": ""
            },
            "type": "mesh3d"
           }
          ],
          "parcoords": [
           {
            "line": {
             "colorbar": {
              "outlinewidth": 0,
              "ticks": ""
             }
            },
            "type": "parcoords"
           }
          ],
          "pie": [
           {
            "automargin": true,
            "type": "pie"
           }
          ],
          "scatter": [
           {
            "marker": {
             "colorbar": {
              "outlinewidth": 0,
              "ticks": ""
             }
            },
            "type": "scatter"
           }
          ],
          "scatter3d": [
           {
            "line": {
             "colorbar": {
              "outlinewidth": 0,
              "ticks": ""
             }
            },
            "marker": {
             "colorbar": {
              "outlinewidth": 0,
              "ticks": ""
             }
            },
            "type": "scatter3d"
           }
          ],
          "scattercarpet": [
           {
            "marker": {
             "colorbar": {
              "outlinewidth": 0,
              "ticks": ""
             }
            },
            "type": "scattercarpet"
           }
          ],
          "scattergeo": [
           {
            "marker": {
             "colorbar": {
              "outlinewidth": 0,
              "ticks": ""
             }
            },
            "type": "scattergeo"
           }
          ],
          "scattergl": [
           {
            "marker": {
             "colorbar": {
              "outlinewidth": 0,
              "ticks": ""
             }
            },
            "type": "scattergl"
           }
          ],
          "scattermapbox": [
           {
            "marker": {
             "colorbar": {
              "outlinewidth": 0,
              "ticks": ""
             }
            },
            "type": "scattermapbox"
           }
          ],
          "scatterpolar": [
           {
            "marker": {
             "colorbar": {
              "outlinewidth": 0,
              "ticks": ""
             }
            },
            "type": "scatterpolar"
           }
          ],
          "scatterpolargl": [
           {
            "marker": {
             "colorbar": {
              "outlinewidth": 0,
              "ticks": ""
             }
            },
            "type": "scatterpolargl"
           }
          ],
          "scatterternary": [
           {
            "marker": {
             "colorbar": {
              "outlinewidth": 0,
              "ticks": ""
             }
            },
            "type": "scatterternary"
           }
          ],
          "surface": [
           {
            "colorbar": {
             "outlinewidth": 0,
             "ticks": ""
            },
            "colorscale": [
             [
              0,
              "#0d0887"
             ],
             [
              0.1111111111111111,
              "#46039f"
             ],
             [
              0.2222222222222222,
              "#7201a8"
             ],
             [
              0.3333333333333333,
              "#9c179e"
             ],
             [
              0.4444444444444444,
              "#bd3786"
             ],
             [
              0.5555555555555556,
              "#d8576b"
             ],
             [
              0.6666666666666666,
              "#ed7953"
             ],
             [
              0.7777777777777778,
              "#fb9f3a"
             ],
             [
              0.8888888888888888,
              "#fdca26"
             ],
             [
              1,
              "#f0f921"
             ]
            ],
            "type": "surface"
           }
          ],
          "table": [
           {
            "cells": {
             "fill": {
              "color": "#EBF0F8"
             },
             "line": {
              "color": "white"
             }
            },
            "header": {
             "fill": {
              "color": "#C8D4E3"
             },
             "line": {
              "color": "white"
             }
            },
            "type": "table"
           }
          ]
         },
         "layout": {
          "annotationdefaults": {
           "arrowcolor": "#2a3f5f",
           "arrowhead": 0,
           "arrowwidth": 1
          },
          "autotypenumbers": "strict",
          "coloraxis": {
           "colorbar": {
            "outlinewidth": 0,
            "ticks": ""
           }
          },
          "colorscale": {
           "diverging": [
            [
             0,
             "#8e0152"
            ],
            [
             0.1,
             "#c51b7d"
            ],
            [
             0.2,
             "#de77ae"
            ],
            [
             0.3,
             "#f1b6da"
            ],
            [
             0.4,
             "#fde0ef"
            ],
            [
             0.5,
             "#f7f7f7"
            ],
            [
             0.6,
             "#e6f5d0"
            ],
            [
             0.7,
             "#b8e186"
            ],
            [
             0.8,
             "#7fbc41"
            ],
            [
             0.9,
             "#4d9221"
            ],
            [
             1,
             "#276419"
            ]
           ],
           "sequential": [
            [
             0,
             "#0d0887"
            ],
            [
             0.1111111111111111,
             "#46039f"
            ],
            [
             0.2222222222222222,
             "#7201a8"
            ],
            [
             0.3333333333333333,
             "#9c179e"
            ],
            [
             0.4444444444444444,
             "#bd3786"
            ],
            [
             0.5555555555555556,
             "#d8576b"
            ],
            [
             0.6666666666666666,
             "#ed7953"
            ],
            [
             0.7777777777777778,
             "#fb9f3a"
            ],
            [
             0.8888888888888888,
             "#fdca26"
            ],
            [
             1,
             "#f0f921"
            ]
           ],
           "sequentialminus": [
            [
             0,
             "#0d0887"
            ],
            [
             0.1111111111111111,
             "#46039f"
            ],
            [
             0.2222222222222222,
             "#7201a8"
            ],
            [
             0.3333333333333333,
             "#9c179e"
            ],
            [
             0.4444444444444444,
             "#bd3786"
            ],
            [
             0.5555555555555556,
             "#d8576b"
            ],
            [
             0.6666666666666666,
             "#ed7953"
            ],
            [
             0.7777777777777778,
             "#fb9f3a"
            ],
            [
             0.8888888888888888,
             "#fdca26"
            ],
            [
             1,
             "#f0f921"
            ]
           ]
          },
          "colorway": [
           "#636efa",
           "#EF553B",
           "#00cc96",
           "#ab63fa",
           "#FFA15A",
           "#19d3f3",
           "#FF6692",
           "#B6E880",
           "#FF97FF",
           "#FECB52"
          ],
          "font": {
           "color": "#2a3f5f"
          },
          "geo": {
           "bgcolor": "white",
           "lakecolor": "white",
           "landcolor": "#E5ECF6",
           "showlakes": true,
           "showland": true,
           "subunitcolor": "white"
          },
          "hoverlabel": {
           "align": "left"
          },
          "hovermode": "closest",
          "mapbox": {
           "style": "light"
          },
          "paper_bgcolor": "white",
          "plot_bgcolor": "#E5ECF6",
          "polar": {
           "angularaxis": {
            "gridcolor": "white",
            "linecolor": "white",
            "ticks": ""
           },
           "bgcolor": "#E5ECF6",
           "radialaxis": {
            "gridcolor": "white",
            "linecolor": "white",
            "ticks": ""
           }
          },
          "scene": {
           "xaxis": {
            "backgroundcolor": "#E5ECF6",
            "gridcolor": "white",
            "gridwidth": 2,
            "linecolor": "white",
            "showbackground": true,
            "ticks": "",
            "zerolinecolor": "white"
           },
           "yaxis": {
            "backgroundcolor": "#E5ECF6",
            "gridcolor": "white",
            "gridwidth": 2,
            "linecolor": "white",
            "showbackground": true,
            "ticks": "",
            "zerolinecolor": "white"
           },
           "zaxis": {
            "backgroundcolor": "#E5ECF6",
            "gridcolor": "white",
            "gridwidth": 2,
            "linecolor": "white",
            "showbackground": true,
            "ticks": "",
            "zerolinecolor": "white"
           }
          },
          "shapedefaults": {
           "line": {
            "color": "#2a3f5f"
           }
          },
          "ternary": {
           "aaxis": {
            "gridcolor": "white",
            "linecolor": "white",
            "ticks": ""
           },
           "baxis": {
            "gridcolor": "white",
            "linecolor": "white",
            "ticks": ""
           },
           "bgcolor": "#E5ECF6",
           "caxis": {
            "gridcolor": "white",
            "linecolor": "white",
            "ticks": ""
           }
          },
          "title": {
           "x": 0.05
          },
          "xaxis": {
           "automargin": true,
           "gridcolor": "white",
           "linecolor": "white",
           "ticks": "",
           "title": {
            "standoff": 15
           },
           "zerolinecolor": "white",
           "zerolinewidth": 2
          },
          "yaxis": {
           "automargin": true,
           "gridcolor": "white",
           "linecolor": "white",
           "ticks": "",
           "title": {
            "standoff": 15
           },
           "zerolinecolor": "white",
           "zerolinewidth": 2
          }
         }
        },
        "xaxis": {
         "anchor": "y",
         "domain": [
          0,
          1
         ],
         "title": {
          "text": "PROBABILITY"
         },
         "type": "log"
        },
        "yaxis": {
         "anchor": "x",
         "domain": [
          0,
          1
         ],
         "title": {
          "text": "ATTENUATION"
         }
        }
       }
      }
     },
     "metadata": {},
     "output_type": "display_data"
    }
   ],
   "source": [
    "Attenuation = np.arange(0,300, step=2)\n",
    "\n",
    "LEO = pd.DataFrame(index=Attenuation)\n",
    "\n",
    "for att in Attenuation:\n",
    "    P = 0\n",
    "    for theta in stat.index:\n",
    "        rapids_query = rapids[rapids.ELEVATION==theta] \n",
    "\n",
    "        fcn =  interp1d(rapids_query['ATTENUATION'].to_numpy(), rapids_query['PROBABILITY'].to_numpy(),kind='linear', bounds_error=False, fill_value=(100,0))\n",
    "\n",
    "        P = P + fcn(att) * stat.loc[theta, 'PDF'] / 100\n",
    "\n",
    "    LEO.loc[att,'PROBABILITY'] = P\n",
    "\n",
    "\n",
    "LEO = LEO.dropna()\n",
    "\n",
    "LEO['ATTENUATION'] = LEO.index.to_series()\n",
    "\n",
    "LEO = LEO.reset_index()\n",
    "\n",
    "fig = px.scatter(LEO, x='PROBABILITY', y='ATTENUATION', log_x=True)\n",
    "\n",
    "fig.show()\n",
    "\n"
   ]
  },
  {
   "cell_type": "markdown",
   "metadata": {},
   "source": [
    "<style>\n",
    "    h1 {font-family:Times; font-size:20pt}\n",
    "    h2 {font-family:Times; font-size:18pt}\n",
    "    h3 {font-family:Times; font-size:16pt}\n",
    "    p {font-family:Times; font-size:12pt}\n",
    "    </style>\n",
    ">\n",
    "> ## Link Budget\n",
    ">\n",
    "> In this section the link budget for different time exceed of the avaialbility is plotted. Be carefull to change the parameter acording to your text description. \n",
    "> \n",
    "> remember to calculate the mean average of `Earth-satellite mean distance [meter]` using the procedure in `https://rhodesmill.org/skyfield/earth-satellites.html`.\n",
    "> The ditance between ground station and satellite is calculated in earlier section. Just find the mean value of the distance and fill in below box."
   ]
  },
  {
   "cell_type": "code",
   "execution_count": 17,
   "metadata": {},
   "outputs": [
    {
     "name": "stdout",
     "output_type": "stream",
     "text": [
      "209.00800125578616\n"
     ]
    },
    {
     "data": {
      "application/vnd.plotly.v1+json": {
       "config": {
        "plotlyServerURL": "https://plot.ly"
       },
       "data": [
        {
         "hovertemplate": "PROBABILITY=%{x}<br>EIRP=%{y}<extra></extra>",
         "legendgroup": "",
         "marker": {
          "color": "#636efa",
          "symbol": "circle"
         },
         "mode": "markers",
         "name": "",
         "orientation": "v",
         "showlegend": false,
         "type": "scatter",
         "x": [
          99.99999999999997,
          92.32652573942423,
          69.83120379192964,
          52.02949635266926,
          43.467834424063895,
          40.258125606183064,
          21.90254263023933,
          16.65322058380662,
          13.083543241954366,
          11.162654513358548,
          9.42184873569811,
          7.9703586649243645,
          7.054259307348864,
          6.212918930247216,
          5.441558302336525,
          4.745368430573446,
          4.248053912822462,
          3.79868594080969,
          3.3638862297874996,
          3.0245601594844524,
          2.7538186443213313,
          2.503361686272791,
          2.2534067233133888,
          2.003992774477349,
          1.8158215498708545,
          1.6755985872839154,
          1.5356303157801634,
          1.3958578846535057,
          1.2601067603452598,
          1.1320607945351764,
          1.0452753687021985,
          0.9699769526194303,
          0.8949420857779989,
          0.8204353872643575,
          0.7509146368652254,
          0.6820150391315659,
          0.6158892863861721,
          0.5772483513063472,
          0.538953426265402,
          0.5012314379984861,
          0.46597178840939346,
          0.43071755717778154,
          0.3954817890738458,
          0.3603355934554467,
          0.3326676453359272,
          0.3122267562667044,
          0.29303695987160977,
          0.2739321272261657,
          0.2548389850957453,
          0.2357732210209491,
          0.21678583825101572,
          0.20528033894394954,
          0.19446912396158084,
          0.18432056326084245,
          0.17421769479395519,
          0.16411838889137112,
          0.15404699714122042,
          0.1439772453797954,
          0.13391743816643747,
          0.12394474363492541,
          0.11817978431484429,
          0.11270261146232062,
          0.10720894383966077,
          0.10173470939297594,
          0.09624435441854076,
          0.09079597038873208,
          0.08538360121173938,
          0.07994781146822227,
          0.07469608924249962,
          0.07119814398918255,
          0.06826089131252833,
          0.06528110530662834,
          0.06235012135941345,
          0.05941913741219856,
          0.05648815346498364,
          0.05355716951776875,
          0.050632756411426186,
          0.04777799994115496,
          0.0450055802407097,
          0.04318393381469854,
          0.04140190294178883,
          0.03961987206887912,
          0.037837841195969404,
          0.0360558103230597,
          0.034273779450149984,
          0.03242661527171639,
          0.03070296119664282,
          0.028979307121569247,
          0.027255653046495677,
          0.025823507006075278,
          0.024774934349308525,
          0.023732624231868272,
          0.022690314114428022,
          0.021648003996987776,
          0.020605693879547523,
          0.019563383762107273,
          0.018521073644667024,
          0.017480968295472233,
          0.016472577689500525,
          0.015332592404430691,
          0.01470931895482699,
          0.01415916099629255,
          0.013609003037758112,
          0.01305884507922367,
          0.012508687120689236,
          0.011958529162154796,
          0.011408371203620355,
          0.010858213245085915,
          0.010308055286551479,
          0.009757897328017039,
          0.009207739369482599,
          0.008818627449960065,
          0.008495294898484647,
          0.008173586847938029,
          0.007869366072095563,
          0.007565145296253099,
          0.007260924520410632,
          0.0069567037445681665,
          0.006652482968725701,
          0.006348262192883236,
          0.006044041417040771,
          0.005739820641198305,
          0.005435599865355839,
          0.005189478625173654,
          0.0048087598995439065,
          0.004642883393868022,
          0.004477006888192137,
          0.004311130382516252,
          0.004145253876840367,
          0.003979377371164481,
          0.0038135008654885966,
          0.0036476243598127112,
          0.0034817478541368263,
          0.0033158713484609413,
          0.003153040444200744,
          0.003037923962119666,
          0.002922807480038588,
          0.0028076909979575086,
          0.00269257451587643,
          0.002577458033795352,
          0.0024809504640242396,
          0.0023984811965220487,
          0.002316011929019858,
          0.0022335426615176673,
          0.002151073394015477,
          0.002068604126513286,
          0.0019861348590110954,
          0.0019036655915089043,
          0.0018211963240067136,
          0.0017387270565045229
         ],
         "xaxis": "x",
         "y": [
          -10.61066187170718,
          -8.61066187170718,
          -6.61066187170718,
          -4.61066187170718,
          -2.6106618717071797,
          -0.6106618717071797,
          1.3893381282928203,
          3.3893381282928203,
          5.38933812829282,
          7.38933812829282,
          9.38933812829282,
          11.38933812829282,
          13.38933812829282,
          15.38933812829282,
          17.38933812829282,
          19.38933812829282,
          21.38933812829282,
          23.38933812829282,
          25.38933812829282,
          27.38933812829282,
          29.38933812829282,
          31.38933812829282,
          33.38933812829282,
          35.38933812829282,
          37.38933812829282,
          39.38933812829282,
          41.38933812829282,
          43.38933812829282,
          45.38933812829282,
          47.38933812829282,
          49.38933812829282,
          51.38933812829282,
          53.38933812829282,
          55.38933812829282,
          57.38933812829282,
          59.38933812829282,
          61.38933812829282,
          63.38933812829282,
          65.38933812829282,
          67.38933812829282,
          69.38933812829282,
          71.38933812829282,
          73.38933812829282,
          75.38933812829282,
          77.38933812829282,
          79.38933812829282,
          81.38933812829282,
          83.38933812829282,
          85.38933812829282,
          87.38933812829282,
          89.38933812829282,
          91.38933812829282,
          93.38933812829282,
          95.38933812829282,
          97.38933812829282,
          99.38933812829282,
          101.38933812829282,
          103.38933812829282,
          105.38933812829282,
          107.38933812829282,
          109.38933812829282,
          111.38933812829282,
          113.38933812829282,
          115.38933812829282,
          117.38933812829282,
          119.38933812829282,
          121.38933812829282,
          123.38933812829282,
          125.38933812829282,
          127.38933812829282,
          129.38933812829282,
          131.38933812829282,
          133.38933812829282,
          135.38933812829282,
          137.38933812829282,
          139.38933812829282,
          141.38933812829282,
          143.38933812829282,
          145.38933812829282,
          147.38933812829282,
          149.38933812829282,
          151.38933812829282,
          153.38933812829282,
          155.38933812829282,
          157.38933812829282,
          159.38933812829282,
          161.38933812829282,
          163.38933812829282,
          165.38933812829282,
          167.38933812829282,
          169.38933812829282,
          171.38933812829282,
          173.38933812829282,
          175.38933812829282,
          177.38933812829282,
          179.38933812829282,
          181.38933812829282,
          183.38933812829282,
          185.38933812829282,
          187.38933812829282,
          189.38933812829282,
          191.38933812829282,
          193.38933812829282,
          195.38933812829282,
          197.38933812829282,
          199.38933812829282,
          201.38933812829282,
          203.38933812829282,
          205.38933812829282,
          207.38933812829282,
          209.38933812829282,
          211.38933812829282,
          213.38933812829282,
          215.38933812829282,
          217.38933812829282,
          219.38933812829282,
          221.38933812829282,
          223.38933812829282,
          225.38933812829282,
          227.38933812829282,
          229.38933812829282,
          231.38933812829282,
          233.38933812829282,
          235.38933812829282,
          237.38933812829282,
          239.38933812829282,
          241.38933812829282,
          243.38933812829282,
          245.38933812829282,
          247.38933812829282,
          249.38933812829282,
          251.38933812829282,
          253.38933812829282,
          255.38933812829282,
          257.3893381282928,
          259.3893381282928,
          261.3893381282928,
          263.3893381282928,
          265.3893381282928,
          267.3893381282928,
          269.3893381282928,
          271.3893381282928,
          273.3893381282928,
          275.3893381282928,
          277.3893381282928,
          279.3893381282928,
          281.3893381282928,
          283.3893381282928,
          285.3893381282928,
          287.3893381282929
         ],
         "yaxis": "y"
        }
       ],
       "layout": {
        "legend": {
         "tracegroupgap": 0
        },
        "margin": {
         "t": 60
        },
        "shapes": [
         {
          "line": {
           "color": "red",
           "dash": "dash",
           "width": 3
          },
          "type": "line",
          "x0": 1,
          "x1": 1,
          "xref": "x",
          "y0": 0,
          "y1": 1,
          "yref": "y domain"
         },
         {
          "line": {
           "color": "green",
           "dash": "dash",
           "width": 3
          },
          "type": "line",
          "x0": 0.5,
          "x1": 0.5,
          "xref": "x",
          "y0": 0,
          "y1": 1,
          "yref": "y domain"
         },
         {
          "line": {
           "color": "yellow",
           "dash": "dash",
           "width": 3
          },
          "type": "line",
          "x0": 0.1,
          "x1": 0.1,
          "xref": "x",
          "y0": 0,
          "y1": 1,
          "yref": "y domain"
         },
         {
          "line": {
           "color": "orange",
           "dash": "dash",
           "width": 3
          },
          "type": "line",
          "x0": 0.01,
          "x1": 0.01,
          "xref": "x",
          "y0": 0,
          "y1": 1,
          "yref": "y domain"
         }
        ],
        "template": {
         "data": {
          "bar": [
           {
            "error_x": {
             "color": "#2a3f5f"
            },
            "error_y": {
             "color": "#2a3f5f"
            },
            "marker": {
             "line": {
              "color": "#E5ECF6",
              "width": 0.5
             },
             "pattern": {
              "fillmode": "overlay",
              "size": 10,
              "solidity": 0.2
             }
            },
            "type": "bar"
           }
          ],
          "barpolar": [
           {
            "marker": {
             "line": {
              "color": "#E5ECF6",
              "width": 0.5
             },
             "pattern": {
              "fillmode": "overlay",
              "size": 10,
              "solidity": 0.2
             }
            },
            "type": "barpolar"
           }
          ],
          "carpet": [
           {
            "aaxis": {
             "endlinecolor": "#2a3f5f",
             "gridcolor": "white",
             "linecolor": "white",
             "minorgridcolor": "white",
             "startlinecolor": "#2a3f5f"
            },
            "baxis": {
             "endlinecolor": "#2a3f5f",
             "gridcolor": "white",
             "linecolor": "white",
             "minorgridcolor": "white",
             "startlinecolor": "#2a3f5f"
            },
            "type": "carpet"
           }
          ],
          "choropleth": [
           {
            "colorbar": {
             "outlinewidth": 0,
             "ticks": ""
            },
            "type": "choropleth"
           }
          ],
          "contour": [
           {
            "colorbar": {
             "outlinewidth": 0,
             "ticks": ""
            },
            "colorscale": [
             [
              0,
              "#0d0887"
             ],
             [
              0.1111111111111111,
              "#46039f"
             ],
             [
              0.2222222222222222,
              "#7201a8"
             ],
             [
              0.3333333333333333,
              "#9c179e"
             ],
             [
              0.4444444444444444,
              "#bd3786"
             ],
             [
              0.5555555555555556,
              "#d8576b"
             ],
             [
              0.6666666666666666,
              "#ed7953"
             ],
             [
              0.7777777777777778,
              "#fb9f3a"
             ],
             [
              0.8888888888888888,
              "#fdca26"
             ],
             [
              1,
              "#f0f921"
             ]
            ],
            "type": "contour"
           }
          ],
          "contourcarpet": [
           {
            "colorbar": {
             "outlinewidth": 0,
             "ticks": ""
            },
            "type": "contourcarpet"
           }
          ],
          "heatmap": [
           {
            "colorbar": {
             "outlinewidth": 0,
             "ticks": ""
            },
            "colorscale": [
             [
              0,
              "#0d0887"
             ],
             [
              0.1111111111111111,
              "#46039f"
             ],
             [
              0.2222222222222222,
              "#7201a8"
             ],
             [
              0.3333333333333333,
              "#9c179e"
             ],
             [
              0.4444444444444444,
              "#bd3786"
             ],
             [
              0.5555555555555556,
              "#d8576b"
             ],
             [
              0.6666666666666666,
              "#ed7953"
             ],
             [
              0.7777777777777778,
              "#fb9f3a"
             ],
             [
              0.8888888888888888,
              "#fdca26"
             ],
             [
              1,
              "#f0f921"
             ]
            ],
            "type": "heatmap"
           }
          ],
          "heatmapgl": [
           {
            "colorbar": {
             "outlinewidth": 0,
             "ticks": ""
            },
            "colorscale": [
             [
              0,
              "#0d0887"
             ],
             [
              0.1111111111111111,
              "#46039f"
             ],
             [
              0.2222222222222222,
              "#7201a8"
             ],
             [
              0.3333333333333333,
              "#9c179e"
             ],
             [
              0.4444444444444444,
              "#bd3786"
             ],
             [
              0.5555555555555556,
              "#d8576b"
             ],
             [
              0.6666666666666666,
              "#ed7953"
             ],
             [
              0.7777777777777778,
              "#fb9f3a"
             ],
             [
              0.8888888888888888,
              "#fdca26"
             ],
             [
              1,
              "#f0f921"
             ]
            ],
            "type": "heatmapgl"
           }
          ],
          "histogram": [
           {
            "marker": {
             "pattern": {
              "fillmode": "overlay",
              "size": 10,
              "solidity": 0.2
             }
            },
            "type": "histogram"
           }
          ],
          "histogram2d": [
           {
            "colorbar": {
             "outlinewidth": 0,
             "ticks": ""
            },
            "colorscale": [
             [
              0,
              "#0d0887"
             ],
             [
              0.1111111111111111,
              "#46039f"
             ],
             [
              0.2222222222222222,
              "#7201a8"
             ],
             [
              0.3333333333333333,
              "#9c179e"
             ],
             [
              0.4444444444444444,
              "#bd3786"
             ],
             [
              0.5555555555555556,
              "#d8576b"
             ],
             [
              0.6666666666666666,
              "#ed7953"
             ],
             [
              0.7777777777777778,
              "#fb9f3a"
             ],
             [
              0.8888888888888888,
              "#fdca26"
             ],
             [
              1,
              "#f0f921"
             ]
            ],
            "type": "histogram2d"
           }
          ],
          "histogram2dcontour": [
           {
            "colorbar": {
             "outlinewidth": 0,
             "ticks": ""
            },
            "colorscale": [
             [
              0,
              "#0d0887"
             ],
             [
              0.1111111111111111,
              "#46039f"
             ],
             [
              0.2222222222222222,
              "#7201a8"
             ],
             [
              0.3333333333333333,
              "#9c179e"
             ],
             [
              0.4444444444444444,
              "#bd3786"
             ],
             [
              0.5555555555555556,
              "#d8576b"
             ],
             [
              0.6666666666666666,
              "#ed7953"
             ],
             [
              0.7777777777777778,
              "#fb9f3a"
             ],
             [
              0.8888888888888888,
              "#fdca26"
             ],
             [
              1,
              "#f0f921"
             ]
            ],
            "type": "histogram2dcontour"
           }
          ],
          "mesh3d": [
           {
            "colorbar": {
             "outlinewidth": 0,
             "ticks": ""
            },
            "type": "mesh3d"
           }
          ],
          "parcoords": [
           {
            "line": {
             "colorbar": {
              "outlinewidth": 0,
              "ticks": ""
             }
            },
            "type": "parcoords"
           }
          ],
          "pie": [
           {
            "automargin": true,
            "type": "pie"
           }
          ],
          "scatter": [
           {
            "marker": {
             "colorbar": {
              "outlinewidth": 0,
              "ticks": ""
             }
            },
            "type": "scatter"
           }
          ],
          "scatter3d": [
           {
            "line": {
             "colorbar": {
              "outlinewidth": 0,
              "ticks": ""
             }
            },
            "marker": {
             "colorbar": {
              "outlinewidth": 0,
              "ticks": ""
             }
            },
            "type": "scatter3d"
           }
          ],
          "scattercarpet": [
           {
            "marker": {
             "colorbar": {
              "outlinewidth": 0,
              "ticks": ""
             }
            },
            "type": "scattercarpet"
           }
          ],
          "scattergeo": [
           {
            "marker": {
             "colorbar": {
              "outlinewidth": 0,
              "ticks": ""
             }
            },
            "type": "scattergeo"
           }
          ],
          "scattergl": [
           {
            "marker": {
             "colorbar": {
              "outlinewidth": 0,
              "ticks": ""
             }
            },
            "type": "scattergl"
           }
          ],
          "scattermapbox": [
           {
            "marker": {
             "colorbar": {
              "outlinewidth": 0,
              "ticks": ""
             }
            },
            "type": "scattermapbox"
           }
          ],
          "scatterpolar": [
           {
            "marker": {
             "colorbar": {
              "outlinewidth": 0,
              "ticks": ""
             }
            },
            "type": "scatterpolar"
           }
          ],
          "scatterpolargl": [
           {
            "marker": {
             "colorbar": {
              "outlinewidth": 0,
              "ticks": ""
             }
            },
            "type": "scatterpolargl"
           }
          ],
          "scatterternary": [
           {
            "marker": {
             "colorbar": {
              "outlinewidth": 0,
              "ticks": ""
             }
            },
            "type": "scatterternary"
           }
          ],
          "surface": [
           {
            "colorbar": {
             "outlinewidth": 0,
             "ticks": ""
            },
            "colorscale": [
             [
              0,
              "#0d0887"
             ],
             [
              0.1111111111111111,
              "#46039f"
             ],
             [
              0.2222222222222222,
              "#7201a8"
             ],
             [
              0.3333333333333333,
              "#9c179e"
             ],
             [
              0.4444444444444444,
              "#bd3786"
             ],
             [
              0.5555555555555556,
              "#d8576b"
             ],
             [
              0.6666666666666666,
              "#ed7953"
             ],
             [
              0.7777777777777778,
              "#fb9f3a"
             ],
             [
              0.8888888888888888,
              "#fdca26"
             ],
             [
              1,
              "#f0f921"
             ]
            ],
            "type": "surface"
           }
          ],
          "table": [
           {
            "cells": {
             "fill": {
              "color": "#EBF0F8"
             },
             "line": {
              "color": "white"
             }
            },
            "header": {
             "fill": {
              "color": "#C8D4E3"
             },
             "line": {
              "color": "white"
             }
            },
            "type": "table"
           }
          ]
         },
         "layout": {
          "annotationdefaults": {
           "arrowcolor": "#2a3f5f",
           "arrowhead": 0,
           "arrowwidth": 1
          },
          "autotypenumbers": "strict",
          "coloraxis": {
           "colorbar": {
            "outlinewidth": 0,
            "ticks": ""
           }
          },
          "colorscale": {
           "diverging": [
            [
             0,
             "#8e0152"
            ],
            [
             0.1,
             "#c51b7d"
            ],
            [
             0.2,
             "#de77ae"
            ],
            [
             0.3,
             "#f1b6da"
            ],
            [
             0.4,
             "#fde0ef"
            ],
            [
             0.5,
             "#f7f7f7"
            ],
            [
             0.6,
             "#e6f5d0"
            ],
            [
             0.7,
             "#b8e186"
            ],
            [
             0.8,
             "#7fbc41"
            ],
            [
             0.9,
             "#4d9221"
            ],
            [
             1,
             "#276419"
            ]
           ],
           "sequential": [
            [
             0,
             "#0d0887"
            ],
            [
             0.1111111111111111,
             "#46039f"
            ],
            [
             0.2222222222222222,
             "#7201a8"
            ],
            [
             0.3333333333333333,
             "#9c179e"
            ],
            [
             0.4444444444444444,
             "#bd3786"
            ],
            [
             0.5555555555555556,
             "#d8576b"
            ],
            [
             0.6666666666666666,
             "#ed7953"
            ],
            [
             0.7777777777777778,
             "#fb9f3a"
            ],
            [
             0.8888888888888888,
             "#fdca26"
            ],
            [
             1,
             "#f0f921"
            ]
           ],
           "sequentialminus": [
            [
             0,
             "#0d0887"
            ],
            [
             0.1111111111111111,
             "#46039f"
            ],
            [
             0.2222222222222222,
             "#7201a8"
            ],
            [
             0.3333333333333333,
             "#9c179e"
            ],
            [
             0.4444444444444444,
             "#bd3786"
            ],
            [
             0.5555555555555556,
             "#d8576b"
            ],
            [
             0.6666666666666666,
             "#ed7953"
            ],
            [
             0.7777777777777778,
             "#fb9f3a"
            ],
            [
             0.8888888888888888,
             "#fdca26"
            ],
            [
             1,
             "#f0f921"
            ]
           ]
          },
          "colorway": [
           "#636efa",
           "#EF553B",
           "#00cc96",
           "#ab63fa",
           "#FFA15A",
           "#19d3f3",
           "#FF6692",
           "#B6E880",
           "#FF97FF",
           "#FECB52"
          ],
          "font": {
           "color": "#2a3f5f"
          },
          "geo": {
           "bgcolor": "white",
           "lakecolor": "white",
           "landcolor": "#E5ECF6",
           "showlakes": true,
           "showland": true,
           "subunitcolor": "white"
          },
          "hoverlabel": {
           "align": "left"
          },
          "hovermode": "closest",
          "mapbox": {
           "style": "light"
          },
          "paper_bgcolor": "white",
          "plot_bgcolor": "#E5ECF6",
          "polar": {
           "angularaxis": {
            "gridcolor": "white",
            "linecolor": "white",
            "ticks": ""
           },
           "bgcolor": "#E5ECF6",
           "radialaxis": {
            "gridcolor": "white",
            "linecolor": "white",
            "ticks": ""
           }
          },
          "scene": {
           "xaxis": {
            "backgroundcolor": "#E5ECF6",
            "gridcolor": "white",
            "gridwidth": 2,
            "linecolor": "white",
            "showbackground": true,
            "ticks": "",
            "zerolinecolor": "white"
           },
           "yaxis": {
            "backgroundcolor": "#E5ECF6",
            "gridcolor": "white",
            "gridwidth": 2,
            "linecolor": "white",
            "showbackground": true,
            "ticks": "",
            "zerolinecolor": "white"
           },
           "zaxis": {
            "backgroundcolor": "#E5ECF6",
            "gridcolor": "white",
            "gridwidth": 2,
            "linecolor": "white",
            "showbackground": true,
            "ticks": "",
            "zerolinecolor": "white"
           }
          },
          "shapedefaults": {
           "line": {
            "color": "#2a3f5f"
           }
          },
          "ternary": {
           "aaxis": {
            "gridcolor": "white",
            "linecolor": "white",
            "ticks": ""
           },
           "baxis": {
            "gridcolor": "white",
            "linecolor": "white",
            "ticks": ""
           },
           "bgcolor": "#E5ECF6",
           "caxis": {
            "gridcolor": "white",
            "linecolor": "white",
            "ticks": ""
           }
          },
          "title": {
           "x": 0.05
          },
          "xaxis": {
           "automargin": true,
           "gridcolor": "white",
           "linecolor": "white",
           "ticks": "",
           "title": {
            "standoff": 15
           },
           "zerolinecolor": "white",
           "zerolinewidth": 2
          },
          "yaxis": {
           "automargin": true,
           "gridcolor": "white",
           "linecolor": "white",
           "ticks": "",
           "title": {
            "standoff": 15
           },
           "zerolinecolor": "white",
           "zerolinewidth": 2
          }
         }
        },
        "xaxis": {
         "anchor": "y",
         "domain": [
          0,
          1
         ],
         "title": {
          "text": "PROBABILITY"
         },
         "type": "log"
        },
        "yaxis": {
         "anchor": "x",
         "domain": [
          0,
          1
         ],
         "title": {
          "text": "EIRP"
         }
        }
       }
      }
     },
     "metadata": {},
     "output_type": "display_data"
    }
   ],
   "source": [
    "k = 1.381e-23    # boltzman constant\n",
    "B = 50 # Receiver bandwidth [Hz]\n",
    "T = 500 # Kelvin\n",
    "\n",
    "N = 10*np.log10(k * T * B)  # Noise level\n",
    "\n",
    "SNR = 10     # signal to noise ratio [dB]\n",
    "\n",
    "fr = ??  # frequency GHz\n",
    "lamda = ?? # wavelength [meter]\n",
    "r =  ?? # Earth-satellite mean distance [meter]\n",
    "\n",
    "L_0 = ?? # free space loss [dB]\n",
    "L_atm = ??       # Atmospheric attenuation for every probability [dB]\n",
    "L_misc = ??  # Micellaneous loss [dB]\n",
    "\n",
    "\n",
    "L = ??  # total path loss\n",
    "\n",
    "Gr = 51.0  # Receive antenna gain [dB]\n",
    "\n",
    "LEO['EIRP'] = SNR + N + L - Gr\n",
    "\n",
    "fig = px.scatter(LEO, x='PROBABILITY', y='EIRP', log_x=True)\n",
    "\n",
    "fig.add_vline(x=1, line_width=3, line_dash=\"dash\", line_color=\"red\")\n",
    "fig.add_vline(x=0.5, line_width=3, line_dash=\"dash\", line_color=\"green\")\n",
    "fig.add_vline(x=0.1, line_width=3, line_dash=\"dash\", line_color=\"yellow\")\n",
    "fig.add_vline(x=0.01, line_width=3, line_dash=\"dash\", line_color=\"orange\")\n",
    "\n",
    "fig.show()\n"
   ]
  }
 ],
 "metadata": {
  "interpreter": {
   "hash": "a0a6418f5a2ddd18444d026a94ad36da0e3b74fe629d7d82274bf9e4a91dc94b"
  },
  "kernelspec": {
   "display_name": "Python 3.8.8 64-bit ('base': conda)",
   "name": "python3"
  },
  "language_info": {
   "codemirror_mode": {
    "name": "ipython",
    "version": 3
   },
   "file_extension": ".py",
   "mimetype": "text/x-python",
   "name": "python",
   "nbconvert_exporter": "python",
   "pygments_lexer": "ipython3",
   "version": "3.8.8"
  }
 },
 "nbformat": 4,
 "nbformat_minor": 4
}
